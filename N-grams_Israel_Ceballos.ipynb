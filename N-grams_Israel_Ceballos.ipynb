{
 "cells": [
  {
   "cell_type": "markdown",
   "metadata": {},
   "source": [
    "<h2>N-grams</h2>"
   ]
  },
  {
   "cell_type": "markdown",
   "metadata": {},
   "source": [
    "Autor: Israel Ceballos <br>\n",
    "Profesor: Jorge Castillo\n",
    "\n",
    "El presente trabajo tiene por objetivo dar una introducción a los modelos probabilisticos presentes en el tercer capitulo del libro \"Speech and Language Proccessing\", con foco en la escritura de cada uno de estos modelos en Python, permitiendo asi al lector disponer de funciones de probabilidad capaces de precedir la ocurrencia de n-gramas."
   ]
  },
  {
   "cell_type": "markdown",
   "metadata": {},
   "source": [
    "<h3>Problema Inicial</h3>"
   ]
  },
  {
   "cell_type": "markdown",
   "metadata": {},
   "source": [
    "$$P(transparente|el \\hspace{0.1cm} agua \\hspace{0.1cm}  es) = \\frac{C(el\\hspace{0.1cm} agua\\hspace{0.1cm} es \\hspace{0.1cm}transparente)}{C(el\\hspace{0.1cm} agua\\hspace{0.1cm} es)}$$"
   ]
  },
  {
   "cell_type": "markdown",
   "metadata": {},
   "source": [
    "Definimos la probabilidad condicional de \"transparente\" luego de \"el agua es\" como el conteo (C) de los casos favorables dividio en los casos posibles.\n",
    "\n",
    "\n",
    "Una forma de estimar esta probabilidad es viendo la historia del texto, de cuantas veces aparezca \"el agua es\" viene seguido de \"transparente\", este método es el más ajustado a la teoría, ya que usa conteo de frecuencias, eso sí,  no es el más conveniente, dado que el lenguaje es creativo y va cambiando con el tiempo, y no siempre podremos identificar literamente la frase requerida en un texto."
   ]
  },
  {
   "cell_type": "markdown",
   "metadata": {},
   "source": [
    "<h3>Notación sugerida</h3>"
   ]
  },
  {
   "cell_type": "markdown",
   "metadata": {},
   "source": [
    "Definase la probabilidad de ocurrencia de n palabras seguidas $(w_{i})$ como la probabilidad que la variable aleatoria $X_{i}$ sea igual a $w_{i}$ para i $\\leq$ n"
   ]
  },
  {
   "cell_type": "markdown",
   "metadata": {},
   "source": [
    "$$P(X_{1}=w_{1},X_{2}=w_{2}..., X_{n}=w_{n}) = P(X_{1}X_{2}...X_{n})$$"
   ]
  },
  {
   "cell_type": "markdown",
   "metadata": {},
   "source": [
    "<h4>Probabilidad de ocurrencia</h4>"
   ]
  },
  {
   "cell_type": "markdown",
   "metadata": {},
   "source": [
    "$$P(X_{1}X_{2}...X_{n}) = P(X_{1})P(X_{2}|X_{1})P(X_{3}|X_{1:2})...P(X_{n}|X_{1:n-1})          \\hspace{1cm}         (1)$$"
   ]
  },
  {
   "cell_type": "markdown",
   "metadata": {},
   "source": [
    "La regla de la cadena nos permite calcular la probabilidad de una secuencia calculando la probabilidad secuencial de una palabra dada sus palabras previas.\n",
    "La intuición de los módelos de n-gramas es calcular la probabilidad de una palabra dada su historia aproximandonos de acuerdo a las últimas palabras, esto viene de asumir una posición Markoviana en la resolución del problema.\n",
    "\n",
    "El módelo de bigramas aproxima la probabilidad usando la palabra anterior <br><br>\n",
    "$$P(w_{n}|w_{1:n-1}) \\approx P(w_{n}|w_{n-1}) $$"
   ]
  },
  {
   "cell_type": "markdown",
   "metadata": {},
   "source": [
    "El caso inicial se calcularia en este caso como:"
   ]
  },
  {
   "cell_type": "markdown",
   "metadata": {},
   "source": [
    "$$P(transparente|el \\hspace{0.1cm} agua \\hspace{0.1cm}  es) = P(transparente|es)  $$"
   ]
  },
  {
   "cell_type": "markdown",
   "metadata": {},
   "source": [
    "En general, una forma de aproximar la probabilidad  condicional es para un caso n-gram con N $\\leq$ n\n"
   ]
  },
  {
   "cell_type": "markdown",
   "metadata": {},
   "source": [
    "$$P(w_{n}|w_{1:n-1}) \\approx P(w_{n}|w_{n-N-1:n-1})$$"
   ]
  },
  {
   "cell_type": "markdown",
   "metadata": {},
   "source": [
    "En base a la aproximación por bigrama, la igualdad en (1) puede ser escrita como:"
   ]
  },
  {
   "cell_type": "markdown",
   "metadata": {},
   "source": [
    "$$P(X_{1}X_{2}...X_{n}) \\approx P(X_{1})P(X_{2}|X_{1})P(X_{3}|X_{2})...P(X_{n}|X_{n-1})  \\hspace{1cm}         (2)$$"
   ]
  },
  {
   "cell_type": "markdown",
   "metadata": {},
   "source": [
    "Ahora, ¿Cómo calculamos cada una de estas probabilidades condicionales ?, una forma es usando $\\textbf{MLE (maximum likelihood estimation)}  $, este metodo se basa en un conteo de frecuencias y una normalización que permite que los valores fluctúen entre 0 y 1. Para simplicar la siguiente igualdad, la sumatoria de todos los bigramas con la palabra $w_{n-1}$ es igual al conteo de los unigramas de $w_{n-1}$"
   ]
  },
  {
   "cell_type": "markdown",
   "metadata": {},
   "source": [
    "$$P(w_{n}|w_{n-1}) = \\frac{C(w_{n-1}w_{n})}{\\sum_{w}C(w_{n-1}w)} = \\frac{C(w_{n-1}w_{n})}{C(w_{n-1})}  \\hspace{1cm}         (3)$$"
   ]
  },
  {
   "cell_type": "markdown",
   "metadata": {},
   "source": [
    "<h4>Ejemplo 1</h4>"
   ]
  },
  {
   "cell_type": "code",
   "execution_count": 292,
   "metadata": {},
   "outputs": [],
   "source": [
    "texto_1 = '''\n",
    "<s> I am Sam </s>\n",
    "<s> Sam I am </s>\n",
    "<s> I do not like green eggs and ham </s>'''"
   ]
  },
  {
   "cell_type": "markdown",
   "metadata": {},
   "source": [
    "Definimos el creator de tuplas (tuple_creator) como el generador de 2-tuplas, esta función devuelve una lista con todas las words junto a otra lista con una lista de 2-tuplas"
   ]
  },
  {
   "cell_type": "code",
   "execution_count": 293,
   "metadata": {},
   "outputs": [],
   "source": [
    "import re\n",
    "def tuple_creator(text):\n",
    "    text = text.lower()\n",
    "    text = re.sub('\\W+', ' ', text)\n",
    "    text = re.sub('\\s+', ' ', text)\n",
    "    list_text = text.split()\n",
    "    tuple_list = []\n",
    "    for j in range(len(list_text)-1):\n",
    "        pair = (list_text[j], list_text[j+1])\n",
    "        tuple_list.append(pair)\n",
    "    return tuple_list, list_text"
   ]
  },
  {
   "cell_type": "markdown",
   "metadata": {},
   "source": [
    "Definimos el contador de unigramas como el contador de frecuencias de un elemento en una lista ($C(w_{n-1})$)"
   ]
  },
  {
   "cell_type": "code",
   "execution_count": 294,
   "metadata": {},
   "outputs": [],
   "source": [
    "def unigram_counter(let, list_text):\n",
    "    return list_text.count(let)   "
   ]
  },
  {
   "cell_type": "markdown",
   "metadata": {},
   "source": [
    "Definimos el contador de bigramas como el contador de frecuencias de una 2-tupla en una lista de 2-tuplas ($C(w_{n-1}w_{n})$)"
   ]
  },
  {
   "cell_type": "code",
   "execution_count": 295,
   "metadata": {},
   "outputs": [],
   "source": [
    "def bigram_counter(word1, word2, tuple_list):\n",
    "    return tuple_list.count((word1,word2))"
   ]
  },
  {
   "cell_type": "markdown",
   "metadata": {},
   "source": [
    "Definimos la función de probabilidad en (3) como:"
   ]
  },
  {
   "cell_type": "code",
   "execution_count": 369,
   "metadata": {},
   "outputs": [],
   "source": [
    "def probabilidad(word1,word2, tuple_list, list_text):\n",
    "    word1 = word1.lower()\n",
    "    word2 = word2.lower()\n",
    "    value = bigram_counter(word2,word1, tuple_list)/unigram_counter(word1, list_text)\n",
    "    return round(value,5)"
   ]
  },
  {
   "cell_type": "markdown",
   "metadata": {},
   "source": [
    "Como consideración a la forma de trabajo, se generara la lista de tuplas y la lista con words de forma independiente a las funciones de probabilidad, esto permite ahorrar memoria y acortar el tiempo de procesamiento."
   ]
  },
  {
   "cell_type": "code",
   "execution_count": 297,
   "metadata": {},
   "outputs": [],
   "source": [
    "tuple_list, list_text = tuple_creator(texto_1)"
   ]
  },
  {
   "cell_type": "markdown",
   "metadata": {},
   "source": [
    "<h4>Cálculo de probabilidades</h4>"
   ]
  },
  {
   "cell_type": "markdown",
   "metadata": {},
   "source": [
    "Calcularemos la probabilidad de $P(i|s)$"
   ]
  },
  {
   "cell_type": "code",
   "execution_count": 298,
   "metadata": {},
   "outputs": [
    {
     "data": {
      "text/plain": [
       "0.67"
      ]
     },
     "execution_count": 298,
     "metadata": {},
     "output_type": "execute_result"
    }
   ],
   "source": [
    "c = probabilidad('i','s', tuple_list, list_text)\n",
    "c"
   ]
  },
  {
   "cell_type": "markdown",
   "metadata": {},
   "source": [
    "Calcularemos la probabilidad de $P(Sam|am)$"
   ]
  },
  {
   "cell_type": "code",
   "execution_count": 299,
   "metadata": {},
   "outputs": [
    {
     "data": {
      "text/plain": [
       "0.5"
      ]
     },
     "execution_count": 299,
     "metadata": {},
     "output_type": "execute_result"
    }
   ],
   "source": [
    "c = probabilidad('sam','am', tuple_list, list_text)\n",
    "c"
   ]
  },
  {
   "cell_type": "markdown",
   "metadata": {},
   "source": [
    "Calculemos la probabilidad de $P(Sam|i \\hspace{0.1cm}  am)$"
   ]
  },
  {
   "cell_type": "markdown",
   "metadata": {},
   "source": [
    "$$P(Sam|i \\hspace{0.1cm}  am) = P(i \\hspace{0.1cm}  am \\hspace{0.1cm} Sam) = P(i)P(am|i)P(Sam|am)$$"
   ]
  },
  {
   "cell_type": "code",
   "execution_count": 300,
   "metadata": {},
   "outputs": [
    {
     "data": {
      "text/plain": [
       "0.15"
      ]
     },
     "execution_count": 300,
     "metadata": {},
     "output_type": "execute_result"
    }
   ],
   "source": [
    "c0 = list_text.count('i')/len(list_text)\n",
    "c0"
   ]
  },
  {
   "cell_type": "code",
   "execution_count": 301,
   "metadata": {},
   "outputs": [
    {
     "data": {
      "text/plain": [
       "1.0"
      ]
     },
     "execution_count": 301,
     "metadata": {},
     "output_type": "execute_result"
    }
   ],
   "source": [
    "c1 = probabilidad('am','i', tuple_list, list_text)\n",
    "c1"
   ]
  },
  {
   "cell_type": "code",
   "execution_count": 302,
   "metadata": {},
   "outputs": [
    {
     "data": {
      "text/plain": [
       "0.5"
      ]
     },
     "execution_count": 302,
     "metadata": {},
     "output_type": "execute_result"
    }
   ],
   "source": [
    "c2 = probabilidad('sam','am', tuple_list, list_text)\n",
    "c2"
   ]
  },
  {
   "cell_type": "markdown",
   "metadata": {},
   "source": [
    "$$P(Sam|i \\hspace{0.1cm}  am) = 0.15*1.0*0.5 = 0.075$$"
   ]
  },
  {
   "cell_type": "markdown",
   "metadata": {},
   "source": [
    "Dado que el calculo de la probabilidad nace de una pitatoria, se pueden generar ciertos incovenientes con aquellos caracteres desconocidos, lo que haria que la multiplicación final sea igual a cero."
   ]
  },
  {
   "cell_type": "markdown",
   "metadata": {},
   "source": [
    "Los modelos de n-gramas dependen fuertemente de su corpus de entrenamiento, cualquier conclusión que se saque al respecto correspode a un hecho asociado a ese corpus, el contexto importa dado que es lo que le da coherencia a las sentencias. Un ejemplo claro de ello es calcular la probabilidad dada una palabra desconocida, si nos ajustamos al modelo anterior la probabilidad seria cero, para solucionar esto es que se aplican metodos de $\\textbf{smoothing}$"
   ]
  },
  {
   "cell_type": "markdown",
   "metadata": {},
   "source": [
    "<h3>Laplace Smoothing</h3>"
   ]
  },
  {
   "cell_type": "markdown",
   "metadata": {},
   "source": [
    "Consiste en sumar un 1 al contador de palabras tanto del numerador como del denominador, sea V el numero de unigramas"
   ]
  },
  {
   "cell_type": "markdown",
   "metadata": {},
   "source": [
    "$$P_{Laplace}(w_{n}|w_{n-1}) = \\frac{C(w_{n-1}w_{n}) + 1}{\\sum_{w}(C(w_{n-1}w) + 1)} = \\frac{C(w_{n-1}w_{n}) + 1}{C(w_{n-1}) + V}$$"
   ]
  },
  {
   "cell_type": "markdown",
   "metadata": {},
   "source": [
    "<h4>Ejemplo Laplace Smoothing</h4>"
   ]
  },
  {
   "cell_type": "markdown",
   "metadata": {},
   "source": [
    "Calculemos en base al texto anterior del ej. 1 la probabilidad de $P_{Laplace}(Tim|i \\hspace{0.1cm}  am) = P(i)P_{Laplace}(am|i)P_{Laplace}(Tim|am)$"
   ]
  },
  {
   "cell_type": "markdown",
   "metadata": {},
   "source": [
    "Definimos la función de probabilidad asociada al Laplace Smoothing"
   ]
  },
  {
   "cell_type": "code",
   "execution_count": 353,
   "metadata": {},
   "outputs": [],
   "source": [
    "def laplace_prob(word1,word2, tuple_list, list_text):\n",
    "    word1 = word1.lower()\n",
    "    word2 = word2.lower()\n",
    "    value = (bigram_counter(word2,word1, tuple_list)+1)/(unigram_counter(word1, list_text)+ len(list_text))\n",
    "    return round(value,5)"
   ]
  },
  {
   "cell_type": "markdown",
   "metadata": {},
   "source": [
    "Calculemos la $P_{Laplace}(tim|am)$"
   ]
  },
  {
   "cell_type": "code",
   "execution_count": 354,
   "metadata": {},
   "outputs": [
    {
     "data": {
      "text/plain": [
       "0.00023"
      ]
     },
     "execution_count": 354,
     "metadata": {},
     "output_type": "execute_result"
    }
   ],
   "source": [
    "c3 = laplace_prob('tim','am', tuple_list, list_text)\n",
    "c3"
   ]
  },
  {
   "cell_type": "markdown",
   "metadata": {},
   "source": [
    "Calculemos la $P_{Laplace}(am|i)$"
   ]
  },
  {
   "cell_type": "code",
   "execution_count": 312,
   "metadata": {},
   "outputs": [
    {
     "data": {
      "text/plain": [
       "0.14"
      ]
     },
     "execution_count": 312,
     "metadata": {},
     "output_type": "execute_result"
    }
   ],
   "source": [
    "c4 = laplace_prob('am','i', tuple_list, list_text)\n",
    "c4"
   ]
  },
  {
   "cell_type": "markdown",
   "metadata": {},
   "source": [
    "$$P_{Laplace}(Sam|i \\hspace{0.1cm}  am) = 0.15*0.14*0.05 = 0.00105$$"
   ]
  },
  {
   "cell_type": "markdown",
   "metadata": {},
   "source": [
    "En algunos casos los procesos de smoothing tienden a subponderar la probabilidad de ciertos eventos en pos de entregarle más representatividad a casos inusuales, es por eso que su uso se debe enfocar en lograr resaltar casos atípicos."
   ]
  },
  {
   "cell_type": "markdown",
   "metadata": {},
   "source": [
    "<h4>Caso k-smoothing </h4>"
   ]
  },
  {
   "cell_type": "markdown",
   "metadata": {},
   "source": [
    "En aquellos casos donde se quieran ajustan los valores extremos, o sea, aquellas palabras inusuales o muy usuales se aplica un multipllicador k a la suma de constantes:"
   ]
  },
  {
   "cell_type": "markdown",
   "metadata": {},
   "source": [
    "$$P_{LaplaceK}(w_{n}|w_{n-1}) = \\frac{C(w_{n-1}w_{n}) + k}{\\sum_{w}(C(w_{n-1}w) + k)} = \\frac{C(w_{n-1}w_{n}) + k}{C(w_{n-1}) + kV}$$"
   ]
  },
  {
   "cell_type": "markdown",
   "metadata": {},
   "source": [
    "Definimos la función de probabilidad asociada al Laplace k-Smoothing "
   ]
  },
  {
   "cell_type": "code",
   "execution_count": 358,
   "metadata": {},
   "outputs": [],
   "source": [
    "def laplace_prob_k(word1,word2, tuple_list, list_text, k):\n",
    "    word1 = word1.lower()\n",
    "    word2 = word2.lower()\n",
    "    value = (bigram_counter(word2,word1, tuple_list)+k)/(unigram_counter(word1, list_text)+ k*len(list_text))\n",
    "    return round(value,5)"
   ]
  },
  {
   "cell_type": "markdown",
   "metadata": {},
   "source": [
    "Calculemos la $P_{LaplaceK}(tim|am)$"
   ]
  },
  {
   "cell_type": "code",
   "execution_count": 314,
   "metadata": {},
   "outputs": [
    {
     "data": {
      "text/plain": [
       "0.05"
      ]
     },
     "execution_count": 314,
     "metadata": {},
     "output_type": "execute_result"
    }
   ],
   "source": [
    "c3 = laplace_prob_k('tim','am', tuple_list, list_text, 1)\n",
    "c3"
   ]
  },
  {
   "cell_type": "markdown",
   "metadata": {},
   "source": [
    "<h4> Kneser-Ney Smoothing</h4>"
   ]
  },
  {
   "cell_type": "markdown",
   "metadata": {},
   "source": [
    "Uno de los metodos más usados y de mejor performance, tiene su base en ser un metodo de descuento absoluto, el sentido del descuento tiene la intención de $\\textbf{guardar}$ cierta masa de probabilidad, para que esta pueda ser distribuida en algún metodo de smoothing a aquellos casos que no son usuales.\n",
    "\n",
    "Una idea sobre esto es de Church & Gale del año 1991, se hicieron la pregunta si un n-grama tiene frecuencia 4, ¿ Será necesario restarle algo de frecuencia ?. Ellos calcularon todos los bigramas de un corpus de 22 millones de palabras, para luego realizar el mismo calculo en otro corpus de 22 millones, ahi observaron que los bigramas que ocurrian 4 veces en el primer corpus, aparecian 3.23 veces en el segundo corpus."
   ]
  },
  {
   "attachments": {
    "fffff.PNG": {
     "image/png": "[encoded data removed]"
    }
   },
   "cell_type": "markdown",
   "metadata": {},
   "source": [
    "![fffff.PNG](attachment:fffff.PNG)"
   ]
  },
  {
   "cell_type": "markdown",
   "metadata": {},
   "source": [
    "Definase la Probabilidad de Kneser-Ney"
   ]
  },
  {
   "cell_type": "markdown",
   "metadata": {},
   "source": [
    "$$P_{KN}(w_{n}|w_{n-1}) = \\frac{max(C(w_{n-1}w_{n})-d,0)}{C(w_{n-1})}+ \\lambda(w_{n-1})P_{CONTINUATION}(w_{n})$$"
   ]
  },
  {
   "cell_type": "markdown",
   "metadata": {},
   "source": [
    "Donde "
   ]
  },
  {
   "cell_type": "markdown",
   "metadata": {},
   "source": [
    "$$\\lambda(w_{n-1}) = \\frac{d}{\\sum_{w}C(w_{n-1}w)}|{w: C(w_{n-1}w)>0}|$$"
   ]
  },
  {
   "cell_type": "markdown",
   "metadata": {},
   "source": [
    "$$P_{CONTINUATION}(w_{n}) = \\frac{|{v: C(vw_{n})>0}|}{\\sum_{z}|{v: C(vz) > 0)}|} $$"
   ]
  },
  {
   "cell_type": "markdown",
   "metadata": {},
   "source": [
    "Definimos una serie de funciones que nos ayudaran a definir $P_{CONTINUATION}$"
   ]
  },
  {
   "cell_type": "code",
   "execution_count": 317,
   "metadata": {},
   "outputs": [],
   "source": [
    "def counter_more_zero(word1, list_tuples, list_text):\n",
    "    total_c = 0\n",
    "    clear_list_text = set(list_text)\n",
    "    for word in clear_list_text:\n",
    "        if bigram_counter(word, word1, tuple_list) > 0:\n",
    "            total_c += list_text.count(word)    \n",
    "    return total_c"
   ]
  },
  {
   "cell_type": "code",
   "execution_count": 318,
   "metadata": {},
   "outputs": [],
   "source": [
    "def p_continuation(word1, list_tuples, list_text):\n",
    "    dem = 0\n",
    "    num = 0\n",
    "    clear_list_text = set(list_text)\n",
    "    for j in clear_list_text:\n",
    "        dem += counter_more_zero(j, list_tuples, list_text)*list_text.count(j)  \n",
    "    num = counter_more_zero(word1, list_tuples, list_text)\n",
    "    return num/dem"
   ]
  },
  {
   "cell_type": "markdown",
   "metadata": {},
   "source": [
    "Definimos una serie de funciones que nos ayudaran a definir $\\lambda(w_{n-1})$"
   ]
  },
  {
   "cell_type": "code",
   "execution_count": 323,
   "metadata": {},
   "outputs": [],
   "source": [
    "def counter_more_zero_1(word1, list_tuples, list_text):\n",
    "    total_c = 0\n",
    "    clear_list_text = set(list_text)\n",
    "    for word in clear_list_text:\n",
    "        if bigram_counter(word1, word, tuple_list) > 0:\n",
    "            total_c += list_text.count(word)    \n",
    "    return total_c"
   ]
  },
  {
   "cell_type": "code",
   "execution_count": 325,
   "metadata": {},
   "outputs": [],
   "source": [
    "def lambda_f(word, d, list_tuples, list_text):\n",
    "    den = 0\n",
    "    clear_list_text = set(list_text)\n",
    "    for j in clear_list_text:\n",
    "        den += bigram_counter(word, j, list_tuples)\n",
    "    value = d*counter_more_zero_1(word, list_tuples, list_text)/den\n",
    "    return value"
   ]
  },
  {
   "cell_type": "markdown",
   "metadata": {},
   "source": [
    "Definimos el sumando relacionado a $\\frac{max(C(w_{n-1}w_{n})-d,0)}{C(w_{n-1})}$"
   ]
  },
  {
   "cell_type": "code",
   "execution_count": 327,
   "metadata": {},
   "outputs": [],
   "source": [
    "def first_part(word2, word1, d, list_tuples, list_text):\n",
    "    v1 = bigram_counter(word1, word2, tuple_list) \n",
    "    v2 = unigram_counter(word2, list_text)\n",
    "    v3 = max(v1-d, 0)\n",
    "    value = v3/v2\n",
    "    return value"
   ]
  },
  {
   "cell_type": "markdown",
   "metadata": {},
   "source": [
    "<h5>Definase la probabilidad de Kneser-Ney</h5>"
   ]
  },
  {
   "cell_type": "code",
   "execution_count": 330,
   "metadata": {},
   "outputs": [],
   "source": [
    "def p_kn(word2, word1, d,list_tuples, list_text):\n",
    "    sec_val = lambda_f(word1, d, list_tuples, list_text)*p_continuation(word2, list_tuples, list_text)\n",
    "    if word2 not in list_text:\n",
    "        return sec_val\n",
    "    first_val = first_part(word2, word1, d, list_tuples, list_text)\n",
    "    return first_val+sec_val"
   ]
  },
  {
   "cell_type": "markdown",
   "metadata": {},
   "source": [
    "Calculemos la $P_{KN}(am|i)$"
   ]
  },
  {
   "cell_type": "code",
   "execution_count": 332,
   "metadata": {},
   "outputs": [
    {
     "data": {
      "text/plain": [
       "0.643595041322314"
      ]
     },
     "execution_count": 332,
     "metadata": {},
     "output_type": "execute_result"
    }
   ],
   "source": [
    "ds = p_kn('am','i',0.75,tuple_list, list_text)\n",
    "ds"
   ]
  },
  {
   "cell_type": "markdown",
   "metadata": {},
   "source": [
    "<h2>Ejemplo aplicado</h2>"
   ]
  },
  {
   "cell_type": "markdown",
   "metadata": {},
   "source": [
    "Para el siguiente ejemplo usaremos las primeras 80 filas del archivo 'coffeee.csv' presente en Canvas del curso de PLN, en base a este corpus calcularemos diversas probabilidades asociadas a la ocurrencia de bigramas.\n",
    "\n",
    "Recordemos que al ser un planteamiento de funciones de probabilidad, se vuelve dificil adaptar este problema a casos de decisión binarios (que son propios de regresiones log. o bayesianos ingenuos), es por eso que calcularemos distintas probabilidades para ver la performance de las funciones."
   ]
  },
  {
   "cell_type": "code",
   "execution_count": 339,
   "metadata": {},
   "outputs": [],
   "source": [
    "import pandas as pd\n",
    "\n",
    "df = pd.read_csv('coffee.csv', sep=',')"
   ]
  },
  {
   "cell_type": "code",
   "execution_count": 340,
   "metadata": {},
   "outputs": [
    {
     "data": {
      "text/html": [
       "<div>\n",
       "<style scoped>\n",
       "    .dataframe tbody tr th:only-of-type {\n",
       "        vertical-align: middle;\n",
       "    }\n",
       "\n",
       "    .dataframe tbody tr th {\n",
       "        vertical-align: top;\n",
       "    }\n",
       "\n",
       "    .dataframe thead th {\n",
       "        text-align: right;\n",
       "    }\n",
       "</style>\n",
       "<table border=\"1\" class=\"dataframe\">\n",
       "  <thead>\n",
       "    <tr style=\"text-align: right;\">\n",
       "      <th></th>\n",
       "      <th>reviews</th>\n",
       "    </tr>\n",
       "  </thead>\n",
       "  <tbody>\n",
       "    <tr>\n",
       "      <th>0</th>\n",
       "      <td>I wanted to love this. I was even prepared for...</td>\n",
       "    </tr>\n",
       "    <tr>\n",
       "      <th>1</th>\n",
       "      <td>Grove Square Cappuccino Cups were excellent. T...</td>\n",
       "    </tr>\n",
       "    <tr>\n",
       "      <th>2</th>\n",
       "      <td>I bought the Grove Square hazelnut cappuccino ...</td>\n",
       "    </tr>\n",
       "    <tr>\n",
       "      <th>3</th>\n",
       "      <td>I love my Keurig, and I love most of the Keuri...</td>\n",
       "    </tr>\n",
       "    <tr>\n",
       "      <th>4</th>\n",
       "      <td>It's a powdered drink. No filter in k-cup.&lt;br ...</td>\n",
       "    </tr>\n",
       "    <tr>\n",
       "      <th>...</th>\n",
       "      <td>...</td>\n",
       "    </tr>\n",
       "    <tr>\n",
       "      <th>74</th>\n",
       "      <td>I love this product, the taste is so rich and ...</td>\n",
       "    </tr>\n",
       "    <tr>\n",
       "      <th>75</th>\n",
       "      <td>The flavor is rich, sweet and you do not need ...</td>\n",
       "    </tr>\n",
       "    <tr>\n",
       "      <th>76</th>\n",
       "      <td>I love this coffee.  So far have only had the ...</td>\n",
       "    </tr>\n",
       "    <tr>\n",
       "      <th>77</th>\n",
       "      <td>If you like flavored coffee these are a real t...</td>\n",
       "    </tr>\n",
       "    <tr>\n",
       "      <th>78</th>\n",
       "      <td>I bought this item for an occasional treat but...</td>\n",
       "    </tr>\n",
       "  </tbody>\n",
       "</table>\n",
       "<p>79 rows × 1 columns</p>\n",
       "</div>"
      ],
      "text/plain": [
       "                                              reviews\n",
       "0   I wanted to love this. I was even prepared for...\n",
       "1   Grove Square Cappuccino Cups were excellent. T...\n",
       "2   I bought the Grove Square hazelnut cappuccino ...\n",
       "3   I love my Keurig, and I love most of the Keuri...\n",
       "4   It's a powdered drink. No filter in k-cup.<br ...\n",
       "..                                                ...\n",
       "74  I love this product, the taste is so rich and ...\n",
       "75  The flavor is rich, sweet and you do not need ...\n",
       "76  I love this coffee.  So far have only had the ...\n",
       "77  If you like flavored coffee these are a real t...\n",
       "78  I bought this item for an occasional treat but...\n",
       "\n",
       "[79 rows x 1 columns]"
      ]
     },
     "execution_count": 340,
     "metadata": {},
     "output_type": "execute_result"
    }
   ],
   "source": [
    "df"
   ]
  },
  {
   "cell_type": "code",
   "execution_count": 341,
   "metadata": {},
   "outputs": [],
   "source": [
    "elements = df['reviews'].to_list()\n",
    "elements = ' '.join(elements)\n",
    "elements = elements.lower()"
   ]
  },
  {
   "cell_type": "code",
   "execution_count": 342,
   "metadata": {},
   "outputs": [],
   "source": [
    "import re\n",
    "elements = re.sub(r'\\s+', ' ',elements )\n",
    "elements = re.sub(r'\\w+\\d+\\w+', ' ',elements )\n",
    "elements = re.sub(r'\\d+', ' ',elements )"
   ]
  },
  {
   "cell_type": "code",
   "execution_count": 343,
   "metadata": {},
   "outputs": [],
   "source": [
    "elements = re.sub(r'\\W+', ' ',elements )"
   ]
  },
  {
   "cell_type": "code",
   "execution_count": 344,
   "metadata": {
    "scrolled": true
   },
   "outputs": [
    {
     "data": {
      "text/plain": [
       "'i wanted to love this i was even prepared for it to be somewhat like a cheap circle k cappuccino unfortunately the product itself is really greasy you actually see grease in the cup it is calories per serving and the taste it really really powder tasting like powdered milk i wasn t expecting a starbucks cap out of the k cup but i was expecting a little more than this br br i read the reviews and they were sort of mixed so i chose to try it but i won t buy these again they will sit on the top cupboard shelf till i am desperate i guess or throw them away three boxes of them eesssh br br i also now realize these aren t eligible for return so that sucks oh well buyer beware right grove square cappuccino cups were excellent tasted really good right from the keurig brewer with nothing added wwould highly recommend rccjr i bought the grove square hazelnut cappuccino k cups not expecting too much what a pleasant surprise when i tasted that cup of coffee it surprised even me a harsh critic of cappuccino it can be compared to the expensive cappuccino that i buy at the specialty coffee shops around town hey send me some more i ve got guests coming and want to impress them i love my keurig and i love most of the keurig coffees this is instant coffee with instant milk and far too much sugar i don t know anyone i dislike enough to dump the rest of the box on it s a powdered drink no filter in k cup br just buy it in bulk and mix it with hot water br br nothing else to say here wont be buying it again not enough coffee flavor and definitely to sweet it had good flavor but i am just not used to the amount of sugar it had in it and i add a half cup of regular coffee to it to tone it down i wish i had realized that it contained sugar and cream if i had i think i would have chosen something different and been a lot happier with the purchase kids should love this coffee drink though don t bother bet you couldn t tell the difference between this and hot water if your eyes were closed well maybe the water would have a taste never tasted this coffee before i felt much too sweet even for dessert i would not order again but then that is only my opinion my friend s husband loves it br i gave them to him while the overall idea behind the product is laudable they blew it by using sucralose instead of pure trustworthy cane sugar the sweetener leaves an aftertaste that to me tastes disgusting and ruins what would have otherwise been an enjoyable and flavorful cup of cappuccino will not be ordering this product again or anything else sweetened with sugar free alternatives i bought a keurig and bought these to try well my friends and family cleaned me out at christmas and i had to reorder people were asking to take them home for the next morning they are sweet and satisfying no additional milk or sugar needed my husband and i love this french vanilla cappuccino sooo glad i didn t listen to some of the reviews and took the plunge and bought it first of all let me say that i like the stuff from wawa or other machines so that is what i was looking for i did not want some fancy cappuccino but something comparable to the stuff i pay for in the mornings well this stuff was very good very comparable to the machine cappuccino sweet smooth good flavor for under a box it comes to around a cup which is great compared to the at the store i definitely would recommend it this is an instant product that s mostly cream and sugar yes i can taste the hazelnut but smell it more than taste it a small cup is way too sweet and the larger cup is weak it s so sticky sweet that i run a large cup of water through my maker to make sure it doesn t clog my machine up if you like the instant stuff you get from a machine at a convenience store then this is for you br br a href http www amazon com gp product grove square cappuccino cups hazelnut single serve cup for keurig k cup brewers count a i also bought this product and i can tell you that i received my shipment in a timely manner and it was worth it this cappuccino tastes delicious with no additions like milk cream or sugar just brew it by itself and enjoy the perfect combination of a great cappuccino absolutely worth the price and i saved a ton of by not purchasing from starbuck s this has to be the worst tasting coffee i have ever had in a k cup i buy a lot of k cups this is the by far the worst don t waste your money on this product i must say i got more than i expected in a cup of this cappuccino it is rich and creamy and the flavor is great i first tried this at my mom and dad s house in the vanilla flavor and was hooked then after checking out the stats i was even more hooked and ordered the caramel right away i do a low sugar or sugar free diet and this fits perfectly into my diet as a treat with only calories grams of fat and sugars it s a win win situation for me i do brew it with oz of water instead of otherwise it s just a little too sweet for me all in all i m very happy with this product and will order more when i run out great product thanks these have a wonderful flavor when you brew a cup of coffee i like getting k cups from amazon and trying new flavors normally i don t care for coffee at all but i absolutely loved these br br my sister got one of the keurig coffee machines and there were samples of these included in the box she told me that she thought i would like them so i gave it a shot br br she was right i absolutely loved these and after running out of the samples decided to order some from amazon br br for me they were the perfect ammount of sweetness and i didn t find there to be any weird artificial sweetner taste as some other reviwers have mentioned br br now i drink one of these every day the only thing i prefer over these are the caramel flavored ones also from grove square br br i would highly recommend these to everyone especially people who normally don t like coffee a and stars in my book i love these cappuccino s i m addicted to them and have one every morning with my tully s dark roast coffee delicious i love these k cups one of my favorites i am someone who likes very light coffee which ends up making the coffee cold very fast and with these you don t need to add anything so it s great this is so delicious just like gas station cappuccino machines which i love i will definitely be reordering and trying other flavors i loved this caramel cappuccino it reminds me of the taste of tim horton s iced cappuccino with the caramel flavoring i made it hot and it was delicious then i made it with ice and it was even better br br i was a little hesitant to buy this flavor because i saw a negative review and it came in a count package i didn t want to have to throw out that many kcups if it was awful i was pleasantly surprised br br we just started using our keurig a few days ago so we re still testing out all of the good flavors i ve got this on my list of kcups to stock up on in the future the grove square caramel cappuccino is our second favorite flavor at the moment one word outstanding for both hot chocolate and cappuccino br they arrived very quickly and was an excellent value i look forward br to ordering again these are only for people would want a little coffee with their cream and sugar will not purchase these again and sorry i bought them this is a great product for your keurig brewer has a rich taste and i look forward to my nightly cup of this delightful beverage i tried this coffee when it was ll for k cups delicious so i bought two more boxes and didn t sign up for monthly delivery now i can t find where to sign up and the price jumped to for cups that s per cup too pricey for this or any other kcup i was very happy with the taste of this cappuccino unlike the coffee s which i find to be a little strong for my liking this item was perfect with the coffee i always use the large cup option and add a ton of cream sugar to make it where it isnt sooo strong but the cappuccino is good even in the small cup option it taste very much like what you buy at a good convenient store from one of their cappuccino machines looking forward to when this becomes available again so i can order more you will really want to order this pack instead of a single pack i do enjoy hazelnut flavored creamers as well as french vanilla creamers in my coffee i know the flavors aren t exact but since i enjoyed them in coffee i might like them in cappuccino as well i love the french vanilla flavored variety they sell so much so i ve had to purchase additional early shipments from subscribe n save unfortunately the hazelnut isn t so great and not b c it s convenient store cappuccino either i prefer that over real stuff it smells wonderful but just something in the flavor that s lacking and it leaves a weird after taste just wish i didn t buy the count definately buy the french vanilla variety if you are trying to choose between the two my wife loves it it s too sweet for me but i don t have to drink it reasonable price good shipping br br be careful or it can drip down and you ll find yourself growing something slimy and green out of sight i bought the french vanilla cappuccino for my wife she absolutely loved it it actually has a nice froth on top when you make it i buy this for my grandson he loves it started buying it because of the good price but i see it is creeping up can t continue if it goes any higher this cappucino is so good that all the employees at my office are drinking this now and want me to order more and i was going to try to keep it all to myself this is exactly what i expected its the same thing you get out of connivence store machines for about cents a cup i think its worth it and i ordered more yes this is flavored coffee already but it s a great base for some spiked refreshment i like carolans or baileys but saint brendans works well too be sure you use a tall cup so you have room for the extra spirits what could possibly go wrong with that i m signing up for a subscription with free shipping i am increasing my monthly order for this product we tried it iced and it is delicious but also love it hot we are not a coffee people in the least which made it strange when my husband and i decided to get a keurig machine however we both love that cheap gas station cappuccino this is perfect i ll be reordering again soon i am not a vanilla cappuccino lover but this is pretty good my husband friends love it it is great for the price like i told my dh it s for sure better than a gas station cup of cappuccino a lot cheaper we love this product it s a smooth and flavorful cappuccino had never heard of grove square before but the price was great and i m really glad we gave it a try i m currently deployed and the taste of home in this cappuccino was more than i bargained for finally a hot cup of cappuccino that not only tasted great but gave me that little kick in the morning to get moving thanks grove square i bought this cappuccino because of the price br my wife and son went through the pack in weeks br i have other k cup coffee s this is their favorite br we now have it on automatic ship don t want to run out like others said if you like the ones that come out of the dispensers at the mini marts gas stations then you should like this i use the setting on my brewer so it doesn t water it down too much it s a powdered mix like the hot chocolates also my wife is not a coffee drinker but liked this br br placed order when it was out of stock but only took about week to arrive via prime this is just plain nasty tasting had to cancel subscription the artificial sweetener is very overbearing and made the weak coffee taste like apple peelings we were pleasantly surprised by how delicious this single serve cappuccino was it is perfect and tasty without any additional sweetener or creamer for a former coffee shop owner i d like to think i have some discriminating taste when it comes to fast food coffee i was quite happy with the quick version of a vanilla cappuccino although i d consider it more of a latte i do like it even better if you brew the smaller cup of espresso through the machine i am really surprised that this products gets such a bad rap some times it is not coffee it is a coffee drink and it is darn good if you ever go to the grocery store and purchase a cappuccino drink that is ready to go and you just have to add hot water this is br similar and it is good you could add a little whipped milk on the top if you want but you don t have to i am very happy with this product this entire line of products are crap they are not real coffee but instant do not waste your money you can get a better product at any dollar store first of all tasted pretty good but contacted a few keurig k cup authorized on line sellers and was told by all that grove square are not approved by keurig and using them will void the warranty on your brewer was told they are a pirated product upon inspection i discovered that the content are powdered milk sugar artificial flavors and instant coffee not even real coffee not sure if i ll buy again but does taste like cafe vienna instant coffee products with the convenience of keurig all authorized on line sellers cannot carry them due to contracts with keurig guess buy at your own risk this is the first coffee i tried when i got my keurig i was so disappointed in the flavor this coffe is terrible too sweet and it does not taste like cappuccino at all save yourself some money and buy real coffee like the san francisco bay fog chaser for your keurig a href http www amazon com gp product grove square cappuccino cups french vanilla single serve cup for keurig k cup brewers count a this is a great product and was happy to find it online at a great price i had originally bought it at wal mart and was sad to see i could no longer purchase it there there were great prices through amazon and will definitely be purchasing more the flavor is great i admit to being a little skeptical because i don t really like sweet pretend coffee drinks but this was really good i would definitely recommend it if you like capp you don t need to add milk or sweetner but the truth is that i think it is bad for me nothing is real in it i figure i will do better not adding it to my diet i reluctantly am cancelling my subscription to it i ordered grove square k cups the cappuccino variety for my keurig brewer as with all of the other k cup coffees i ve purchased i expected it to be filled with coffee for my keurig to brew unfortunately it is filled with instant coffee and flavored with creamer and sweetners it tastes horrible i m pitching the rest it s not even worth donating to our church if i d wanted sanka i would not have purchased an expensive coffee brewer the microwave would have been good enough what i want is a cup of freshly brewed coffee the product description did not disclose the fact that it is fake coffee if a real cup of freshly brewed coffee is what you want from your keurig brewer do not buy this product i just tried this product for the first time this morning and was eager to do so boy was i disappointed and disgusted i tried with all my might to get through a fourth of the cup but i simply could not do it this so called cappuccino tasted greasy and overly sweet at the same time i did not even know that was possible for a caffeine product i would have rather had gas station cappuccino than this garbage i wish there were a way for me to return the k cups that are left but sadly they will just end up in the trash what a waste of my hard earned money i have tried several coffee k cups from starbucks to moonlight coffee virtually every kcup br this coffee tastes more like chemicals no wonder the price is so low br br do not buy this coffee sorry to say the worst coffee i ever bought and the biggest mistake i did that i bought several ones if anyone needs the chemical coffee i am willing to sell it out for less price imagine yourself craving coffee but you re on a big ferry boat with a single coffee vending machine the kind that you wouldn t venture near if you had any choice in the matter but you need a hot beverage or the caffiene or something warm to hold whatever so you bite the paper cup shoots out of some recess in the machine and a close approximation of coffee pours into said cup with the familiar but suspect aroma of vanilla in the air then you taste it and yup it s exactly as vending machine icky as you hoped it wouldn t be you taste the artificial and you learn to settle for it because you re stuck on a boat br br well grove square capuccino cups french vanilla are just a little better than that a smidgen better not much more br br so if you aren t stuck on a ferry boat or train station or gas station or local dmv waiting area or someplace equally dismal and if you actually do have a choice i would urge you to at least try before you buy so you aren t stuck with k cups that make you cringe i was really excited to get this product as an alternative to straight coffee for my keurig sadly not only am i disappointed that it is not frothy as the picture on the box shows but of the box are defective k cups the edges of the foil on top are not sealed so the cups contents have leaked and the machine does not function properly if you still try to use them i feel that i definitely wasted my money i was really disappointed with this instant coffee yes instant coffee they should have added stronger coffee and less creamer sugar too mild and sweet for me very poor taste so sweet that it makes you sick this stuff is awful weak coffee all you can taste is the sugar can t imagine anyone would actually like this stuff should have read more about the contents before ordering i agree that more than keurigs it tastes like the instant coffee that you get at rest stops really disappointed there was only one bad review so i decided to ignore it because most of the reviews were favorable what a mistake it is really watery and the taste is not the same of the convenient stores waste of money i will not recommend this product defeats the purpose of k cups it just instant coffee and much more expensive than normal instant coffee either get instant coffee cheaper k cups that have real coffee in them for more money or just brew regular coffee i purchased this even after a few other reviewers mentioned that there is a fake sweetener taste thinking it would be ok but the taste is really overwhelming if you are ok with drinking diet soda you will be ok with these if not i would stay away i keep trying to feed these to guest but with very poor luck in two words awful and artificial i didn t find any place i could find out what the ingredients were in this until after i got it and it tasted so weird i know i should have checked it out first but i didn t even suspect artificial ingredients would be a concern anyway it is non returnable but amazon did refund my money for this because to us it is not fit for consumption read the label carefully it s instant coffee not the ground coffee as the other brands no filter inside and had partially hydrogenated oil in it i returned it as hydrogenated oil is harmful and the coffee itself is kind of gas station quality this coffee beat our expectations we bought it thinking we would try it out because of the cheap price but found that the coffee is very good and hope to buy more at this amazing value i tried this and was disappointed no coffee taste and artificial milk and sweetners it does not really taste like a cup of cappuchino that you get in a store or restaurant it is really an artificial made up blend stay away or try it at your own risk i love these k cups they are wonderful i have bought hazelnut french vanilla caramel and caramel apple cider i love br each one they are absolutely terrific i have been ordering this k cup cappucino drink for awhile now and have never had a problem love it tastes good great price really love the the flavor no need to add anything to this cappuccino to enhance the flavor really enjoyable anytime drink this is a house hold favorite it s silly to call this a cappuccino there is no coffee flavor whatsoever i have even tried making this and with strong coffee still can t tolerate it thought it was coffee k cups we were purchasing but it is powdered drink mix read carefully before buying this brand this is a product that we will use again as it was a quick way to create a drink that satisfied the need for a casual cup of refreshment i love this product the taste is so rich and satisfying br when your craving something sweet this takes that edge off and only calories the flavor is rich sweet and you do not need to add anything to it it has sugar and cream already in it just pour and enjoy it as is i love this coffee so far have only had the vanilla but going to try the others it is like having a cappuccino in a coffee house try it you ll love it if you like flavored coffee these are a real treat they are a great afternoon pick me upper and the price is right i bought this item for an occasional treat but still have to find the right setting use to make it have that perfect flavor the largest travel mug setting leaves the coffee too weak and the smallest coffee cup setting is too much and even the middle size isn t just right and sort of tastes like a lite cappaccino i never thought i was hard to please but it seems like this has proven me wrong br the price is pretty good so i can t complain on that note but i guess i m going to continue to drink this item and let it grow on me as a now and then cup of cappaccino it s ok br the star rating is for the price and convenience of not traveling miles to get a cappaccino '"
      ]
     },
     "execution_count": 344,
     "metadata": {},
     "output_type": "execute_result"
    }
   ],
   "source": [
    "elements"
   ]
  },
  {
   "cell_type": "code",
   "execution_count": 350,
   "metadata": {},
   "outputs": [],
   "source": [
    "tuple_list ,list_text = tuple_creator(elements)"
   ]
  },
  {
   "cell_type": "markdown",
   "metadata": {},
   "source": [
    "Calcularemos la $P(am|i)$ usando las cuatro funciones de probabilidad definidas anteriormente:"
   ]
  },
  {
   "cell_type": "code",
   "execution_count": 365,
   "metadata": {},
   "outputs": [
    {
     "data": {
      "text/plain": [
       "0.7251748260265254"
      ]
     },
     "execution_count": 365,
     "metadata": {},
     "output_type": "execute_result"
    }
   ],
   "source": [
    "d0 = p_kn('am','i',0.75,tuple_list, list_text)\n",
    "d0"
   ]
  },
  {
   "cell_type": "code",
   "execution_count": 373,
   "metadata": {},
   "outputs": [
    {
     "data": {
      "text/plain": [
       "0.8"
      ]
     },
     "execution_count": 373,
     "metadata": {},
     "output_type": "execute_result"
    }
   ],
   "source": [
    "d1 = probabilidad('am','i',tuple_list, list_text)\n",
    "d1"
   ]
  },
  {
   "cell_type": "code",
   "execution_count": 371,
   "metadata": {},
   "outputs": [
    {
     "data": {
      "text/plain": [
       "0.00209"
      ]
     },
     "execution_count": 371,
     "metadata": {},
     "output_type": "execute_result"
    }
   ],
   "source": [
    "d2 = laplace_prob('am','i',tuple_list, list_text)\n",
    "d2"
   ]
  },
  {
   "cell_type": "code",
   "execution_count": 372,
   "metadata": {},
   "outputs": [
    {
     "data": {
      "text/plain": [
       "0.00042"
      ]
     },
     "execution_count": 372,
     "metadata": {},
     "output_type": "execute_result"
    }
   ],
   "source": [
    "d3 = laplace_prob_k('am','i',tuple_list, list_text, 10)\n",
    "d3"
   ]
  },
  {
   "cell_type": "markdown",
   "metadata": {},
   "source": [
    "Probabilidad de la secuencia $I am$ en el corpus asociado a coffee.csv\n",
    "<table>\n",
    "  <tr>\n",
    "    <th>Probabilidad/word</th>\n",
    "    <th>am</th>\n",
    "  </tr>\n",
    "  <tr>\n",
    "    <td>Kneser-Ney</td>\n",
    "    <td>0.7251</td>\n",
    "  </tr>\n",
    "  <tr>\n",
    "    <td>Laplace</td>\n",
    "    <td>0.00209</td>\n",
    "  </tr>\n",
    "  <tr>\n",
    "    <td>Laplace-K</td>\n",
    "    <td>0.00042</td>\n",
    "  </tr>\n",
    "  <tr>\n",
    "    <td>Probabilidad I</td>\n",
    "    <td>0.8</td>\n",
    "  </tr>\n",
    "</table>\n"
   ]
  },
  {
   "cell_type": "markdown",
   "metadata": {},
   "source": [
    "En este ejemplo vemos claramente una de las desventajas del suavizado laplaciano, dado que al ser un metodo que normaliza por la cantidad de words en el corpus se ve que termina subponderando bigramas que en realidad son sumamente comunes."
   ]
  },
  {
   "cell_type": "markdown",
   "metadata": {},
   "source": [
    "<h4>Veamos otro ejemplo</h4>"
   ]
  },
  {
   "cell_type": "code",
   "execution_count": 382,
   "metadata": {},
   "outputs": [
    {
     "data": {
      "text/plain": [
       "0.08384439422971547"
      ]
     },
     "execution_count": 382,
     "metadata": {},
     "output_type": "execute_result"
    }
   ],
   "source": [
    "d00 = p_kn('cappaccino','a',0.75,tuple_list, list_text)\n",
    "d00"
   ]
  },
  {
   "cell_type": "code",
   "execution_count": 383,
   "metadata": {},
   "outputs": [
    {
     "data": {
      "text/plain": [
       "0.33333"
      ]
     },
     "execution_count": 383,
     "metadata": {},
     "output_type": "execute_result"
    }
   ],
   "source": [
    "d10 = probabilidad('cappaccino','a',tuple_list, list_text)\n",
    "d10"
   ]
  },
  {
   "cell_type": "code",
   "execution_count": 384,
   "metadata": {},
   "outputs": [
    {
     "data": {
      "text/plain": [
       "0.00047"
      ]
     },
     "execution_count": 384,
     "metadata": {},
     "output_type": "execute_result"
    }
   ],
   "source": [
    "d20 = laplace_prob('cappaccino','a',tuple_list, list_text)\n",
    "d20"
   ]
  },
  {
   "cell_type": "code",
   "execution_count": 385,
   "metadata": {},
   "outputs": [
    {
     "data": {
      "text/plain": [
       "0.00026"
      ]
     },
     "execution_count": 385,
     "metadata": {},
     "output_type": "execute_result"
    }
   ],
   "source": [
    "d30 = laplace_prob_k('cappaccino','a',tuple_list, list_text, 10)\n",
    "d30"
   ]
  },
  {
   "cell_type": "markdown",
   "metadata": {},
   "source": [
    "Probabilidad de la secuencia $a \\hspace{0.1cm} cappaccino$ en el corpus asociado a coffee.csv\n",
    "<table>\n",
    "  <tr>\n",
    "    <th>Probabilidad/word</th>\n",
    "    <th>am</th>\n",
    "  </tr>\n",
    "  <tr>\n",
    "    <td>Kneser-Ney</td>\n",
    "    <td>0.08384</td>\n",
    "  </tr>\n",
    "  <tr>\n",
    "    <td>Laplace</td>\n",
    "    <td>0.33333</td>\n",
    "  </tr>\n",
    "  <tr>\n",
    "    <td>Laplace-K</td>\n",
    "    <td>0.00047</td>\n",
    "  </tr>\n",
    "  <tr>\n",
    "    <td>Probabilidad I</td>\n",
    "    <td>0.00026</td>\n",
    "  </tr>\n",
    "</table>\n"
   ]
  },
  {
   "cell_type": "markdown",
   "metadata": {},
   "source": [
    "Acá se ve la ventaja del metodo KN, dado que no se dedica únicamente a calcular de forma \"purista\" la frecuencia dividido en el total de casos, sino que los factores $\\lambda(w_{n-1})$ y $P_{CONTINUATION}(w_{n}) $ son buenos ponderadores que calculan frecuencias asociadas a las palabras tanto de forma antecedente como consecuente."
   ]
  }
 ],
 "metadata": {
  "kernelspec": {
   "display_name": "Python 3",
   "language": "python",
   "name": "python3"
  },
  "language_info": {
   "codemirror_mode": {
    "name": "ipython",
    "version": 3
   },
   "file_extension": ".py",
   "mimetype": "text/x-python",
   "name": "python",
   "nbconvert_exporter": "python",
   "pygments_lexer": "ipython3",
   "version": "3.8.3"
  }
 },
 "nbformat": 4,
 "nbformat_minor": 4
}
