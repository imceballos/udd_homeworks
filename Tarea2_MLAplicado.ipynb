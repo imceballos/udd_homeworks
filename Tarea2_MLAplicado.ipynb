{
  "nbformat": 4,
  "nbformat_minor": 0,
  "metadata": {
    "accelerator": "GPU",
    "colab": {
      "name": "Tarea2_MLAplicado.ipynb",
      "provenance": [],
      "collapsed_sections": [],
      "include_colab_link": true
    },
    "kernelspec": {
      "display_name": "Python 3",
      "name": "python3"
    },
    "language_info": {
      "name": "python"
    }
  },
  "cells": [
    {
      "cell_type": "markdown",
      "metadata": {
        "id": "view-in-github",
        "colab_type": "text"
      },
      "source": [
        "<a href=\"https://colab.research.google.com/github/imceballos/udd_homeworks/blob/main/Tarea2_MLAplicado.ipynb\" target=\"_parent\"><img src=\"https://colab.research.google.com/assets/colab-badge.svg\" alt=\"Open In Colab\"/></a>"
      ]
    },
    {
      "cell_type": "markdown",
      "metadata": {
        "id": "Xy1RIwc3jCNl"
      },
      "source": [
        "# <h2>Modelos de lenguaje y clasificación de texto</h2>"
      ]
    },
    {
      "cell_type": "markdown",
      "metadata": {
        "id": "-ow3HZOVtqxm"
      },
      "source": [
        "Autor: Israel Ceballos\n",
        "\n",
        "Profesor: Alonso Astroza"
      ]
    },
    {
      "cell_type": "markdown",
      "metadata": {
        "id": "UbVbY2E7kLsm"
      },
      "source": [
        "El objetivo de este trabajo es crear un clasificador de **reviews** en base a reseñas de **Amazon**"
      ]
    },
    {
      "cell_type": "markdown",
      "metadata": {
        "id": "O-q9NlRvlGQx"
      },
      "source": [
        "## *Instalación de libreria fastai*"
      ]
    },
    {
      "cell_type": "code",
      "metadata": {
        "colab": {
          "base_uri": "https://localhost:8080/"
        },
        "id": "veX1AYAdj2O3",
        "outputId": "ef992494-4689-485a-aa57-b448e5473f3d"
      },
      "source": [
        "!pip install fastai"
      ],
      "execution_count": null,
      "outputs": [
        {
          "output_type": "stream",
          "text": [
            "Requirement already satisfied: fastai in /usr/local/lib/python3.7/dist-packages (1.0.61)\n",
            "Requirement already satisfied: numexpr in /usr/local/lib/python3.7/dist-packages (from fastai) (2.7.3)\n",
            "Requirement already satisfied: pandas in /usr/local/lib/python3.7/dist-packages (from fastai) (1.1.5)\n",
            "Requirement already satisfied: bottleneck in /usr/local/lib/python3.7/dist-packages (from fastai) (1.3.2)\n",
            "Requirement already satisfied: fastprogress>=0.2.1 in /usr/local/lib/python3.7/dist-packages (from fastai) (1.0.0)\n",
            "Requirement already satisfied: beautifulsoup4 in /usr/local/lib/python3.7/dist-packages (from fastai) (4.6.3)\n",
            "Requirement already satisfied: matplotlib in /usr/local/lib/python3.7/dist-packages (from fastai) (3.2.2)\n",
            "Requirement already satisfied: numpy>=1.15 in /usr/local/lib/python3.7/dist-packages (from fastai) (1.19.5)\n",
            "Requirement already satisfied: scipy in /usr/local/lib/python3.7/dist-packages (from fastai) (1.4.1)\n",
            "Requirement already satisfied: nvidia-ml-py3 in /usr/local/lib/python3.7/dist-packages (from fastai) (7.352.0)\n",
            "Requirement already satisfied: torch>=1.0.0 in /usr/local/lib/python3.7/dist-packages (from fastai) (1.9.0+cu102)\n",
            "Requirement already satisfied: pyyaml in /usr/local/lib/python3.7/dist-packages (from fastai) (3.13)\n",
            "Requirement already satisfied: torchvision in /usr/local/lib/python3.7/dist-packages (from fastai) (0.10.0+cu102)\n",
            "Requirement already satisfied: packaging in /usr/local/lib/python3.7/dist-packages (from fastai) (20.9)\n",
            "Requirement already satisfied: spacy>=2.0.18; python_version < \"3.8\" in /usr/local/lib/python3.7/dist-packages (from fastai) (2.2.4)\n",
            "Requirement already satisfied: Pillow in /usr/local/lib/python3.7/dist-packages (from fastai) (7.1.2)\n",
            "Requirement already satisfied: requests in /usr/local/lib/python3.7/dist-packages (from fastai) (2.23.0)\n",
            "Requirement already satisfied: python-dateutil>=2.7.3 in /usr/local/lib/python3.7/dist-packages (from pandas->fastai) (2.8.1)\n",
            "Requirement already satisfied: pytz>=2017.2 in /usr/local/lib/python3.7/dist-packages (from pandas->fastai) (2018.9)\n",
            "Requirement already satisfied: pyparsing!=2.0.4,!=2.1.2,!=2.1.6,>=2.0.1 in /usr/local/lib/python3.7/dist-packages (from matplotlib->fastai) (2.4.7)\n",
            "Requirement already satisfied: cycler>=0.10 in /usr/local/lib/python3.7/dist-packages (from matplotlib->fastai) (0.10.0)\n",
            "Requirement already satisfied: kiwisolver>=1.0.1 in /usr/local/lib/python3.7/dist-packages (from matplotlib->fastai) (1.3.1)\n",
            "Requirement already satisfied: typing-extensions in /usr/local/lib/python3.7/dist-packages (from torch>=1.0.0->fastai) (3.7.4.3)\n",
            "Requirement already satisfied: murmurhash<1.1.0,>=0.28.0 in /usr/local/lib/python3.7/dist-packages (from spacy>=2.0.18; python_version < \"3.8\"->fastai) (1.0.5)\n",
            "Requirement already satisfied: blis<0.5.0,>=0.4.0 in /usr/local/lib/python3.7/dist-packages (from spacy>=2.0.18; python_version < \"3.8\"->fastai) (0.4.1)\n",
            "Requirement already satisfied: preshed<3.1.0,>=3.0.2 in /usr/local/lib/python3.7/dist-packages (from spacy>=2.0.18; python_version < \"3.8\"->fastai) (3.0.5)\n",
            "Requirement already satisfied: setuptools in /usr/local/lib/python3.7/dist-packages (from spacy>=2.0.18; python_version < \"3.8\"->fastai) (57.0.0)\n",
            "Requirement already satisfied: wasabi<1.1.0,>=0.4.0 in /usr/local/lib/python3.7/dist-packages (from spacy>=2.0.18; python_version < \"3.8\"->fastai) (0.8.2)\n",
            "Requirement already satisfied: plac<1.2.0,>=0.9.6 in /usr/local/lib/python3.7/dist-packages (from spacy>=2.0.18; python_version < \"3.8\"->fastai) (1.1.3)\n",
            "Requirement already satisfied: tqdm<5.0.0,>=4.38.0 in /usr/local/lib/python3.7/dist-packages (from spacy>=2.0.18; python_version < \"3.8\"->fastai) (4.41.1)\n",
            "Requirement already satisfied: thinc==7.4.0 in /usr/local/lib/python3.7/dist-packages (from spacy>=2.0.18; python_version < \"3.8\"->fastai) (7.4.0)\n",
            "Requirement already satisfied: cymem<2.1.0,>=2.0.2 in /usr/local/lib/python3.7/dist-packages (from spacy>=2.0.18; python_version < \"3.8\"->fastai) (2.0.5)\n",
            "Requirement already satisfied: srsly<1.1.0,>=1.0.2 in /usr/local/lib/python3.7/dist-packages (from spacy>=2.0.18; python_version < \"3.8\"->fastai) (1.0.5)\n",
            "Requirement already satisfied: catalogue<1.1.0,>=0.0.7 in /usr/local/lib/python3.7/dist-packages (from spacy>=2.0.18; python_version < \"3.8\"->fastai) (1.0.0)\n",
            "Requirement already satisfied: urllib3!=1.25.0,!=1.25.1,<1.26,>=1.21.1 in /usr/local/lib/python3.7/dist-packages (from requests->fastai) (1.24.3)\n",
            "Requirement already satisfied: certifi>=2017.4.17 in /usr/local/lib/python3.7/dist-packages (from requests->fastai) (2021.5.30)\n",
            "Requirement already satisfied: chardet<4,>=3.0.2 in /usr/local/lib/python3.7/dist-packages (from requests->fastai) (3.0.4)\n",
            "Requirement already satisfied: idna<3,>=2.5 in /usr/local/lib/python3.7/dist-packages (from requests->fastai) (2.10)\n",
            "Requirement already satisfied: six>=1.5 in /usr/local/lib/python3.7/dist-packages (from python-dateutil>=2.7.3->pandas->fastai) (1.15.0)\n",
            "Requirement already satisfied: importlib-metadata>=0.20; python_version < \"3.8\" in /usr/local/lib/python3.7/dist-packages (from catalogue<1.1.0,>=0.0.7->spacy>=2.0.18; python_version < \"3.8\"->fastai) (4.5.0)\n",
            "Requirement already satisfied: zipp>=0.5 in /usr/local/lib/python3.7/dist-packages (from importlib-metadata>=0.20; python_version < \"3.8\"->catalogue<1.1.0,>=0.0.7->spacy>=2.0.18; python_version < \"3.8\"->fastai) (3.4.1)\n"
          ],
          "name": "stdout"
        }
      ]
    },
    {
      "cell_type": "code",
      "metadata": {
        "colab": {
          "base_uri": "https://localhost:8080/"
        },
        "id": "QHcgc_DTlNHx",
        "outputId": "85807869-0578-4fc6-e400-38dd4b121adc"
      },
      "source": [
        "!pip install fastai-ulmfit"
      ],
      "execution_count": null,
      "outputs": [
        {
          "output_type": "stream",
          "text": [
            "Collecting fastai-ulmfit\n",
            "  Downloading https://files.pythonhosted.org/packages/73/e4/5389c4d53a59356f5f2ac503138fe7572a310d154eacad091b5a761b79b3/fastai_ulmfit-0.0.4-py3-none-any.whl\n",
            "Collecting sentencepiece>=0.1.95\n",
            "\u001b[?25l  Downloading https://files.pythonhosted.org/packages/ac/aa/1437691b0c7c83086ebb79ce2da16e00bef024f24fec2a5161c35476f499/sentencepiece-0.1.96-cp37-cp37m-manylinux_2_17_x86_64.manylinux2014_x86_64.whl (1.2MB)\n",
            "\u001b[K     |████████████████████████████████| 1.2MB 9.8MB/s \n",
            "\u001b[?25hCollecting fastai>=2.2.7\n",
            "\u001b[?25l  Downloading https://files.pythonhosted.org/packages/bd/ca/bc9f4e04adcdfda1357f5c63bc67a7bf4f315883ca544726f3376b1ed068/fastai-2.4-py3-none-any.whl (187kB)\n",
            "\u001b[K     |████████████████████████████████| 194kB 25.9MB/s \n",
            "\u001b[?25hRequirement already satisfied: pillow>6.0.0 in /usr/local/lib/python3.7/dist-packages (from fastai>=2.2.7->fastai-ulmfit) (7.1.2)\n",
            "Requirement already satisfied: requests in /usr/local/lib/python3.7/dist-packages (from fastai>=2.2.7->fastai-ulmfit) (2.23.0)\n",
            "Requirement already satisfied: torch<1.10,>=1.7.0 in /usr/local/lib/python3.7/dist-packages (from fastai>=2.2.7->fastai-ulmfit) (1.9.0+cu102)\n",
            "Requirement already satisfied: pyyaml in /usr/local/lib/python3.7/dist-packages (from fastai>=2.2.7->fastai-ulmfit) (3.13)\n",
            "Requirement already satisfied: torchvision>=0.8.2 in /usr/local/lib/python3.7/dist-packages (from fastai>=2.2.7->fastai-ulmfit) (0.10.0+cu102)\n",
            "Requirement already satisfied: pandas in /usr/local/lib/python3.7/dist-packages (from fastai>=2.2.7->fastai-ulmfit) (1.1.5)\n",
            "Requirement already satisfied: packaging in /usr/local/lib/python3.7/dist-packages (from fastai>=2.2.7->fastai-ulmfit) (20.9)\n",
            "Requirement already satisfied: pip in /usr/local/lib/python3.7/dist-packages (from fastai>=2.2.7->fastai-ulmfit) (19.3.1)\n",
            "Requirement already satisfied: fastprogress>=0.2.4 in /usr/local/lib/python3.7/dist-packages (from fastai>=2.2.7->fastai-ulmfit) (1.0.0)\n",
            "Requirement already satisfied: spacy<4 in /usr/local/lib/python3.7/dist-packages (from fastai>=2.2.7->fastai-ulmfit) (2.2.4)\n",
            "Requirement already satisfied: scipy in /usr/local/lib/python3.7/dist-packages (from fastai>=2.2.7->fastai-ulmfit) (1.4.1)\n",
            "Requirement already satisfied: scikit-learn in /usr/local/lib/python3.7/dist-packages (from fastai>=2.2.7->fastai-ulmfit) (0.22.2.post1)\n",
            "Collecting fastcore<1.4,>=1.3.8\n",
            "\u001b[?25l  Downloading https://files.pythonhosted.org/packages/d8/b0/f1fbf554e0bf3c76e1bdc3b82eedfe41fcf656479586be38c64421082b1b/fastcore-1.3.20-py3-none-any.whl (53kB)\n",
            "\u001b[K     |████████████████████████████████| 61kB 8.1MB/s \n",
            "\u001b[?25hRequirement already satisfied: matplotlib in /usr/local/lib/python3.7/dist-packages (from fastai>=2.2.7->fastai-ulmfit) (3.2.2)\n",
            "Requirement already satisfied: idna<3,>=2.5 in /usr/local/lib/python3.7/dist-packages (from requests->fastai>=2.2.7->fastai-ulmfit) (2.10)\n",
            "Requirement already satisfied: chardet<4,>=3.0.2 in /usr/local/lib/python3.7/dist-packages (from requests->fastai>=2.2.7->fastai-ulmfit) (3.0.4)\n",
            "Requirement already satisfied: certifi>=2017.4.17 in /usr/local/lib/python3.7/dist-packages (from requests->fastai>=2.2.7->fastai-ulmfit) (2021.5.30)\n",
            "Requirement already satisfied: urllib3!=1.25.0,!=1.25.1,<1.26,>=1.21.1 in /usr/local/lib/python3.7/dist-packages (from requests->fastai>=2.2.7->fastai-ulmfit) (1.24.3)\n",
            "Requirement already satisfied: typing-extensions in /usr/local/lib/python3.7/dist-packages (from torch<1.10,>=1.7.0->fastai>=2.2.7->fastai-ulmfit) (3.7.4.3)\n",
            "Requirement already satisfied: numpy in /usr/local/lib/python3.7/dist-packages (from torchvision>=0.8.2->fastai>=2.2.7->fastai-ulmfit) (1.19.5)\n",
            "Requirement already satisfied: pytz>=2017.2 in /usr/local/lib/python3.7/dist-packages (from pandas->fastai>=2.2.7->fastai-ulmfit) (2018.9)\n",
            "Requirement already satisfied: python-dateutil>=2.7.3 in /usr/local/lib/python3.7/dist-packages (from pandas->fastai>=2.2.7->fastai-ulmfit) (2.8.1)\n",
            "Requirement already satisfied: pyparsing>=2.0.2 in /usr/local/lib/python3.7/dist-packages (from packaging->fastai>=2.2.7->fastai-ulmfit) (2.4.7)\n",
            "Requirement already satisfied: tqdm<5.0.0,>=4.38.0 in /usr/local/lib/python3.7/dist-packages (from spacy<4->fastai>=2.2.7->fastai-ulmfit) (4.41.1)\n",
            "Requirement already satisfied: setuptools in /usr/local/lib/python3.7/dist-packages (from spacy<4->fastai>=2.2.7->fastai-ulmfit) (57.0.0)\n",
            "Requirement already satisfied: blis<0.5.0,>=0.4.0 in /usr/local/lib/python3.7/dist-packages (from spacy<4->fastai>=2.2.7->fastai-ulmfit) (0.4.1)\n",
            "Requirement already satisfied: plac<1.2.0,>=0.9.6 in /usr/local/lib/python3.7/dist-packages (from spacy<4->fastai>=2.2.7->fastai-ulmfit) (1.1.3)\n",
            "Requirement already satisfied: wasabi<1.1.0,>=0.4.0 in /usr/local/lib/python3.7/dist-packages (from spacy<4->fastai>=2.2.7->fastai-ulmfit) (0.8.2)\n",
            "Requirement already satisfied: srsly<1.1.0,>=1.0.2 in /usr/local/lib/python3.7/dist-packages (from spacy<4->fastai>=2.2.7->fastai-ulmfit) (1.0.5)\n",
            "Requirement already satisfied: thinc==7.4.0 in /usr/local/lib/python3.7/dist-packages (from spacy<4->fastai>=2.2.7->fastai-ulmfit) (7.4.0)\n",
            "Requirement already satisfied: catalogue<1.1.0,>=0.0.7 in /usr/local/lib/python3.7/dist-packages (from spacy<4->fastai>=2.2.7->fastai-ulmfit) (1.0.0)\n",
            "Requirement already satisfied: murmurhash<1.1.0,>=0.28.0 in /usr/local/lib/python3.7/dist-packages (from spacy<4->fastai>=2.2.7->fastai-ulmfit) (1.0.5)\n",
            "Requirement already satisfied: cymem<2.1.0,>=2.0.2 in /usr/local/lib/python3.7/dist-packages (from spacy<4->fastai>=2.2.7->fastai-ulmfit) (2.0.5)\n",
            "Requirement already satisfied: preshed<3.1.0,>=3.0.2 in /usr/local/lib/python3.7/dist-packages (from spacy<4->fastai>=2.2.7->fastai-ulmfit) (3.0.5)\n",
            "Requirement already satisfied: joblib>=0.11 in /usr/local/lib/python3.7/dist-packages (from scikit-learn->fastai>=2.2.7->fastai-ulmfit) (1.0.1)\n",
            "Requirement already satisfied: kiwisolver>=1.0.1 in /usr/local/lib/python3.7/dist-packages (from matplotlib->fastai>=2.2.7->fastai-ulmfit) (1.3.1)\n",
            "Requirement already satisfied: cycler>=0.10 in /usr/local/lib/python3.7/dist-packages (from matplotlib->fastai>=2.2.7->fastai-ulmfit) (0.10.0)\n",
            "Requirement already satisfied: six>=1.5 in /usr/local/lib/python3.7/dist-packages (from python-dateutil>=2.7.3->pandas->fastai>=2.2.7->fastai-ulmfit) (1.15.0)\n",
            "Requirement already satisfied: importlib-metadata>=0.20; python_version < \"3.8\" in /usr/local/lib/python3.7/dist-packages (from catalogue<1.1.0,>=0.0.7->spacy<4->fastai>=2.2.7->fastai-ulmfit) (4.5.0)\n",
            "Requirement already satisfied: zipp>=0.5 in /usr/local/lib/python3.7/dist-packages (from importlib-metadata>=0.20; python_version < \"3.8\"->catalogue<1.1.0,>=0.0.7->spacy<4->fastai>=2.2.7->fastai-ulmfit) (3.4.1)\n",
            "Installing collected packages: sentencepiece, fastcore, fastai, fastai-ulmfit\n",
            "  Found existing installation: fastai 1.0.61\n",
            "    Uninstalling fastai-1.0.61:\n",
            "      Successfully uninstalled fastai-1.0.61\n",
            "Successfully installed fastai-2.4 fastai-ulmfit-0.0.4 fastcore-1.3.20 sentencepiece-0.1.96\n"
          ],
          "name": "stdout"
        }
      ]
    },
    {
      "cell_type": "code",
      "metadata": {
        "id": "1oSRwr2iINzS"
      },
      "source": [
        "from fastai.text import *\n",
        "from fastai.text.all import *\n",
        "\n",
        "from fastai_ulmfit.pretrained import *"
      ],
      "execution_count": null,
      "outputs": []
    },
    {
      "cell_type": "markdown",
      "metadata": {
        "id": "36ZeIFPN742L"
      },
      "source": [
        "Crearemos la carpeta data, esta nos servira pronto para almacenar la data "
      ]
    },
    {
      "cell_type": "code",
      "metadata": {
        "id": "AzV5CKOrl1EH"
      },
      "source": [
        "path = Path('data')\n",
        "dest = path\n",
        "dest.mkdir(parents=True, exist_ok=True)"
      ],
      "execution_count": null,
      "outputs": []
    },
    {
      "cell_type": "markdown",
      "metadata": {
        "id": "d_CGEady21oP"
      },
      "source": [
        "## <h2>Autenticación y descarga en GCP </h2>"
      ]
    },
    {
      "cell_type": "markdown",
      "metadata": {
        "id": "TYWvcdre8EJU"
      },
      "source": [
        "La información esta alojada en GCP (Google Cloud Platform), para poder acceder a ella debe logerarse con su cuenta alonsoastroza@gmail.com, esta cuenta tiene habilitado los permisos para acceder a descargar la infromación."
      ]
    },
    {
      "cell_type": "code",
      "metadata": {
        "colab": {
          "base_uri": "https://localhost:8080/"
        },
        "id": "kprEtK6crsqy",
        "outputId": "b58ef710-3752-4356-fab9-73f0ed31bb34"
      },
      "source": [
        "!gcloud auth login"
      ],
      "execution_count": null,
      "outputs": [
        {
          "output_type": "stream",
          "text": [
            "Go to the following link in your browser:\n",
            "\n",
            "    https://accounts.google.com/o/oauth2/auth?response_type=code&client_id=32555940559.apps.googleusercontent.com&redirect_uri=urn%3Aietf%3Awg%3Aoauth%3A2.0%3Aoob&scope=openid+https%3A%2F%2Fwww.googleapis.com%2Fauth%2Fuserinfo.email+https%3A%2F%2Fwww.googleapis.com%2Fauth%2Fcloud-platform+https%3A%2F%2Fwww.googleapis.com%2Fauth%2Fappengine.admin+https%3A%2F%2Fwww.googleapis.com%2Fauth%2Fcompute+https%3A%2F%2Fwww.googleapis.com%2Fauth%2Faccounts.reauth&state=N5sG7aYPIfr3WrvplseP5pj6Gv73NU&prompt=consent&access_type=offline&code_challenge=uKUK2ueB0RfK0gmbhcWAXUfOoaaP717blwYgfn9U_SU&code_challenge_method=S256\n",
            "\n",
            "Enter verification code: 4/1AX4XfWgrcqTwmvfwXh0YKlJ_2np40pIw4ZUoEMWSz5YZlg5PMytgyatL3qU\n",
            "\n",
            "You are now logged in as [eliizabeth.fren@gmail.com].\n",
            "Your current project is [None].  You can change this setting by running:\n",
            "  $ gcloud config set project PROJECT_ID\n",
            "\n",
            "\n",
            "To take a quick anonymous survey, run:\n",
            "  $ gcloud survey\n",
            "\n"
          ],
          "name": "stdout"
        }
      ]
    },
    {
      "cell_type": "markdown",
      "metadata": {
        "id": "-FtQqf-286sQ"
      },
      "source": [
        "### <h3>Descargamos la información de dataset_es_train</h3>"
      ]
    },
    {
      "cell_type": "code",
      "metadata": {
        "colab": {
          "base_uri": "https://localhost:8080/"
        },
        "id": "KKjfRosep1PI",
        "outputId": "2f596a6a-f07d-47b5-d7ad-c645f38d28e7"
      },
      "source": [
        "!gsutil cp -r  gs://tareaml2/dataset_es_train.json data/"
      ],
      "execution_count": null,
      "outputs": [
        {
          "output_type": "stream",
          "text": [
            "Copying gs://tareaml2/dataset_es_train.json...\n",
            "\\ [1 files][ 73.9 MiB/ 73.9 MiB]                                                \n",
            "Operation completed over 1 objects/73.9 MiB.                                     \n"
          ],
          "name": "stdout"
        }
      ]
    },
    {
      "cell_type": "markdown",
      "metadata": {
        "id": "JgbdO9uc9KIK"
      },
      "source": [
        "###<h3>Descargamos la información de dataset_es_test</h3>"
      ]
    },
    {
      "cell_type": "code",
      "metadata": {
        "colab": {
          "base_uri": "https://localhost:8080/"
        },
        "id": "pXoHRABnmQJI",
        "outputId": "959e877b-cb2f-4757-e8bb-94e6dedbc748"
      },
      "source": [
        "!gsutil cp -r gs://tareaml2/dataset_es_test.json data/"
      ],
      "execution_count": null,
      "outputs": [
        {
          "output_type": "stream",
          "text": [
            "Copying gs://tareaml2/dataset_es_test.json...\n",
            "/ [1 files][  1.8 MiB/  1.8 MiB]                                                \n",
            "Operation completed over 1 objects/1.8 MiB.                                      \n"
          ],
          "name": "stdout"
        }
      ]
    },
    {
      "cell_type": "markdown",
      "metadata": {
        "id": "32BGjYPNOkp5"
      },
      "source": [
        "##<h2>Carga de los datos (Pregunta 2.1)</h2>"
      ]
    },
    {
      "cell_type": "code",
      "metadata": {
        "id": "73qdLr7Oanf7"
      },
      "source": [
        "import pandas as pd"
      ],
      "execution_count": null,
      "outputs": []
    },
    {
      "cell_type": "markdown",
      "metadata": {
        "id": "vJex2sOYvuHa"
      },
      "source": [
        "Conjunto de entrenamiento"
      ]
    },
    {
      "cell_type": "code",
      "metadata": {
        "colab": {
          "base_uri": "https://localhost:8080/",
          "height": 338
        },
        "id": "W9f74RH9apiE",
        "outputId": "de07d758-9b55-4948-db24-0c9857a3b15c"
      },
      "source": [
        "df_train = pd.read_json('data/dataset_es_train.json', lines=True)\n",
        "df_train.head()"
      ],
      "execution_count": null,
      "outputs": [
        {
          "output_type": "execute_result",
          "data": {
            "text/html": [
              "<div>\n",
              "<style scoped>\n",
              "    .dataframe tbody tr th:only-of-type {\n",
              "        vertical-align: middle;\n",
              "    }\n",
              "\n",
              "    .dataframe tbody tr th {\n",
              "        vertical-align: top;\n",
              "    }\n",
              "\n",
              "    .dataframe thead th {\n",
              "        text-align: right;\n",
              "    }\n",
              "</style>\n",
              "<table border=\"1\" class=\"dataframe\">\n",
              "  <thead>\n",
              "    <tr style=\"text-align: right;\">\n",
              "      <th></th>\n",
              "      <th>review_id</th>\n",
              "      <th>product_id</th>\n",
              "      <th>reviewer_id</th>\n",
              "      <th>stars</th>\n",
              "      <th>review_body</th>\n",
              "      <th>review_title</th>\n",
              "      <th>language</th>\n",
              "      <th>product_category</th>\n",
              "    </tr>\n",
              "  </thead>\n",
              "  <tbody>\n",
              "    <tr>\n",
              "      <th>0</th>\n",
              "      <td>es_0491108</td>\n",
              "      <td>product_es_0296024</td>\n",
              "      <td>reviewer_es_0999081</td>\n",
              "      <td>1</td>\n",
              "      <td>Nada bueno se me fue ka pantalla en menos de 8 meses y no he recibido respuesta del fabricante</td>\n",
              "      <td>television Nevir</td>\n",
              "      <td>es</td>\n",
              "      <td>electronics</td>\n",
              "    </tr>\n",
              "    <tr>\n",
              "      <th>1</th>\n",
              "      <td>es_0869872</td>\n",
              "      <td>product_es_0922286</td>\n",
              "      <td>reviewer_es_0216771</td>\n",
              "      <td>1</td>\n",
              "      <td>Horrible, nos tuvimos que comprar otro porque ni nosotros que sabemos inglés, ni un informático, después de una hora fue capaz de instalarlo</td>\n",
              "      <td>Dinero tirado a la basura con esta compra</td>\n",
              "      <td>es</td>\n",
              "      <td>electronics</td>\n",
              "    </tr>\n",
              "    <tr>\n",
              "      <th>2</th>\n",
              "      <td>es_0811721</td>\n",
              "      <td>product_es_0474543</td>\n",
              "      <td>reviewer_es_0929213</td>\n",
              "      <td>1</td>\n",
              "      <td>Te obligan a comprar dos unidades y te llega solo una y no hay forma de reclamar, una autentica estafa, no compreis!!</td>\n",
              "      <td>solo llega una unidad cuando te obligan a comprar dos</td>\n",
              "      <td>es</td>\n",
              "      <td>drugstore</td>\n",
              "    </tr>\n",
              "    <tr>\n",
              "      <th>3</th>\n",
              "      <td>es_0359921</td>\n",
              "      <td>product_es_0656090</td>\n",
              "      <td>reviewer_es_0224702</td>\n",
              "      <td>1</td>\n",
              "      <td>No entro en descalificar al vendedor, solo puedo decir que tras dos meses de espera.... sigo sin el producto y tuve que contactar con Amazon para reclamar su reembolso. Amazon un 10 . Se hace cargo del problema, pero yo e desembolsado mi dinero y en dos meses me lo devuelven Perdida de tiempo TOTAL. Sin palabras. Y Ustedes deciden</td>\n",
              "      <td>PRODUCTO NO RECIBIDO.</td>\n",
              "      <td>es</td>\n",
              "      <td>wireless</td>\n",
              "    </tr>\n",
              "    <tr>\n",
              "      <th>4</th>\n",
              "      <td>es_0068940</td>\n",
              "      <td>product_es_0662544</td>\n",
              "      <td>reviewer_es_0224827</td>\n",
              "      <td>1</td>\n",
              "      <td>Llega tarde y co la talla equivocada</td>\n",
              "      <td>Devuelto</td>\n",
              "      <td>es</td>\n",
              "      <td>shoes</td>\n",
              "    </tr>\n",
              "  </tbody>\n",
              "</table>\n",
              "</div>"
            ],
            "text/plain": [
              "    review_id          product_id  ... language  product_category\n",
              "0  es_0491108  product_es_0296024  ...       es       electronics\n",
              "1  es_0869872  product_es_0922286  ...       es       electronics\n",
              "2  es_0811721  product_es_0474543  ...       es         drugstore\n",
              "3  es_0359921  product_es_0656090  ...       es          wireless\n",
              "4  es_0068940  product_es_0662544  ...       es             shoes\n",
              "\n",
              "[5 rows x 8 columns]"
            ]
          },
          "metadata": {
            "tags": []
          },
          "execution_count": 9
        }
      ]
    },
    {
      "cell_type": "markdown",
      "metadata": {
        "id": "Y0AZdv_7vxY7"
      },
      "source": [
        "Conjunto de validación"
      ]
    },
    {
      "cell_type": "code",
      "metadata": {
        "colab": {
          "base_uri": "https://localhost:8080/",
          "height": 405
        },
        "id": "Jyq6l9PKv7ku",
        "outputId": "0efcbc17-1f13-409e-bd5f-89fe38be1f82"
      },
      "source": [
        "df_test = pd.read_json('data/dataset_es_test.json', lines=True)\n",
        "df_test.head()"
      ],
      "execution_count": null,
      "outputs": [
        {
          "output_type": "execute_result",
          "data": {
            "text/html": [
              "<div>\n",
              "<style scoped>\n",
              "    .dataframe tbody tr th:only-of-type {\n",
              "        vertical-align: middle;\n",
              "    }\n",
              "\n",
              "    .dataframe tbody tr th {\n",
              "        vertical-align: top;\n",
              "    }\n",
              "\n",
              "    .dataframe thead th {\n",
              "        text-align: right;\n",
              "    }\n",
              "</style>\n",
              "<table border=\"1\" class=\"dataframe\">\n",
              "  <thead>\n",
              "    <tr style=\"text-align: right;\">\n",
              "      <th></th>\n",
              "      <th>review_id</th>\n",
              "      <th>product_id</th>\n",
              "      <th>reviewer_id</th>\n",
              "      <th>stars</th>\n",
              "      <th>review_body</th>\n",
              "      <th>review_title</th>\n",
              "      <th>language</th>\n",
              "      <th>product_category</th>\n",
              "    </tr>\n",
              "  </thead>\n",
              "  <tbody>\n",
              "    <tr>\n",
              "      <th>0</th>\n",
              "      <td>es_0038754</td>\n",
              "      <td>product_es_0113523</td>\n",
              "      <td>reviewer_es_0580071</td>\n",
              "      <td>1</td>\n",
              "      <td>no me llego el articulo me lo mando por correos normal sin seguimiento y nunca me llego tota un desastre</td>\n",
              "      <td>no me llego</td>\n",
              "      <td>es</td>\n",
              "      <td>wireless</td>\n",
              "    </tr>\n",
              "    <tr>\n",
              "      <th>1</th>\n",
              "      <td>es_0748979</td>\n",
              "      <td>product_es_0017036</td>\n",
              "      <td>reviewer_es_0819733</td>\n",
              "      <td>1</td>\n",
              "      <td>la mensajería horrible, no compro mas</td>\n",
              "      <td>amazon sigue sin cumplir en las entregas</td>\n",
              "      <td>es</td>\n",
              "      <td>home</td>\n",
              "    </tr>\n",
              "    <tr>\n",
              "      <th>2</th>\n",
              "      <td>es_0411746</td>\n",
              "      <td>product_es_0138642</td>\n",
              "      <td>reviewer_es_0508607</td>\n",
              "      <td>1</td>\n",
              "      <td>Estoy muy decepcionado con el vendedor ya que el pedido no me llegó a tiempo y no cumplió los plazos de envío y era una cosa que necesitaba urgente. Para colmo me pongo en contacto con el vendedor y no da señales. No recomiendo nada</td>\n",
              "      <td>ESTAFA EN EL ENVÍO</td>\n",
              "      <td>es</td>\n",
              "      <td>toy</td>\n",
              "    </tr>\n",
              "    <tr>\n",
              "      <th>3</th>\n",
              "      <td>es_0786686</td>\n",
              "      <td>product_es_0170887</td>\n",
              "      <td>reviewer_es_0491157</td>\n",
              "      <td>1</td>\n",
              "      <td>Mi valoración no es sobre el producto sino sobre AMAZON. Ofrecéis el producto a 299€ y tras varios días me devolvéis el dinero porque os habéis equivocado en el anuncio, según vosotros, ahora es 399€. Es la primera vez que me ocurre esto. Cuando he comprado en cualquier sitio y el precio marcado no se correspondía con el valor de caja siempre me lo han vendido con el precio marcado. Es inverosímil lo ocurrido, pero la ultima palabra me la dará la oficina del consumidor</td>\n",
              "      <td>Estafa de Amazon</td>\n",
              "      <td>es</td>\n",
              "      <td>home</td>\n",
              "    </tr>\n",
              "    <tr>\n",
              "      <th>4</th>\n",
              "      <td>es_0429700</td>\n",
              "      <td>product_es_0710642</td>\n",
              "      <td>reviewer_es_0008745</td>\n",
              "      <td>1</td>\n",
              "      <td>Pues tenía interés en este libro y probé la versión kindle. se abre la portada pero nada más. parece una mala broma pero me iba a gastar el dedo de tanto tratar que pasara de página de alguna forma. No puedo valorar nada de nada.</td>\n",
              "      <td>No conseguí pasar de la portada en Kindle</td>\n",
              "      <td>es</td>\n",
              "      <td>digital_ebook_purchase</td>\n",
              "    </tr>\n",
              "  </tbody>\n",
              "</table>\n",
              "</div>"
            ],
            "text/plain": [
              "    review_id          product_id  ... language        product_category\n",
              "0  es_0038754  product_es_0113523  ...       es                wireless\n",
              "1  es_0748979  product_es_0017036  ...       es                    home\n",
              "2  es_0411746  product_es_0138642  ...       es                     toy\n",
              "3  es_0786686  product_es_0170887  ...       es                    home\n",
              "4  es_0429700  product_es_0710642  ...       es  digital_ebook_purchase\n",
              "\n",
              "[5 rows x 8 columns]"
            ]
          },
          "metadata": {
            "tags": []
          },
          "execution_count": 10
        }
      ]
    },
    {
      "cell_type": "markdown",
      "metadata": {
        "id": "eeCvlQ_jbRFa"
      },
      "source": [
        "###<h3>Número de stars y largo de reseñas</h3>"
      ]
    },
    {
      "cell_type": "markdown",
      "metadata": {
        "id": "lhRZ42yvv9uq"
      },
      "source": [
        "Conjunto de entrenamiento"
      ]
    },
    {
      "cell_type": "code",
      "metadata": {
        "colab": {
          "base_uri": "https://localhost:8080/"
        },
        "id": "iYpQfBLSbcfr",
        "outputId": "9f13f28a-fee3-4c0a-9d66-4dbb5604165e"
      },
      "source": [
        "df_train['stars'].value_counts()"
      ],
      "execution_count": null,
      "outputs": [
        {
          "output_type": "execute_result",
          "data": {
            "text/plain": [
              "5    40000\n",
              "4    40000\n",
              "3    40000\n",
              "2    40000\n",
              "1    40000\n",
              "Name: stars, dtype: int64"
            ]
          },
          "metadata": {
            "tags": []
          },
          "execution_count": 11
        }
      ]
    },
    {
      "cell_type": "code",
      "metadata": {
        "id": "WlcUN26VcFgG"
      },
      "source": [
        "reviews_train = df_train[['stars', 'review_body']].apply(lambda x: [x['stars'], len(x['review_body'])], axis=1).tolist()\n",
        "df_reviews_train = pd.DataFrame(reviews_train, columns=['stars','len_reviews'])"
      ],
      "execution_count": null,
      "outputs": []
    },
    {
      "cell_type": "code",
      "metadata": {
        "colab": {
          "base_uri": "https://localhost:8080/",
          "height": 234
        },
        "id": "osU86USekqcD",
        "outputId": "43248047-3e80-4e00-f7e0-0a1c8c8b3b73"
      },
      "source": [
        "df_reviews_train.groupby('stars').sum()"
      ],
      "execution_count": null,
      "outputs": [
        {
          "output_type": "execute_result",
          "data": {
            "text/html": [
              "<div>\n",
              "<style scoped>\n",
              "    .dataframe tbody tr th:only-of-type {\n",
              "        vertical-align: middle;\n",
              "    }\n",
              "\n",
              "    .dataframe tbody tr th {\n",
              "        vertical-align: top;\n",
              "    }\n",
              "\n",
              "    .dataframe thead th {\n",
              "        text-align: right;\n",
              "    }\n",
              "</style>\n",
              "<table border=\"1\" class=\"dataframe\">\n",
              "  <thead>\n",
              "    <tr style=\"text-align: right;\">\n",
              "      <th></th>\n",
              "      <th>len_reviews</th>\n",
              "    </tr>\n",
              "    <tr>\n",
              "      <th>stars</th>\n",
              "      <th></th>\n",
              "    </tr>\n",
              "  </thead>\n",
              "  <tbody>\n",
              "    <tr>\n",
              "      <th>1</th>\n",
              "      <td>6115339</td>\n",
              "    </tr>\n",
              "    <tr>\n",
              "      <th>2</th>\n",
              "      <td>6737550</td>\n",
              "    </tr>\n",
              "    <tr>\n",
              "      <th>3</th>\n",
              "      <td>6215212</td>\n",
              "    </tr>\n",
              "    <tr>\n",
              "      <th>4</th>\n",
              "      <td>5694288</td>\n",
              "    </tr>\n",
              "    <tr>\n",
              "      <th>5</th>\n",
              "      <td>5498193</td>\n",
              "    </tr>\n",
              "  </tbody>\n",
              "</table>\n",
              "</div>"
            ],
            "text/plain": [
              "       len_reviews\n",
              "stars             \n",
              "1          6115339\n",
              "2          6737550\n",
              "3          6215212\n",
              "4          5694288\n",
              "5          5498193"
            ]
          },
          "metadata": {
            "tags": []
          },
          "execution_count": 13
        }
      ]
    },
    {
      "cell_type": "markdown",
      "metadata": {
        "id": "ZeuwVv0twA2J"
      },
      "source": [
        "Conjunto de validación"
      ]
    },
    {
      "cell_type": "code",
      "metadata": {
        "colab": {
          "base_uri": "https://localhost:8080/"
        },
        "id": "_0E2d-28wDDM",
        "outputId": "548a6205-0211-4500-8f22-150cab5c60a6"
      },
      "source": [
        "df_test['stars'].value_counts()"
      ],
      "execution_count": null,
      "outputs": [
        {
          "output_type": "execute_result",
          "data": {
            "text/plain": [
              "3    1000\n",
              "2    1000\n",
              "5    1000\n",
              "1    1000\n",
              "4    1000\n",
              "Name: stars, dtype: int64"
            ]
          },
          "metadata": {
            "tags": []
          },
          "execution_count": 14
        }
      ]
    },
    {
      "cell_type": "code",
      "metadata": {
        "id": "SLNSmBAEwG8D"
      },
      "source": [
        "reviews_test = df_test[['stars', 'review_body']].apply(lambda x: [x['stars'], len(x['review_body'])], axis=1).tolist()\n",
        "df_reviews_test = pd.DataFrame(reviews_test, columns=['stars','len_reviews'])"
      ],
      "execution_count": null,
      "outputs": []
    },
    {
      "cell_type": "code",
      "metadata": {
        "colab": {
          "base_uri": "https://localhost:8080/",
          "height": 234
        },
        "id": "JCtHSGdOwOh-",
        "outputId": "fede0ef2-e443-468e-bb32-eb124e789666"
      },
      "source": [
        "df_reviews_test.groupby('stars').sum()"
      ],
      "execution_count": null,
      "outputs": [
        {
          "output_type": "execute_result",
          "data": {
            "text/html": [
              "<div>\n",
              "<style scoped>\n",
              "    .dataframe tbody tr th:only-of-type {\n",
              "        vertical-align: middle;\n",
              "    }\n",
              "\n",
              "    .dataframe tbody tr th {\n",
              "        vertical-align: top;\n",
              "    }\n",
              "\n",
              "    .dataframe thead th {\n",
              "        text-align: right;\n",
              "    }\n",
              "</style>\n",
              "<table border=\"1\" class=\"dataframe\">\n",
              "  <thead>\n",
              "    <tr style=\"text-align: right;\">\n",
              "      <th></th>\n",
              "      <th>len_reviews</th>\n",
              "    </tr>\n",
              "    <tr>\n",
              "      <th>stars</th>\n",
              "      <th></th>\n",
              "    </tr>\n",
              "  </thead>\n",
              "  <tbody>\n",
              "    <tr>\n",
              "      <th>1</th>\n",
              "      <td>156122</td>\n",
              "    </tr>\n",
              "    <tr>\n",
              "      <th>2</th>\n",
              "      <td>164685</td>\n",
              "    </tr>\n",
              "    <tr>\n",
              "      <th>3</th>\n",
              "      <td>155265</td>\n",
              "    </tr>\n",
              "    <tr>\n",
              "      <th>4</th>\n",
              "      <td>143903</td>\n",
              "    </tr>\n",
              "    <tr>\n",
              "      <th>5</th>\n",
              "      <td>139596</td>\n",
              "    </tr>\n",
              "  </tbody>\n",
              "</table>\n",
              "</div>"
            ],
            "text/plain": [
              "       len_reviews\n",
              "stars             \n",
              "1           156122\n",
              "2           164685\n",
              "3           155265\n",
              "4           143903\n",
              "5           139596"
            ]
          },
          "metadata": {
            "tags": []
          },
          "execution_count": 16
        }
      ]
    },
    {
      "cell_type": "markdown",
      "metadata": {
        "id": "8NLUEy75VdPj"
      },
      "source": [
        "##<h2>Entrenamiento del modelo (Pregunta 2.2)</h2>"
      ]
    },
    {
      "cell_type": "markdown",
      "metadata": {
        "id": "FqK4OOhvFnif"
      },
      "source": [
        "###<h3>Tratamiento de los datos</h3>"
      ]
    },
    {
      "cell_type": "markdown",
      "metadata": {
        "id": "xzBudWCKWG_N"
      },
      "source": [
        "Para entrenar este modelo usaremos ULMFIT, el cual se encuentra disponible en la siguiente url:"
      ]
    },
    {
      "cell_type": "code",
      "metadata": {
        "id": "p9eYNZO6RAlN",
        "colab": {
          "base_uri": "https://localhost:8080/",
          "height": 17
        },
        "outputId": "9f11fb42-4601-45ec-d38c-9975efee3b1a"
      },
      "source": [
        "url = 'http://bit.ly/ulmfit-eswiki'\n",
        "tok = tokenizer_from_pretrained(url)"
      ],
      "execution_count": null,
      "outputs": [
        {
          "output_type": "display_data",
          "data": {
            "text/html": [
              ""
            ],
            "text/plain": [
              "<IPython.core.display.HTML object>"
            ]
          },
          "metadata": {
            "tags": []
          }
        }
      ]
    },
    {
      "cell_type": "markdown",
      "metadata": {
        "id": "RLJbqN1_ntsu"
      },
      "source": [
        "Concatenación de dataframes"
      ]
    },
    {
      "cell_type": "code",
      "metadata": {
        "id": "JkMHU7u5p_HY"
      },
      "source": [
        "df_train['indicator'] = 0\n",
        "df_test['indicator'] = 1"
      ],
      "execution_count": null,
      "outputs": []
    },
    {
      "cell_type": "code",
      "metadata": {
        "id": "UmVuslzdn4k2"
      },
      "source": [
        "df_final_p1 = pd.concat([df_test, df_train])"
      ],
      "execution_count": null,
      "outputs": []
    },
    {
      "cell_type": "code",
      "metadata": {
        "id": "eX0_o7Tup8Il",
        "colab": {
          "base_uri": "https://localhost:8080/"
        },
        "outputId": "797379d4-3af0-4ed4-88db-1b98b0a04bdb"
      },
      "source": [
        "df_final_p1.shape"
      ],
      "execution_count": null,
      "outputs": [
        {
          "output_type": "execute_result",
          "data": {
            "text/plain": [
              "(205000, 9)"
            ]
          },
          "metadata": {
            "tags": []
          },
          "execution_count": 20
        }
      ]
    },
    {
      "cell_type": "markdown",
      "metadata": {
        "id": "xV0J-9wXFHzh"
      },
      "source": [
        "Extraemos la información desde el *review_body* para aislarla en *df_lm_train*"
      ]
    },
    {
      "cell_type": "code",
      "metadata": {
        "colab": {
          "base_uri": "https://localhost:8080/",
          "height": 220
        },
        "id": "Y9PXhMywzcKx",
        "outputId": "db1888bf-ba94-444d-cabd-e19f1c564cd5"
      },
      "source": [
        "df_lm_train = df_train[['review_body']]\n",
        "df_lm_train.head()"
      ],
      "execution_count": null,
      "outputs": [
        {
          "output_type": "execute_result",
          "data": {
            "text/html": [
              "<div>\n",
              "<style scoped>\n",
              "    .dataframe tbody tr th:only-of-type {\n",
              "        vertical-align: middle;\n",
              "    }\n",
              "\n",
              "    .dataframe tbody tr th {\n",
              "        vertical-align: top;\n",
              "    }\n",
              "\n",
              "    .dataframe thead th {\n",
              "        text-align: right;\n",
              "    }\n",
              "</style>\n",
              "<table border=\"1\" class=\"dataframe\">\n",
              "  <thead>\n",
              "    <tr style=\"text-align: right;\">\n",
              "      <th></th>\n",
              "      <th>review_body</th>\n",
              "    </tr>\n",
              "  </thead>\n",
              "  <tbody>\n",
              "    <tr>\n",
              "      <th>0</th>\n",
              "      <td>Nada bueno se me fue ka pantalla en menos de 8 meses y no he recibido respuesta del fabricante</td>\n",
              "    </tr>\n",
              "    <tr>\n",
              "      <th>1</th>\n",
              "      <td>Horrible, nos tuvimos que comprar otro porque ni nosotros que sabemos inglés, ni un informático, después de una hora fue capaz de instalarlo</td>\n",
              "    </tr>\n",
              "    <tr>\n",
              "      <th>2</th>\n",
              "      <td>Te obligan a comprar dos unidades y te llega solo una y no hay forma de reclamar, una autentica estafa, no compreis!!</td>\n",
              "    </tr>\n",
              "    <tr>\n",
              "      <th>3</th>\n",
              "      <td>No entro en descalificar al vendedor, solo puedo decir que tras dos meses de espera.... sigo sin el producto y tuve que contactar con Amazon para reclamar su reembolso. Amazon un 10 . Se hace cargo del problema, pero yo e desembolsado mi dinero y en dos meses me lo devuelven Perdida de tiempo TOTAL. Sin palabras. Y Ustedes deciden</td>\n",
              "    </tr>\n",
              "    <tr>\n",
              "      <th>4</th>\n",
              "      <td>Llega tarde y co la talla equivocada</td>\n",
              "    </tr>\n",
              "  </tbody>\n",
              "</table>\n",
              "</div>"
            ],
            "text/plain": [
              "                                                                                                                                                                                                                                                                                                                                    review_body\n",
              "0                                                                                                                                                                                                                                                Nada bueno se me fue ka pantalla en menos de 8 meses y no he recibido respuesta del fabricante\n",
              "1                                                                                                                                                                                                  Horrible, nos tuvimos que comprar otro porque ni nosotros que sabemos inglés, ni un informático, después de una hora fue capaz de instalarlo\n",
              "2                                                                                                                                                                                                                         Te obligan a comprar dos unidades y te llega solo una y no hay forma de reclamar, una autentica estafa, no compreis!!\n",
              "3  No entro en descalificar al vendedor, solo puedo decir que tras dos meses de espera.... sigo sin el producto y tuve que contactar con Amazon para reclamar su reembolso. Amazon un 10 . Se hace cargo del problema, pero yo e desembolsado mi dinero y en dos meses me lo devuelven Perdida de tiempo TOTAL. Sin palabras. Y Ustedes deciden\n",
              "4                                                                                                                                                                                                                                                                                                          Llega tarde y co la talla equivocada"
            ]
          },
          "metadata": {
            "tags": []
          },
          "execution_count": 21
        }
      ]
    },
    {
      "cell_type": "markdown",
      "metadata": {
        "id": "zdJQ_RXUGK4G"
      },
      "source": [
        ""
      ]
    },
    {
      "cell_type": "code",
      "metadata": {
        "colab": {
          "base_uri": "https://localhost:8080/",
          "height": 70
        },
        "id": "zAQhOwHby6A2",
        "outputId": "2d737d3a-17a0-4b0f-fc2c-d2548b04d6e9"
      },
      "source": [
        "dblocks = DataBlock(blocks=(TextBlock.from_df('review_body', tok=tok, is_lm=True)),\n",
        "                    get_x=ColReader('text'), \n",
        "                    splitter=ColSplitter('indicator'))\n",
        "\n",
        "dls = dblocks.dataloaders(df_final_p1, bs=64, seq_len=80)"
      ],
      "execution_count": null,
      "outputs": [
        {
          "output_type": "display_data",
          "data": {
            "text/html": [
              ""
            ],
            "text/plain": [
              "<IPython.core.display.HTML object>"
            ]
          },
          "metadata": {
            "tags": []
          }
        },
        {
          "output_type": "display_data",
          "data": {
            "text/html": [
              ""
            ],
            "text/plain": [
              "<IPython.core.display.HTML object>"
            ]
          },
          "metadata": {
            "tags": []
          }
        },
        {
          "output_type": "stream",
          "text": [
            "/usr/local/lib/python3.7/dist-packages/numpy/core/_asarray.py:83: VisibleDeprecationWarning: Creating an ndarray from ragged nested sequences (which is a list-or-tuple of lists-or-tuples-or ndarrays with different lengths or shapes) is deprecated. If you meant to do this, you must specify 'dtype=object' when creating the ndarray\n",
            "  return array(a, dtype, copy=False, order=order)\n"
          ],
          "name": "stderr"
        }
      ]
    },
    {
      "cell_type": "code",
      "metadata": {
        "id": "1uCcb7nArmeN"
      },
      "source": [
        "learn_p1 = language_model_from_pretrained(dls, url=url, drop_mult=1, metrics=[accuracy, Perplexity()]).to_fp16()"
      ],
      "execution_count": null,
      "outputs": []
    },
    {
      "cell_type": "code",
      "metadata": {
        "colab": {
          "base_uri": "https://localhost:8080/",
          "height": 300
        },
        "id": "9TZDD1MM1qcf",
        "outputId": "d514012c-fcc7-458b-94d4-59bbf4260dcb"
      },
      "source": [
        "learn_p1.lr_find()"
      ],
      "execution_count": null,
      "outputs": [
        {
          "output_type": "display_data",
          "data": {
            "text/html": [
              ""
            ],
            "text/plain": [
              "<IPython.core.display.HTML object>"
            ]
          },
          "metadata": {
            "tags": []
          }
        },
        {
          "output_type": "execute_result",
          "data": {
            "text/plain": [
              "SuggestedLRs(valley=tensor(0.0021))"
            ]
          },
          "metadata": {
            "tags": []
          },
          "execution_count": 24
        },
        {
          "output_type": "display_data",
          "data": {
            "image/png": "[encoded data removed]",
            "text/plain": [
              "<Figure size 432x288 with 1 Axes>"
            ]
          },
          "metadata": {
            "tags": [],
            "needs_background": "light"
          }
        }
      ]
    },
    {
      "cell_type": "code",
      "metadata": {
        "id": "ICL8AqV2tJv-"
      },
      "source": [
        "lr_p1 = 8e-3"
      ],
      "execution_count": null,
      "outputs": []
    },
    {
      "cell_type": "code",
      "metadata": {
        "colab": {
          "base_uri": "https://localhost:8080/",
          "height": 80
        },
        "id": "xoLqTL1Ako70",
        "outputId": "f197dd8c-bc41-474d-ac90-08423f573c23"
      },
      "source": [
        "learn_p1.fit_one_cycle(1, lr_p1 , moms=(0.8,0.7,0.8))"
      ],
      "execution_count": null,
      "outputs": [
        {
          "output_type": "display_data",
          "data": {
            "text/html": [
              "<table border=\"1\" class=\"dataframe\">\n",
              "  <thead>\n",
              "    <tr style=\"text-align: left;\">\n",
              "      <th>epoch</th>\n",
              "      <th>train_loss</th>\n",
              "      <th>valid_loss</th>\n",
              "      <th>accuracy</th>\n",
              "      <th>perplexity</th>\n",
              "      <th>time</th>\n",
              "    </tr>\n",
              "  </thead>\n",
              "  <tbody>\n",
              "    <tr>\n",
              "      <td>0</td>\n",
              "      <td>4.139252</td>\n",
              "      <td>3.918314</td>\n",
              "      <td>0.260259</td>\n",
              "      <td>50.315540</td>\n",
              "      <td>06:26</td>\n",
              "    </tr>\n",
              "  </tbody>\n",
              "</table>"
            ],
            "text/plain": [
              "<IPython.core.display.HTML object>"
            ]
          },
          "metadata": {
            "tags": []
          }
        }
      ]
    },
    {
      "cell_type": "code",
      "metadata": {
        "colab": {
          "base_uri": "https://localhost:8080/",
          "height": 203
        },
        "id": "N778Up9s37fk",
        "outputId": "daeb22c9-20a4-493a-db6e-d7fbc3216e51"
      },
      "source": [
        "learn_p1.unfreeze()\n",
        "learn_p1.fit_one_cycle(5, slice(lr_p1/100,lr_p1), moms=(0.8,0.7,0.8))"
      ],
      "execution_count": null,
      "outputs": [
        {
          "output_type": "display_data",
          "data": {
            "text/html": [
              "<table border=\"1\" class=\"dataframe\">\n",
              "  <thead>\n",
              "    <tr style=\"text-align: left;\">\n",
              "      <th>epoch</th>\n",
              "      <th>train_loss</th>\n",
              "      <th>valid_loss</th>\n",
              "      <th>accuracy</th>\n",
              "      <th>perplexity</th>\n",
              "      <th>time</th>\n",
              "    </tr>\n",
              "  </thead>\n",
              "  <tbody>\n",
              "    <tr>\n",
              "      <td>0</td>\n",
              "      <td>3.917222</td>\n",
              "      <td>3.756862</td>\n",
              "      <td>0.277747</td>\n",
              "      <td>42.813873</td>\n",
              "      <td>07:03</td>\n",
              "    </tr>\n",
              "    <tr>\n",
              "      <td>1</td>\n",
              "      <td>3.795038</td>\n",
              "      <td>3.639951</td>\n",
              "      <td>0.289877</td>\n",
              "      <td>38.089951</td>\n",
              "      <td>07:02</td>\n",
              "    </tr>\n",
              "    <tr>\n",
              "      <td>2</td>\n",
              "      <td>3.694077</td>\n",
              "      <td>3.568990</td>\n",
              "      <td>0.297234</td>\n",
              "      <td>35.480740</td>\n",
              "      <td>07:02</td>\n",
              "    </tr>\n",
              "    <tr>\n",
              "      <td>3</td>\n",
              "      <td>3.604466</td>\n",
              "      <td>3.522070</td>\n",
              "      <td>0.302961</td>\n",
              "      <td>33.854439</td>\n",
              "      <td>07:02</td>\n",
              "    </tr>\n",
              "    <tr>\n",
              "      <td>4</td>\n",
              "      <td>3.558575</td>\n",
              "      <td>3.511916</td>\n",
              "      <td>0.304442</td>\n",
              "      <td>33.512413</td>\n",
              "      <td>07:05</td>\n",
              "    </tr>\n",
              "  </tbody>\n",
              "</table>"
            ],
            "text/plain": [
              "<IPython.core.display.HTML object>"
            ]
          },
          "metadata": {
            "tags": []
          }
        }
      ]
    },
    {
      "cell_type": "code",
      "metadata": {
        "colab": {
          "base_uri": "https://localhost:8080/"
        },
        "id": "f9oOhik7Wd_m",
        "outputId": "2a84934d-d304-4d4f-a291-047f51c93bc4"
      },
      "source": [
        "learn_p1.save('learner_preg_1')"
      ],
      "execution_count": null,
      "outputs": [
        {
          "output_type": "execute_result",
          "data": {
            "text/plain": [
              "Path('models/learner_preg_1.pth')"
            ]
          },
          "metadata": {
            "tags": []
          },
          "execution_count": 28
        }
      ]
    },
    {
      "cell_type": "code",
      "metadata": {
        "id": "CDpVCSMDFfAt"
      },
      "source": [
        "learn_p1.save_encoder('finetuned_language_model_encoder')"
      ],
      "execution_count": null,
      "outputs": []
    },
    {
      "cell_type": "markdown",
      "metadata": {
        "id": "0y53prBYlqVw"
      },
      "source": [
        "###<h3>Descarga del modelo</h3>"
      ]
    },
    {
      "cell_type": "markdown",
      "metadata": {
        "id": "gMUFxMfQlvLk"
      },
      "source": [
        "En caso de querer contar con el modelo preparado para su uso, se puede descargar desde GCP siguiendo los pasos anteriores con su correo."
      ]
    },
    {
      "cell_type": "code",
      "metadata": {
        "id": "HR-Mk1uuISW1"
      },
      "source": [
        "path = Path('models')\n",
        "dest = path\n",
        "dest.mkdir(parents=True, exist_ok=True)"
      ],
      "execution_count": null,
      "outputs": []
    },
    {
      "cell_type": "code",
      "metadata": {
        "colab": {
          "base_uri": "https://localhost:8080/"
        },
        "id": "K6BAxXtTmMzK",
        "outputId": "970dfedc-1bb7-46d4-8cee-852160cf680c"
      },
      "source": [
        "!gsutil cp -r  gs://tareaml2/learner_p1.pth models/"
      ],
      "execution_count": null,
      "outputs": [
        {
          "output_type": "stream",
          "text": [
            "Copying gs://tareaml2/learner_p1.pth...\n",
            "\\ [1 files][301.1 MiB/301.1 MiB]                                                \n",
            "Operation completed over 1 objects/301.1 MiB.                                    \n"
          ],
          "name": "stdout"
        }
      ]
    },
    {
      "cell_type": "code",
      "metadata": {
        "id": "J3UVMPedC07D"
      },
      "source": [
        "learn_p1 = learn_p1.load('learner_p1')"
      ],
      "execution_count": null,
      "outputs": []
    },
    {
      "cell_type": "markdown",
      "metadata": {
        "id": "n_j07EWjkfNJ"
      },
      "source": [
        "##<h2>Resultados de la clasificación (Pregunta 2.3)</h2>"
      ]
    },
    {
      "cell_type": "markdown",
      "metadata": {
        "id": "_LGpt-DmQyBh"
      },
      "source": [
        "Generaremos tres reseñas en base al texto **\"El producto llego en mal estado y como era de esperar\"** con los valores de temperature: 0.5, 0.75, 1.75, 10. A partir de esto, analizaremos la diferencia en los textos generados con cada uno de los casos."
      ]
    },
    {
      "cell_type": "code",
      "metadata": {
        "colab": {
          "base_uri": "https://localhost:8080/",
          "height": 17
        },
        "id": "P7gbUfUZLFBW",
        "outputId": "1e34cea8-8370-4fa5-e63b-df63f9848548"
      },
      "source": [
        "TEXT = \"El producto llego en mal estado y como era de esperar\"\n",
        "N_WORDS = 80\n",
        "N_SENTENCES = 3\n",
        "preds = [learn_p1.predict(TEXT, N_WORDS, temperature=0.5) \n",
        "         for _ in range(N_SENTENCES)]"
      ],
      "execution_count": null,
      "outputs": [
        {
          "output_type": "display_data",
          "data": {
            "text/html": [
              ""
            ],
            "text/plain": [
              "<IPython.core.display.HTML object>"
            ]
          },
          "metadata": {
            "tags": []
          }
        },
        {
          "output_type": "display_data",
          "data": {
            "text/html": [
              ""
            ],
            "text/plain": [
              "<IPython.core.display.HTML object>"
            ]
          },
          "metadata": {
            "tags": []
          }
        },
        {
          "output_type": "display_data",
          "data": {
            "text/html": [
              ""
            ],
            "text/plain": [
              "<IPython.core.display.HTML object>"
            ]
          },
          "metadata": {
            "tags": []
          }
        }
      ]
    },
    {
      "cell_type": "code",
      "metadata": {
        "colab": {
          "base_uri": "https://localhost:8080/"
        },
        "id": "S_1iCPLyLH7i",
        "outputId": "bcef178d-e923-4a1b-dbf6-9e51efdc75a2"
      },
      "source": [
        "print(\"\\n\".join(preds))"
      ],
      "execution_count": null,
      "outputs": [
        {
          "output_type": "stream",
          "text": [
            "▁xxbos ▁xxmaj ▁el ▁producto ▁llego ▁en ▁mal ▁estado ▁y ▁como ▁era ▁de ▁esperar , ▁no ▁se ▁puede ▁pedir ▁más . ▁xxmaj ▁la ▁calidad ▁de ▁imagen ▁es ▁pésima . ▁xxmaj ▁la ▁calidad ▁del ▁sonido ▁no ▁es ▁mala . ▁xxbos ▁xxmaj ▁muy ▁buena ▁calidad , ▁pero ▁al ▁poco ▁tiempo ▁se ▁ha ▁roto ▁la ▁cremallera . ▁xxbos ▁xxmaj ▁el ▁producto ▁no ▁viene ▁con ▁la ▁tapa ▁ni ▁se ▁enciende , ▁la ▁batería ▁no ▁dura ▁el ▁día , ▁no ▁tiene ▁nada ▁que ▁ver ▁con ▁la ▁foto ▁y ▁la ▁calidad ▁de ▁imagen ▁es ▁pésima , ▁la ▁batería ▁dura ▁bastante\n",
            "▁xxbos ▁xxmaj ▁el ▁producto ▁llego ▁en ▁mal ▁estado ▁y ▁como ▁era ▁de ▁esperar , ▁me ▁ha ▁llegado ▁roto ▁y ▁el ▁vendedor ▁no ▁lo ▁hace ▁responsable . ▁xxbos ▁xxmaj ▁el ▁producto ▁está ▁bien , ▁pero ▁se ▁puede ▁ver ▁en ▁la ▁imagen . ▁xxmaj ▁no ▁es ▁el ▁mismo ▁modelo ▁que ▁en ▁la ▁foto , ▁aunque ▁no ▁es ▁exactamente ▁el ▁mismo . ▁xxmaj ▁es ▁bastante ▁pequeño , ▁lo ▁que ▁no ▁me ▁gusta ▁es ▁que ▁no ▁cubre ▁toda ▁la ▁pantalla . ▁xxmaj ▁por ▁lo ▁demas ▁bien . ▁xxbos ▁xxmaj ▁se ▁lo ▁regalé ▁a ▁mi ▁hija ▁de ▁4\n",
            "▁xxbos ▁xxmaj ▁el ▁producto ▁llego ▁en ▁mal ▁estado ▁y ▁como ▁era ▁de ▁esperar , ▁me ▁devolvieron ▁el ▁dinero . ▁xxmaj ▁el ▁producto ▁es ▁como ▁el ▁que ▁pedí . ▁xxmaj ▁no ▁hay ▁manera ▁de ▁contactar ▁con ▁el ▁vendedor ▁y ▁me ▁lo ▁han ▁cobrado . ▁xxmaj ▁no ▁lo ▁recomiendo . ▁xxbos ▁xxmaj ▁el ▁producto ▁es ▁tal ▁y ▁como ▁se ▁describe . ▁xxmaj ▁la ▁única ▁pega ▁es ▁que ▁la ▁parte ▁superior ▁es ▁de ▁plástico , ▁pero ▁el ▁material ▁en ▁sí ▁es ▁muy ▁bueno . ▁xxbos ▁xxmaj ▁no ▁me ▁ha ▁gustado ▁nada , ▁no ▁es ▁tan ▁realista\n"
          ],
          "name": "stdout"
        }
      ]
    },
    {
      "cell_type": "code",
      "metadata": {
        "colab": {
          "base_uri": "https://localhost:8080/",
          "height": 17
        },
        "id": "QUZCq-H_1kRe",
        "outputId": "6547c37f-2f82-44e2-b8e4-219c2afcead2"
      },
      "source": [
        "TEXT = \"El producto llego en mal estado y como era de esperar\"\n",
        "N_WORDS = 80\n",
        "N_SENTENCES = 3\n",
        "preds = [learn_p1.predict(TEXT, N_WORDS, temperature=0.75) \n",
        "         for _ in range(N_SENTENCES)]"
      ],
      "execution_count": null,
      "outputs": [
        {
          "output_type": "display_data",
          "data": {
            "text/html": [
              ""
            ],
            "text/plain": [
              "<IPython.core.display.HTML object>"
            ]
          },
          "metadata": {
            "tags": []
          }
        },
        {
          "output_type": "display_data",
          "data": {
            "text/html": [
              ""
            ],
            "text/plain": [
              "<IPython.core.display.HTML object>"
            ]
          },
          "metadata": {
            "tags": []
          }
        },
        {
          "output_type": "display_data",
          "data": {
            "text/html": [
              ""
            ],
            "text/plain": [
              "<IPython.core.display.HTML object>"
            ]
          },
          "metadata": {
            "tags": []
          }
        }
      ]
    },
    {
      "cell_type": "code",
      "metadata": {
        "colab": {
          "base_uri": "https://localhost:8080/"
        },
        "id": "_F4PRnCE1x7e",
        "outputId": "52e10064-b0cb-4061-be6c-318411805db2"
      },
      "source": [
        "print(\"\\n\".join(preds))"
      ],
      "execution_count": null,
      "outputs": [
        {
          "output_type": "stream",
          "text": [
            "▁xxbos ▁xxmaj ▁el ▁producto ▁llego ▁en ▁mal ▁estado ▁y ▁como ▁era ▁de ▁esperar . ▁xxmaj ▁lo ▁he ▁devuelto ▁y ▁me ▁devolvieron ▁el ▁dinero ▁xxbos ▁xxmaj ▁no ▁me ▁gusta ▁el ▁producto . ▁xxmaj ▁el ▁reparto ▁no ▁del ▁producto ▁es ▁muy ▁malo . ▁xxmaj ▁el ▁vendedor ▁no ▁responde . ▁xxmaj ▁es ▁lo ▁que ▁me ▁han ▁enviado . ▁xxmaj ▁espero ▁que ▁me ▁devuelvan ▁el ▁dinero . ▁xxmaj ▁no ▁recomiendo ▁estas ▁compras . ▁xxbos ▁xxmaj ▁me ▁ha ▁gustado ▁que ▁esta ▁muy ▁bien ▁acabada ▁pero ▁el ▁tacto ▁es ▁pésimo ▁ , ▁no ▁sé ▁que ▁tal ▁la ▁original ,\n",
            "▁xxbos ▁xxmaj ▁el ▁producto ▁llego ▁en ▁mal ▁estado ▁y ▁como ▁era ▁de ▁esperar ▁la ▁calidad ▁de ▁la ▁imagen ▁es ▁algo ▁baja , ▁pero ▁por ▁el ▁precio ▁que ▁tiene ▁va ▁bien ▁xxbos ▁xxmaj ▁el ▁producto ▁llego ▁muy ▁bien ▁embalado ▁y ▁bien ▁protegido . ▁xxmaj ▁no ▁hay ▁nadie ▁que ▁lo ▁pueda ▁poner , ▁viene ▁con ▁todo ▁lo ▁necesario ▁para ▁paños ▁de ▁limpieza ▁de ▁la ▁pantalla ▁y ▁con ▁toallitas ▁suficientes ▁para ▁limpieza ▁y ▁limpieza . ▁xxmaj ▁muy ▁recomendable . ▁xxbos ▁xxmaj ▁son ▁de ▁silicona ▁pero ▁las ▁flores ▁no ▁son ▁de ▁muy ▁buena ▁calidad . ▁xxmaj ▁en\n",
            "▁xxbos ▁xxmaj ▁el ▁producto ▁llego ▁en ▁mal ▁estado ▁y ▁como ▁era ▁de ▁esperar ▁y ▁me ▁ha ▁llegado ▁con ▁las ▁alas ▁dobladas . ▁xxmaj ▁afortunadamente ▁el ▁vendedor ▁me ▁dijo ▁que ▁lo ▁recibiría ▁en ▁casa ▁y ▁cuando ▁lo ▁recibí ▁el ▁resultado ▁fue ▁excelente . ▁xxmaj ▁por ▁el ▁precio ▁que ▁tiene ▁no ▁se ▁puede ▁pedir ▁más . ▁xxbos ▁xxmaj ▁son ▁buenas ▁y ▁bonitas . ▁xxmaj ▁pero ▁me ▁gusto ▁mucho ▁y ▁se ▁ajustan ▁bien ▁al ▁cuerpo ▁y ▁pesan ▁poco . ▁xxmaj ▁muy ▁comodas , ▁como ▁las ▁de ▁la ▁foto ▁y ▁colores ▁muy ▁vivos . ▁xxmaj ▁la ▁recomiendo\n"
          ],
          "name": "stdout"
        }
      ]
    },
    {
      "cell_type": "code",
      "metadata": {
        "colab": {
          "base_uri": "https://localhost:8080/",
          "height": 17
        },
        "id": "zU5WUJuIoywL",
        "outputId": "554f7cbc-214c-4716-ab89-6a22b9d68be2"
      },
      "source": [
        "TEXT = \"El producto llego en mal estado y como era de esperar\"\n",
        "N_WORDS = 80\n",
        "N_SENTENCES = 3\n",
        "preds = [learn_p1.predict(TEXT, N_WORDS, temperature=1.75) \n",
        "         for _ in range(N_SENTENCES)]"
      ],
      "execution_count": null,
      "outputs": [
        {
          "output_type": "display_data",
          "data": {
            "text/html": [
              ""
            ],
            "text/plain": [
              "<IPython.core.display.HTML object>"
            ]
          },
          "metadata": {
            "tags": []
          }
        },
        {
          "output_type": "display_data",
          "data": {
            "text/html": [
              ""
            ],
            "text/plain": [
              "<IPython.core.display.HTML object>"
            ]
          },
          "metadata": {
            "tags": []
          }
        },
        {
          "output_type": "display_data",
          "data": {
            "text/html": [
              ""
            ],
            "text/plain": [
              "<IPython.core.display.HTML object>"
            ]
          },
          "metadata": {
            "tags": []
          }
        }
      ]
    },
    {
      "cell_type": "code",
      "metadata": {
        "colab": {
          "base_uri": "https://localhost:8080/"
        },
        "id": "fQoJhWE1o2UF",
        "outputId": "e0fbcccf-69c4-429c-c161-10bf4791f78a"
      },
      "source": [
        "print(\"\\n\".join(preds))"
      ],
      "execution_count": null,
      "outputs": [
        {
          "output_type": "stream",
          "text": [
            "▁xxbos ▁xxmaj ▁el ▁producto ▁llego ▁en ▁mal ▁estado ▁y ▁como ▁era ▁de ▁esperar ▁respuesta ▁devuelto . ▁cápsulas ▁funciona ▁america ' porque ▁solidifica ▁rancio ▁tras ▁varios ▁ciclos ▁ultra ▁champú ▁parecidos ▁no ▁vale ▁.... ▁jajaja ▁una ▁verguenza ▁fue ▁enviar ▁esto ▁en ▁dato ▁crema ▁febrero ▁vestido ▁deja ▁exponer ▁fotos ▁bolsas ▁gustaba ▁probarlo ▁sueltas ▁descontento s ▁f ▁requiera ▁caducado ▁goteo ▁que ▁relojero s ▁si ▁campo ▁actualizo ▁mayor ▁acabo ▁substitu y ▁y ▁ya ▁desaparece ▁la ▁descontento ▁toca ▁provar ▁creo ▁q ▁producto año ▁pueden ▁hablar ▁una ▁persona ▁que ▁cole ▁ingles ria ▁xxbos ▁iluminacion ▁excesivamente ▁grande ▁a ▁reseñas ▁retina ▁flujo\n",
            "▁xxbos ▁xxmaj ▁el ▁producto ▁llego ▁en ▁mal ▁estado ▁y ▁como ▁era ▁de ▁esperar la ▁avería ▁xxbos ▁desde ▁costaba ▁dejar ▁descubierto ▁este ▁lucha ▁traslada ▁ya ▁en ▁primera ▁licencia ▁precisamente ▁encarga ▁paseos perfecto ▁youtube ▁20 ▁minutos ▁! ▁xxbos ▁acopla ▁alumbra ▁bien ▁aspirar ▁configurar ▁pulpo ▁nasal ▁libro ; ▁lástima ▁ya ▁nivel ▁gym ▁sin ▁barra ▁de ▁lycra ▁chinas ▁clienta ▁personal perdon ▁xxbos ▁a ▁bonitos ▁si ▁llego ▁y ▁biem ▁elefante , ▁terminó ▁razon ▁por ▁todo ▁golpeado ▁aparte ▁de ▁esos ▁agudos ▁efectivo ▁enchufes ▁vergonzoso ▁importe ▁mirar ▁cero ▁formatear ▁rapidez ▁exprés ▁xxbos ▁pones ▁la ▁tipo ▁pesa ▁los ▁cortos ▁mm ▁las\n",
            "▁xxbos ▁xxmaj ▁el ▁producto ▁llego ▁en ▁mal ▁estado ▁y ▁como ▁era ▁de ▁esperar ▁parecía ▁publicidad ▁descosida ▁... ▁simple ▁tan ▁pequeño . ademas ▁pone ▁incorrecto ▁ejemplo ▁q ▁trae ▁sd age ▁xxrep ▁3 ▁y ▁viene ▁rallada ▁magnético ▁pasó ▁antojo ▁pol ▁aditivo ▁turquesa ▁de ▁propietario ▁par mirar ▁niño ▁gratis ▁y ▁devuelto ▁te ▁baj ó ▁grupos ▁o ▁valga ▁sino ▁pedir ▁tapón . ▁nada ▁antes ▁me ▁quedé ▁tonto ▁xxbos ▁xxup ▁saco ▁bisagras ▁sencillas ▁castiga das ▁conector ▁tactil ▁negativos ▁situado ▁sólo ▁xxup ▁circu ▁existe ▁sobreviv imiento ▁xxrep ▁4 ls ▁cabezal ▁xxup ▁posibilidad ▁18-55 ▁salido ▁requiere ▁comprar ▁un ▁vieja ▁liquido\n"
          ],
          "name": "stdout"
        }
      ]
    },
    {
      "cell_type": "code",
      "metadata": {
        "colab": {
          "base_uri": "https://localhost:8080/",
          "height": 17
        },
        "id": "ifMXMkdlqo82",
        "outputId": "5850f9da-e0b3-49b2-f19e-f5cad190a0f3"
      },
      "source": [
        "TEXT = \"El producto llego en mal estado, \"\n",
        "N_WORDS = 80\n",
        "N_SENTENCES = 3\n",
        "preds = [learn_p1.predict(TEXT, N_WORDS, temperature=10) \n",
        "         for _ in range(N_SENTENCES)]"
      ],
      "execution_count": null,
      "outputs": [
        {
          "output_type": "display_data",
          "data": {
            "text/html": [
              ""
            ],
            "text/plain": [
              "<IPython.core.display.HTML object>"
            ]
          },
          "metadata": {
            "tags": []
          }
        },
        {
          "output_type": "display_data",
          "data": {
            "text/html": [
              ""
            ],
            "text/plain": [
              "<IPython.core.display.HTML object>"
            ]
          },
          "metadata": {
            "tags": []
          }
        },
        {
          "output_type": "display_data",
          "data": {
            "text/html": [
              ""
            ],
            "text/plain": [
              "<IPython.core.display.HTML object>"
            ]
          },
          "metadata": {
            "tags": []
          }
        }
      ]
    },
    {
      "cell_type": "code",
      "metadata": {
        "colab": {
          "base_uri": "https://localhost:8080/"
        },
        "id": "BFxuOZXaqryw",
        "outputId": "41492814-2f6d-4dab-e5c1-5bff4ef0f684"
      },
      "source": [
        "print(\"\\n\".join(preds))"
      ],
      "execution_count": null,
      "outputs": [
        {
          "output_type": "stream",
          "text": [
            "▁xxbos ▁xxmaj ▁el ▁producto ▁llego ▁en ▁mal ▁estado , ▁trazos ▁jabones ▁conducto ▁india ▁induce ▁cortocircuito ro ▁mordedor ▁colocan ▁similares ▁mías ▁fundidas ▁deluxe ▁jugadores amos $ ▁planos ▁tomadura ▁ruta ▁coger ▁compañeros ▁cochecito ▁alturas ▁rompiera ▁varias ▁ganchos ▁listón ▁maximo jes ▁arranque ▁flauta ▁humidificador ▁lei ▁marioneta ▁romántico ▁escuche ▁uds ▁modifica ▁sinónimo ▁basic ▁fm ▁estanco ▁pitorro ▁aclarar ▁picadora ▁compartimentos tidas ▁ensalada ▁contracturas ▁pintura ▁informado ▁extenso comprar ▁antojo ▁consola ▁dirigida ▁perspectiva ▁servidor ▁ocurrio ▁general ▁opte ▁3 prefiero ▁encajo ▁core ▁elegancia ▁liado ▁mensajeria ▁soldaduras ▁deshacen ▁bases ▁joy ▁monopoly ▁negros ▁tensores ▁colgando ▁barcelona ▁descargar ▁u ▁diadema\n",
            "▁xxbos ▁xxmaj ▁el ▁producto ▁llego ▁en ▁mal ▁estado , ▁aunq ▁viñeta ▁trajes ista ▁surcos ▁joven ▁vitaminas da ▁garantizada ▁perdi ▁manta ▁batidora ▁autor ▁consiguen ▁alegro ▁vicio ▁publique ▁acostumbrarte ▁refiere ▁paseos ▁puntuación ▁au ▁sumerge ▁cooler ▁problema ▁taburetes ▁frame ▁girarla ▁reborde ▁continuos ▁recomedable ▁adquiere ▁inconcebible ▁mia ▁través ▁exterior ▁cogen ▁vean 8 ▁comentaron ▁aquello ▁tomándolo ▁hormigón lamentable ▁playmobil ▁paseos ▁3 ▁interiores ▁demuestra ▁secado ▁philips res soy ▁tiñe ▁criticas ▁guardabarros ▁idénticas ▁interiormente ▁auténtico ▁invitados ▁alarma ▁desarrollado ▁ronquidos ▁parecen ▁colesterol ▁carraca ▁continuidad ▁espresso ▁tenue ▁reintegro ▁pájaros ▁comenzó ▁pretensión ▁oxígeno ▁arriesgue ▁mirarla adas -7 00€ usado\n",
            "▁xxbos ▁xxmaj ▁el ▁producto ▁llego ▁en ▁mal ▁estado , ▁limas ▁asegurarme ▁escucharlo ▁escribir ▁lentillas ▁bucal pedi ▁batidora ▁sucia ▁agranda ~ ▁alimentos ▁unica ▁protegen metió ▁humedece ▁usarse ▁despierta ▁probándolo ▁afecte ▁guardas ▁enfadada ▁convencionales ▁encargado ▁levantarse ▁risas ▁haz ▁eléctrica ▁refrigeración ▁cubiertas ▁tomo ▁destiñen ▁taper ▁gym ▁cuya ▁desenrolla ▁golpeada ▁comple ▁faltaba ▁hubieran ▁yogures ▁invernadero express com ▁usandola incluso ▁cargarlo ▁activado ray ▁kodi ▁genérica ▁envolver ▁-- iso tamente ▁ajustes ▁encimera ▁taladra ▁palo ▁acostumbrados ▁resbaladizo especialmente ▁allí ▁bucle ▁molesto ▁60% ▁exito ▁peligro ▁entregármelo ▁ficha ▁ah 10 ▁incluída ▁molienda ▁vecino ▁nutrición ▁información ▁pulgadas ▁flexibles ▁pillado\n"
          ],
          "name": "stdout"
        }
      ]
    },
    {
      "cell_type": "markdown",
      "metadata": {
        "id": "szVch5w0TFbI"
      },
      "source": [
        "En base al siguiente [link](https://pytorch-nlp-tutorial-ny2018.readthedocs.io/en/latest/day2/sampling.html), consideremos que el aumento se relaciona con que tan fuerte muestreamos la distribución, a medida que el más alto el valor de **temperature** más uniforme es la distribución y cuando el valor es bajo, se observan pocas diferencias entre los textos generados.\n",
        "\n",
        "En palabras más simples, si observamos el primer caso (**temperature=0.5**) se puede observar una alta similitud en las palabras usadas por el generador como pantalla o vendedor, el uso de palabras y conectores similares hace que la diferencias entre sentencias sea más baja. Por otro lado, a medida que aumenta el valor de temperature la distribución de palabras tiende a ser más uniforme, en el sentido que se usa una mayor cantidad de palabras con una frequencia baja o igual a uno, esta uniformidad trae como consecuencia que el texto generado pierda coherencia.\n",
        "\n"
      ]
    },
    {
      "cell_type": "markdown",
      "metadata": {
        "id": "L1nfgKdg3ddv"
      },
      "source": [
        "##<h2>Clasificación según una menor cantidad de stars (Pregunta 2.4)</h2>"
      ]
    },
    {
      "cell_type": "markdown",
      "metadata": {
        "id": "zy_DjxHJJ6z9"
      },
      "source": [
        "Para la siguiente sección haremos uso de un Datablock junto a un ColSplitter del indicator, esto permitira separar "
      ]
    },
    {
      "cell_type": "code",
      "metadata": {
        "id": "cMZ7mFYkPNEi"
      },
      "source": [
        "df_final_p2 = df_final_p1[['review_body','stars', 'indicator']]"
      ],
      "execution_count": null,
      "outputs": []
    },
    {
      "cell_type": "code",
      "metadata": {
        "id": "fJPo9MqO55ym",
        "colab": {
          "base_uri": "https://localhost:8080/",
          "height": 287
        },
        "outputId": "fbc7fec1-4598-48f0-f9ff-6209efb6f9e7"
      },
      "source": [
        "df_final_p2.head()"
      ],
      "execution_count": null,
      "outputs": [
        {
          "output_type": "execute_result",
          "data": {
            "text/html": [
              "<div>\n",
              "<style scoped>\n",
              "    .dataframe tbody tr th:only-of-type {\n",
              "        vertical-align: middle;\n",
              "    }\n",
              "\n",
              "    .dataframe tbody tr th {\n",
              "        vertical-align: top;\n",
              "    }\n",
              "\n",
              "    .dataframe thead th {\n",
              "        text-align: right;\n",
              "    }\n",
              "</style>\n",
              "<table border=\"1\" class=\"dataframe\">\n",
              "  <thead>\n",
              "    <tr style=\"text-align: right;\">\n",
              "      <th></th>\n",
              "      <th>review_body</th>\n",
              "      <th>stars</th>\n",
              "      <th>indicator</th>\n",
              "    </tr>\n",
              "  </thead>\n",
              "  <tbody>\n",
              "    <tr>\n",
              "      <th>0</th>\n",
              "      <td>no me llego el articulo me lo mando por correos normal sin seguimiento y nunca me llego tota un desastre</td>\n",
              "      <td>1</td>\n",
              "      <td>1</td>\n",
              "    </tr>\n",
              "    <tr>\n",
              "      <th>1</th>\n",
              "      <td>la mensajería horrible, no compro mas</td>\n",
              "      <td>1</td>\n",
              "      <td>1</td>\n",
              "    </tr>\n",
              "    <tr>\n",
              "      <th>2</th>\n",
              "      <td>Estoy muy decepcionado con el vendedor ya que el pedido no me llegó a tiempo y no cumplió los plazos de envío y era una cosa que necesitaba urgente. Para colmo me pongo en contacto con el vendedor y no da señales. No recomiendo nada</td>\n",
              "      <td>1</td>\n",
              "      <td>1</td>\n",
              "    </tr>\n",
              "    <tr>\n",
              "      <th>3</th>\n",
              "      <td>Mi valoración no es sobre el producto sino sobre AMAZON. Ofrecéis el producto a 299€ y tras varios días me devolvéis el dinero porque os habéis equivocado en el anuncio, según vosotros, ahora es 399€. Es la primera vez que me ocurre esto. Cuando he comprado en cualquier sitio y el precio marcado no se correspondía con el valor de caja siempre me lo han vendido con el precio marcado. Es inverosímil lo ocurrido, pero la ultima palabra me la dará la oficina del consumidor</td>\n",
              "      <td>1</td>\n",
              "      <td>1</td>\n",
              "    </tr>\n",
              "    <tr>\n",
              "      <th>4</th>\n",
              "      <td>Pues tenía interés en este libro y probé la versión kindle. se abre la portada pero nada más. parece una mala broma pero me iba a gastar el dedo de tanto tratar que pasara de página de alguna forma. No puedo valorar nada de nada.</td>\n",
              "      <td>1</td>\n",
              "      <td>1</td>\n",
              "    </tr>\n",
              "  </tbody>\n",
              "</table>\n",
              "</div>"
            ],
            "text/plain": [
              "                                                                                                                                                                                                                                                                                                                                                                                                                                                                                 review_body  ...  indicator\n",
              "0                                                                                                                                                                                                                                                                                                                                                                                   no me llego el articulo me lo mando por correos normal sin seguimiento y nunca me llego tota un desastre  ...          1\n",
              "1                                                                                                                                                                                                                                                                                                                                                                                                                                                      la mensajería horrible, no compro mas  ...          1\n",
              "2                                                                                                                                                                                                                                                   Estoy muy decepcionado con el vendedor ya que el pedido no me llegó a tiempo y no cumplió los plazos de envío y era una cosa que necesitaba urgente. Para colmo me pongo en contacto con el vendedor y no da señales. No recomiendo nada  ...          1\n",
              "3  Mi valoración no es sobre el producto sino sobre AMAZON. Ofrecéis el producto a 299€ y tras varios días me devolvéis el dinero porque os habéis equivocado en el anuncio, según vosotros, ahora es 399€. Es la primera vez que me ocurre esto. Cuando he comprado en cualquier sitio y el precio marcado no se correspondía con el valor de caja siempre me lo han vendido con el precio marcado. Es inverosímil lo ocurrido, pero la ultima palabra me la dará la oficina del consumidor  ...          1\n",
              "4                                                                                                                                                                                                                                                      Pues tenía interés en este libro y probé la versión kindle. se abre la portada pero nada más. parece una mala broma pero me iba a gastar el dedo de tanto tratar que pasara de página de alguna forma. No puedo valorar nada de nada.  ...          1\n",
              "\n",
              "[5 rows x 3 columns]"
            ]
          },
          "metadata": {
            "tags": []
          },
          "execution_count": 42
        }
      ]
    },
    {
      "cell_type": "code",
      "metadata": {
        "id": "sdRo_hbUSoc6"
      },
      "source": [
        "dblocks_p2 = DataBlock(blocks=(TextBlock.from_df('review_body'), CategoryBlock),\n",
        "                       get_x=ColReader('text'), splitter=ColSplitter('indicator'))\n"
      ],
      "execution_count": null,
      "outputs": []
    },
    {
      "cell_type": "code",
      "metadata": {
        "id": "eWloRO6wAGfH"
      },
      "source": [
        "df_final_p1 = df_final_p1.astype({\"stars\": str})"
      ],
      "execution_count": null,
      "outputs": []
    },
    {
      "cell_type": "code",
      "metadata": {
        "id": "nQgsjIy8sODm"
      },
      "source": [
        "dls_blk = DataBlock(blocks = (TextBlock.from_df(text_cols = \"review_body\", seq_len = 80),\n",
        "                              CategoryBlock),\n",
        "                    get_x = ColReader(cols = \"text\"), get_y = ColReader(cols=\"stars\"),\n",
        "                    splitter=ColSplitter('indicator'))"
      ],
      "execution_count": null,
      "outputs": []
    },
    {
      "cell_type": "code",
      "metadata": {
        "id": "lgZZHbwF8RaC",
        "colab": {
          "base_uri": "https://localhost:8080/"
        },
        "outputId": "2fd46315-62f5-448b-f948-dbb2bef7d893"
      },
      "source": [
        "df_final_p1.dtypes"
      ],
      "execution_count": null,
      "outputs": [
        {
          "output_type": "execute_result",
          "data": {
            "text/plain": [
              "review_id           object\n",
              "product_id          object\n",
              "reviewer_id         object\n",
              "stars               object\n",
              "review_body         object\n",
              "review_title        object\n",
              "language            object\n",
              "product_category    object\n",
              "indicator            int64\n",
              "dtype: object"
            ]
          },
          "metadata": {
            "tags": []
          },
          "execution_count": 44
        }
      ]
    },
    {
      "cell_type": "code",
      "metadata": {
        "id": "Pz8q3rA9RpUL",
        "colab": {
          "base_uri": "https://localhost:8080/",
          "height": 70
        },
        "outputId": "f069ff2a-9b96-4e01-f9c8-f40ca231f74c"
      },
      "source": [
        "dls_clf = dls_blk.dataloaders(df_final_p1, bs=64, seq_len=80)"
      ],
      "execution_count": null,
      "outputs": [
        {
          "output_type": "display_data",
          "data": {
            "text/html": [
              ""
            ],
            "text/plain": [
              "<IPython.core.display.HTML object>"
            ]
          },
          "metadata": {
            "tags": []
          }
        },
        {
          "output_type": "stream",
          "text": [
            "/usr/local/lib/python3.7/dist-packages/numpy/core/_asarray.py:83: VisibleDeprecationWarning: Creating an ndarray from ragged nested sequences (which is a list-or-tuple of lists-or-tuples-or ndarrays with different lengths or shapes) is deprecated. If you meant to do this, you must specify 'dtype=object' when creating the ndarray\n",
            "  return array(a, dtype, copy=False, order=order)\n"
          ],
          "name": "stderr"
        }
      ]
    },
    {
      "cell_type": "code",
      "metadata": {
        "id": "3PuE266iN6ho",
        "colab": {
          "base_uri": "https://localhost:8080/",
          "height": 797
        },
        "outputId": "54288d48-0e3d-48e0-f110-cc7ed0f4c38f"
      },
      "source": [
        "dls_clf.show_batch()"
      ],
      "execution_count": null,
      "outputs": [
        {
          "output_type": "display_data",
          "data": {
            "text/html": [
              "<table border=\"1\" class=\"dataframe\">\n",
              "  <thead>\n",
              "    <tr style=\"text-align: right;\">\n",
              "      <th></th>\n",
              "      <th>text</th>\n",
              "      <th>category</th>\n",
              "    </tr>\n",
              "  </thead>\n",
              "  <tbody>\n",
              "    <tr>\n",
              "      <th>0</th>\n",
              "      <td>xxbos xxmaj hago estos cambios en mi opinión , no por el producto , si no por el vendedor . xxmaj me puse en contacto con el vendedor para que me diera una solución sobre el problema de conectar los discos a través de un xxup hub . xxmaj me dijo que tenia que funcionar , y que si no me enviaría otro sin costo . xxmaj seguí sus instrucciones y como no funcionaron , me pidieron que enviara el aparato a una dirección internacional asumiendo yo el coste ( y fuera de la mediación de xxmaj amazon ) , xxmaj cuando le pregunte por esos costes ( que son superiores al precio del articulo ) , me indicaron que los pagara , que luego ya me los devolverían . y que luego también me enviarían uno nuevo . xxmaj me ha parecido todo muy informal y poco ético .</td>\n",
              "      <td>5</td>\n",
              "    </tr>\n",
              "    <tr>\n",
              "      <th>1</th>\n",
              "      <td>xxbos xxmaj es la segunda trona portátil de este tipo que compro en xxmaj amazon por lo que la review es parecida . xxmaj es sin lugar a dudas un objeto imprescindible si sales a comer / cenar fuera o simplemente quieres sentar a tu hijo en una silla y que quede a una altura adecuada estando seguro . xxmaj con respecto a su seguridad nada que objetar . xxmaj la trona va atada a la silla con una correa , la cual va agarrada de forma regulable en el respaldo . xxmaj además tiene una cincha que se ata por debajo a la silla , aunque sin fuerza regulable . xxmaj si bien es verdad que la otra trona que tuve tenía tres enganches , esta queda bien agarrada a la silla también . xxmaj el bebé va atado por dos correas que vienen a hacer el mismo efecto</td>\n",
              "      <td>5</td>\n",
              "    </tr>\n",
              "    <tr>\n",
              "      <th>2</th>\n",
              "      <td>xxbos xxmaj me compré este set de bandas porque tengo problemas de espalda y el fisio me dijo que necesito fortalecer la musculatura de la espalda y como no tengo mucho tiempo me vienen genial para hacer ejercicio en casa . xxmaj el set está compuesto de 5 bandas de diferentes colores , cada color se corresponde con una resistencia diferente de la banda . xxmaj me compré el set porque al no haberlas usado nunca no sabía de qué resistencia necesitaba y así tenía todas y la verdad es que compensa , sale mucho mejor comprar un set que comprar varias bandas separadas . xxmaj es un set muy completo , además de las 5 bandas viene con 2 asas o agarraderas de mano y otras dos de tobillo , para ejercicios de piernas , y viene también con un anclaje de pared , súper útil para ciertos ejercicios</td>\n",
              "      <td>5</td>\n",
              "    </tr>\n",
              "    <tr>\n",
              "      <th>3</th>\n",
              "      <td>xxbos xxmaj el monitor es increíble , viniendo de un 27 \" xxmaj full xxup hd con panel xxup va se nota la diferencia nada más encenderlo . xxmaj el problema con los paneles xxup ips ( aunque cada vez menos ) es que te la juegas y en mi caso el bleeding era más que notable y tenía varios píxeles muertos , además de problemas de conexión con el displayport , que de vez en cuando no detectaba la señal o se iba unos segundos . xxmaj también comentar que el monitor es muy bueno para producir y consumir contenido multimedia , incluso a la hora de jugar no hay ghosting aparente , pero a la hora de hacer cualquier otra cosa se vuelve muy pesado ya que o subes bastante el escalado de xxmaj windows o a una distancia de visionado normal las letras son realmente pequeñas .</td>\n",
              "      <td>3</td>\n",
              "    </tr>\n",
              "    <tr>\n",
              "      <th>4</th>\n",
              "      <td>xxbos xxmaj del producto no puedo decir nada , pero sí del vendedor . xxmaj después de esperar más de una semana más tarde de la recepción estimada del producto , veo un mensaje en el que comentan que el pedido se demora y que están contactando con la mensajería para poder volver a poner en circulación el envío . xxmaj espero dos días más y al no recibir el envío , me pongo en contacto con el vendedor , que me responde que lo siente , que el producto me lo van a abonar y que no se habían dado cuenta que el que quedaba estaba en mal estado . xxmaj que espero que les xxunk . xxmaj no voy a xxunk nada , porque si no me pongo yo en contacto con ellos aún sigo esperando . xxmaj era un regalo muy importante , para un cumpleaños de</td>\n",
              "      <td>1</td>\n",
              "    </tr>\n",
              "    <tr>\n",
              "      <th>5</th>\n",
              "      <td>xxbos xxmaj la caja cumple con su función , es de plastico de calidad ( igual que el de otras marcas que cuestan un poco más ) , la medida es la que queria y sirve para lo que está anunciado , hasta aquí bien . xxmaj lo malo es sobretodo que el logo de la marca es muy grande , en color negro sobre la caja blanca , lo que hace que se vea mucho . xxmaj una de las funciones de esta caja es ocultar los cables y pasar lo más desapercibida posible , cosa que el logo en negro arruina totalmente . xxmaj además el color es un colo blanco roto , no llega a crema , pero no es un blanco puro . xxmaj eso no es ni bueno ni malo , pero no es lo que yo queria , ya que lo tengo al lado</td>\n",
              "      <td>3</td>\n",
              "    </tr>\n",
              "    <tr>\n",
              "      <th>6</th>\n",
              "      <td>xxbos xxmaj no llega a cubrir toda la parte frontal y ni tampoco la pantalla . xxmaj es decir , por parte frontal entiendo a pantalla + un pequeño borde negro que trae el movil … pues bien , el cristal no llega a cubrir completamente la pantalla … le falta una parte minuscula … no se si llegara al milimetro … pero entiendo que en cualquier caso deberían hacerla para que sobre y no que falta . xxmaj en mi antiguo xxmaj xperia xxup xxunk compaq el protector de pantalla cubria xxup todo el frontal y quedaba perfecto . xxmaj además … lo he pegado y me han quedado una capa de aire en todos los laterales … y he seguido todos los pasos de limpieza con las toallitas , etc … pero aun asi me han quedado esas capas de aire y ya es la segunda vez que</td>\n",
              "      <td>1</td>\n",
              "    </tr>\n",
              "    <tr>\n",
              "      <th>7</th>\n",
              "      <td>xxbos xxmaj la compré principalmente para llevarla en el coche . xxmaj viendo el precio pensé que iba a ser más normalita , pero supera con creces mis expectativas . xxmaj se trata de una linterna xxmaj led , con bastante potencia , que permite regular la intensidad de la iluminación para adaptarla a las necesidades de cada momento . xxmaj es muy completa porque , además , tiene una posición de luz intermitente a modo xxup sos y la opción zoom , para enfocar con más precisión los objetos que se encuentran a distancia . xxmaj tiene mucha autonomía , incluyendo una batería recargable y con la posibilidad de utilizar pilas . xxmaj viene en un maletín que facilita su trasporte y que la protege de los golpes y la suciedad . xxmaj los materiales y los acabados son de buena calidad y el kit que presenta el maletín</td>\n",
              "      <td>5</td>\n",
              "    </tr>\n",
              "    <tr>\n",
              "      <th>8</th>\n",
              "      <td>xxbos xxmaj al principio estaba en dudas sobre la camera , especialmente cuando no tenía que devolverlo porque funcionaba poco raro . xxmaj me enviaron un reemplazo la semana siguiente . 5 estrellas para ese servicio . xxmaj pues hemos estado de vacaciones donde podríamos usar lo y en final saca unas fotos bastante buenas - no confías en la pantalla porque no es muy xxunk incluso de bajo del agua . xxmaj una sugerencia sobre este camera es que recomendable que compras pilas recargables de 1100 mah porque chupa pilas normales como un loco . y sale mucho más barato . xxmaj la camera no saca muy buenas fotos por la noche como el flash chupa bastante ni tampoco interior como sale un poco oscuro . xxmaj aunque saca muy buenas fotos durante el día y debajo del agua . ( estuvimos en xxmaj xxunk y ha salido chulos</td>\n",
              "      <td>4</td>\n",
              "    </tr>\n",
              "  </tbody>\n",
              "</table>"
            ],
            "text/plain": [
              "<IPython.core.display.HTML object>"
            ]
          },
          "metadata": {
            "tags": []
          }
        }
      ]
    },
    {
      "cell_type": "code",
      "metadata": {
        "id": "H-w7KFIS3DE-",
        "colab": {
          "base_uri": "https://localhost:8080/",
          "height": 17
        },
        "outputId": "7d76fee6-91d5-44e5-e7a1-f1f9e5c10dfe"
      },
      "source": [
        "learn_clf = text_classifier_learner(dls_clf, AWD_LSTM, drop_mult=0.3,metrics = accuracy).to_fp16()"
      ],
      "execution_count": null,
      "outputs": [
        {
          "output_type": "display_data",
          "data": {
            "text/html": [
              ""
            ],
            "text/plain": [
              "<IPython.core.display.HTML object>"
            ]
          },
          "metadata": {
            "tags": []
          }
        }
      ]
    },
    {
      "cell_type": "code",
      "metadata": {
        "id": "xKaCmTwa3ekY",
        "colab": {
          "base_uri": "https://localhost:8080/",
          "height": 80
        },
        "outputId": "937c499a-fe24-4579-a2eb-1e67c8b6a19a"
      },
      "source": [
        "learn_clf.fit_one_cycle(1, 2e-2)"
      ],
      "execution_count": null,
      "outputs": [
        {
          "output_type": "display_data",
          "data": {
            "text/html": [
              "<table border=\"1\" class=\"dataframe\">\n",
              "  <thead>\n",
              "    <tr style=\"text-align: left;\">\n",
              "      <th>epoch</th>\n",
              "      <th>train_loss</th>\n",
              "      <th>valid_loss</th>\n",
              "      <th>accuracy</th>\n",
              "      <th>time</th>\n",
              "    </tr>\n",
              "  </thead>\n",
              "  <tbody>\n",
              "    <tr>\n",
              "      <td>0</td>\n",
              "      <td>1.513817</td>\n",
              "      <td>1.466319</td>\n",
              "      <td>0.336400</td>\n",
              "      <td>04:03</td>\n",
              "    </tr>\n",
              "  </tbody>\n",
              "</table>"
            ],
            "text/plain": [
              "<IPython.core.display.HTML object>"
            ]
          },
          "metadata": {
            "tags": []
          }
        }
      ]
    },
    {
      "cell_type": "code",
      "metadata": {
        "id": "DMWt_2jiyZdp",
        "colab": {
          "base_uri": "https://localhost:8080/",
          "height": 300
        },
        "outputId": "2055dc80-bd42-49b6-ab65-746ac9481138"
      },
      "source": [
        "learn_clf.lr_find()"
      ],
      "execution_count": null,
      "outputs": [
        {
          "output_type": "display_data",
          "data": {
            "text/html": [
              ""
            ],
            "text/plain": [
              "<IPython.core.display.HTML object>"
            ]
          },
          "metadata": {
            "tags": []
          }
        },
        {
          "output_type": "execute_result",
          "data": {
            "text/plain": [
              "SuggestedLRs(valley=tensor(0.0003))"
            ]
          },
          "metadata": {
            "tags": []
          },
          "execution_count": 50
        },
        {
          "output_type": "display_data",
          "data": {
            "image/png": "[encoded data removed]",
            "text/plain": [
              "<Figure size 432x288 with 1 Axes>"
            ]
          },
          "metadata": {
            "tags": [],
            "needs_background": "light"
          }
        }
      ]
    },
    {
      "cell_type": "code",
      "metadata": {
        "id": "rCHzsvtj6Lnm",
        "colab": {
          "base_uri": "https://localhost:8080/",
          "height": 80
        },
        "outputId": "88204801-f44b-4c35-971e-4ac16bfdff5a"
      },
      "source": [
        "learn_clf.unfreeze()\n",
        "learn_clf.fit_one_cycle(1, 1e-3)"
      ],
      "execution_count": null,
      "outputs": [
        {
          "output_type": "display_data",
          "data": {
            "text/html": [
              "<table border=\"1\" class=\"dataframe\">\n",
              "  <thead>\n",
              "    <tr style=\"text-align: left;\">\n",
              "      <th>epoch</th>\n",
              "      <th>train_loss</th>\n",
              "      <th>valid_loss</th>\n",
              "      <th>accuracy</th>\n",
              "      <th>time</th>\n",
              "    </tr>\n",
              "  </thead>\n",
              "  <tbody>\n",
              "    <tr>\n",
              "      <td>0</td>\n",
              "      <td>1.024396</td>\n",
              "      <td>1.005451</td>\n",
              "      <td>0.556400</td>\n",
              "      <td>05:00</td>\n",
              "    </tr>\n",
              "  </tbody>\n",
              "</table>"
            ],
            "text/plain": [
              "<IPython.core.display.HTML object>"
            ]
          },
          "metadata": {
            "tags": []
          }
        }
      ]
    },
    {
      "cell_type": "code",
      "metadata": {
        "id": "b3m1BcziNJxH"
      },
      "source": [
        "learn_p2 = language_model_learner(data_lm, AWD_LSTM, drop_mult=0.3)"
      ],
      "execution_count": null,
      "outputs": []
    },
    {
      "cell_type": "code",
      "metadata": {
        "id": "Q8NxKUGoNefa",
        "colab": {
          "base_uri": "https://localhost:8080/",
          "height": 112
        },
        "outputId": "ee2e84ac-f281-4b4b-855d-08374562c3eb"
      },
      "source": [
        "learn_p2.lr_find()"
      ],
      "execution_count": null,
      "outputs": [
        {
          "output_type": "display_data",
          "data": {
            "text/html": [
              "\n",
              "    <div>\n",
              "        <style>\n",
              "            /* Turns off some styling */\n",
              "            progress {\n",
              "                /* gets rid of default border in Firefox and Opera. */\n",
              "                border: none;\n",
              "                /* Needs to be in here for Safari polyfill so background images work as expected. */\n",
              "                background-size: auto;\n",
              "            }\n",
              "            .progress-bar-interrupted, .progress-bar-interrupted::-webkit-progress-bar {\n",
              "                background: #F44336;\n",
              "            }\n",
              "        </style>\n",
              "      <progress value='0' class='' max='1' style='width:300px; height:20px; vertical-align: middle;'></progress>\n",
              "      0.00% [0/1 00:00<00:00]\n",
              "    </div>\n",
              "    \n",
              "<table border=\"1\" class=\"dataframe\">\n",
              "  <thead>\n",
              "    <tr style=\"text-align: left;\">\n",
              "      <th>epoch</th>\n",
              "      <th>train_loss</th>\n",
              "      <th>valid_loss</th>\n",
              "      <th>accuracy</th>\n",
              "      <th>time</th>\n",
              "    </tr>\n",
              "  </thead>\n",
              "  <tbody>\n",
              "  </tbody>\n",
              "</table><p>\n",
              "\n",
              "    <div>\n",
              "        <style>\n",
              "            /* Turns off some styling */\n",
              "            progress {\n",
              "                /* gets rid of default border in Firefox and Opera. */\n",
              "                border: none;\n",
              "                /* Needs to be in here for Safari polyfill so background images work as expected. */\n",
              "                background-size: auto;\n",
              "            }\n",
              "            .progress-bar-interrupted, .progress-bar-interrupted::-webkit-progress-bar {\n",
              "                background: #F44336;\n",
              "            }\n",
              "        </style>\n",
              "      <progress value='99' class='' max='1533' style='width:300px; height:20px; vertical-align: middle;'></progress>\n",
              "      6.46% [99/1533 00:26<06:27 10.0706]\n",
              "    </div>\n",
              "    "
            ],
            "text/plain": [
              "<IPython.core.display.HTML object>"
            ]
          },
          "metadata": {
            "tags": []
          }
        },
        {
          "output_type": "stream",
          "text": [
            "LR Finder is complete, type {learner_name}.recorder.plot() to see the graph.\n"
          ],
          "name": "stdout"
        }
      ]
    },
    {
      "cell_type": "code",
      "metadata": {
        "id": "D6u50grXNnsv",
        "colab": {
          "base_uri": "https://localhost:8080/",
          "height": 313
        },
        "outputId": "8f41340c-2598-4d87-a719-af2f24600cf5"
      },
      "source": [
        "learn_p2.recorder.plot(suggestion=True)\n",
        "min_grad_lr = learn_p2.recorder.min_grad_lr"
      ],
      "execution_count": null,
      "outputs": [
        {
          "output_type": "stream",
          "text": [
            "Min numerical gradient: 1.91E-02\n",
            "Min loss divided by 10: 9.12E-02\n"
          ],
          "name": "stdout"
        },
        {
          "output_type": "display_data",
          "data": {
            "image/png": "[encoded data removed]",
            "text/plain": [
              "<Figure size 432x288 with 1 Axes>"
            ]
          },
          "metadata": {
            "tags": [],
            "needs_background": "light"
          }
        }
      ]
    },
    {
      "cell_type": "code",
      "metadata": {
        "id": "lwsTSXCMOhMZ",
        "colab": {
          "base_uri": "https://localhost:8080/",
          "height": 869
        },
        "outputId": "0d599519-23a1-41e5-99f0-15fef5e6b081"
      },
      "source": [
        "learn_p2.fit_one_cycle(3, min_grad_lr)"
      ],
      "execution_count": null,
      "outputs": [
        {
          "output_type": "display_data",
          "data": {
            "text/html": [
              "\n",
              "    <div>\n",
              "        <style>\n",
              "            /* Turns off some styling */\n",
              "            progress {\n",
              "                /* gets rid of default border in Firefox and Opera. */\n",
              "                border: none;\n",
              "                /* Needs to be in here for Safari polyfill so background images work as expected. */\n",
              "                background-size: auto;\n",
              "            }\n",
              "            .progress-bar-interrupted, .progress-bar-interrupted::-webkit-progress-bar {\n",
              "                background: #F44336;\n",
              "            }\n",
              "        </style>\n",
              "      <progress value='0' class='' max='3' style='width:300px; height:20px; vertical-align: middle;'></progress>\n",
              "      0.00% [0/3 00:00<00:00]\n",
              "    </div>\n",
              "    \n",
              "<table border=\"1\" class=\"dataframe\">\n",
              "  <thead>\n",
              "    <tr style=\"text-align: left;\">\n",
              "      <th>epoch</th>\n",
              "      <th>train_loss</th>\n",
              "      <th>valid_loss</th>\n",
              "      <th>accuracy</th>\n",
              "      <th>time</th>\n",
              "    </tr>\n",
              "  </thead>\n",
              "  <tbody>\n",
              "  </tbody>\n",
              "</table><p>\n",
              "\n",
              "    <div>\n",
              "        <style>\n",
              "            /* Turns off some styling */\n",
              "            progress {\n",
              "                /* gets rid of default border in Firefox and Opera. */\n",
              "                border: none;\n",
              "                /* Needs to be in here for Safari polyfill so background images work as expected. */\n",
              "                background-size: auto;\n",
              "            }\n",
              "            .progress-bar-interrupted, .progress-bar-interrupted::-webkit-progress-bar {\n",
              "                background: #F44336;\n",
              "            }\n",
              "        </style>\n",
              "      <progress value='1' class='' max='1533' style='width:300px; height:20px; vertical-align: middle;'></progress>\n",
              "      0.07% [1/1533 00:00<08:33 4.2571]\n",
              "    </div>\n",
              "    "
            ],
            "text/plain": [
              "<IPython.core.display.HTML object>"
            ]
          },
          "metadata": {
            "tags": []
          }
        },
        {
          "output_type": "error",
          "ename": "KeyboardInterrupt",
          "evalue": "ignored",
          "traceback": [
            "\u001b[0;31m---------------------------------------------------------------------------\u001b[0m",
            "\u001b[0;31mKeyboardInterrupt\u001b[0m                         Traceback (most recent call last)",
            "\u001b[0;32m<ipython-input-40-c00fc43753e2>\u001b[0m in \u001b[0;36m<module>\u001b[0;34m()\u001b[0m\n\u001b[0;32m----> 1\u001b[0;31m \u001b[0mlearn_p2\u001b[0m\u001b[0;34m.\u001b[0m\u001b[0mfit_one_cycle\u001b[0m\u001b[0;34m(\u001b[0m\u001b[0;36m3\u001b[0m\u001b[0;34m,\u001b[0m \u001b[0mmin_grad_lr\u001b[0m\u001b[0;34m)\u001b[0m\u001b[0;34m\u001b[0m\u001b[0;34m\u001b[0m\u001b[0m\n\u001b[0m",
            "\u001b[0;32m/usr/local/lib/python3.7/dist-packages/fastai/train.py\u001b[0m in \u001b[0;36mfit_one_cycle\u001b[0;34m(learn, cyc_len, max_lr, moms, div_factor, pct_start, final_div, wd, callbacks, tot_epochs, start_epoch)\u001b[0m\n\u001b[1;32m     21\u001b[0m     callbacks.append(OneCycleScheduler(learn, max_lr, moms=moms, div_factor=div_factor, pct_start=pct_start,\n\u001b[1;32m     22\u001b[0m                                        final_div=final_div, tot_epochs=tot_epochs, start_epoch=start_epoch))\n\u001b[0;32m---> 23\u001b[0;31m     \u001b[0mlearn\u001b[0m\u001b[0;34m.\u001b[0m\u001b[0mfit\u001b[0m\u001b[0;34m(\u001b[0m\u001b[0mcyc_len\u001b[0m\u001b[0;34m,\u001b[0m \u001b[0mmax_lr\u001b[0m\u001b[0;34m,\u001b[0m \u001b[0mwd\u001b[0m\u001b[0;34m=\u001b[0m\u001b[0mwd\u001b[0m\u001b[0;34m,\u001b[0m \u001b[0mcallbacks\u001b[0m\u001b[0;34m=\u001b[0m\u001b[0mcallbacks\u001b[0m\u001b[0;34m)\u001b[0m\u001b[0;34m\u001b[0m\u001b[0;34m\u001b[0m\u001b[0m\n\u001b[0m\u001b[1;32m     24\u001b[0m \u001b[0;34m\u001b[0m\u001b[0m\n\u001b[1;32m     25\u001b[0m def fit_fc(learn:Learner, tot_epochs:int=1, lr:float=defaults.lr,  moms:Tuple[float,float]=(0.95,0.85), start_pct:float=0.72,\n",
            "\u001b[0;32m/usr/local/lib/python3.7/dist-packages/fastai/basic_train.py\u001b[0m in \u001b[0;36mfit\u001b[0;34m(self, epochs, lr, wd, callbacks)\u001b[0m\n\u001b[1;32m    198\u001b[0m         \u001b[0;32melse\u001b[0m\u001b[0;34m:\u001b[0m \u001b[0mself\u001b[0m\u001b[0;34m.\u001b[0m\u001b[0mopt\u001b[0m\u001b[0;34m.\u001b[0m\u001b[0mlr\u001b[0m\u001b[0;34m,\u001b[0m\u001b[0mself\u001b[0m\u001b[0;34m.\u001b[0m\u001b[0mopt\u001b[0m\u001b[0;34m.\u001b[0m\u001b[0mwd\u001b[0m \u001b[0;34m=\u001b[0m \u001b[0mlr\u001b[0m\u001b[0;34m,\u001b[0m\u001b[0mwd\u001b[0m\u001b[0;34m\u001b[0m\u001b[0;34m\u001b[0m\u001b[0m\n\u001b[1;32m    199\u001b[0m         \u001b[0mcallbacks\u001b[0m \u001b[0;34m=\u001b[0m \u001b[0;34m[\u001b[0m\u001b[0mcb\u001b[0m\u001b[0;34m(\u001b[0m\u001b[0mself\u001b[0m\u001b[0;34m)\u001b[0m \u001b[0;32mfor\u001b[0m \u001b[0mcb\u001b[0m \u001b[0;32min\u001b[0m \u001b[0mself\u001b[0m\u001b[0;34m.\u001b[0m\u001b[0mcallback_fns\u001b[0m \u001b[0;34m+\u001b[0m \u001b[0mlistify\u001b[0m\u001b[0;34m(\u001b[0m\u001b[0mdefaults\u001b[0m\u001b[0;34m.\u001b[0m\u001b[0mextra_callback_fns\u001b[0m\u001b[0;34m)\u001b[0m\u001b[0;34m]\u001b[0m \u001b[0;34m+\u001b[0m \u001b[0mlistify\u001b[0m\u001b[0;34m(\u001b[0m\u001b[0mcallbacks\u001b[0m\u001b[0;34m)\u001b[0m\u001b[0;34m\u001b[0m\u001b[0;34m\u001b[0m\u001b[0m\n\u001b[0;32m--> 200\u001b[0;31m         \u001b[0mfit\u001b[0m\u001b[0;34m(\u001b[0m\u001b[0mepochs\u001b[0m\u001b[0;34m,\u001b[0m \u001b[0mself\u001b[0m\u001b[0;34m,\u001b[0m \u001b[0mmetrics\u001b[0m\u001b[0;34m=\u001b[0m\u001b[0mself\u001b[0m\u001b[0;34m.\u001b[0m\u001b[0mmetrics\u001b[0m\u001b[0;34m,\u001b[0m \u001b[0mcallbacks\u001b[0m\u001b[0;34m=\u001b[0m\u001b[0mself\u001b[0m\u001b[0;34m.\u001b[0m\u001b[0mcallbacks\u001b[0m\u001b[0;34m+\u001b[0m\u001b[0mcallbacks\u001b[0m\u001b[0;34m)\u001b[0m\u001b[0;34m\u001b[0m\u001b[0;34m\u001b[0m\u001b[0m\n\u001b[0m\u001b[1;32m    201\u001b[0m \u001b[0;34m\u001b[0m\u001b[0m\n\u001b[1;32m    202\u001b[0m     \u001b[0;32mdef\u001b[0m \u001b[0mcreate_opt\u001b[0m\u001b[0;34m(\u001b[0m\u001b[0mself\u001b[0m\u001b[0;34m,\u001b[0m \u001b[0mlr\u001b[0m\u001b[0;34m:\u001b[0m\u001b[0mFloats\u001b[0m\u001b[0;34m,\u001b[0m \u001b[0mwd\u001b[0m\u001b[0;34m:\u001b[0m\u001b[0mFloats\u001b[0m\u001b[0;34m=\u001b[0m\u001b[0;36m0.\u001b[0m\u001b[0;34m)\u001b[0m\u001b[0;34m->\u001b[0m\u001b[0;32mNone\u001b[0m\u001b[0;34m:\u001b[0m\u001b[0;34m\u001b[0m\u001b[0;34m\u001b[0m\u001b[0m\n",
            "\u001b[0;32m/usr/local/lib/python3.7/dist-packages/fastai/basic_train.py\u001b[0m in \u001b[0;36mfit\u001b[0;34m(epochs, learn, callbacks, metrics)\u001b[0m\n\u001b[1;32m     99\u001b[0m             \u001b[0;32mfor\u001b[0m \u001b[0mxb\u001b[0m\u001b[0;34m,\u001b[0m\u001b[0myb\u001b[0m \u001b[0;32min\u001b[0m \u001b[0mprogress_bar\u001b[0m\u001b[0;34m(\u001b[0m\u001b[0mlearn\u001b[0m\u001b[0;34m.\u001b[0m\u001b[0mdata\u001b[0m\u001b[0;34m.\u001b[0m\u001b[0mtrain_dl\u001b[0m\u001b[0;34m,\u001b[0m \u001b[0mparent\u001b[0m\u001b[0;34m=\u001b[0m\u001b[0mpbar\u001b[0m\u001b[0;34m)\u001b[0m\u001b[0;34m:\u001b[0m\u001b[0;34m\u001b[0m\u001b[0;34m\u001b[0m\u001b[0m\n\u001b[1;32m    100\u001b[0m                 \u001b[0mxb\u001b[0m\u001b[0;34m,\u001b[0m \u001b[0myb\u001b[0m \u001b[0;34m=\u001b[0m \u001b[0mcb_handler\u001b[0m\u001b[0;34m.\u001b[0m\u001b[0mon_batch_begin\u001b[0m\u001b[0;34m(\u001b[0m\u001b[0mxb\u001b[0m\u001b[0;34m,\u001b[0m \u001b[0myb\u001b[0m\u001b[0;34m)\u001b[0m\u001b[0;34m\u001b[0m\u001b[0;34m\u001b[0m\u001b[0m\n\u001b[0;32m--> 101\u001b[0;31m                 \u001b[0mloss\u001b[0m \u001b[0;34m=\u001b[0m \u001b[0mloss_batch\u001b[0m\u001b[0;34m(\u001b[0m\u001b[0mlearn\u001b[0m\u001b[0;34m.\u001b[0m\u001b[0mmodel\u001b[0m\u001b[0;34m,\u001b[0m \u001b[0mxb\u001b[0m\u001b[0;34m,\u001b[0m \u001b[0myb\u001b[0m\u001b[0;34m,\u001b[0m \u001b[0mlearn\u001b[0m\u001b[0;34m.\u001b[0m\u001b[0mloss_func\u001b[0m\u001b[0;34m,\u001b[0m \u001b[0mlearn\u001b[0m\u001b[0;34m.\u001b[0m\u001b[0mopt\u001b[0m\u001b[0;34m,\u001b[0m \u001b[0mcb_handler\u001b[0m\u001b[0;34m)\u001b[0m\u001b[0;34m\u001b[0m\u001b[0;34m\u001b[0m\u001b[0m\n\u001b[0m\u001b[1;32m    102\u001b[0m                 \u001b[0;32mif\u001b[0m \u001b[0mcb_handler\u001b[0m\u001b[0;34m.\u001b[0m\u001b[0mon_batch_end\u001b[0m\u001b[0;34m(\u001b[0m\u001b[0mloss\u001b[0m\u001b[0;34m)\u001b[0m\u001b[0;34m:\u001b[0m \u001b[0;32mbreak\u001b[0m\u001b[0;34m\u001b[0m\u001b[0;34m\u001b[0m\u001b[0m\n\u001b[1;32m    103\u001b[0m \u001b[0;34m\u001b[0m\u001b[0m\n",
            "\u001b[0;32m/usr/local/lib/python3.7/dist-packages/fastai/basic_train.py\u001b[0m in \u001b[0;36mloss_batch\u001b[0;34m(model, xb, yb, loss_func, opt, cb_handler)\u001b[0m\n\u001b[1;32m     31\u001b[0m \u001b[0;34m\u001b[0m\u001b[0m\n\u001b[1;32m     32\u001b[0m     \u001b[0;32mif\u001b[0m \u001b[0mopt\u001b[0m \u001b[0;32mis\u001b[0m \u001b[0;32mnot\u001b[0m \u001b[0;32mNone\u001b[0m\u001b[0;34m:\u001b[0m\u001b[0;34m\u001b[0m\u001b[0;34m\u001b[0m\u001b[0m\n\u001b[0;32m---> 33\u001b[0;31m         \u001b[0mloss\u001b[0m\u001b[0;34m,\u001b[0m\u001b[0mskip_bwd\u001b[0m \u001b[0;34m=\u001b[0m \u001b[0mcb_handler\u001b[0m\u001b[0;34m.\u001b[0m\u001b[0mon_backward_begin\u001b[0m\u001b[0;34m(\u001b[0m\u001b[0mloss\u001b[0m\u001b[0;34m)\u001b[0m\u001b[0;34m\u001b[0m\u001b[0;34m\u001b[0m\u001b[0m\n\u001b[0m\u001b[1;32m     34\u001b[0m         \u001b[0;32mif\u001b[0m \u001b[0;32mnot\u001b[0m \u001b[0mskip_bwd\u001b[0m\u001b[0;34m:\u001b[0m                     \u001b[0mloss\u001b[0m\u001b[0;34m.\u001b[0m\u001b[0mbackward\u001b[0m\u001b[0;34m(\u001b[0m\u001b[0;34m)\u001b[0m\u001b[0;34m\u001b[0m\u001b[0;34m\u001b[0m\u001b[0m\n\u001b[1;32m     35\u001b[0m         \u001b[0;32mif\u001b[0m \u001b[0;32mnot\u001b[0m \u001b[0mcb_handler\u001b[0m\u001b[0;34m.\u001b[0m\u001b[0mon_backward_end\u001b[0m\u001b[0;34m(\u001b[0m\u001b[0;34m)\u001b[0m\u001b[0;34m:\u001b[0m \u001b[0mopt\u001b[0m\u001b[0;34m.\u001b[0m\u001b[0mstep\u001b[0m\u001b[0;34m(\u001b[0m\u001b[0;34m)\u001b[0m\u001b[0;34m\u001b[0m\u001b[0;34m\u001b[0m\u001b[0m\n",
            "\u001b[0;32m/usr/local/lib/python3.7/dist-packages/fastai/callback.py\u001b[0m in \u001b[0;36mon_backward_begin\u001b[0;34m(self, loss)\u001b[0m\n\u001b[1;32m    288\u001b[0m     \u001b[0;32mdef\u001b[0m \u001b[0mon_backward_begin\u001b[0m\u001b[0;34m(\u001b[0m\u001b[0mself\u001b[0m\u001b[0;34m,\u001b[0m \u001b[0mloss\u001b[0m\u001b[0;34m:\u001b[0m\u001b[0mTensor\u001b[0m\u001b[0;34m)\u001b[0m\u001b[0;34m->\u001b[0m\u001b[0mTuple\u001b[0m\u001b[0;34m[\u001b[0m\u001b[0mAny\u001b[0m\u001b[0;34m,\u001b[0m\u001b[0mAny\u001b[0m\u001b[0;34m]\u001b[0m\u001b[0;34m:\u001b[0m\u001b[0;34m\u001b[0m\u001b[0;34m\u001b[0m\u001b[0m\n\u001b[1;32m    289\u001b[0m         \u001b[0;34m\"Handle gradient calculation on `loss`.\"\u001b[0m\u001b[0;34m\u001b[0m\u001b[0;34m\u001b[0m\u001b[0m\n\u001b[0;32m--> 290\u001b[0;31m         \u001b[0mself\u001b[0m\u001b[0;34m.\u001b[0m\u001b[0msmoothener\u001b[0m\u001b[0;34m.\u001b[0m\u001b[0madd_value\u001b[0m\u001b[0;34m(\u001b[0m\u001b[0mloss\u001b[0m\u001b[0;34m.\u001b[0m\u001b[0mfloat\u001b[0m\u001b[0;34m(\u001b[0m\u001b[0;34m)\u001b[0m\u001b[0;34m.\u001b[0m\u001b[0mdetach\u001b[0m\u001b[0;34m(\u001b[0m\u001b[0;34m)\u001b[0m\u001b[0;34m.\u001b[0m\u001b[0mcpu\u001b[0m\u001b[0;34m(\u001b[0m\u001b[0;34m)\u001b[0m\u001b[0;34m)\u001b[0m\u001b[0;34m\u001b[0m\u001b[0;34m\u001b[0m\u001b[0m\n\u001b[0m\u001b[1;32m    291\u001b[0m         \u001b[0mself\u001b[0m\u001b[0;34m.\u001b[0m\u001b[0mstate_dict\u001b[0m\u001b[0;34m[\u001b[0m\u001b[0;34m'last_loss'\u001b[0m\u001b[0;34m]\u001b[0m\u001b[0;34m,\u001b[0m \u001b[0mself\u001b[0m\u001b[0;34m.\u001b[0m\u001b[0mstate_dict\u001b[0m\u001b[0;34m[\u001b[0m\u001b[0;34m'smooth_loss'\u001b[0m\u001b[0;34m]\u001b[0m \u001b[0;34m=\u001b[0m \u001b[0mloss\u001b[0m\u001b[0;34m,\u001b[0m \u001b[0mself\u001b[0m\u001b[0;34m.\u001b[0m\u001b[0msmoothener\u001b[0m\u001b[0;34m.\u001b[0m\u001b[0msmooth\u001b[0m\u001b[0;34m\u001b[0m\u001b[0;34m\u001b[0m\u001b[0m\n\u001b[1;32m    292\u001b[0m         \u001b[0mself\u001b[0m\u001b[0;34m(\u001b[0m\u001b[0;34m'backward_begin'\u001b[0m\u001b[0;34m,\u001b[0m \u001b[0mcall_mets\u001b[0m\u001b[0;34m=\u001b[0m\u001b[0;32mFalse\u001b[0m\u001b[0;34m)\u001b[0m\u001b[0;34m\u001b[0m\u001b[0;34m\u001b[0m\u001b[0m\n",
            "\u001b[0;31mKeyboardInterrupt\u001b[0m: "
          ]
        }
      ]
    },
    {
      "cell_type": "code",
      "metadata": {
        "id": "Ol78_mCyOs-n"
      },
      "source": [
        "df_final_p2 = df_final_p1\n",
        "df_final_p2['stars'] = df_final_p2['stars'].apply(lambda x: '1-2' if x in ['1','2'] else ('3-4' if x in ['3','4'] else '5'))"
      ],
      "execution_count": null,
      "outputs": []
    },
    {
      "cell_type": "code",
      "metadata": {
        "id": "OLXOye7MJep6",
        "colab": {
          "base_uri": "https://localhost:8080/",
          "height": 438
        },
        "outputId": "d6da4bb1-78e8-4f14-ebab-6dc65725a2b6"
      },
      "source": [
        "df_final_p2.head()"
      ],
      "execution_count": null,
      "outputs": [
        {
          "output_type": "execute_result",
          "data": {
            "text/html": [
              "<div>\n",
              "<style scoped>\n",
              "    .dataframe tbody tr th:only-of-type {\n",
              "        vertical-align: middle;\n",
              "    }\n",
              "\n",
              "    .dataframe tbody tr th {\n",
              "        vertical-align: top;\n",
              "    }\n",
              "\n",
              "    .dataframe thead th {\n",
              "        text-align: right;\n",
              "    }\n",
              "</style>\n",
              "<table border=\"1\" class=\"dataframe\">\n",
              "  <thead>\n",
              "    <tr style=\"text-align: right;\">\n",
              "      <th></th>\n",
              "      <th>review_id</th>\n",
              "      <th>product_id</th>\n",
              "      <th>reviewer_id</th>\n",
              "      <th>stars</th>\n",
              "      <th>review_body</th>\n",
              "      <th>review_title</th>\n",
              "      <th>language</th>\n",
              "      <th>product_category</th>\n",
              "      <th>indicator</th>\n",
              "    </tr>\n",
              "  </thead>\n",
              "  <tbody>\n",
              "    <tr>\n",
              "      <th>0</th>\n",
              "      <td>es_0038754</td>\n",
              "      <td>product_es_0113523</td>\n",
              "      <td>reviewer_es_0580071</td>\n",
              "      <td>1-2</td>\n",
              "      <td>no me llego el articulo me lo mando por correos normal sin seguimiento y nunca me llego tota un desastre</td>\n",
              "      <td>no me llego</td>\n",
              "      <td>es</td>\n",
              "      <td>wireless</td>\n",
              "      <td>1</td>\n",
              "    </tr>\n",
              "    <tr>\n",
              "      <th>1</th>\n",
              "      <td>es_0748979</td>\n",
              "      <td>product_es_0017036</td>\n",
              "      <td>reviewer_es_0819733</td>\n",
              "      <td>1-2</td>\n",
              "      <td>la mensajería horrible, no compro mas</td>\n",
              "      <td>amazon sigue sin cumplir en las entregas</td>\n",
              "      <td>es</td>\n",
              "      <td>home</td>\n",
              "      <td>1</td>\n",
              "    </tr>\n",
              "    <tr>\n",
              "      <th>2</th>\n",
              "      <td>es_0411746</td>\n",
              "      <td>product_es_0138642</td>\n",
              "      <td>reviewer_es_0508607</td>\n",
              "      <td>1-2</td>\n",
              "      <td>Estoy muy decepcionado con el vendedor ya que el pedido no me llegó a tiempo y no cumplió los plazos de envío y era una cosa que necesitaba urgente. Para colmo me pongo en contacto con el vendedor y no da señales. No recomiendo nada</td>\n",
              "      <td>ESTAFA EN EL ENVÍO</td>\n",
              "      <td>es</td>\n",
              "      <td>toy</td>\n",
              "      <td>1</td>\n",
              "    </tr>\n",
              "    <tr>\n",
              "      <th>3</th>\n",
              "      <td>es_0786686</td>\n",
              "      <td>product_es_0170887</td>\n",
              "      <td>reviewer_es_0491157</td>\n",
              "      <td>1-2</td>\n",
              "      <td>Mi valoración no es sobre el producto sino sobre AMAZON. Ofrecéis el producto a 299€ y tras varios días me devolvéis el dinero porque os habéis equivocado en el anuncio, según vosotros, ahora es 399€. Es la primera vez que me ocurre esto. Cuando he comprado en cualquier sitio y el precio marcado no se correspondía con el valor de caja siempre me lo han vendido con el precio marcado. Es inverosímil lo ocurrido, pero la ultima palabra me la dará la oficina del consumidor</td>\n",
              "      <td>Estafa de Amazon</td>\n",
              "      <td>es</td>\n",
              "      <td>home</td>\n",
              "      <td>1</td>\n",
              "    </tr>\n",
              "    <tr>\n",
              "      <th>4</th>\n",
              "      <td>es_0429700</td>\n",
              "      <td>product_es_0710642</td>\n",
              "      <td>reviewer_es_0008745</td>\n",
              "      <td>1-2</td>\n",
              "      <td>Pues tenía interés en este libro y probé la versión kindle. se abre la portada pero nada más. parece una mala broma pero me iba a gastar el dedo de tanto tratar que pasara de página de alguna forma. No puedo valorar nada de nada.</td>\n",
              "      <td>No conseguí pasar de la portada en Kindle</td>\n",
              "      <td>es</td>\n",
              "      <td>digital_ebook_purchase</td>\n",
              "      <td>1</td>\n",
              "    </tr>\n",
              "  </tbody>\n",
              "</table>\n",
              "</div>"
            ],
            "text/plain": [
              "    review_id          product_id  ...        product_category indicator\n",
              "0  es_0038754  product_es_0113523  ...                wireless         1\n",
              "1  es_0748979  product_es_0017036  ...                    home         1\n",
              "2  es_0411746  product_es_0138642  ...                     toy         1\n",
              "3  es_0786686  product_es_0170887  ...                    home         1\n",
              "4  es_0429700  product_es_0710642  ...  digital_ebook_purchase         1\n",
              "\n",
              "[5 rows x 9 columns]"
            ]
          },
          "metadata": {
            "tags": []
          },
          "execution_count": 54
        }
      ]
    },
    {
      "cell_type": "code",
      "metadata": {
        "id": "AiOAQ6Vw-zIj"
      },
      "source": [
        "dls_blk_part2 = DataBlock(blocks = (TextBlock.from_df(text_cols = \"review_body\", seq_len = 80),\n",
        "                              CategoryBlock),\n",
        "                    get_x = ColReader(cols = \"text\"), get_y = ColReader(cols=\"stars\"),\n",
        "                    splitter=ColSplitter('indicator'))"
      ],
      "execution_count": null,
      "outputs": []
    },
    {
      "cell_type": "code",
      "metadata": {
        "id": "FAT0WlyxBkCJ",
        "colab": {
          "base_uri": "https://localhost:8080/",
          "height": 70
        },
        "outputId": "fe428a95-9f6a-44fe-b1f2-643f03dbd8a3"
      },
      "source": [
        "dls_clf_part2 = dls_blk_part2.dataloaders(df_final_p2, bs=64, seq_len=80)"
      ],
      "execution_count": null,
      "outputs": [
        {
          "output_type": "display_data",
          "data": {
            "text/html": [
              ""
            ],
            "text/plain": [
              "<IPython.core.display.HTML object>"
            ]
          },
          "metadata": {
            "tags": []
          }
        },
        {
          "output_type": "stream",
          "text": [
            "/usr/local/lib/python3.7/dist-packages/numpy/core/_asarray.py:83: VisibleDeprecationWarning: Creating an ndarray from ragged nested sequences (which is a list-or-tuple of lists-or-tuples-or ndarrays with different lengths or shapes) is deprecated. If you meant to do this, you must specify 'dtype=object' when creating the ndarray\n",
            "  return array(a, dtype, copy=False, order=order)\n"
          ],
          "name": "stderr"
        }
      ]
    },
    {
      "cell_type": "code",
      "metadata": {
        "id": "Q8j2cTaTJt6B"
      },
      "source": [
        "learn_clf_part2 = text_classifier_learner(dls_clf_part2, AWD_LSTM, drop_mult=0.3,metrics = accuracy).to_fp16()"
      ],
      "execution_count": null,
      "outputs": []
    },
    {
      "cell_type": "code",
      "metadata": {
        "id": "XuTlhHpfO7cr",
        "colab": {
          "base_uri": "https://localhost:8080/",
          "height": 80
        },
        "outputId": "3f98fc01-3f6a-421f-c1b4-342ab1eb5c4a"
      },
      "source": [
        "learn_clf_part2.fit_one_cycle(1, 2e-2)"
      ],
      "execution_count": null,
      "outputs": [
        {
          "output_type": "display_data",
          "data": {
            "text/html": [
              "<table border=\"1\" class=\"dataframe\">\n",
              "  <thead>\n",
              "    <tr style=\"text-align: left;\">\n",
              "      <th>epoch</th>\n",
              "      <th>train_loss</th>\n",
              "      <th>valid_loss</th>\n",
              "      <th>accuracy</th>\n",
              "      <th>time</th>\n",
              "    </tr>\n",
              "  </thead>\n",
              "  <tbody>\n",
              "    <tr>\n",
              "      <td>0</td>\n",
              "      <td>0.934815</td>\n",
              "      <td>0.912884</td>\n",
              "      <td>0.551600</td>\n",
              "      <td>04:11</td>\n",
              "    </tr>\n",
              "  </tbody>\n",
              "</table>"
            ],
            "text/plain": [
              "<IPython.core.display.HTML object>"
            ]
          },
          "metadata": {
            "tags": []
          }
        }
      ]
    },
    {
      "cell_type": "code",
      "metadata": {
        "id": "LsihFPxLPBK2",
        "colab": {
          "base_uri": "https://localhost:8080/",
          "height": 300
        },
        "outputId": "b6b3c032-9a30-45ec-ddd2-bc5cbb43f319"
      },
      "source": [
        "learn_clf_part2.lr_find()"
      ],
      "execution_count": null,
      "outputs": [
        {
          "output_type": "display_data",
          "data": {
            "text/html": [
              ""
            ],
            "text/plain": [
              "<IPython.core.display.HTML object>"
            ]
          },
          "metadata": {
            "tags": []
          }
        },
        {
          "output_type": "execute_result",
          "data": {
            "text/plain": [
              "SuggestedLRs(valley=tensor(0.0005))"
            ]
          },
          "metadata": {
            "tags": []
          },
          "execution_count": 59
        },
        {
          "output_type": "display_data",
          "data": {
            "image/png": "[encoded data removed]",
            "text/plain": [
              "<Figure size 432x288 with 1 Axes>"
            ]
          },
          "metadata": {
            "tags": [],
            "needs_background": "light"
          }
        }
      ]
    },
    {
      "cell_type": "code",
      "metadata": {
        "id": "dwGGtatgRZzB",
        "colab": {
          "base_uri": "https://localhost:8080/",
          "height": 80
        },
        "outputId": "839f6894-0019-4f68-f92f-27c3e6e954a5"
      },
      "source": [
        "learn_clf_part2.unfreeze()\n",
        "learn_clf_part2.fit_one_cycle(1, 5e-4)"
      ],
      "execution_count": null,
      "outputs": [
        {
          "output_type": "display_data",
          "data": {
            "text/html": [
              "<table border=\"1\" class=\"dataframe\">\n",
              "  <thead>\n",
              "    <tr style=\"text-align: left;\">\n",
              "      <th>epoch</th>\n",
              "      <th>train_loss</th>\n",
              "      <th>valid_loss</th>\n",
              "      <th>accuracy</th>\n",
              "      <th>time</th>\n",
              "    </tr>\n",
              "  </thead>\n",
              "  <tbody>\n",
              "    <tr>\n",
              "      <td>0</td>\n",
              "      <td>0.629436</td>\n",
              "      <td>0.605410</td>\n",
              "      <td>0.719200</td>\n",
              "      <td>05:02</td>\n",
              "    </tr>\n",
              "  </tbody>\n",
              "</table>"
            ],
            "text/plain": [
              "<IPython.core.display.HTML object>"
            ]
          },
          "metadata": {
            "tags": []
          }
        }
      ]
    },
    {
      "cell_type": "code",
      "metadata": {
        "id": "fEEjzvCjRm4Y"
      },
      "source": [
        "df_final_p3 = df_final_p1\n",
        "df_final_p3['stars'] = df_final_p3['stars'].apply(lambda x: '1-2-3' if x in ['1','2','3'] else '4-5')"
      ],
      "execution_count": null,
      "outputs": []
    },
    {
      "cell_type": "code",
      "metadata": {
        "id": "Rnvr0OR6UPfQ"
      },
      "source": [
        "dls_blk_part2_1 = DataBlock(blocks = (TextBlock.from_df(text_cols = \"review_body\", seq_len = 80),\n",
        "                              CategoryBlock),\n",
        "                    get_x = ColReader(cols = \"text\"), get_y = ColReader(cols=\"stars\"),\n",
        "                    splitter=ColSplitter('indicator'))"
      ],
      "execution_count": null,
      "outputs": []
    },
    {
      "cell_type": "code",
      "metadata": {
        "id": "L87eTITlUmgE",
        "colab": {
          "base_uri": "https://localhost:8080/",
          "height": 70
        },
        "outputId": "10378269-a7cf-41a3-ae5d-1f56a696d72f"
      },
      "source": [
        "dls_clf_part2_1 = dls_blk_part2_1.dataloaders(df_final_p3, bs=64, seq_len=80)"
      ],
      "execution_count": null,
      "outputs": [
        {
          "output_type": "display_data",
          "data": {
            "text/html": [
              ""
            ],
            "text/plain": [
              "<IPython.core.display.HTML object>"
            ]
          },
          "metadata": {
            "tags": []
          }
        },
        {
          "output_type": "stream",
          "text": [
            "/usr/local/lib/python3.7/dist-packages/numpy/core/_asarray.py:83: VisibleDeprecationWarning: Creating an ndarray from ragged nested sequences (which is a list-or-tuple of lists-or-tuples-or ndarrays with different lengths or shapes) is deprecated. If you meant to do this, you must specify 'dtype=object' when creating the ndarray\n",
            "  return array(a, dtype, copy=False, order=order)\n"
          ],
          "name": "stderr"
        }
      ]
    },
    {
      "cell_type": "code",
      "metadata": {
        "id": "dezyhzWGUs7H"
      },
      "source": [
        "learn_clf_part2_1 = text_classifier_learner(dls_clf_part2_1, AWD_LSTM, drop_mult=0.3,metrics = accuracy).to_fp16()"
      ],
      "execution_count": null,
      "outputs": []
    },
    {
      "cell_type": "code",
      "metadata": {
        "id": "LVeuJwSeUw7L",
        "colab": {
          "base_uri": "https://localhost:8080/",
          "height": 80
        },
        "outputId": "79e7e34f-e7af-491e-f229-47584352fd80"
      },
      "source": [
        "learn_clf_part2_1.fit_one_cycle(1, 2e-2)"
      ],
      "execution_count": null,
      "outputs": [
        {
          "output_type": "display_data",
          "data": {
            "text/html": [
              "<table border=\"1\" class=\"dataframe\">\n",
              "  <thead>\n",
              "    <tr style=\"text-align: left;\">\n",
              "      <th>epoch</th>\n",
              "      <th>train_loss</th>\n",
              "      <th>valid_loss</th>\n",
              "      <th>accuracy</th>\n",
              "      <th>time</th>\n",
              "    </tr>\n",
              "  </thead>\n",
              "  <tbody>\n",
              "    <tr>\n",
              "      <td>0</td>\n",
              "      <td>0.000000</td>\n",
              "      <td>0.000000</td>\n",
              "      <td>1.000000</td>\n",
              "      <td>04:07</td>\n",
              "    </tr>\n",
              "  </tbody>\n",
              "</table>"
            ],
            "text/plain": [
              "<IPython.core.display.HTML object>"
            ]
          },
          "metadata": {
            "tags": []
          }
        }
      ]
    },
    {
      "cell_type": "code",
      "metadata": {
        "id": "N0ObeLsaU1EE"
      },
      "source": [
        ""
      ],
      "execution_count": null,
      "outputs": []
    }
  ]
}