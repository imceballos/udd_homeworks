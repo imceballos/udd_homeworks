{
  "nbformat": 4,
  "nbformat_minor": 0,
  "metadata": {
    "accelerator": "GPU",
    "colab": {
      "name": "Tarea2_MLAplicado.ipynb",
      "provenance": [],
      "collapsed_sections": [],
      "include_colab_link": true
    },
    "kernelspec": {
      "display_name": "Python 3",
      "name": "python3"
    },
    "language_info": {
      "name": "python"
    }
  },
  "cells": [
    {
      "cell_type": "markdown",
      "metadata": {
        "id": "view-in-github",
        "colab_type": "text"
      },
      "source": [
        "<a href=\"https://colab.research.google.com/github/imceballos/udd_homeworks/blob/main/Tarea2_MLAplicado.ipynb\" target=\"_parent\"><img src=\"https://colab.research.google.com/assets/colab-badge.svg\" alt=\"Open In Colab\"/></a>"
      ]
    },
    {
      "cell_type": "markdown",
      "metadata": {
        "id": "Xy1RIwc3jCNl"
      },
      "source": [
        "# <h2>Modelos de lenguaje y clasificación de texto</h2>"
      ]
    },
    {
      "cell_type": "markdown",
      "metadata": {
        "id": "-ow3HZOVtqxm"
      },
      "source": [
        "Autor: Israel Ceballos\n",
        "\n",
        "Profesor: Alonso Astroza"
      ]
    },
    {
      "cell_type": "markdown",
      "metadata": {
        "id": "UbVbY2E7kLsm"
      },
      "source": [
        "El objetivo de este trabajo es crear un clasificador de **reviews** en base a reseñas de **Amazon**"
      ]
    },
    {
      "cell_type": "markdown",
      "metadata": {
        "id": "O-q9NlRvlGQx"
      },
      "source": [
        "## *Instalación de libreria fastai*"
      ]
    },
    {
      "cell_type": "code",
      "metadata": {
        "colab": {
          "base_uri": "https://localhost:8080/"
        },
        "id": "veX1AYAdj2O3",
        "outputId": "25d7ecbb-9246-4013-d770-24d0ba258a23"
      },
      "source": [
        "!pip install fastai"
      ],
      "execution_count": 1,
      "outputs": [
        {
          "output_type": "stream",
          "text": [
            "Requirement already satisfied: fastai in /usr/local/lib/python3.7/dist-packages (1.0.61)\n",
            "Requirement already satisfied: fastprogress>=0.2.1 in /usr/local/lib/python3.7/dist-packages (from fastai) (1.0.0)\n",
            "Requirement already satisfied: beautifulsoup4 in /usr/local/lib/python3.7/dist-packages (from fastai) (4.6.3)\n",
            "Requirement already satisfied: torch>=1.0.0 in /usr/local/lib/python3.7/dist-packages (from fastai) (1.9.0+cu102)\n",
            "Requirement already satisfied: bottleneck in /usr/local/lib/python3.7/dist-packages (from fastai) (1.3.2)\n",
            "Requirement already satisfied: spacy>=2.0.18; python_version < \"3.8\" in /usr/local/lib/python3.7/dist-packages (from fastai) (2.2.4)\n",
            "Requirement already satisfied: requests in /usr/local/lib/python3.7/dist-packages (from fastai) (2.23.0)\n",
            "Requirement already satisfied: pyyaml in /usr/local/lib/python3.7/dist-packages (from fastai) (3.13)\n",
            "Requirement already satisfied: nvidia-ml-py3 in /usr/local/lib/python3.7/dist-packages (from fastai) (7.352.0)\n",
            "Requirement already satisfied: numexpr in /usr/local/lib/python3.7/dist-packages (from fastai) (2.7.3)\n",
            "Requirement already satisfied: Pillow in /usr/local/lib/python3.7/dist-packages (from fastai) (7.1.2)\n",
            "Requirement already satisfied: scipy in /usr/local/lib/python3.7/dist-packages (from fastai) (1.4.1)\n",
            "Requirement already satisfied: torchvision in /usr/local/lib/python3.7/dist-packages (from fastai) (0.10.0+cu102)\n",
            "Requirement already satisfied: numpy>=1.15 in /usr/local/lib/python3.7/dist-packages (from fastai) (1.19.5)\n",
            "Requirement already satisfied: packaging in /usr/local/lib/python3.7/dist-packages (from fastai) (20.9)\n",
            "Requirement already satisfied: pandas in /usr/local/lib/python3.7/dist-packages (from fastai) (1.1.5)\n",
            "Requirement already satisfied: matplotlib in /usr/local/lib/python3.7/dist-packages (from fastai) (3.2.2)\n",
            "Requirement already satisfied: typing-extensions in /usr/local/lib/python3.7/dist-packages (from torch>=1.0.0->fastai) (3.7.4.3)\n",
            "Requirement already satisfied: srsly<1.1.0,>=1.0.2 in /usr/local/lib/python3.7/dist-packages (from spacy>=2.0.18; python_version < \"3.8\"->fastai) (1.0.5)\n",
            "Requirement already satisfied: setuptools in /usr/local/lib/python3.7/dist-packages (from spacy>=2.0.18; python_version < \"3.8\"->fastai) (57.0.0)\n",
            "Requirement already satisfied: murmurhash<1.1.0,>=0.28.0 in /usr/local/lib/python3.7/dist-packages (from spacy>=2.0.18; python_version < \"3.8\"->fastai) (1.0.5)\n",
            "Requirement already satisfied: cymem<2.1.0,>=2.0.2 in /usr/local/lib/python3.7/dist-packages (from spacy>=2.0.18; python_version < \"3.8\"->fastai) (2.0.5)\n",
            "Requirement already satisfied: blis<0.5.0,>=0.4.0 in /usr/local/lib/python3.7/dist-packages (from spacy>=2.0.18; python_version < \"3.8\"->fastai) (0.4.1)\n",
            "Requirement already satisfied: tqdm<5.0.0,>=4.38.0 in /usr/local/lib/python3.7/dist-packages (from spacy>=2.0.18; python_version < \"3.8\"->fastai) (4.41.1)\n",
            "Requirement already satisfied: plac<1.2.0,>=0.9.6 in /usr/local/lib/python3.7/dist-packages (from spacy>=2.0.18; python_version < \"3.8\"->fastai) (1.1.3)\n",
            "Requirement already satisfied: wasabi<1.1.0,>=0.4.0 in /usr/local/lib/python3.7/dist-packages (from spacy>=2.0.18; python_version < \"3.8\"->fastai) (0.8.2)\n",
            "Requirement already satisfied: preshed<3.1.0,>=3.0.2 in /usr/local/lib/python3.7/dist-packages (from spacy>=2.0.18; python_version < \"3.8\"->fastai) (3.0.5)\n",
            "Requirement already satisfied: catalogue<1.1.0,>=0.0.7 in /usr/local/lib/python3.7/dist-packages (from spacy>=2.0.18; python_version < \"3.8\"->fastai) (1.0.0)\n",
            "Requirement already satisfied: thinc==7.4.0 in /usr/local/lib/python3.7/dist-packages (from spacy>=2.0.18; python_version < \"3.8\"->fastai) (7.4.0)\n",
            "Requirement already satisfied: urllib3!=1.25.0,!=1.25.1,<1.26,>=1.21.1 in /usr/local/lib/python3.7/dist-packages (from requests->fastai) (1.24.3)\n",
            "Requirement already satisfied: chardet<4,>=3.0.2 in /usr/local/lib/python3.7/dist-packages (from requests->fastai) (3.0.4)\n",
            "Requirement already satisfied: certifi>=2017.4.17 in /usr/local/lib/python3.7/dist-packages (from requests->fastai) (2021.5.30)\n",
            "Requirement already satisfied: idna<3,>=2.5 in /usr/local/lib/python3.7/dist-packages (from requests->fastai) (2.10)\n",
            "Requirement already satisfied: pyparsing>=2.0.2 in /usr/local/lib/python3.7/dist-packages (from packaging->fastai) (2.4.7)\n",
            "Requirement already satisfied: python-dateutil>=2.7.3 in /usr/local/lib/python3.7/dist-packages (from pandas->fastai) (2.8.1)\n",
            "Requirement already satisfied: pytz>=2017.2 in /usr/local/lib/python3.7/dist-packages (from pandas->fastai) (2018.9)\n",
            "Requirement already satisfied: kiwisolver>=1.0.1 in /usr/local/lib/python3.7/dist-packages (from matplotlib->fastai) (1.3.1)\n",
            "Requirement already satisfied: cycler>=0.10 in /usr/local/lib/python3.7/dist-packages (from matplotlib->fastai) (0.10.0)\n",
            "Requirement already satisfied: importlib-metadata>=0.20; python_version < \"3.8\" in /usr/local/lib/python3.7/dist-packages (from catalogue<1.1.0,>=0.0.7->spacy>=2.0.18; python_version < \"3.8\"->fastai) (4.5.0)\n",
            "Requirement already satisfied: six>=1.5 in /usr/local/lib/python3.7/dist-packages (from python-dateutil>=2.7.3->pandas->fastai) (1.15.0)\n",
            "Requirement already satisfied: zipp>=0.5 in /usr/local/lib/python3.7/dist-packages (from importlib-metadata>=0.20; python_version < \"3.8\"->catalogue<1.1.0,>=0.0.7->spacy>=2.0.18; python_version < \"3.8\"->fastai) (3.4.1)\n"
          ],
          "name": "stdout"
        }
      ]
    },
    {
      "cell_type": "code",
      "metadata": {
        "colab": {
          "base_uri": "https://localhost:8080/"
        },
        "id": "QHcgc_DTlNHx",
        "outputId": "468c0a5f-6643-49dd-c24a-b6b1c146680d"
      },
      "source": [
        "!pip install fastai-ulmfit"
      ],
      "execution_count": 2,
      "outputs": [
        {
          "output_type": "stream",
          "text": [
            "Collecting fastai-ulmfit\n",
            "  Downloading https://files.pythonhosted.org/packages/73/e4/5389c4d53a59356f5f2ac503138fe7572a310d154eacad091b5a761b79b3/fastai_ulmfit-0.0.4-py3-none-any.whl\n",
            "Collecting sentencepiece>=0.1.95\n",
            "\u001b[?25l  Downloading https://files.pythonhosted.org/packages/ac/aa/1437691b0c7c83086ebb79ce2da16e00bef024f24fec2a5161c35476f499/sentencepiece-0.1.96-cp37-cp37m-manylinux_2_17_x86_64.manylinux2014_x86_64.whl (1.2MB)\n",
            "\u001b[K     |████████████████████████████████| 1.2MB 2.9MB/s \n",
            "\u001b[?25hCollecting fastai>=2.2.7\n",
            "\u001b[?25l  Downloading https://files.pythonhosted.org/packages/bd/ca/bc9f4e04adcdfda1357f5c63bc67a7bf4f315883ca544726f3376b1ed068/fastai-2.4-py3-none-any.whl (187kB)\n",
            "\u001b[K     |████████████████████████████████| 194kB 9.6MB/s \n",
            "\u001b[?25hRequirement already satisfied: pandas in /usr/local/lib/python3.7/dist-packages (from fastai>=2.2.7->fastai-ulmfit) (1.1.5)\n",
            "Requirement already satisfied: scikit-learn in /usr/local/lib/python3.7/dist-packages (from fastai>=2.2.7->fastai-ulmfit) (0.22.2.post1)\n",
            "Requirement already satisfied: fastprogress>=0.2.4 in /usr/local/lib/python3.7/dist-packages (from fastai>=2.2.7->fastai-ulmfit) (1.0.0)\n",
            "Requirement already satisfied: requests in /usr/local/lib/python3.7/dist-packages (from fastai>=2.2.7->fastai-ulmfit) (2.23.0)\n",
            "Requirement already satisfied: matplotlib in /usr/local/lib/python3.7/dist-packages (from fastai>=2.2.7->fastai-ulmfit) (3.2.2)\n",
            "Requirement already satisfied: pyyaml in /usr/local/lib/python3.7/dist-packages (from fastai>=2.2.7->fastai-ulmfit) (3.13)\n",
            "Collecting fastcore<1.4,>=1.3.8\n",
            "\u001b[?25l  Downloading https://files.pythonhosted.org/packages/d8/b0/f1fbf554e0bf3c76e1bdc3b82eedfe41fcf656479586be38c64421082b1b/fastcore-1.3.20-py3-none-any.whl (53kB)\n",
            "\u001b[K     |████████████████████████████████| 61kB 6.5MB/s \n",
            "\u001b[?25hRequirement already satisfied: scipy in /usr/local/lib/python3.7/dist-packages (from fastai>=2.2.7->fastai-ulmfit) (1.4.1)\n",
            "Requirement already satisfied: spacy<4 in /usr/local/lib/python3.7/dist-packages (from fastai>=2.2.7->fastai-ulmfit) (2.2.4)\n",
            "Requirement already satisfied: packaging in /usr/local/lib/python3.7/dist-packages (from fastai>=2.2.7->fastai-ulmfit) (20.9)\n",
            "Requirement already satisfied: torch<1.10,>=1.7.0 in /usr/local/lib/python3.7/dist-packages (from fastai>=2.2.7->fastai-ulmfit) (1.9.0+cu102)\n",
            "Requirement already satisfied: torchvision>=0.8.2 in /usr/local/lib/python3.7/dist-packages (from fastai>=2.2.7->fastai-ulmfit) (0.10.0+cu102)\n",
            "Requirement already satisfied: pip in /usr/local/lib/python3.7/dist-packages (from fastai>=2.2.7->fastai-ulmfit) (19.3.1)\n",
            "Requirement already satisfied: pillow>6.0.0 in /usr/local/lib/python3.7/dist-packages (from fastai>=2.2.7->fastai-ulmfit) (7.1.2)\n",
            "Requirement already satisfied: python-dateutil>=2.7.3 in /usr/local/lib/python3.7/dist-packages (from pandas->fastai>=2.2.7->fastai-ulmfit) (2.8.1)\n",
            "Requirement already satisfied: pytz>=2017.2 in /usr/local/lib/python3.7/dist-packages (from pandas->fastai>=2.2.7->fastai-ulmfit) (2018.9)\n",
            "Requirement already satisfied: numpy>=1.15.4 in /usr/local/lib/python3.7/dist-packages (from pandas->fastai>=2.2.7->fastai-ulmfit) (1.19.5)\n",
            "Requirement already satisfied: joblib>=0.11 in /usr/local/lib/python3.7/dist-packages (from scikit-learn->fastai>=2.2.7->fastai-ulmfit) (1.0.1)\n",
            "Requirement already satisfied: certifi>=2017.4.17 in /usr/local/lib/python3.7/dist-packages (from requests->fastai>=2.2.7->fastai-ulmfit) (2021.5.30)\n",
            "Requirement already satisfied: chardet<4,>=3.0.2 in /usr/local/lib/python3.7/dist-packages (from requests->fastai>=2.2.7->fastai-ulmfit) (3.0.4)\n",
            "Requirement already satisfied: urllib3!=1.25.0,!=1.25.1,<1.26,>=1.21.1 in /usr/local/lib/python3.7/dist-packages (from requests->fastai>=2.2.7->fastai-ulmfit) (1.24.3)\n",
            "Requirement already satisfied: idna<3,>=2.5 in /usr/local/lib/python3.7/dist-packages (from requests->fastai>=2.2.7->fastai-ulmfit) (2.10)\n",
            "Requirement already satisfied: cycler>=0.10 in /usr/local/lib/python3.7/dist-packages (from matplotlib->fastai>=2.2.7->fastai-ulmfit) (0.10.0)\n",
            "Requirement already satisfied: kiwisolver>=1.0.1 in /usr/local/lib/python3.7/dist-packages (from matplotlib->fastai>=2.2.7->fastai-ulmfit) (1.3.1)\n",
            "Requirement already satisfied: pyparsing!=2.0.4,!=2.1.2,!=2.1.6,>=2.0.1 in /usr/local/lib/python3.7/dist-packages (from matplotlib->fastai>=2.2.7->fastai-ulmfit) (2.4.7)\n",
            "Requirement already satisfied: plac<1.2.0,>=0.9.6 in /usr/local/lib/python3.7/dist-packages (from spacy<4->fastai>=2.2.7->fastai-ulmfit) (1.1.3)\n",
            "Requirement already satisfied: srsly<1.1.0,>=1.0.2 in /usr/local/lib/python3.7/dist-packages (from spacy<4->fastai>=2.2.7->fastai-ulmfit) (1.0.5)\n",
            "Requirement already satisfied: tqdm<5.0.0,>=4.38.0 in /usr/local/lib/python3.7/dist-packages (from spacy<4->fastai>=2.2.7->fastai-ulmfit) (4.41.1)\n",
            "Requirement already satisfied: thinc==7.4.0 in /usr/local/lib/python3.7/dist-packages (from spacy<4->fastai>=2.2.7->fastai-ulmfit) (7.4.0)\n",
            "Requirement already satisfied: blis<0.5.0,>=0.4.0 in /usr/local/lib/python3.7/dist-packages (from spacy<4->fastai>=2.2.7->fastai-ulmfit) (0.4.1)\n",
            "Requirement already satisfied: cymem<2.1.0,>=2.0.2 in /usr/local/lib/python3.7/dist-packages (from spacy<4->fastai>=2.2.7->fastai-ulmfit) (2.0.5)\n",
            "Requirement already satisfied: murmurhash<1.1.0,>=0.28.0 in /usr/local/lib/python3.7/dist-packages (from spacy<4->fastai>=2.2.7->fastai-ulmfit) (1.0.5)\n",
            "Requirement already satisfied: preshed<3.1.0,>=3.0.2 in /usr/local/lib/python3.7/dist-packages (from spacy<4->fastai>=2.2.7->fastai-ulmfit) (3.0.5)\n",
            "Requirement already satisfied: catalogue<1.1.0,>=0.0.7 in /usr/local/lib/python3.7/dist-packages (from spacy<4->fastai>=2.2.7->fastai-ulmfit) (1.0.0)\n",
            "Requirement already satisfied: wasabi<1.1.0,>=0.4.0 in /usr/local/lib/python3.7/dist-packages (from spacy<4->fastai>=2.2.7->fastai-ulmfit) (0.8.2)\n",
            "Requirement already satisfied: setuptools in /usr/local/lib/python3.7/dist-packages (from spacy<4->fastai>=2.2.7->fastai-ulmfit) (57.0.0)\n",
            "Requirement already satisfied: typing-extensions in /usr/local/lib/python3.7/dist-packages (from torch<1.10,>=1.7.0->fastai>=2.2.7->fastai-ulmfit) (3.7.4.3)\n",
            "Requirement already satisfied: six>=1.5 in /usr/local/lib/python3.7/dist-packages (from python-dateutil>=2.7.3->pandas->fastai>=2.2.7->fastai-ulmfit) (1.15.0)\n",
            "Requirement already satisfied: importlib-metadata>=0.20; python_version < \"3.8\" in /usr/local/lib/python3.7/dist-packages (from catalogue<1.1.0,>=0.0.7->spacy<4->fastai>=2.2.7->fastai-ulmfit) (4.5.0)\n",
            "Requirement already satisfied: zipp>=0.5 in /usr/local/lib/python3.7/dist-packages (from importlib-metadata>=0.20; python_version < \"3.8\"->catalogue<1.1.0,>=0.0.7->spacy<4->fastai>=2.2.7->fastai-ulmfit) (3.4.1)\n",
            "Installing collected packages: sentencepiece, fastcore, fastai, fastai-ulmfit\n",
            "  Found existing installation: fastai 1.0.61\n",
            "    Uninstalling fastai-1.0.61:\n",
            "      Successfully uninstalled fastai-1.0.61\n",
            "Successfully installed fastai-2.4 fastai-ulmfit-0.0.4 fastcore-1.3.20 sentencepiece-0.1.96\n"
          ],
          "name": "stdout"
        }
      ]
    },
    {
      "cell_type": "code",
      "metadata": {
        "id": "1oSRwr2iINzS"
      },
      "source": [
        "from fastai.text import *\n",
        "from fastai.text.all import *\n",
        "\n",
        "from fastai_ulmfit.pretrained import *"
      ],
      "execution_count": 3,
      "outputs": []
    },
    {
      "cell_type": "markdown",
      "metadata": {
        "id": "36ZeIFPN742L"
      },
      "source": [
        "Crearemos la carpeta data, esta nos servira pronto para almacenar la data "
      ]
    },
    {
      "cell_type": "code",
      "metadata": {
        "id": "AzV5CKOrl1EH"
      },
      "source": [
        "path = Path('data')\n",
        "dest = path\n",
        "dest.mkdir(parents=True, exist_ok=True)"
      ],
      "execution_count": 4,
      "outputs": []
    },
    {
      "cell_type": "markdown",
      "metadata": {
        "id": "d_CGEady21oP"
      },
      "source": [
        "## <h2>Autenticación y descarga en GCP </h2>"
      ]
    },
    {
      "cell_type": "markdown",
      "metadata": {
        "id": "TYWvcdre8EJU"
      },
      "source": [
        "La información esta alojada en GCP (Google Cloud Platform), para poder acceder a ella debe logerarse con su cuenta alonsoastroza@gmail.com, esta cuenta tiene habilitado los permisos para acceder a descargar la infromación."
      ]
    },
    {
      "cell_type": "code",
      "metadata": {
        "colab": {
          "base_uri": "https://localhost:8080/"
        },
        "id": "kprEtK6crsqy",
        "outputId": "78957621-429a-4ba0-81dd-ce13a17f1871"
      },
      "source": [
        "!gcloud auth login"
      ],
      "execution_count": 5,
      "outputs": [
        {
          "output_type": "stream",
          "text": [
            "Go to the following link in your browser:\n",
            "\n",
            "    https://accounts.google.com/o/oauth2/auth?response_type=code&client_id=32555940559.apps.googleusercontent.com&redirect_uri=urn%3Aietf%3Awg%3Aoauth%3A2.0%3Aoob&scope=openid+https%3A%2F%2Fwww.googleapis.com%2Fauth%2Fuserinfo.email+https%3A%2F%2Fwww.googleapis.com%2Fauth%2Fcloud-platform+https%3A%2F%2Fwww.googleapis.com%2Fauth%2Fappengine.admin+https%3A%2F%2Fwww.googleapis.com%2Fauth%2Fcompute+https%3A%2F%2Fwww.googleapis.com%2Fauth%2Faccounts.reauth&state=eHGx9jRylZZYaJoVU1hhxqwVSJEI9G&prompt=consent&access_type=offline&code_challenge=cgPGdnl3WvL0wc_m1X_IgKyynGF7fzO7PZcUUb-bn1U&code_challenge_method=S256\n",
            "\n",
            "Enter verification code: 4/1AX4XfWizMGlidQLzrrFIrxxySA8YK0E5eEw6yK9-MTlYorzYeL015RPAta0\n",
            "\n",
            "You are now logged in as [eliizabeth.fren@gmail.com].\n",
            "Your current project is [None].  You can change this setting by running:\n",
            "  $ gcloud config set project PROJECT_ID\n",
            "\n",
            "\n",
            "To take a quick anonymous survey, run:\n",
            "  $ gcloud survey\n",
            "\n"
          ],
          "name": "stdout"
        }
      ]
    },
    {
      "cell_type": "markdown",
      "metadata": {
        "id": "-FtQqf-286sQ"
      },
      "source": [
        "### <h3>Descargamos la información de dataset_es_train</h3>"
      ]
    },
    {
      "cell_type": "code",
      "metadata": {
        "colab": {
          "base_uri": "https://localhost:8080/"
        },
        "id": "KKjfRosep1PI",
        "outputId": "05050bd3-9304-465f-9967-deab9a25cbbc"
      },
      "source": [
        "!gsutil cp -r  gs://tareaml2/dataset_es_train.json data/"
      ],
      "execution_count": 6,
      "outputs": [
        {
          "output_type": "stream",
          "text": [
            "Copying gs://tareaml2/dataset_es_train.json...\n",
            "- [1 files][ 73.9 MiB/ 73.9 MiB]                                                \n",
            "Operation completed over 1 objects/73.9 MiB.                                     \n"
          ],
          "name": "stdout"
        }
      ]
    },
    {
      "cell_type": "markdown",
      "metadata": {
        "id": "JgbdO9uc9KIK"
      },
      "source": [
        "###<h3>Descargamos la información de dataset_es_test</h3>"
      ]
    },
    {
      "cell_type": "code",
      "metadata": {
        "colab": {
          "base_uri": "https://localhost:8080/"
        },
        "id": "pXoHRABnmQJI",
        "outputId": "5f9a9b23-14ce-4e7c-843a-912936a94cc3"
      },
      "source": [
        "!gsutil cp -r gs://tareaml2/dataset_es_test.json data/"
      ],
      "execution_count": 7,
      "outputs": [
        {
          "output_type": "stream",
          "text": [
            "Copying gs://tareaml2/dataset_es_test.json...\n",
            "/ [0 files][    0.0 B/  1.8 MiB]                                                \r/ [1 files][  1.8 MiB/  1.8 MiB]                                                \r\n",
            "Operation completed over 1 objects/1.8 MiB.                                      \n"
          ],
          "name": "stdout"
        }
      ]
    },
    {
      "cell_type": "markdown",
      "metadata": {
        "id": "32BGjYPNOkp5"
      },
      "source": [
        "##<h2>Carga de los datos (Pregunta 2.1)</h2>"
      ]
    },
    {
      "cell_type": "code",
      "metadata": {
        "id": "73qdLr7Oanf7"
      },
      "source": [
        "import pandas as pd"
      ],
      "execution_count": 8,
      "outputs": []
    },
    {
      "cell_type": "markdown",
      "metadata": {
        "id": "vJex2sOYvuHa"
      },
      "source": [
        "Conjunto de entrenamiento"
      ]
    },
    {
      "cell_type": "code",
      "metadata": {
        "colab": {
          "base_uri": "https://localhost:8080/",
          "height": 455
        },
        "id": "W9f74RH9apiE",
        "outputId": "22b55224-435f-40b7-8aed-82fce721f8b2"
      },
      "source": [
        "df_train = pd.read_json('data/dataset_es_train.json', lines=True)\n",
        "df_train.head()"
      ],
      "execution_count": 9,
      "outputs": [
        {
          "output_type": "execute_result",
          "data": {
            "text/html": [
              "<div>\n",
              "<style scoped>\n",
              "    .dataframe tbody tr th:only-of-type {\n",
              "        vertical-align: middle;\n",
              "    }\n",
              "\n",
              "    .dataframe tbody tr th {\n",
              "        vertical-align: top;\n",
              "    }\n",
              "\n",
              "    .dataframe thead th {\n",
              "        text-align: right;\n",
              "    }\n",
              "</style>\n",
              "<table border=\"1\" class=\"dataframe\">\n",
              "  <thead>\n",
              "    <tr style=\"text-align: right;\">\n",
              "      <th></th>\n",
              "      <th>review_id</th>\n",
              "      <th>product_id</th>\n",
              "      <th>reviewer_id</th>\n",
              "      <th>stars</th>\n",
              "      <th>review_body</th>\n",
              "      <th>review_title</th>\n",
              "      <th>language</th>\n",
              "      <th>product_category</th>\n",
              "    </tr>\n",
              "  </thead>\n",
              "  <tbody>\n",
              "    <tr>\n",
              "      <th>0</th>\n",
              "      <td>es_0491108</td>\n",
              "      <td>product_es_0296024</td>\n",
              "      <td>reviewer_es_0999081</td>\n",
              "      <td>1</td>\n",
              "      <td>Nada bueno se me fue ka pantalla en menos de 8 meses y no he recibido respuesta del fabricante</td>\n",
              "      <td>television Nevir</td>\n",
              "      <td>es</td>\n",
              "      <td>electronics</td>\n",
              "    </tr>\n",
              "    <tr>\n",
              "      <th>1</th>\n",
              "      <td>es_0869872</td>\n",
              "      <td>product_es_0922286</td>\n",
              "      <td>reviewer_es_0216771</td>\n",
              "      <td>1</td>\n",
              "      <td>Horrible, nos tuvimos que comprar otro porque ni nosotros que sabemos inglés, ni un informático, después de una hora fue capaz de instalarlo</td>\n",
              "      <td>Dinero tirado a la basura con esta compra</td>\n",
              "      <td>es</td>\n",
              "      <td>electronics</td>\n",
              "    </tr>\n",
              "    <tr>\n",
              "      <th>2</th>\n",
              "      <td>es_0811721</td>\n",
              "      <td>product_es_0474543</td>\n",
              "      <td>reviewer_es_0929213</td>\n",
              "      <td>1</td>\n",
              "      <td>Te obligan a comprar dos unidades y te llega solo una y no hay forma de reclamar, una autentica estafa, no compreis!!</td>\n",
              "      <td>solo llega una unidad cuando te obligan a comprar dos</td>\n",
              "      <td>es</td>\n",
              "      <td>drugstore</td>\n",
              "    </tr>\n",
              "    <tr>\n",
              "      <th>3</th>\n",
              "      <td>es_0359921</td>\n",
              "      <td>product_es_0656090</td>\n",
              "      <td>reviewer_es_0224702</td>\n",
              "      <td>1</td>\n",
              "      <td>No entro en descalificar al vendedor, solo puedo decir que tras dos meses de espera.... sigo sin el producto y tuve que contactar con Amazon para reclamar su reembolso. Amazon un 10 . Se hace cargo del problema, pero yo e desembolsado mi dinero y en dos meses me lo devuelven Perdida de tiempo TOTAL. Sin palabras. Y Ustedes deciden</td>\n",
              "      <td>PRODUCTO NO RECIBIDO.</td>\n",
              "      <td>es</td>\n",
              "      <td>wireless</td>\n",
              "    </tr>\n",
              "    <tr>\n",
              "      <th>4</th>\n",
              "      <td>es_0068940</td>\n",
              "      <td>product_es_0662544</td>\n",
              "      <td>reviewer_es_0224827</td>\n",
              "      <td>1</td>\n",
              "      <td>Llega tarde y co la talla equivocada</td>\n",
              "      <td>Devuelto</td>\n",
              "      <td>es</td>\n",
              "      <td>shoes</td>\n",
              "    </tr>\n",
              "  </tbody>\n",
              "</table>\n",
              "</div>"
            ],
            "text/plain": [
              "    review_id          product_id  ... language  product_category\n",
              "0  es_0491108  product_es_0296024  ...       es       electronics\n",
              "1  es_0869872  product_es_0922286  ...       es       electronics\n",
              "2  es_0811721  product_es_0474543  ...       es         drugstore\n",
              "3  es_0359921  product_es_0656090  ...       es          wireless\n",
              "4  es_0068940  product_es_0662544  ...       es             shoes\n",
              "\n",
              "[5 rows x 8 columns]"
            ]
          },
          "metadata": {
            "tags": []
          },
          "execution_count": 9
        }
      ]
    },
    {
      "cell_type": "markdown",
      "metadata": {
        "id": "Y0AZdv_7vxY7"
      },
      "source": [
        "Conjunto de validación"
      ]
    },
    {
      "cell_type": "code",
      "metadata": {
        "colab": {
          "base_uri": "https://localhost:8080/",
          "height": 623
        },
        "id": "Jyq6l9PKv7ku",
        "outputId": "57c760c0-147b-4b10-b473-6a373f81d13b"
      },
      "source": [
        "df_test = pd.read_json('data/dataset_es_test.json', lines=True)\n",
        "df_test.head()"
      ],
      "execution_count": 10,
      "outputs": [
        {
          "output_type": "execute_result",
          "data": {
            "text/html": [
              "<div>\n",
              "<style scoped>\n",
              "    .dataframe tbody tr th:only-of-type {\n",
              "        vertical-align: middle;\n",
              "    }\n",
              "\n",
              "    .dataframe tbody tr th {\n",
              "        vertical-align: top;\n",
              "    }\n",
              "\n",
              "    .dataframe thead th {\n",
              "        text-align: right;\n",
              "    }\n",
              "</style>\n",
              "<table border=\"1\" class=\"dataframe\">\n",
              "  <thead>\n",
              "    <tr style=\"text-align: right;\">\n",
              "      <th></th>\n",
              "      <th>review_id</th>\n",
              "      <th>product_id</th>\n",
              "      <th>reviewer_id</th>\n",
              "      <th>stars</th>\n",
              "      <th>review_body</th>\n",
              "      <th>review_title</th>\n",
              "      <th>language</th>\n",
              "      <th>product_category</th>\n",
              "    </tr>\n",
              "  </thead>\n",
              "  <tbody>\n",
              "    <tr>\n",
              "      <th>0</th>\n",
              "      <td>es_0038754</td>\n",
              "      <td>product_es_0113523</td>\n",
              "      <td>reviewer_es_0580071</td>\n",
              "      <td>1</td>\n",
              "      <td>no me llego el articulo me lo mando por correos normal sin seguimiento y nunca me llego tota un desastre</td>\n",
              "      <td>no me llego</td>\n",
              "      <td>es</td>\n",
              "      <td>wireless</td>\n",
              "    </tr>\n",
              "    <tr>\n",
              "      <th>1</th>\n",
              "      <td>es_0748979</td>\n",
              "      <td>product_es_0017036</td>\n",
              "      <td>reviewer_es_0819733</td>\n",
              "      <td>1</td>\n",
              "      <td>la mensajería horrible, no compro mas</td>\n",
              "      <td>amazon sigue sin cumplir en las entregas</td>\n",
              "      <td>es</td>\n",
              "      <td>home</td>\n",
              "    </tr>\n",
              "    <tr>\n",
              "      <th>2</th>\n",
              "      <td>es_0411746</td>\n",
              "      <td>product_es_0138642</td>\n",
              "      <td>reviewer_es_0508607</td>\n",
              "      <td>1</td>\n",
              "      <td>Estoy muy decepcionado con el vendedor ya que el pedido no me llegó a tiempo y no cumplió los plazos de envío y era una cosa que necesitaba urgente. Para colmo me pongo en contacto con el vendedor y no da señales. No recomiendo nada</td>\n",
              "      <td>ESTAFA EN EL ENVÍO</td>\n",
              "      <td>es</td>\n",
              "      <td>toy</td>\n",
              "    </tr>\n",
              "    <tr>\n",
              "      <th>3</th>\n",
              "      <td>es_0786686</td>\n",
              "      <td>product_es_0170887</td>\n",
              "      <td>reviewer_es_0491157</td>\n",
              "      <td>1</td>\n",
              "      <td>Mi valoración no es sobre el producto sino sobre AMAZON. Ofrecéis el producto a 299€ y tras varios días me devolvéis el dinero porque os habéis equivocado en el anuncio, según vosotros, ahora es 399€. Es la primera vez que me ocurre esto. Cuando he comprado en cualquier sitio y el precio marcado no se correspondía con el valor de caja siempre me lo han vendido con el precio marcado. Es inverosímil lo ocurrido, pero la ultima palabra me la dará la oficina del consumidor</td>\n",
              "      <td>Estafa de Amazon</td>\n",
              "      <td>es</td>\n",
              "      <td>home</td>\n",
              "    </tr>\n",
              "    <tr>\n",
              "      <th>4</th>\n",
              "      <td>es_0429700</td>\n",
              "      <td>product_es_0710642</td>\n",
              "      <td>reviewer_es_0008745</td>\n",
              "      <td>1</td>\n",
              "      <td>Pues tenía interés en este libro y probé la versión kindle. se abre la portada pero nada más. parece una mala broma pero me iba a gastar el dedo de tanto tratar que pasara de página de alguna forma. No puedo valorar nada de nada.</td>\n",
              "      <td>No conseguí pasar de la portada en Kindle</td>\n",
              "      <td>es</td>\n",
              "      <td>digital_ebook_purchase</td>\n",
              "    </tr>\n",
              "  </tbody>\n",
              "</table>\n",
              "</div>"
            ],
            "text/plain": [
              "    review_id          product_id  ... language        product_category\n",
              "0  es_0038754  product_es_0113523  ...       es                wireless\n",
              "1  es_0748979  product_es_0017036  ...       es                    home\n",
              "2  es_0411746  product_es_0138642  ...       es                     toy\n",
              "3  es_0786686  product_es_0170887  ...       es                    home\n",
              "4  es_0429700  product_es_0710642  ...       es  digital_ebook_purchase\n",
              "\n",
              "[5 rows x 8 columns]"
            ]
          },
          "metadata": {
            "tags": []
          },
          "execution_count": 10
        }
      ]
    },
    {
      "cell_type": "markdown",
      "metadata": {
        "id": "eeCvlQ_jbRFa"
      },
      "source": [
        "###<h3>Número de stars y largo de reseñas</h3>"
      ]
    },
    {
      "cell_type": "markdown",
      "metadata": {
        "id": "lhRZ42yvv9uq"
      },
      "source": [
        "Conjunto de entrenamiento"
      ]
    },
    {
      "cell_type": "code",
      "metadata": {
        "colab": {
          "base_uri": "https://localhost:8080/"
        },
        "id": "iYpQfBLSbcfr",
        "outputId": "cfb07188-8d59-4b25-d5d6-ab40cc00cb45"
      },
      "source": [
        "df_train['stars'].value_counts()"
      ],
      "execution_count": 11,
      "outputs": [
        {
          "output_type": "execute_result",
          "data": {
            "text/plain": [
              "5    40000\n",
              "4    40000\n",
              "3    40000\n",
              "2    40000\n",
              "1    40000\n",
              "Name: stars, dtype: int64"
            ]
          },
          "metadata": {
            "tags": []
          },
          "execution_count": 11
        }
      ]
    },
    {
      "cell_type": "code",
      "metadata": {
        "id": "WlcUN26VcFgG"
      },
      "source": [
        "reviews_train = df_train[['stars', 'review_body']].apply(lambda x: [x['stars'], len(x['review_body'])], axis=1).tolist()\n",
        "df_reviews_train = pd.DataFrame(reviews_train, columns=['stars','len_reviews'])"
      ],
      "execution_count": 12,
      "outputs": []
    },
    {
      "cell_type": "code",
      "metadata": {
        "colab": {
          "base_uri": "https://localhost:8080/",
          "height": 234
        },
        "id": "osU86USekqcD",
        "outputId": "3bb5a781-8714-44b0-899a-1ee16a289af2"
      },
      "source": [
        "df_reviews_train.groupby('stars').sum()"
      ],
      "execution_count": 13,
      "outputs": [
        {
          "output_type": "execute_result",
          "data": {
            "text/html": [
              "<div>\n",
              "<style scoped>\n",
              "    .dataframe tbody tr th:only-of-type {\n",
              "        vertical-align: middle;\n",
              "    }\n",
              "\n",
              "    .dataframe tbody tr th {\n",
              "        vertical-align: top;\n",
              "    }\n",
              "\n",
              "    .dataframe thead th {\n",
              "        text-align: right;\n",
              "    }\n",
              "</style>\n",
              "<table border=\"1\" class=\"dataframe\">\n",
              "  <thead>\n",
              "    <tr style=\"text-align: right;\">\n",
              "      <th></th>\n",
              "      <th>len_reviews</th>\n",
              "    </tr>\n",
              "    <tr>\n",
              "      <th>stars</th>\n",
              "      <th></th>\n",
              "    </tr>\n",
              "  </thead>\n",
              "  <tbody>\n",
              "    <tr>\n",
              "      <th>1</th>\n",
              "      <td>6115339</td>\n",
              "    </tr>\n",
              "    <tr>\n",
              "      <th>2</th>\n",
              "      <td>6737550</td>\n",
              "    </tr>\n",
              "    <tr>\n",
              "      <th>3</th>\n",
              "      <td>6215212</td>\n",
              "    </tr>\n",
              "    <tr>\n",
              "      <th>4</th>\n",
              "      <td>5694288</td>\n",
              "    </tr>\n",
              "    <tr>\n",
              "      <th>5</th>\n",
              "      <td>5498193</td>\n",
              "    </tr>\n",
              "  </tbody>\n",
              "</table>\n",
              "</div>"
            ],
            "text/plain": [
              "       len_reviews\n",
              "stars             \n",
              "1          6115339\n",
              "2          6737550\n",
              "3          6215212\n",
              "4          5694288\n",
              "5          5498193"
            ]
          },
          "metadata": {
            "tags": []
          },
          "execution_count": 13
        }
      ]
    },
    {
      "cell_type": "markdown",
      "metadata": {
        "id": "ZeuwVv0twA2J"
      },
      "source": [
        "Conjunto de validación"
      ]
    },
    {
      "cell_type": "code",
      "metadata": {
        "colab": {
          "base_uri": "https://localhost:8080/"
        },
        "id": "_0E2d-28wDDM",
        "outputId": "1e4a2725-a7b8-49a4-bef0-55386217a760"
      },
      "source": [
        "df_test['stars'].value_counts()"
      ],
      "execution_count": 14,
      "outputs": [
        {
          "output_type": "execute_result",
          "data": {
            "text/plain": [
              "3    1000\n",
              "2    1000\n",
              "5    1000\n",
              "1    1000\n",
              "4    1000\n",
              "Name: stars, dtype: int64"
            ]
          },
          "metadata": {
            "tags": []
          },
          "execution_count": 14
        }
      ]
    },
    {
      "cell_type": "code",
      "metadata": {
        "id": "SLNSmBAEwG8D"
      },
      "source": [
        "reviews_test = df_test[['stars', 'review_body']].apply(lambda x: [x['stars'], len(x['review_body'])], axis=1).tolist()\n",
        "df_reviews_test = pd.DataFrame(reviews_test, columns=['stars','len_reviews'])"
      ],
      "execution_count": 15,
      "outputs": []
    },
    {
      "cell_type": "code",
      "metadata": {
        "colab": {
          "base_uri": "https://localhost:8080/",
          "height": 234
        },
        "id": "JCtHSGdOwOh-",
        "outputId": "03b0c31a-fa50-4900-a10e-000a20147dda"
      },
      "source": [
        "df_reviews_test.groupby('stars').sum()"
      ],
      "execution_count": 16,
      "outputs": [
        {
          "output_type": "execute_result",
          "data": {
            "text/html": [
              "<div>\n",
              "<style scoped>\n",
              "    .dataframe tbody tr th:only-of-type {\n",
              "        vertical-align: middle;\n",
              "    }\n",
              "\n",
              "    .dataframe tbody tr th {\n",
              "        vertical-align: top;\n",
              "    }\n",
              "\n",
              "    .dataframe thead th {\n",
              "        text-align: right;\n",
              "    }\n",
              "</style>\n",
              "<table border=\"1\" class=\"dataframe\">\n",
              "  <thead>\n",
              "    <tr style=\"text-align: right;\">\n",
              "      <th></th>\n",
              "      <th>len_reviews</th>\n",
              "    </tr>\n",
              "    <tr>\n",
              "      <th>stars</th>\n",
              "      <th></th>\n",
              "    </tr>\n",
              "  </thead>\n",
              "  <tbody>\n",
              "    <tr>\n",
              "      <th>1</th>\n",
              "      <td>156122</td>\n",
              "    </tr>\n",
              "    <tr>\n",
              "      <th>2</th>\n",
              "      <td>164685</td>\n",
              "    </tr>\n",
              "    <tr>\n",
              "      <th>3</th>\n",
              "      <td>155265</td>\n",
              "    </tr>\n",
              "    <tr>\n",
              "      <th>4</th>\n",
              "      <td>143903</td>\n",
              "    </tr>\n",
              "    <tr>\n",
              "      <th>5</th>\n",
              "      <td>139596</td>\n",
              "    </tr>\n",
              "  </tbody>\n",
              "</table>\n",
              "</div>"
            ],
            "text/plain": [
              "       len_reviews\n",
              "stars             \n",
              "1           156122\n",
              "2           164685\n",
              "3           155265\n",
              "4           143903\n",
              "5           139596"
            ]
          },
          "metadata": {
            "tags": []
          },
          "execution_count": 16
        }
      ]
    },
    {
      "cell_type": "markdown",
      "metadata": {
        "id": "8NLUEy75VdPj"
      },
      "source": [
        "##<h2>Entrenamiento del modelo (Pregunta 2.2)</h2>"
      ]
    },
    {
      "cell_type": "markdown",
      "metadata": {
        "id": "FqK4OOhvFnif"
      },
      "source": [
        "###<h3>Tratamiento de los datos</h3>"
      ]
    },
    {
      "cell_type": "markdown",
      "metadata": {
        "id": "xzBudWCKWG_N"
      },
      "source": [
        "Para entrenar este modelo usaremos ULMFIT, el cual se encuentra disponible en la siguiente url:"
      ]
    },
    {
      "cell_type": "code",
      "metadata": {
        "id": "p9eYNZO6RAlN",
        "colab": {
          "base_uri": "https://localhost:8080/",
          "height": 17
        },
        "outputId": "0e7392d3-3522-4481-ac2a-b10e9e660fb0"
      },
      "source": [
        "url = 'http://bit.ly/ulmfit-eswiki'\n",
        "tok = tokenizer_from_pretrained(url)"
      ],
      "execution_count": 17,
      "outputs": [
        {
          "output_type": "display_data",
          "data": {
            "text/html": [
              ""
            ],
            "text/plain": [
              "<IPython.core.display.HTML object>"
            ]
          },
          "metadata": {
            "tags": []
          }
        }
      ]
    },
    {
      "cell_type": "markdown",
      "metadata": {
        "id": "RLJbqN1_ntsu"
      },
      "source": [
        "Concatenación de dataframes"
      ]
    },
    {
      "cell_type": "code",
      "metadata": {
        "id": "JkMHU7u5p_HY"
      },
      "source": [
        "df_train['indicator'] = 0\n",
        "df_test['indicator'] = 1"
      ],
      "execution_count": 18,
      "outputs": []
    },
    {
      "cell_type": "code",
      "metadata": {
        "id": "UmVuslzdn4k2"
      },
      "source": [
        "df_final_p1 = pd.concat([df_test, df_train])"
      ],
      "execution_count": 19,
      "outputs": []
    },
    {
      "cell_type": "code",
      "metadata": {
        "id": "eX0_o7Tup8Il",
        "colab": {
          "base_uri": "https://localhost:8080/"
        },
        "outputId": "a3742a29-70d8-483b-9f19-2e9070566123"
      },
      "source": [
        "df_final_p1.shape"
      ],
      "execution_count": 20,
      "outputs": [
        {
          "output_type": "execute_result",
          "data": {
            "text/plain": [
              "(205000, 9)"
            ]
          },
          "metadata": {
            "tags": []
          },
          "execution_count": 20
        }
      ]
    },
    {
      "cell_type": "markdown",
      "metadata": {
        "id": "xV0J-9wXFHzh"
      },
      "source": [
        "Extraemos la información desde el *review_body* para aislarla en *df_lm_train*"
      ]
    },
    {
      "cell_type": "code",
      "metadata": {
        "colab": {
          "base_uri": "https://localhost:8080/",
          "height": 237
        },
        "id": "Y9PXhMywzcKx",
        "outputId": "11857bf0-3230-4998-c323-4546c39eb332"
      },
      "source": [
        "df_lm_train = df_train[['review_body']]\n",
        "df_lm_train.head()"
      ],
      "execution_count": 21,
      "outputs": [
        {
          "output_type": "execute_result",
          "data": {
            "text/html": [
              "<div>\n",
              "<style scoped>\n",
              "    .dataframe tbody tr th:only-of-type {\n",
              "        vertical-align: middle;\n",
              "    }\n",
              "\n",
              "    .dataframe tbody tr th {\n",
              "        vertical-align: top;\n",
              "    }\n",
              "\n",
              "    .dataframe thead th {\n",
              "        text-align: right;\n",
              "    }\n",
              "</style>\n",
              "<table border=\"1\" class=\"dataframe\">\n",
              "  <thead>\n",
              "    <tr style=\"text-align: right;\">\n",
              "      <th></th>\n",
              "      <th>review_body</th>\n",
              "    </tr>\n",
              "  </thead>\n",
              "  <tbody>\n",
              "    <tr>\n",
              "      <th>0</th>\n",
              "      <td>Nada bueno se me fue ka pantalla en menos de 8 meses y no he recibido respuesta del fabricante</td>\n",
              "    </tr>\n",
              "    <tr>\n",
              "      <th>1</th>\n",
              "      <td>Horrible, nos tuvimos que comprar otro porque ni nosotros que sabemos inglés, ni un informático, después de una hora fue capaz de instalarlo</td>\n",
              "    </tr>\n",
              "    <tr>\n",
              "      <th>2</th>\n",
              "      <td>Te obligan a comprar dos unidades y te llega solo una y no hay forma de reclamar, una autentica estafa, no compreis!!</td>\n",
              "    </tr>\n",
              "    <tr>\n",
              "      <th>3</th>\n",
              "      <td>No entro en descalificar al vendedor, solo puedo decir que tras dos meses de espera.... sigo sin el producto y tuve que contactar con Amazon para reclamar su reembolso. Amazon un 10 . Se hace cargo del problema, pero yo e desembolsado mi dinero y en dos meses me lo devuelven Perdida de tiempo TOTAL. Sin palabras. Y Ustedes deciden</td>\n",
              "    </tr>\n",
              "    <tr>\n",
              "      <th>4</th>\n",
              "      <td>Llega tarde y co la talla equivocada</td>\n",
              "    </tr>\n",
              "  </tbody>\n",
              "</table>\n",
              "</div>"
            ],
            "text/plain": [
              "                                                                                                                                                                                                                                                                                                                                    review_body\n",
              "0                                                                                                                                                                                                                                                Nada bueno se me fue ka pantalla en menos de 8 meses y no he recibido respuesta del fabricante\n",
              "1                                                                                                                                                                                                  Horrible, nos tuvimos que comprar otro porque ni nosotros que sabemos inglés, ni un informático, después de una hora fue capaz de instalarlo\n",
              "2                                                                                                                                                                                                                         Te obligan a comprar dos unidades y te llega solo una y no hay forma de reclamar, una autentica estafa, no compreis!!\n",
              "3  No entro en descalificar al vendedor, solo puedo decir que tras dos meses de espera.... sigo sin el producto y tuve que contactar con Amazon para reclamar su reembolso. Amazon un 10 . Se hace cargo del problema, pero yo e desembolsado mi dinero y en dos meses me lo devuelven Perdida de tiempo TOTAL. Sin palabras. Y Ustedes deciden\n",
              "4                                                                                                                                                                                                                                                                                                          Llega tarde y co la talla equivocada"
            ]
          },
          "metadata": {
            "tags": []
          },
          "execution_count": 21
        }
      ]
    },
    {
      "cell_type": "markdown",
      "metadata": {
        "id": "zdJQ_RXUGK4G"
      },
      "source": [
        ""
      ]
    },
    {
      "cell_type": "code",
      "metadata": {
        "colab": {
          "base_uri": "https://localhost:8080/",
          "height": 70
        },
        "id": "zAQhOwHby6A2",
        "outputId": "857e72a2-5fa5-466c-c6e5-5bd921ab1626"
      },
      "source": [
        "dblocks = DataBlock(blocks=(TextBlock.from_df('review_body', tok=tok, is_lm=True)),\n",
        "                    get_x=ColReader('text'), \n",
        "                    splitter=ColSplitter('indicator'))\n",
        "\n",
        "dls = dblocks.dataloaders(df_final_p1, bs=64, seq_len=80)"
      ],
      "execution_count": 22,
      "outputs": [
        {
          "output_type": "display_data",
          "data": {
            "text/html": [
              ""
            ],
            "text/plain": [
              "<IPython.core.display.HTML object>"
            ]
          },
          "metadata": {
            "tags": []
          }
        },
        {
          "output_type": "display_data",
          "data": {
            "text/html": [
              ""
            ],
            "text/plain": [
              "<IPython.core.display.HTML object>"
            ]
          },
          "metadata": {
            "tags": []
          }
        },
        {
          "output_type": "stream",
          "text": [
            "/usr/local/lib/python3.7/dist-packages/numpy/core/_asarray.py:83: VisibleDeprecationWarning: Creating an ndarray from ragged nested sequences (which is a list-or-tuple of lists-or-tuples-or ndarrays with different lengths or shapes) is deprecated. If you meant to do this, you must specify 'dtype=object' when creating the ndarray\n",
            "  return array(a, dtype, copy=False, order=order)\n"
          ],
          "name": "stderr"
        }
      ]
    },
    {
      "cell_type": "code",
      "metadata": {
        "id": "1uCcb7nArmeN"
      },
      "source": [
        "learn_p1 = language_model_from_pretrained(dls, url=url, drop_mult=1, metrics=[accuracy, Perplexity()]).to_fp16()"
      ],
      "execution_count": 23,
      "outputs": []
    },
    {
      "cell_type": "code",
      "metadata": {
        "colab": {
          "base_uri": "https://localhost:8080/",
          "height": 300
        },
        "id": "9TZDD1MM1qcf",
        "outputId": "884aa5c7-acfc-4875-cdb1-683082cf4c91"
      },
      "source": [
        "learn_p1.lr_find()"
      ],
      "execution_count": 24,
      "outputs": [
        {
          "output_type": "display_data",
          "data": {
            "text/html": [
              ""
            ],
            "text/plain": [
              "<IPython.core.display.HTML object>"
            ]
          },
          "metadata": {
            "tags": []
          }
        },
        {
          "output_type": "execute_result",
          "data": {
            "text/plain": [
              "SuggestedLRs(valley=tensor(0.0014))"
            ]
          },
          "metadata": {
            "tags": []
          },
          "execution_count": 24
        },
        {
          "output_type": "display_data",
          "data": {
            "image/png": "[encoded data removed]",
            "text/plain": [
              "<Figure size 432x288 with 1 Axes>"
            ]
          },
          "metadata": {
            "tags": [],
            "needs_background": "light"
          }
        }
      ]
    },
    {
      "cell_type": "code",
      "metadata": {
        "id": "ICL8AqV2tJv-"
      },
      "source": [
        "lr_p1 = 8e-3"
      ],
      "execution_count": 25,
      "outputs": []
    },
    {
      "cell_type": "code",
      "metadata": {
        "colab": {
          "base_uri": "https://localhost:8080/",
          "height": 80
        },
        "id": "xoLqTL1Ako70",
        "outputId": "090acdb9-57a8-4e69-eadb-a23d7c7e7c9c"
      },
      "source": [
        "learn_p1.fit_one_cycle(1, lr_p1 , moms=(0.8,0.7,0.8))"
      ],
      "execution_count": 26,
      "outputs": [
        {
          "output_type": "display_data",
          "data": {
            "text/html": [
              "<table border=\"1\" class=\"dataframe\">\n",
              "  <thead>\n",
              "    <tr style=\"text-align: left;\">\n",
              "      <th>epoch</th>\n",
              "      <th>train_loss</th>\n",
              "      <th>valid_loss</th>\n",
              "      <th>accuracy</th>\n",
              "      <th>perplexity</th>\n",
              "      <th>time</th>\n",
              "    </tr>\n",
              "  </thead>\n",
              "  <tbody>\n",
              "    <tr>\n",
              "      <td>0</td>\n",
              "      <td>4.139897</td>\n",
              "      <td>3.918839</td>\n",
              "      <td>0.260982</td>\n",
              "      <td>50.341938</td>\n",
              "      <td>06:20</td>\n",
              "    </tr>\n",
              "  </tbody>\n",
              "</table>"
            ],
            "text/plain": [
              "<IPython.core.display.HTML object>"
            ]
          },
          "metadata": {
            "tags": []
          }
        }
      ]
    },
    {
      "cell_type": "code",
      "metadata": {
        "colab": {
          "base_uri": "https://localhost:8080/",
          "height": 203
        },
        "id": "N778Up9s37fk",
        "outputId": "3c6ae2c7-5672-4218-8241-2a1d20991b25"
      },
      "source": [
        "learn_p1.unfreeze()\n",
        "learn_p1.fit_one_cycle(5, slice(lr_p1/100,lr_p1), moms=(0.8,0.7,0.8))"
      ],
      "execution_count": 27,
      "outputs": [
        {
          "output_type": "display_data",
          "data": {
            "text/html": [
              "<table border=\"1\" class=\"dataframe\">\n",
              "  <thead>\n",
              "    <tr style=\"text-align: left;\">\n",
              "      <th>epoch</th>\n",
              "      <th>train_loss</th>\n",
              "      <th>valid_loss</th>\n",
              "      <th>accuracy</th>\n",
              "      <th>perplexity</th>\n",
              "      <th>time</th>\n",
              "    </tr>\n",
              "  </thead>\n",
              "  <tbody>\n",
              "    <tr>\n",
              "      <td>0</td>\n",
              "      <td>3.920915</td>\n",
              "      <td>3.758778</td>\n",
              "      <td>0.276946</td>\n",
              "      <td>42.895958</td>\n",
              "      <td>07:06</td>\n",
              "    </tr>\n",
              "    <tr>\n",
              "      <td>1</td>\n",
              "      <td>3.806150</td>\n",
              "      <td>3.640625</td>\n",
              "      <td>0.289020</td>\n",
              "      <td>38.115643</td>\n",
              "      <td>07:02</td>\n",
              "    </tr>\n",
              "    <tr>\n",
              "      <td>2</td>\n",
              "      <td>3.687756</td>\n",
              "      <td>3.569614</td>\n",
              "      <td>0.297186</td>\n",
              "      <td>35.502892</td>\n",
              "      <td>07:01</td>\n",
              "    </tr>\n",
              "    <tr>\n",
              "      <td>3</td>\n",
              "      <td>3.606376</td>\n",
              "      <td>3.522186</td>\n",
              "      <td>0.303309</td>\n",
              "      <td>33.858364</td>\n",
              "      <td>07:01</td>\n",
              "    </tr>\n",
              "    <tr>\n",
              "      <td>4</td>\n",
              "      <td>3.550007</td>\n",
              "      <td>3.512297</td>\n",
              "      <td>0.304507</td>\n",
              "      <td>33.525200</td>\n",
              "      <td>07:02</td>\n",
              "    </tr>\n",
              "  </tbody>\n",
              "</table>"
            ],
            "text/plain": [
              "<IPython.core.display.HTML object>"
            ]
          },
          "metadata": {
            "tags": []
          }
        }
      ]
    },
    {
      "cell_type": "code",
      "metadata": {
        "colab": {
          "base_uri": "https://localhost:8080/"
        },
        "id": "f9oOhik7Wd_m",
        "outputId": "cb819a28-400c-4d14-da35-6fa48fb82225"
      },
      "source": [
        "learn_p1.save('learner_preg_1')"
      ],
      "execution_count": 28,
      "outputs": [
        {
          "output_type": "execute_result",
          "data": {
            "text/plain": [
              "Path('models/learner_preg_1.pth')"
            ]
          },
          "metadata": {
            "tags": []
          },
          "execution_count": 28
        }
      ]
    },
    {
      "cell_type": "code",
      "metadata": {
        "id": "CDpVCSMDFfAt"
      },
      "source": [
        "learn_p1.save_encoder('finetuned_language_model_encoder')"
      ],
      "execution_count": 29,
      "outputs": []
    },
    {
      "cell_type": "markdown",
      "metadata": {
        "id": "0y53prBYlqVw"
      },
      "source": [
        "###<h3>Descarga del modelo</h3>"
      ]
    },
    {
      "cell_type": "markdown",
      "metadata": {
        "id": "gMUFxMfQlvLk"
      },
      "source": [
        "En caso de querer contar con el modelo preparado para su uso, se puede descargar desde GCP siguiendo los pasos anteriores con su correo."
      ]
    },
    {
      "cell_type": "code",
      "metadata": {
        "id": "HR-Mk1uuISW1"
      },
      "source": [
        "path = Path('models')\n",
        "dest = path\n",
        "dest.mkdir(parents=True, exist_ok=True)"
      ],
      "execution_count": 30,
      "outputs": []
    },
    {
      "cell_type": "code",
      "metadata": {
        "colab": {
          "base_uri": "https://localhost:8080/"
        },
        "id": "K6BAxXtTmMzK",
        "outputId": "970dfedc-1bb7-46d4-8cee-852160cf680c"
      },
      "source": [
        "!gsutil cp -r  gs://tareaml2/learner_p1.pth models/"
      ],
      "execution_count": null,
      "outputs": [
        {
          "output_type": "stream",
          "text": [
            "Copying gs://tareaml2/learner_p1.pth...\n",
            "\\ [1 files][301.1 MiB/301.1 MiB]                                                \n",
            "Operation completed over 1 objects/301.1 MiB.                                    \n"
          ],
          "name": "stdout"
        }
      ]
    },
    {
      "cell_type": "code",
      "metadata": {
        "id": "J3UVMPedC07D"
      },
      "source": [
        "learn_p1 = learn_p1.load('learner_p1')"
      ],
      "execution_count": null,
      "outputs": []
    },
    {
      "cell_type": "markdown",
      "metadata": {
        "id": "n_j07EWjkfNJ"
      },
      "source": [
        "##<h2>Resultados de la clasificación (Pregunta 2.3)</h2>"
      ]
    },
    {
      "cell_type": "markdown",
      "metadata": {
        "id": "_LGpt-DmQyBh"
      },
      "source": [
        "Generaremos tres reseñas en base al texto **\"El producto llego en mal estado y como era de esperar\"** con los valores de temperature: 0.5, 0.75, 1.75, 10. A partir de esto, analizaremos la diferencia en los textos generados con cada uno de los casos."
      ]
    },
    {
      "cell_type": "code",
      "metadata": {
        "colab": {
          "base_uri": "https://localhost:8080/",
          "height": 17
        },
        "id": "P7gbUfUZLFBW",
        "outputId": "475896fa-08f8-428c-bff3-e5baf1b1a951"
      },
      "source": [
        "TEXT = \"El producto llego en mal estado y como era de esperar\"\n",
        "N_WORDS = 80\n",
        "N_SENTENCES = 3\n",
        "preds = [learn_p1.predict(TEXT, N_WORDS, temperature=0.5) \n",
        "         for _ in range(N_SENTENCES)]"
      ],
      "execution_count": 32,
      "outputs": [
        {
          "output_type": "display_data",
          "data": {
            "text/html": [
              ""
            ],
            "text/plain": [
              "<IPython.core.display.HTML object>"
            ]
          },
          "metadata": {
            "tags": []
          }
        },
        {
          "output_type": "display_data",
          "data": {
            "text/html": [
              ""
            ],
            "text/plain": [
              "<IPython.core.display.HTML object>"
            ]
          },
          "metadata": {
            "tags": []
          }
        },
        {
          "output_type": "display_data",
          "data": {
            "text/html": [
              ""
            ],
            "text/plain": [
              "<IPython.core.display.HTML object>"
            ]
          },
          "metadata": {
            "tags": []
          }
        }
      ]
    },
    {
      "cell_type": "code",
      "metadata": {
        "colab": {
          "base_uri": "https://localhost:8080/"
        },
        "id": "S_1iCPLyLH7i",
        "outputId": "54d9d8ef-313e-4151-885b-30bb9d76183c"
      },
      "source": [
        "print(\"\\n\".join(preds))"
      ],
      "execution_count": 33,
      "outputs": [
        {
          "output_type": "stream",
          "text": [
            "▁xxbos ▁xxmaj ▁el ▁producto ▁llego ▁en ▁mal ▁estado ▁y ▁como ▁era ▁de ▁esperar , ▁la ▁caja ▁estaba ▁aplastada , ▁y ▁la ▁caja ▁estaba ▁abierta ▁y ▁abierta . ▁xxmaj ▁lo ▁peor ▁es ▁que ▁me ▁devolvieron ▁el ▁dinero . ▁xxbos ▁xxmaj ▁la ▁verdad ▁es ▁que ▁me ▁ha ▁gustado ▁mucho . ▁xxmaj ▁el ▁problema ▁es ▁que ▁no ▁es ▁muy ▁grande , ▁ya ▁que ▁no ▁se ▁sostiene ▁bien . ▁xxmaj ▁aún ▁así , ▁no ▁lo ▁recomiendo . ▁xxbos ▁xxmaj ▁no ▁sé ▁si ▁es ▁que ▁no ▁es ▁tan ▁eficaz ▁como ▁dice ▁en ▁la ▁descripción . ▁xxmaj ▁si ▁no\n",
            "▁xxbos ▁xxmaj ▁el ▁producto ▁llego ▁en ▁mal ▁estado ▁y ▁como ▁era ▁de ▁esperar , ▁la ▁caja ▁estaba ▁rota ▁y ▁el ▁producto ▁venía ▁abierto ▁y ▁en ▁mal ▁estado . ▁xxmaj ▁por ▁lo ▁demás ▁perfecto , ▁lo ▁recomiendo . ▁xxbos ▁xxmaj ▁no ▁puedo ▁valorar ▁el ▁producto ▁porque ▁no ▁me ▁ha ▁llegado ▁y ▁no ▁lo ▁he ▁recibido . ▁xxmaj ▁el ▁vendedor ▁no ▁se ▁hace ▁responsable . ▁xxmaj ▁no ▁lo ▁recomiendo . ▁xxmaj ▁no ▁lo ▁recomiendo . ▁xxbos ▁xxmaj ▁se ▁ajusta ▁a ▁la ▁descripción , ▁pero ▁la ▁tela ▁es ▁mucho ▁peor . ▁xxmaj ▁he ▁tenido ▁que ▁comprar\n",
            "▁xxbos ▁xxmaj ▁el ▁producto ▁llego ▁en ▁mal ▁estado ▁y ▁como ▁era ▁de ▁esperar , ▁me ▁lo ▁cambiaron ▁y ▁la ▁devolución ▁no ▁me ▁ha ▁sido ▁satisfactoria . ▁xxmaj ▁no ▁lo ▁recomiendo . ▁xxbos ▁xxmaj ▁me ▁ha ▁gustado ▁mucho , ▁es ▁muy ▁bonita , ▁queda ▁muy ▁bonita ▁y ▁no ▁pesa ▁nada . ▁xxmaj ▁el ▁color ▁es ▁genial . ▁xxbos ▁xxmaj ▁el ▁pedido ▁llegó ▁correctamente ▁y ▁en ▁perfecto ▁estado . ▁xxmaj ▁el ▁producto ▁es ▁tal ▁como ▁lo ▁describe . ▁xxmaj ▁lo ▁único ▁que ▁no ▁me ▁ha ▁gustado ▁es ▁que ▁el ▁cristal ▁es ▁muy ▁pequeño , ▁lo\n"
          ],
          "name": "stdout"
        }
      ]
    },
    {
      "cell_type": "code",
      "metadata": {
        "colab": {
          "base_uri": "https://localhost:8080/",
          "height": 17
        },
        "id": "QUZCq-H_1kRe",
        "outputId": "e6648c8f-bb6b-4b0a-9433-d777c1dd2159"
      },
      "source": [
        "TEXT = \"El producto llego en mal estado y como era de esperar\"\n",
        "N_WORDS = 80\n",
        "N_SENTENCES = 3\n",
        "preds = [learn_p1.predict(TEXT, N_WORDS, temperature=0.75) \n",
        "         for _ in range(N_SENTENCES)]"
      ],
      "execution_count": 34,
      "outputs": [
        {
          "output_type": "display_data",
          "data": {
            "text/html": [
              ""
            ],
            "text/plain": [
              "<IPython.core.display.HTML object>"
            ]
          },
          "metadata": {
            "tags": []
          }
        },
        {
          "output_type": "display_data",
          "data": {
            "text/html": [
              ""
            ],
            "text/plain": [
              "<IPython.core.display.HTML object>"
            ]
          },
          "metadata": {
            "tags": []
          }
        },
        {
          "output_type": "display_data",
          "data": {
            "text/html": [
              ""
            ],
            "text/plain": [
              "<IPython.core.display.HTML object>"
            ]
          },
          "metadata": {
            "tags": []
          }
        }
      ]
    },
    {
      "cell_type": "code",
      "metadata": {
        "colab": {
          "base_uri": "https://localhost:8080/"
        },
        "id": "_F4PRnCE1x7e",
        "outputId": "c56eff42-ca65-438d-9884-fa453ead8e97"
      },
      "source": [
        "print(\"\\n\".join(preds))"
      ],
      "execution_count": 35,
      "outputs": [
        {
          "output_type": "stream",
          "text": [
            "▁xxbos ▁xxmaj ▁el ▁producto ▁llego ▁en ▁mal ▁estado ▁y ▁como ▁era ▁de ▁esperar ▁no ▁lo ▁he ▁probado ▁en ▁estos ▁meses ▁que ▁tardo ▁mucho ▁en ▁calentar . ▁xxmaj ▁he ▁comprado ▁otro . ▁xxmaj ▁el ▁vaso ▁es ▁de ▁buena ▁calidad . ▁xxbos ▁xxmaj ▁todo ▁es ▁perfecto . ▁xxmaj ▁buena ▁relación ▁calidad ▁precio , ▁pero ▁nada ▁exagerado . ▁xxmaj ▁llego ▁antes ▁de ▁tiempo ▁y ▁es ▁muy ▁bonito . ▁xxbos ▁xxmaj ▁excelente ▁base ▁y ▁fácil ▁de ▁montar ▁xxbos ▁xxmaj ▁es ▁un ▁reloj ▁muy ▁deportivo , ▁a ▁mi ▁hija ▁le ▁encanta . ▁xxmaj ▁entre ▁modos ▁se ▁puede ▁usar\n",
            "▁xxbos ▁xxmaj ▁el ▁producto ▁llego ▁en ▁mal ▁estado ▁y ▁como ▁era ▁de ▁esperar , ▁me ▁dieron ▁una ▁solución . ▁xxmaj ▁por ▁mal ▁embalaje , ▁el ▁vendedor ▁me ▁dijo ▁que ▁no ▁funcionaba , ▁no ▁le ▁he ▁podido ▁dar ▁cuenta ▁del ▁motivo ▁por ▁el ▁cual ▁hice ▁el ▁pedido . ▁xxmaj ▁al ▁final ▁tuve ▁que ▁comprar ▁un ▁producto ▁reacondicionado ▁para ▁que ▁se ▁adhiera . ▁xxmaj ▁así ▁que ▁la ▁garantía ▁que ▁compré ▁es ▁escasa ▁y ▁no ▁es ▁posible ▁que ▁proced a ▁a ▁comprar ▁productos ▁externos . ▁xxbos ▁xxmaj ▁es ▁de ▁muy ▁buena ▁calidad . ▁xxmaj ▁como ▁punto\n",
            "▁xxbos ▁xxmaj ▁el ▁producto ▁llego ▁en ▁mal ▁estado ▁y ▁como ▁era ▁de ▁esperar , ▁no ▁lo ▁recomiendo , ▁no ▁se ▁si ▁es ▁cosa ▁del ▁producto ▁o ▁del ▁vendedor . ▁xxmaj ▁por ▁el ▁precio ▁que ▁es ▁esperaba ▁una ▁cosa ▁más ▁barata ▁xxbos ▁xxmaj ▁lo ▁compré ▁para ▁mi ▁hija ▁y ▁le ▁gusta ▁mucho . ▁xxmaj ▁no ▁tiene ▁para ▁colgar ▁en ▁el ▁bolso ▁y ▁para ▁regalar ▁es ▁muy ▁entretenido ▁y ▁muy ▁completo . ▁xxmaj ▁la ▁calidad ▁del ▁material ▁es ▁buena ▁y ▁la ▁tela ▁muy ▁buena . ▁xxbos ▁xxmaj ▁estos ▁auriculares ▁suenan ▁bien ▁y ▁son ▁comodos ,\n"
          ],
          "name": "stdout"
        }
      ]
    },
    {
      "cell_type": "code",
      "metadata": {
        "colab": {
          "base_uri": "https://localhost:8080/",
          "height": 17
        },
        "id": "zU5WUJuIoywL",
        "outputId": "ede2367e-28a9-490a-aac2-942a1d02bc64"
      },
      "source": [
        "TEXT = \"El producto llego en mal estado y como era de esperar\"\n",
        "N_WORDS = 80\n",
        "N_SENTENCES = 3\n",
        "preds = [learn_p1.predict(TEXT, N_WORDS, temperature=1.75) \n",
        "         for _ in range(N_SENTENCES)]"
      ],
      "execution_count": 36,
      "outputs": [
        {
          "output_type": "display_data",
          "data": {
            "text/html": [
              ""
            ],
            "text/plain": [
              "<IPython.core.display.HTML object>"
            ]
          },
          "metadata": {
            "tags": []
          }
        },
        {
          "output_type": "display_data",
          "data": {
            "text/html": [
              ""
            ],
            "text/plain": [
              "<IPython.core.display.HTML object>"
            ]
          },
          "metadata": {
            "tags": []
          }
        },
        {
          "output_type": "display_data",
          "data": {
            "text/html": [
              ""
            ],
            "text/plain": [
              "<IPython.core.display.HTML object>"
            ]
          },
          "metadata": {
            "tags": []
          }
        }
      ]
    },
    {
      "cell_type": "code",
      "metadata": {
        "colab": {
          "base_uri": "https://localhost:8080/"
        },
        "id": "fQoJhWE1o2UF",
        "outputId": "c12a7031-c7e3-440b-a325-9d7364d87b13"
      },
      "source": [
        "print(\"\\n\".join(preds))"
      ],
      "execution_count": 37,
      "outputs": [
        {
          "output_type": "stream",
          "text": [
            "▁xxbos ▁xxmaj ▁el ▁producto ▁llego ▁en ▁mal ▁estado ▁y ▁como ▁era ▁de ▁esperar ▁y ▁esquina ▁sujeta ▁tiradores ▁cosidos ▁deformadas ▁las ticas ▁me ▁aplicas ▁elasticidad ▁detrás ▁sin ▁ponerlo ▁tarde ▁mucho ▁manipula ▁dos ▁madre s ▁personas ▁pi ▁camilla ▁pero ▁sob ▁llego ▁siempre ▁con ▁loctite ▁las ▁ruedas ▁aisla das ▁dejan ▁películas ▁pequeñas ▁etcétera rv ▁manden ▁está ▁barra e ▁... ▁presión ▁muy ▁0 ▁0 ▁altura ▁xxbos ▁el ▁aparatito ▁mi ▁última ▁delicia ▁lo ▁llevo ▁usando ▁3 ▁clases ▁colchoneta el ▁sentado ▁balay ▁decian ▁cumplir simplemente ▁y ▁pie ▁articulado s ▁unos 3 l ▁fuera ▁mucho ▁mayores ▁pero ▁hogar ▁buen ▁párpado\n",
            "▁xxbos ▁xxmaj ▁el ▁producto ▁llego ▁en ▁mal ▁estado ▁y ▁como ▁era ▁de ▁esperar ▁algún ▁día . ▁xxbos ▁xxmaj ▁felicidades ▁algo ▁como ▁indicaba ▁q ▁necesita ba ▁enrolla r ▁tarda ▁mucho ▁gracias ▁al ▁soporte ▁esta ▁lona ▁mejorable ▁el ▁sistema ▁encajaba ▁sin ▁gastarse ▁cuidado . funciona ▁genial ▁ha ▁quedado ▁organizado ▁revision ▁disipadores 👌 ▁esta ▁presentacion ▁cogi ▁sobra ▁carpeta ▁suelo ▁colgar ▁para ▁transportar ▁y ▁protege darán ” ▁ésta ▁tapa ▁suele bi li ▁conducción s ▁hacer ▁formato ▁absorbente ▁misma ▁lampara ▁jabalí ia ▁con ▁niños ▁temporal ita ▁camara ▁favoritos ▁es ▁bastante ▁recomendable ▁deja ▁realizo ▁valla ▁como ▁achac ▁fácilmente ▁a\n",
            "▁xxbos ▁xxmaj ▁el ▁producto ▁llego ▁en ▁mal ▁estado ▁y ▁como ▁era ▁de ▁esperar ▁lo ▁ponía ▁cata c ri ▁francés ▁a ▁tiempo . ▁xxbos ▁a ▁día ▁xxup ▁tdt ▁funcionando ▁funcionando ▁igual . ▁buenas ▁necesita ▁recargas ▁12 ▁contratiempo ▁vía ▁power ▁w ▁dorada do ▁el ▁fijarse do ▁en ▁cortos ▁cortos ▁apago ▁asus ▁gancho ▁no ▁bajos ▁escurreplatos ▁campana ▁permanente ▁minuto ▁rodamiento ▁macho pués ▁perfecto ▁suponía ▁brilla ▁ni ▁suda . ▁dos ▁volvi ▁muy ▁sobrado ▁m ▁funcionando ▁estable ▁después ▁son ▁alzador ▁inútiles ▁bastante ▁retira rio ▁arnés ▁potentes ▁lleva ▁comprando ▁dos ▁llave ▁wi vo ▁antes ▁de ▁est ite tear ▁caído\n"
          ],
          "name": "stdout"
        }
      ]
    },
    {
      "cell_type": "code",
      "metadata": {
        "colab": {
          "base_uri": "https://localhost:8080/",
          "height": 17
        },
        "id": "ifMXMkdlqo82",
        "outputId": "1b69d423-8f77-45e4-d60e-b946d8633ca1"
      },
      "source": [
        "TEXT = \"El producto llego en mal estado, \"\n",
        "N_WORDS = 80\n",
        "N_SENTENCES = 3\n",
        "preds = [learn_p1.predict(TEXT, N_WORDS, temperature=10) \n",
        "         for _ in range(N_SENTENCES)]"
      ],
      "execution_count": 38,
      "outputs": [
        {
          "output_type": "display_data",
          "data": {
            "text/html": [
              ""
            ],
            "text/plain": [
              "<IPython.core.display.HTML object>"
            ]
          },
          "metadata": {
            "tags": []
          }
        },
        {
          "output_type": "display_data",
          "data": {
            "text/html": [
              ""
            ],
            "text/plain": [
              "<IPython.core.display.HTML object>"
            ]
          },
          "metadata": {
            "tags": []
          }
        },
        {
          "output_type": "display_data",
          "data": {
            "text/html": [
              ""
            ],
            "text/plain": [
              "<IPython.core.display.HTML object>"
            ]
          },
          "metadata": {
            "tags": []
          }
        }
      ]
    },
    {
      "cell_type": "code",
      "metadata": {
        "colab": {
          "base_uri": "https://localhost:8080/"
        },
        "id": "BFxuOZXaqryw",
        "outputId": "d1b74a70-d139-4a2e-a864-d1ac85b075f5"
      },
      "source": [
        "print(\"\\n\".join(preds))"
      ],
      "execution_count": 39,
      "outputs": [
        {
          "output_type": "stream",
          "text": [
            "▁xxbos ▁xxmaj ▁el ▁producto ▁llego ▁en ▁mal ▁estado , ▁rota ▁blanco ▁atraganta ▁digital zona 10+ ▁ayudó ▁fi ⭐ ▁detallado ▁descosió ▁15% ▁ocurrie ▁desaparecen ado ▁superficie ▁encajan ▁coña ▁hasta ▁plantar ▁negó ▁habitáculo ▁aspectos ▁delicada ▁valor ▁necesario ▁récord ▁ratón ▁dias ▁feas ▁anclaje tendré ▁movimientos fundieron ▁faltaba ▁nudos ▁devolverla ▁veis ▁e 👌 ▁smarttv muchas ▁seguí ▁abrí ▁100% metimos ▁del ▁mate ▁trocitos ▁mientras ▁pegada ▁tiras saludos ▁wii ▁manteniendo ▁homogénea ▁baj ▁publicitan ▁vibra ▁aceitoso ▁28 ▁quiero ▁chispa ▁aun ▁desace ▁cerámico ▁churro ▁espíritu ▁fibra ▁desprecintada ▁transacción ▁ràpida ▁portafiltros ▁pareja ▁fio ▁superiores ▁galletas ▁acabe ▁pegan ▁huecos\n",
            "▁xxbos ▁xxmaj ▁el ▁producto ▁llego ▁en ▁mal ▁estado , ▁feria ▁insegura ▁alfombrilla ▁ruleta ▁adhesivos ▁sola ▁rápidos ▁lía encia ▁positiva ▁grabar ▁descosido tivas ▁2013 12 ▁sucedía ▁sobrio ▁rapidísimo ▁majo ▁bichos ▁vuelto ▁huevos ▁intentando ▁malware ▁wasap ▁drama ▁uniones ▁cien ▁probar ▁dulce ▁cancion ▁colgar có ▁útiles ▁deportista ▁aparecieron ▁delgadas ▁50% ▁pagas ▁ràpido ▁cuidado ▁interferencias ▁decidimos ▁sat ▁protegerá ▁pecho ▁acostumbras ▁ande ▁impedir ▁ronquidos ▁bajito ▁insoportable ▁neceser ▁salte ▁hierve ▁pellizca ▁deteccion ▁¿ ▁what ▁quitármelo ▁sub ▁libros ▁estridente idas ▁hamaca ▁propios ▁hilo ▁mantita ▁partio ▁hincharlo ° poco ▁precario ▁descentrado ▁cria ▁broma ▁conclusiones ▁respectiva ▁degrada ▁calorías\n",
            "▁xxbos ▁xxmaj ▁el ▁producto ▁llego ▁en ▁mal ▁estado , ▁pensamos ▁los ▁19 ▁prudencial ▁próximo ▁keratina qashqai ▁estaba ▁gb ▁devora ▁tijera ▁más ▁indicó ▁fui ▁tomate ▁eje ▁selección ▁pellizca ▁ponerlos ▁dios ▁melodías ▁despegado ▁dividir tiendo ▁life ▁compras ▁aflojar ▁imprimo ▁aconsejó ▁idénticas ? ▁impresentable ▁apagan ▁tornillo ▁proporcionado ▁monto ▁decepcion ▁vengo américa ▁o ▁colgarlo ▁tardan ▁saludos ▁si ▁reciente ▁rentable ▁comporta ▁exigentes ▁conocida ▁fiables ▁ofrecia ▁homologa ▁gluten ▁invento ▁hortera ▁merienda sta ▁cortaúñas ▁monopoly ▁wc ▁malisimo ▁mantuv ▁entiende mala ▁carpintero ▁convencida ▁fijas ▁partiendo ▁destapa ▁decoracion ▁agridulce ▁efectivos ▁gastan ▁candados ▁jajajaja ▁oscureci ▁15% ▁máximo ▁tonta ▁informarme\n"
          ],
          "name": "stdout"
        }
      ]
    },
    {
      "cell_type": "markdown",
      "metadata": {
        "id": "szVch5w0TFbI"
      },
      "source": [
        "En base al siguiente [link](https://pytorch-nlp-tutorial-ny2018.readthedocs.io/en/latest/day2/sampling.html), consideremos que el aumento se relaciona con que tan fuerte muestreamos la distribución, a medida que el más alto el valor de **temperature** más uniforme es la distribución y cuando el valor es bajo, se observan pocas diferencias entre los textos generados.\n",
        "\n",
        "En palabras más simples, si observamos el primer caso (**temperature=0.5**) se puede observar una alta similitud en las palabras usadas por el generador como pantalla o vendedor, el uso de palabras y conectores similares hace que la diferencias entre sentencias sea más baja. Por otro lado, a medida que aumenta el valor de temperature la distribución de palabras tiende a ser más uniforme, en el sentido que se usa una mayor cantidad de palabras con una frequencia baja o igual a uno, esta uniformidad trae como consecuencia que el texto generado pierda coherencia.\n",
        "\n"
      ]
    },
    {
      "cell_type": "markdown",
      "metadata": {
        "id": "L1nfgKdg3ddv"
      },
      "source": [
        "This is a commit"
      ]
    },
    {
      "cell_type": "code",
      "metadata": {
        "id": "gMgDTx8qveDT"
      },
      "source": [
        "from fastai.vision.widgets import *"
      ],
      "execution_count": 40,
      "outputs": []
    },
    {
      "cell_type": "code",
      "metadata": {
        "id": "cMZ7mFYkPNEi"
      },
      "source": [
        "df_final_p2 = df_final_p1[['review_body','stars', 'indicator']]"
      ],
      "execution_count": 41,
      "outputs": []
    },
    {
      "cell_type": "code",
      "metadata": {
        "id": "fJPo9MqO55ym",
        "colab": {
          "base_uri": "https://localhost:8080/",
          "height": 287
        },
        "outputId": "fbc7fec1-4598-48f0-f9ff-6209efb6f9e7"
      },
      "source": [
        "df_final_p2.head()"
      ],
      "execution_count": 42,
      "outputs": [
        {
          "output_type": "execute_result",
          "data": {
            "text/html": [
              "<div>\n",
              "<style scoped>\n",
              "    .dataframe tbody tr th:only-of-type {\n",
              "        vertical-align: middle;\n",
              "    }\n",
              "\n",
              "    .dataframe tbody tr th {\n",
              "        vertical-align: top;\n",
              "    }\n",
              "\n",
              "    .dataframe thead th {\n",
              "        text-align: right;\n",
              "    }\n",
              "</style>\n",
              "<table border=\"1\" class=\"dataframe\">\n",
              "  <thead>\n",
              "    <tr style=\"text-align: right;\">\n",
              "      <th></th>\n",
              "      <th>review_body</th>\n",
              "      <th>stars</th>\n",
              "      <th>indicator</th>\n",
              "    </tr>\n",
              "  </thead>\n",
              "  <tbody>\n",
              "    <tr>\n",
              "      <th>0</th>\n",
              "      <td>no me llego el articulo me lo mando por correos normal sin seguimiento y nunca me llego tota un desastre</td>\n",
              "      <td>1</td>\n",
              "      <td>1</td>\n",
              "    </tr>\n",
              "    <tr>\n",
              "      <th>1</th>\n",
              "      <td>la mensajería horrible, no compro mas</td>\n",
              "      <td>1</td>\n",
              "      <td>1</td>\n",
              "    </tr>\n",
              "    <tr>\n",
              "      <th>2</th>\n",
              "      <td>Estoy muy decepcionado con el vendedor ya que el pedido no me llegó a tiempo y no cumplió los plazos de envío y era una cosa que necesitaba urgente. Para colmo me pongo en contacto con el vendedor y no da señales. No recomiendo nada</td>\n",
              "      <td>1</td>\n",
              "      <td>1</td>\n",
              "    </tr>\n",
              "    <tr>\n",
              "      <th>3</th>\n",
              "      <td>Mi valoración no es sobre el producto sino sobre AMAZON. Ofrecéis el producto a 299€ y tras varios días me devolvéis el dinero porque os habéis equivocado en el anuncio, según vosotros, ahora es 399€. Es la primera vez que me ocurre esto. Cuando he comprado en cualquier sitio y el precio marcado no se correspondía con el valor de caja siempre me lo han vendido con el precio marcado. Es inverosímil lo ocurrido, pero la ultima palabra me la dará la oficina del consumidor</td>\n",
              "      <td>1</td>\n",
              "      <td>1</td>\n",
              "    </tr>\n",
              "    <tr>\n",
              "      <th>4</th>\n",
              "      <td>Pues tenía interés en este libro y probé la versión kindle. se abre la portada pero nada más. parece una mala broma pero me iba a gastar el dedo de tanto tratar que pasara de página de alguna forma. No puedo valorar nada de nada.</td>\n",
              "      <td>1</td>\n",
              "      <td>1</td>\n",
              "    </tr>\n",
              "  </tbody>\n",
              "</table>\n",
              "</div>"
            ],
            "text/plain": [
              "                                                                                                                                                                                                                                                                                                                                                                                                                                                                                 review_body  ...  indicator\n",
              "0                                                                                                                                                                                                                                                                                                                                                                                   no me llego el articulo me lo mando por correos normal sin seguimiento y nunca me llego tota un desastre  ...          1\n",
              "1                                                                                                                                                                                                                                                                                                                                                                                                                                                      la mensajería horrible, no compro mas  ...          1\n",
              "2                                                                                                                                                                                                                                                   Estoy muy decepcionado con el vendedor ya que el pedido no me llegó a tiempo y no cumplió los plazos de envío y era una cosa que necesitaba urgente. Para colmo me pongo en contacto con el vendedor y no da señales. No recomiendo nada  ...          1\n",
              "3  Mi valoración no es sobre el producto sino sobre AMAZON. Ofrecéis el producto a 299€ y tras varios días me devolvéis el dinero porque os habéis equivocado en el anuncio, según vosotros, ahora es 399€. Es la primera vez que me ocurre esto. Cuando he comprado en cualquier sitio y el precio marcado no se correspondía con el valor de caja siempre me lo han vendido con el precio marcado. Es inverosímil lo ocurrido, pero la ultima palabra me la dará la oficina del consumidor  ...          1\n",
              "4                                                                                                                                                                                                                                                      Pues tenía interés en este libro y probé la versión kindle. se abre la portada pero nada más. parece una mala broma pero me iba a gastar el dedo de tanto tratar que pasara de página de alguna forma. No puedo valorar nada de nada.  ...          1\n",
              "\n",
              "[5 rows x 3 columns]"
            ]
          },
          "metadata": {
            "tags": []
          },
          "execution_count": 42
        }
      ]
    },
    {
      "cell_type": "code",
      "metadata": {
        "id": "sdRo_hbUSoc6"
      },
      "source": [
        "dblocks_p2 = DataBlock(blocks=(TextBlock.from_df('review_body'), CategoryBlock),\n",
        "                       get_x=ColReader('text'), splitter=ColSplitter('indicator'))\n"
      ],
      "execution_count": 43,
      "outputs": []
    },
    {
      "cell_type": "code",
      "metadata": {
        "id": "nQgsjIy8sODm"
      },
      "source": [
        "dls_blk = DataBlock(blocks = (TextBlock.from_df(text_cols = \"review_body\", seq_len = 80),\n",
        "                              CategoryBlock),\n",
        "                    get_x = ColReader(cols = \"text\"), get_y = ColReader(cols=\"stars\"),\n",
        "                    splitter=ColSplitter('indicator'))"
      ],
      "execution_count": 67,
      "outputs": []
    },
    {
      "cell_type": "code",
      "metadata": {
        "id": "vNd_J3vP9w5k"
      },
      "source": [
        "df_final_p1 = df_final_p1.astype({\"stars\": str})"
      ],
      "execution_count": 46,
      "outputs": []
    },
    {
      "cell_type": "code",
      "metadata": {
        "id": "lgZZHbwF8RaC",
        "colab": {
          "base_uri": "https://localhost:8080/"
        },
        "outputId": "44804444-d6c1-4121-b25f-b2e92ea2271b"
      },
      "source": [
        "df_final_p1.dtypes"
      ],
      "execution_count": 68,
      "outputs": [
        {
          "output_type": "execute_result",
          "data": {
            "text/plain": [
              "review_id           object\n",
              "product_id          object\n",
              "reviewer_id         object\n",
              "stars               object\n",
              "review_body         object\n",
              "review_title        object\n",
              "language            object\n",
              "product_category    object\n",
              "indicator            int64\n",
              "dtype: object"
            ]
          },
          "metadata": {
            "tags": []
          },
          "execution_count": 68
        }
      ]
    },
    {
      "cell_type": "code",
      "metadata": {
        "id": "Pz8q3rA9RpUL",
        "colab": {
          "base_uri": "https://localhost:8080/",
          "height": 70
        },
        "outputId": "828464de-f364-4d29-c31d-77d46c0d4d72"
      },
      "source": [
        "dls_clf = dls_blk.dataloaders(df_final_p1, bs=64, seq_len=80)"
      ],
      "execution_count": 69,
      "outputs": [
        {
          "output_type": "display_data",
          "data": {
            "text/html": [
              ""
            ],
            "text/plain": [
              "<IPython.core.display.HTML object>"
            ]
          },
          "metadata": {
            "tags": []
          }
        },
        {
          "output_type": "stream",
          "text": [
            "/usr/local/lib/python3.7/dist-packages/numpy/core/_asarray.py:83: VisibleDeprecationWarning: Creating an ndarray from ragged nested sequences (which is a list-or-tuple of lists-or-tuples-or ndarrays with different lengths or shapes) is deprecated. If you meant to do this, you must specify 'dtype=object' when creating the ndarray\n",
            "  return array(a, dtype, copy=False, order=order)\n"
          ],
          "name": "stderr"
        }
      ]
    },
    {
      "cell_type": "code",
      "metadata": {
        "id": "3PuE266iN6ho",
        "colab": {
          "base_uri": "https://localhost:8080/",
          "height": 982
        },
        "outputId": "509afd11-24d5-4a22-8b38-c37884e761e5"
      },
      "source": [
        "dls_clf.show_batch()"
      ],
      "execution_count": 70,
      "outputs": [
        {
          "output_type": "display_data",
          "data": {
            "text/html": [
              "<table border=\"1\" class=\"dataframe\">\n",
              "  <thead>\n",
              "    <tr style=\"text-align: right;\">\n",
              "      <th></th>\n",
              "      <th>text</th>\n",
              "      <th>category</th>\n",
              "    </tr>\n",
              "  </thead>\n",
              "  <tbody>\n",
              "    <tr>\n",
              "      <th>0</th>\n",
              "      <td>xxbos xxmaj hago estos cambios en mi opinión , no por el producto , si no por el vendedor . xxmaj me puse en contacto con el vendedor para que me diera una solución sobre el problema de conectar los discos a través de un xxup hub . xxmaj me dijo que tenia que funcionar , y que si no me enviaría otro sin costo . xxmaj seguí sus instrucciones y como no funcionaron , me pidieron que enviara el aparato a una dirección internacional asumiendo yo el coste ( y fuera de la mediación de xxmaj amazon ) , xxmaj cuando le pregunte por esos costes ( que son superiores al precio del articulo ) , me indicaron que los pagara , que luego ya me los devolverían . y que luego también me enviarían uno nuevo . xxmaj me ha parecido todo muy informal y poco ético .</td>\n",
              "      <td>5</td>\n",
              "    </tr>\n",
              "    <tr>\n",
              "      <th>1</th>\n",
              "      <td>xxbos xxmaj el modelo que yo cogí es el de 10w y da una luz más que suficiente , de hecho no la estoy usando al máximo nivel , porque es demasiado . xxmaj muy sencilla de montar . xxmaj incluye manual con las instrucciones en castellano , que no me leí , jaja , y la monté de forma inversa pero creo que es más sencillo y más manejable hacerlo a la inversa , de abajo a arriba , que de arriba a abajo como indica el manual , ya que de esa forma estaría xxunk el último tramo ( la base ) con todo lo demás ya montado , y para una persona sola , es difícil . xxmaj si se hace de bajo a arriba , sólo hay que tener cuidado de ir sacando el exceso de cable por debajo de la base cada vez que xxunk</td>\n",
              "      <td>5</td>\n",
              "    </tr>\n",
              "    <tr>\n",
              "      <th>2</th>\n",
              "      <td>xxbos xxmaj le doy un 3 porque tiene defectos y virtudes el producto . xxmaj entre las segundas está su precio y su capacidad . xxmaj para ser pequeña de aspecto le caben 25 litros con las alforjas desplegadas , y si no se necesita ese espacio , se llevan plegadas quedando unos 8 litros para usar en el espacio central . xxmaj es en este espacio central ( bolsa ) donde deben ir los objetos de más peso . xxmaj es importante desplegar bien las alforjas para que la tapa de la bolsa que hace de resguardo e impide xxunk xxunk impedir que las alforjas toquen los radios de las ruedas traseras . xxmaj bien , yo quería la bolsa y alforjas para hacer el xxmaj camino de xxmaj santiago , y me han servido , con dificultades . xxmaj han sido 7 días pedaleando y casi 500 kms</td>\n",
              "      <td>3</td>\n",
              "    </tr>\n",
              "    <tr>\n",
              "      <th>3</th>\n",
              "      <td>xxbos xxmaj lo mejor de este producto es el tamaño del cubo que se puede guardar en cualquier sitio , aunque pesa un poco más de lo que sería deseable , por lo que haberle instalado ruedas no hubiera estado de más . xxmaj lo peor para mi gusto es el peso de la mopa una vez mojada y aunque se escurra sigue siendo pesada . xxmaj el sistema manual de bloqueo del giro del palo parece poco fiable y fácil de romper además de incómodo , puesto que está situado en lugar muy bajo del palo teniendo que agacharte para bloquearlo o bien levantar el palo para no agacharte . xxmaj es un fallo que se hubiera podido arreglar evitar muy fácilmente colocándolo en una sección superior del palo . xxmaj también es incómodo porque tienes que apretar mucho la pieza de plástico con la mano para que no</td>\n",
              "      <td>3</td>\n",
              "    </tr>\n",
              "    <tr>\n",
              "      <th>4</th>\n",
              "      <td>xxbos xxmaj llevaba un par de meses esperando al xxmaj black xxmaj friday para conseguir una buena oferta en un buen ordenador . xxmaj trabajo con el ordenador y necesitaba algo que fuera rápido . xxmaj yo no soy una entendida pero me habían recomendado las características técnicas que tiene este y uno que fuera gaming para que al editar no tuviera ningún problema . xxmaj además , xxmaj lenovo era una marca que me inspiraba confianza ( ahora estoy totalmente decepcionada ) . xxmaj me llegó a los diez días ( a pesar de que al principio estaba previsto que me llegara en tres días ) pero eso no fue un problema porque ya que había esperado dos meses , podía esperar un poco más . xxmaj cuando llegó y lo abrí , noté al instante que no era lo que esperaba . xxmaj era casi igual que mi</td>\n",
              "      <td>2</td>\n",
              "    </tr>\n",
              "    <tr>\n",
              "      <th>5</th>\n",
              "      <td>xxbos xxmaj es patético que a estas alturas saquen un producto con fallos como : - xxmaj al iniciar una xxup app pesada en el teléfono , la música ( de spotify en mi caso ) se para por 1 segundo . - xxmaj al cambiar entre xxup app pesadas en el teléfono , también se para por 1 segundo . - a veces se pierde el audio por 1 segundo estando completamente quieto . - xxmaj si te alejas y pierdes señal , al volver a acercarte a veces se quedan algo pillados y siguen dando interferencias . - xxmaj la visagra de la caja ahora se me queda pillada al abrir y cerrar . xxmaj solo se tiene que aplicar algo más de fuerza pero es lamentable que unos cascos de 180 € tengan este problema de calidad . - xxmaj el sonido es bueno pero se espera</td>\n",
              "      <td>2</td>\n",
              "    </tr>\n",
              "    <tr>\n",
              "      <th>6</th>\n",
              "      <td>xxbos xxmaj con el precio que tiene , no me esperaba una maravilla , pero cumple con su trabajo . xxmaj es bastante útil y manejable . xxmaj me gusta la sencillez de los 2 leds que lleva en la parte inferior . xxmaj no se es consciente de la mierda que tienes en el suelo hasta que la pasas . xxmaj es muy útil este accesorio para rincones poco iluminados ya sea bajo la cama como por ejemplo y así ves por donde has pasado y por donde no . xxmaj la batería en mi opinión es pésima . xxmaj tendría que xxunk su duración en carga máxima pero dudo que llegue a 15 minutos . xxmaj la duración deja mucho que desear . xxmaj la potencia de aspiración es aceptable . xxmaj el filtro no es muy allá , pero si has recogido bastante suciedad , este pierde</td>\n",
              "      <td>3</td>\n",
              "    </tr>\n",
              "    <tr>\n",
              "      <th>7</th>\n",
              "      <td>xxbos xxmaj el móvil viene en una cajita que está bien protegida , el cargador suelto dentro de la bolsa de la empresa de mensajería . xxmaj el exterior se ve bien , de calidad , pero le faltarían unos dibujitos en la parte trasera del móvil característicos de xxmaj apple . xxmaj la pantalla es original ; la he comparado con una que no . xxmaj el cargador no es el original , es ligeramente más grande . xxmaj la batería está al 100 % , en ocasiones se sobrecalienta , pero le daré el beneficio de la duda , ya que los primeros días puede ser por la instalación de todos los programas y se puede xxunk . xxmaj al comprobar si era iphone , sí , lo es , pero comprado en otro país , por tanto , la garantía que le corresponde es de la propia</td>\n",
              "      <td>4</td>\n",
              "    </tr>\n",
              "    <tr>\n",
              "      <th>8</th>\n",
              "      <td>xxbos xxmaj hace exactamente un mes que lo compré y la verdad que estoy muy decepcionado . xxmaj físicamente es una pieza de plástico con tres cables y un sensor , sumando todas las piezas no pasan los 3 € , he pagado más del triple y no me importaría si funcionase correctamente ; el problema es que no , no funciona , para empezar cuesta ponerlo a funcionar , no hay instrucciones de como ajustarlo , una vez consigues hacerlo funciona durante unas pocas impresiones y luego deja de funcionar , a partir del mes ya no funciona para nada , el pin no sale cuando debería , tienes que andar xxunk y ajustándolo , no pasaría nada si fuera una vez y a imprimir pero es que me he pasado tardes queriendo imprimir algo sin poder hacerlo porque el sensor se pone en modo alarma ( en teoría</td>\n",
              "      <td>1</td>\n",
              "    </tr>\n",
              "  </tbody>\n",
              "</table>"
            ],
            "text/plain": [
              "<IPython.core.display.HTML object>"
            ]
          },
          "metadata": {
            "tags": []
          }
        }
      ]
    },
    {
      "cell_type": "code",
      "metadata": {
        "id": "H-w7KFIS3DE-"
      },
      "source": [
        "learn_clf = text_classifier_learner(dls_clf, AWD_LSTM, drop_mult=0.3,metrics = accuracy).to_fp16()"
      ],
      "execution_count": 71,
      "outputs": []
    },
    {
      "cell_type": "code",
      "metadata": {
        "id": "DheW8deGIi_4",
        "colab": {
          "base_uri": "https://localhost:8080/",
          "height": 370
        },
        "outputId": "7ffa59ec-645b-4aed-ee2c-610531d1fa1d"
      },
      "source": [
        "learn_clf = learn_clf.load_encoder(\"finetuned_language_model_encoder\")"
      ],
      "execution_count": 72,
      "outputs": [
        {
          "output_type": "error",
          "ename": "RuntimeError",
          "evalue": "ignored",
          "traceback": [
            "\u001b[0;31m---------------------------------------------------------------------------\u001b[0m",
            "\u001b[0;31mRuntimeError\u001b[0m                              Traceback (most recent call last)",
            "\u001b[0;32m<ipython-input-72-ad5c3e2ac580>\u001b[0m in \u001b[0;36m<module>\u001b[0;34m()\u001b[0m\n\u001b[0;32m----> 1\u001b[0;31m \u001b[0mlearn_clf\u001b[0m \u001b[0;34m=\u001b[0m \u001b[0mlearn_clf\u001b[0m\u001b[0;34m.\u001b[0m\u001b[0mload_encoder\u001b[0m\u001b[0;34m(\u001b[0m\u001b[0;34m\"finetuned_language_model_encoder\"\u001b[0m\u001b[0;34m)\u001b[0m\u001b[0;34m\u001b[0m\u001b[0;34m\u001b[0m\u001b[0m\n\u001b[0m",
            "\u001b[0;32m/usr/local/lib/python3.7/dist-packages/fastai/text/learner.py\u001b[0m in \u001b[0;36mload_encoder\u001b[0;34m(self, file, device)\u001b[0m\n\u001b[1;32m    103\u001b[0m         \u001b[0mdistrib_barrier\u001b[0m\u001b[0;34m(\u001b[0m\u001b[0;34m)\u001b[0m\u001b[0;34m\u001b[0m\u001b[0;34m\u001b[0m\u001b[0m\n\u001b[1;32m    104\u001b[0m         \u001b[0mwgts\u001b[0m \u001b[0;34m=\u001b[0m \u001b[0mtorch\u001b[0m\u001b[0;34m.\u001b[0m\u001b[0mload\u001b[0m\u001b[0;34m(\u001b[0m\u001b[0mjoin_path_file\u001b[0m\u001b[0;34m(\u001b[0m\u001b[0mfile\u001b[0m\u001b[0;34m,\u001b[0m\u001b[0mself\u001b[0m\u001b[0;34m.\u001b[0m\u001b[0mpath\u001b[0m\u001b[0;34m/\u001b[0m\u001b[0mself\u001b[0m\u001b[0;34m.\u001b[0m\u001b[0mmodel_dir\u001b[0m\u001b[0;34m,\u001b[0m \u001b[0mext\u001b[0m\u001b[0;34m=\u001b[0m\u001b[0;34m'.pth'\u001b[0m\u001b[0;34m)\u001b[0m\u001b[0;34m,\u001b[0m \u001b[0mmap_location\u001b[0m\u001b[0;34m=\u001b[0m\u001b[0mdevice\u001b[0m\u001b[0;34m)\u001b[0m\u001b[0;34m\u001b[0m\u001b[0;34m\u001b[0m\u001b[0m\n\u001b[0;32m--> 105\u001b[0;31m         \u001b[0mencoder\u001b[0m\u001b[0;34m.\u001b[0m\u001b[0mload_state_dict\u001b[0m\u001b[0;34m(\u001b[0m\u001b[0mclean_raw_keys\u001b[0m\u001b[0;34m(\u001b[0m\u001b[0mwgts\u001b[0m\u001b[0;34m)\u001b[0m\u001b[0;34m)\u001b[0m\u001b[0;34m\u001b[0m\u001b[0;34m\u001b[0m\u001b[0m\n\u001b[0m\u001b[1;32m    106\u001b[0m         \u001b[0mself\u001b[0m\u001b[0;34m.\u001b[0m\u001b[0mfreeze\u001b[0m\u001b[0;34m(\u001b[0m\u001b[0;34m)\u001b[0m\u001b[0;34m\u001b[0m\u001b[0;34m\u001b[0m\u001b[0m\n\u001b[1;32m    107\u001b[0m         \u001b[0;32mreturn\u001b[0m \u001b[0mself\u001b[0m\u001b[0;34m\u001b[0m\u001b[0;34m\u001b[0m\u001b[0m\n",
            "\u001b[0;32m/usr/local/lib/python3.7/dist-packages/torch/nn/modules/module.py\u001b[0m in \u001b[0;36mload_state_dict\u001b[0;34m(self, state_dict, strict)\u001b[0m\n\u001b[1;32m   1405\u001b[0m         \u001b[0;32mif\u001b[0m \u001b[0mlen\u001b[0m\u001b[0;34m(\u001b[0m\u001b[0merror_msgs\u001b[0m\u001b[0;34m)\u001b[0m \u001b[0;34m>\u001b[0m \u001b[0;36m0\u001b[0m\u001b[0;34m:\u001b[0m\u001b[0;34m\u001b[0m\u001b[0;34m\u001b[0m\u001b[0m\n\u001b[1;32m   1406\u001b[0m             raise RuntimeError('Error(s) in loading state_dict for {}:\\n\\t{}'.format(\n\u001b[0;32m-> 1407\u001b[0;31m                                self.__class__.__name__, \"\\n\\t\".join(error_msgs)))\n\u001b[0m\u001b[1;32m   1408\u001b[0m         \u001b[0;32mreturn\u001b[0m \u001b[0m_IncompatibleKeys\u001b[0m\u001b[0;34m(\u001b[0m\u001b[0mmissing_keys\u001b[0m\u001b[0;34m,\u001b[0m \u001b[0munexpected_keys\u001b[0m\u001b[0;34m)\u001b[0m\u001b[0;34m\u001b[0m\u001b[0;34m\u001b[0m\u001b[0m\n\u001b[1;32m   1409\u001b[0m \u001b[0;34m\u001b[0m\u001b[0m\n",
            "\u001b[0;31mRuntimeError\u001b[0m: Error(s) in loading state_dict for AWD_LSTM:\n\tsize mismatch for encoder.weight: copying a param with shape torch.Size([15056, 400]) from checkpoint, the shape in current model is torch.Size([29824, 400]).\n\tsize mismatch for encoder_dp.emb.weight: copying a param with shape torch.Size([15056, 400]) from checkpoint, the shape in current model is torch.Size([29824, 400])."
          ]
        }
      ]
    },
    {
      "cell_type": "code",
      "metadata": {
        "id": "xKaCmTwa3ekY",
        "colab": {
          "base_uri": "https://localhost:8080/",
          "height": 80
        },
        "outputId": "5a876d24-1a6f-44a8-fdfa-c80a9f8312ae"
      },
      "source": [
        "learn_clf.fit_one_cycle(1, 2e-2)"
      ],
      "execution_count": 73,
      "outputs": [
        {
          "output_type": "display_data",
          "data": {
            "text/html": [
              "<table border=\"1\" class=\"dataframe\">\n",
              "  <thead>\n",
              "    <tr style=\"text-align: left;\">\n",
              "      <th>epoch</th>\n",
              "      <th>train_loss</th>\n",
              "      <th>valid_loss</th>\n",
              "      <th>accuracy</th>\n",
              "      <th>time</th>\n",
              "    </tr>\n",
              "  </thead>\n",
              "  <tbody>\n",
              "    <tr>\n",
              "      <td>0</td>\n",
              "      <td>1.520219</td>\n",
              "      <td>1.466222</td>\n",
              "      <td>0.331800</td>\n",
              "      <td>04:12</td>\n",
              "    </tr>\n",
              "  </tbody>\n",
              "</table>"
            ],
            "text/plain": [
              "<IPython.core.display.HTML object>"
            ]
          },
          "metadata": {
            "tags": []
          }
        }
      ]
    },
    {
      "cell_type": "code",
      "metadata": {
        "id": "DMWt_2jiyZdp",
        "outputId": "10900223-81a8-4af8-fe59-0b7fbf9eca46",
        "colab": {
          "base_uri": "https://localhost:8080/",
          "height": 300
        }
      },
      "source": [
        "learn_clf.lr_find()"
      ],
      "execution_count": 74,
      "outputs": [
        {
          "output_type": "display_data",
          "data": {
            "text/html": [
              ""
            ],
            "text/plain": [
              "<IPython.core.display.HTML object>"
            ]
          },
          "metadata": {
            "tags": []
          }
        },
        {
          "output_type": "execute_result",
          "data": {
            "text/plain": [
              "SuggestedLRs(valley=tensor(0.0010))"
            ]
          },
          "metadata": {
            "tags": []
          },
          "execution_count": 74
        },
        {
          "output_type": "display_data",
          "data": {
            "image/png": "[encoded data removed]",
            "text/plain": [
              "<Figure size 432x288 with 1 Axes>"
            ]
          },
          "metadata": {
            "tags": [],
            "needs_background": "light"
          }
        }
      ]
    },
    {
      "cell_type": "code",
      "metadata": {
        "id": "rCHzsvtj6Lnm",
        "colab": {
          "base_uri": "https://localhost:8080/",
          "height": 80
        },
        "outputId": "89e2e662-bfed-452a-b758-6d2ea89fab70"
      },
      "source": [
        "learn_clf.unfreeze()\n",
        "learn_clf.fit_one_cycle(1, 1e-3)"
      ],
      "execution_count": 78,
      "outputs": [
        {
          "output_type": "display_data",
          "data": {
            "text/html": [
              "<table border=\"1\" class=\"dataframe\">\n",
              "  <thead>\n",
              "    <tr style=\"text-align: left;\">\n",
              "      <th>epoch</th>\n",
              "      <th>train_loss</th>\n",
              "      <th>valid_loss</th>\n",
              "      <th>accuracy</th>\n",
              "      <th>time</th>\n",
              "    </tr>\n",
              "  </thead>\n",
              "  <tbody>\n",
              "    <tr>\n",
              "      <td>0</td>\n",
              "      <td>1.043464</td>\n",
              "      <td>0.997501</td>\n",
              "      <td>0.564600</td>\n",
              "      <td>05:04</td>\n",
              "    </tr>\n",
              "  </tbody>\n",
              "</table>"
            ],
            "text/plain": [
              "<IPython.core.display.HTML object>"
            ]
          },
          "metadata": {
            "tags": []
          }
        }
      ]
    },
    {
      "cell_type": "code",
      "metadata": {
        "id": "wtRnGKw7L7KW",
        "colab": {
          "base_uri": "https://localhost:8080/",
          "height": 371
        },
        "outputId": "05e37554-968a-452c-cdbb-14c192d9929f"
      },
      "source": [
        "data_clas.show_batch()"
      ],
      "execution_count": null,
      "outputs": [
        {
          "output_type": "display_data",
          "data": {
            "text/html": [
              "<table border=\"1\" class=\"dataframe\">\n",
              "  <thead>\n",
              "    <tr style=\"text-align: right;\">\n",
              "      <th>text</th>\n",
              "      <th>target</th>\n",
              "    </tr>\n",
              "  </thead>\n",
              "  <tbody>\n",
              "    <tr>\n",
              "      <td>xxbos xxmaj hago estos cambios en mi opinión , no por el producto , si no por el vendedor . xxmaj me puse en contacto con el vendedor para que me diera una solución sobre el problema de conectar los discos a través de un xxup hub . xxmaj me dijo que tenia que funcionar , y que si no me enviaría otro sin costo . xxmaj seguí sus instrucciones</td>\n",
              "      <td>5</td>\n",
              "    </tr>\n",
              "    <tr>\n",
              "      <td>xxbos xxmaj tengo problemas de insomnio , y suelo trabajar y leer con poca luz , pero esa falta de luz estaba pasando factura a mi vista , por eso buscaba algo que me ayudase , se esa forma he encontrado esta doble luz que se enfoca donde quieres , sin cables , y con tres intensidades de luz , que me lo ha solucionado . xxmaj esta hecha de</td>\n",
              "      <td>5</td>\n",
              "    </tr>\n",
              "    <tr>\n",
              "      <td>xxbos xxmaj que me ha gustado : xxmaj su diseño , la boca ancha , la textura de los materiales y la agradable sensación al tacto . xxmaj bastante silenciosa al hervir el gua comprado con otros modelos de hervidores eléctricos . xxmaj que no me ha gustado : xxmaj la compré porque se conecta con xxmaj google xxmaj home y se supone que se puede controlar con el móvil</td>\n",
              "      <td>2</td>\n",
              "    </tr>\n",
              "    <tr>\n",
              "      <td>xxbos xxmaj no me quejo por los materiales de construccion los cuales son de una calidad media / alta ( quiero decir no son basicos ) , todos los plasticos son duros , viene con el fondo del bebedero de material inox lo cual es mucho mejor que el plastico ya que es mas higienico . xxmaj las goma / silicona que divide la base plastica del bebedero inox tambien</td>\n",
              "      <td>2</td>\n",
              "    </tr>\n",
              "    <tr>\n",
              "      <td>xxbos xxmaj me considero un amante de las mochilas , siempre estoy buscando la más práctica pero a la vez que no pierda estilo . xxmaj llevaba mucho tiempo mirando alguna que me evitara tener que llevar al trabajo una mochila y a parte una bolsa térmica para la comida que me preparo en casa , ya que voy 20 minutos en bici y se hace incomodo llevar más bolsas</td>\n",
              "      <td>5</td>\n",
              "    </tr>\n",
              "  </tbody>\n",
              "</table>"
            ],
            "text/plain": [
              "<IPython.core.display.HTML object>"
            ]
          },
          "metadata": {
            "tags": []
          }
        }
      ]
    },
    {
      "cell_type": "code",
      "metadata": {
        "id": "b3m1BcziNJxH"
      },
      "source": [
        "learn_p2 = language_model_learner(data_lm, AWD_LSTM, drop_mult=0.3)"
      ],
      "execution_count": null,
      "outputs": []
    },
    {
      "cell_type": "code",
      "metadata": {
        "id": "Q8NxKUGoNefa",
        "colab": {
          "base_uri": "https://localhost:8080/",
          "height": 112
        },
        "outputId": "ee2e84ac-f281-4b4b-855d-08374562c3eb"
      },
      "source": [
        "learn_p2.lr_find()"
      ],
      "execution_count": null,
      "outputs": [
        {
          "output_type": "display_data",
          "data": {
            "text/html": [
              "\n",
              "    <div>\n",
              "        <style>\n",
              "            /* Turns off some styling */\n",
              "            progress {\n",
              "                /* gets rid of default border in Firefox and Opera. */\n",
              "                border: none;\n",
              "                /* Needs to be in here for Safari polyfill so background images work as expected. */\n",
              "                background-size: auto;\n",
              "            }\n",
              "            .progress-bar-interrupted, .progress-bar-interrupted::-webkit-progress-bar {\n",
              "                background: #F44336;\n",
              "            }\n",
              "        </style>\n",
              "      <progress value='0' class='' max='1' style='width:300px; height:20px; vertical-align: middle;'></progress>\n",
              "      0.00% [0/1 00:00<00:00]\n",
              "    </div>\n",
              "    \n",
              "<table border=\"1\" class=\"dataframe\">\n",
              "  <thead>\n",
              "    <tr style=\"text-align: left;\">\n",
              "      <th>epoch</th>\n",
              "      <th>train_loss</th>\n",
              "      <th>valid_loss</th>\n",
              "      <th>accuracy</th>\n",
              "      <th>time</th>\n",
              "    </tr>\n",
              "  </thead>\n",
              "  <tbody>\n",
              "  </tbody>\n",
              "</table><p>\n",
              "\n",
              "    <div>\n",
              "        <style>\n",
              "            /* Turns off some styling */\n",
              "            progress {\n",
              "                /* gets rid of default border in Firefox and Opera. */\n",
              "                border: none;\n",
              "                /* Needs to be in here for Safari polyfill so background images work as expected. */\n",
              "                background-size: auto;\n",
              "            }\n",
              "            .progress-bar-interrupted, .progress-bar-interrupted::-webkit-progress-bar {\n",
              "                background: #F44336;\n",
              "            }\n",
              "        </style>\n",
              "      <progress value='99' class='' max='1533' style='width:300px; height:20px; vertical-align: middle;'></progress>\n",
              "      6.46% [99/1533 00:26<06:27 10.0706]\n",
              "    </div>\n",
              "    "
            ],
            "text/plain": [
              "<IPython.core.display.HTML object>"
            ]
          },
          "metadata": {
            "tags": []
          }
        },
        {
          "output_type": "stream",
          "text": [
            "LR Finder is complete, type {learner_name}.recorder.plot() to see the graph.\n"
          ],
          "name": "stdout"
        }
      ]
    },
    {
      "cell_type": "code",
      "metadata": {
        "id": "D6u50grXNnsv",
        "colab": {
          "base_uri": "https://localhost:8080/",
          "height": 313
        },
        "outputId": "8f41340c-2598-4d87-a719-af2f24600cf5"
      },
      "source": [
        "learn_p2.recorder.plot(suggestion=True)\n",
        "min_grad_lr = learn_p2.recorder.min_grad_lr"
      ],
      "execution_count": null,
      "outputs": [
        {
          "output_type": "stream",
          "text": [
            "Min numerical gradient: 1.91E-02\n",
            "Min loss divided by 10: 9.12E-02\n"
          ],
          "name": "stdout"
        },
        {
          "output_type": "display_data",
          "data": {
            "image/png": "[encoded data removed]",
            "text/plain": [
              "<Figure size 432x288 with 1 Axes>"
            ]
          },
          "metadata": {
            "tags": [],
            "needs_background": "light"
          }
        }
      ]
    },
    {
      "cell_type": "code",
      "metadata": {
        "id": "lwsTSXCMOhMZ",
        "colab": {
          "base_uri": "https://localhost:8080/",
          "height": 869
        },
        "outputId": "0d599519-23a1-41e5-99f0-15fef5e6b081"
      },
      "source": [
        "learn_p2.fit_one_cycle(3, min_grad_lr)"
      ],
      "execution_count": null,
      "outputs": [
        {
          "output_type": "display_data",
          "data": {
            "text/html": [
              "\n",
              "    <div>\n",
              "        <style>\n",
              "            /* Turns off some styling */\n",
              "            progress {\n",
              "                /* gets rid of default border in Firefox and Opera. */\n",
              "                border: none;\n",
              "                /* Needs to be in here for Safari polyfill so background images work as expected. */\n",
              "                background-size: auto;\n",
              "            }\n",
              "            .progress-bar-interrupted, .progress-bar-interrupted::-webkit-progress-bar {\n",
              "                background: #F44336;\n",
              "            }\n",
              "        </style>\n",
              "      <progress value='0' class='' max='3' style='width:300px; height:20px; vertical-align: middle;'></progress>\n",
              "      0.00% [0/3 00:00<00:00]\n",
              "    </div>\n",
              "    \n",
              "<table border=\"1\" class=\"dataframe\">\n",
              "  <thead>\n",
              "    <tr style=\"text-align: left;\">\n",
              "      <th>epoch</th>\n",
              "      <th>train_loss</th>\n",
              "      <th>valid_loss</th>\n",
              "      <th>accuracy</th>\n",
              "      <th>time</th>\n",
              "    </tr>\n",
              "  </thead>\n",
              "  <tbody>\n",
              "  </tbody>\n",
              "</table><p>\n",
              "\n",
              "    <div>\n",
              "        <style>\n",
              "            /* Turns off some styling */\n",
              "            progress {\n",
              "                /* gets rid of default border in Firefox and Opera. */\n",
              "                border: none;\n",
              "                /* Needs to be in here for Safari polyfill so background images work as expected. */\n",
              "                background-size: auto;\n",
              "            }\n",
              "            .progress-bar-interrupted, .progress-bar-interrupted::-webkit-progress-bar {\n",
              "                background: #F44336;\n",
              "            }\n",
              "        </style>\n",
              "      <progress value='1' class='' max='1533' style='width:300px; height:20px; vertical-align: middle;'></progress>\n",
              "      0.07% [1/1533 00:00<08:33 4.2571]\n",
              "    </div>\n",
              "    "
            ],
            "text/plain": [
              "<IPython.core.display.HTML object>"
            ]
          },
          "metadata": {
            "tags": []
          }
        },
        {
          "output_type": "error",
          "ename": "KeyboardInterrupt",
          "evalue": "ignored",
          "traceback": [
            "\u001b[0;31m---------------------------------------------------------------------------\u001b[0m",
            "\u001b[0;31mKeyboardInterrupt\u001b[0m                         Traceback (most recent call last)",
            "\u001b[0;32m<ipython-input-40-c00fc43753e2>\u001b[0m in \u001b[0;36m<module>\u001b[0;34m()\u001b[0m\n\u001b[0;32m----> 1\u001b[0;31m \u001b[0mlearn_p2\u001b[0m\u001b[0;34m.\u001b[0m\u001b[0mfit_one_cycle\u001b[0m\u001b[0;34m(\u001b[0m\u001b[0;36m3\u001b[0m\u001b[0;34m,\u001b[0m \u001b[0mmin_grad_lr\u001b[0m\u001b[0;34m)\u001b[0m\u001b[0;34m\u001b[0m\u001b[0;34m\u001b[0m\u001b[0m\n\u001b[0m",
            "\u001b[0;32m/usr/local/lib/python3.7/dist-packages/fastai/train.py\u001b[0m in \u001b[0;36mfit_one_cycle\u001b[0;34m(learn, cyc_len, max_lr, moms, div_factor, pct_start, final_div, wd, callbacks, tot_epochs, start_epoch)\u001b[0m\n\u001b[1;32m     21\u001b[0m     callbacks.append(OneCycleScheduler(learn, max_lr, moms=moms, div_factor=div_factor, pct_start=pct_start,\n\u001b[1;32m     22\u001b[0m                                        final_div=final_div, tot_epochs=tot_epochs, start_epoch=start_epoch))\n\u001b[0;32m---> 23\u001b[0;31m     \u001b[0mlearn\u001b[0m\u001b[0;34m.\u001b[0m\u001b[0mfit\u001b[0m\u001b[0;34m(\u001b[0m\u001b[0mcyc_len\u001b[0m\u001b[0;34m,\u001b[0m \u001b[0mmax_lr\u001b[0m\u001b[0;34m,\u001b[0m \u001b[0mwd\u001b[0m\u001b[0;34m=\u001b[0m\u001b[0mwd\u001b[0m\u001b[0;34m,\u001b[0m \u001b[0mcallbacks\u001b[0m\u001b[0;34m=\u001b[0m\u001b[0mcallbacks\u001b[0m\u001b[0;34m)\u001b[0m\u001b[0;34m\u001b[0m\u001b[0;34m\u001b[0m\u001b[0m\n\u001b[0m\u001b[1;32m     24\u001b[0m \u001b[0;34m\u001b[0m\u001b[0m\n\u001b[1;32m     25\u001b[0m def fit_fc(learn:Learner, tot_epochs:int=1, lr:float=defaults.lr,  moms:Tuple[float,float]=(0.95,0.85), start_pct:float=0.72,\n",
            "\u001b[0;32m/usr/local/lib/python3.7/dist-packages/fastai/basic_train.py\u001b[0m in \u001b[0;36mfit\u001b[0;34m(self, epochs, lr, wd, callbacks)\u001b[0m\n\u001b[1;32m    198\u001b[0m         \u001b[0;32melse\u001b[0m\u001b[0;34m:\u001b[0m \u001b[0mself\u001b[0m\u001b[0;34m.\u001b[0m\u001b[0mopt\u001b[0m\u001b[0;34m.\u001b[0m\u001b[0mlr\u001b[0m\u001b[0;34m,\u001b[0m\u001b[0mself\u001b[0m\u001b[0;34m.\u001b[0m\u001b[0mopt\u001b[0m\u001b[0;34m.\u001b[0m\u001b[0mwd\u001b[0m \u001b[0;34m=\u001b[0m \u001b[0mlr\u001b[0m\u001b[0;34m,\u001b[0m\u001b[0mwd\u001b[0m\u001b[0;34m\u001b[0m\u001b[0;34m\u001b[0m\u001b[0m\n\u001b[1;32m    199\u001b[0m         \u001b[0mcallbacks\u001b[0m \u001b[0;34m=\u001b[0m \u001b[0;34m[\u001b[0m\u001b[0mcb\u001b[0m\u001b[0;34m(\u001b[0m\u001b[0mself\u001b[0m\u001b[0;34m)\u001b[0m \u001b[0;32mfor\u001b[0m \u001b[0mcb\u001b[0m \u001b[0;32min\u001b[0m \u001b[0mself\u001b[0m\u001b[0;34m.\u001b[0m\u001b[0mcallback_fns\u001b[0m \u001b[0;34m+\u001b[0m \u001b[0mlistify\u001b[0m\u001b[0;34m(\u001b[0m\u001b[0mdefaults\u001b[0m\u001b[0;34m.\u001b[0m\u001b[0mextra_callback_fns\u001b[0m\u001b[0;34m)\u001b[0m\u001b[0;34m]\u001b[0m \u001b[0;34m+\u001b[0m \u001b[0mlistify\u001b[0m\u001b[0;34m(\u001b[0m\u001b[0mcallbacks\u001b[0m\u001b[0;34m)\u001b[0m\u001b[0;34m\u001b[0m\u001b[0;34m\u001b[0m\u001b[0m\n\u001b[0;32m--> 200\u001b[0;31m         \u001b[0mfit\u001b[0m\u001b[0;34m(\u001b[0m\u001b[0mepochs\u001b[0m\u001b[0;34m,\u001b[0m \u001b[0mself\u001b[0m\u001b[0;34m,\u001b[0m \u001b[0mmetrics\u001b[0m\u001b[0;34m=\u001b[0m\u001b[0mself\u001b[0m\u001b[0;34m.\u001b[0m\u001b[0mmetrics\u001b[0m\u001b[0;34m,\u001b[0m \u001b[0mcallbacks\u001b[0m\u001b[0;34m=\u001b[0m\u001b[0mself\u001b[0m\u001b[0;34m.\u001b[0m\u001b[0mcallbacks\u001b[0m\u001b[0;34m+\u001b[0m\u001b[0mcallbacks\u001b[0m\u001b[0;34m)\u001b[0m\u001b[0;34m\u001b[0m\u001b[0;34m\u001b[0m\u001b[0m\n\u001b[0m\u001b[1;32m    201\u001b[0m \u001b[0;34m\u001b[0m\u001b[0m\n\u001b[1;32m    202\u001b[0m     \u001b[0;32mdef\u001b[0m \u001b[0mcreate_opt\u001b[0m\u001b[0;34m(\u001b[0m\u001b[0mself\u001b[0m\u001b[0;34m,\u001b[0m \u001b[0mlr\u001b[0m\u001b[0;34m:\u001b[0m\u001b[0mFloats\u001b[0m\u001b[0;34m,\u001b[0m \u001b[0mwd\u001b[0m\u001b[0;34m:\u001b[0m\u001b[0mFloats\u001b[0m\u001b[0;34m=\u001b[0m\u001b[0;36m0.\u001b[0m\u001b[0;34m)\u001b[0m\u001b[0;34m->\u001b[0m\u001b[0;32mNone\u001b[0m\u001b[0;34m:\u001b[0m\u001b[0;34m\u001b[0m\u001b[0;34m\u001b[0m\u001b[0m\n",
            "\u001b[0;32m/usr/local/lib/python3.7/dist-packages/fastai/basic_train.py\u001b[0m in \u001b[0;36mfit\u001b[0;34m(epochs, learn, callbacks, metrics)\u001b[0m\n\u001b[1;32m     99\u001b[0m             \u001b[0;32mfor\u001b[0m \u001b[0mxb\u001b[0m\u001b[0;34m,\u001b[0m\u001b[0myb\u001b[0m \u001b[0;32min\u001b[0m \u001b[0mprogress_bar\u001b[0m\u001b[0;34m(\u001b[0m\u001b[0mlearn\u001b[0m\u001b[0;34m.\u001b[0m\u001b[0mdata\u001b[0m\u001b[0;34m.\u001b[0m\u001b[0mtrain_dl\u001b[0m\u001b[0;34m,\u001b[0m \u001b[0mparent\u001b[0m\u001b[0;34m=\u001b[0m\u001b[0mpbar\u001b[0m\u001b[0;34m)\u001b[0m\u001b[0;34m:\u001b[0m\u001b[0;34m\u001b[0m\u001b[0;34m\u001b[0m\u001b[0m\n\u001b[1;32m    100\u001b[0m                 \u001b[0mxb\u001b[0m\u001b[0;34m,\u001b[0m \u001b[0myb\u001b[0m \u001b[0;34m=\u001b[0m \u001b[0mcb_handler\u001b[0m\u001b[0;34m.\u001b[0m\u001b[0mon_batch_begin\u001b[0m\u001b[0;34m(\u001b[0m\u001b[0mxb\u001b[0m\u001b[0;34m,\u001b[0m \u001b[0myb\u001b[0m\u001b[0;34m)\u001b[0m\u001b[0;34m\u001b[0m\u001b[0;34m\u001b[0m\u001b[0m\n\u001b[0;32m--> 101\u001b[0;31m                 \u001b[0mloss\u001b[0m \u001b[0;34m=\u001b[0m \u001b[0mloss_batch\u001b[0m\u001b[0;34m(\u001b[0m\u001b[0mlearn\u001b[0m\u001b[0;34m.\u001b[0m\u001b[0mmodel\u001b[0m\u001b[0;34m,\u001b[0m \u001b[0mxb\u001b[0m\u001b[0;34m,\u001b[0m \u001b[0myb\u001b[0m\u001b[0;34m,\u001b[0m \u001b[0mlearn\u001b[0m\u001b[0;34m.\u001b[0m\u001b[0mloss_func\u001b[0m\u001b[0;34m,\u001b[0m \u001b[0mlearn\u001b[0m\u001b[0;34m.\u001b[0m\u001b[0mopt\u001b[0m\u001b[0;34m,\u001b[0m \u001b[0mcb_handler\u001b[0m\u001b[0;34m)\u001b[0m\u001b[0;34m\u001b[0m\u001b[0;34m\u001b[0m\u001b[0m\n\u001b[0m\u001b[1;32m    102\u001b[0m                 \u001b[0;32mif\u001b[0m \u001b[0mcb_handler\u001b[0m\u001b[0;34m.\u001b[0m\u001b[0mon_batch_end\u001b[0m\u001b[0;34m(\u001b[0m\u001b[0mloss\u001b[0m\u001b[0;34m)\u001b[0m\u001b[0;34m:\u001b[0m \u001b[0;32mbreak\u001b[0m\u001b[0;34m\u001b[0m\u001b[0;34m\u001b[0m\u001b[0m\n\u001b[1;32m    103\u001b[0m \u001b[0;34m\u001b[0m\u001b[0m\n",
            "\u001b[0;32m/usr/local/lib/python3.7/dist-packages/fastai/basic_train.py\u001b[0m in \u001b[0;36mloss_batch\u001b[0;34m(model, xb, yb, loss_func, opt, cb_handler)\u001b[0m\n\u001b[1;32m     31\u001b[0m \u001b[0;34m\u001b[0m\u001b[0m\n\u001b[1;32m     32\u001b[0m     \u001b[0;32mif\u001b[0m \u001b[0mopt\u001b[0m \u001b[0;32mis\u001b[0m \u001b[0;32mnot\u001b[0m \u001b[0;32mNone\u001b[0m\u001b[0;34m:\u001b[0m\u001b[0;34m\u001b[0m\u001b[0;34m\u001b[0m\u001b[0m\n\u001b[0;32m---> 33\u001b[0;31m         \u001b[0mloss\u001b[0m\u001b[0;34m,\u001b[0m\u001b[0mskip_bwd\u001b[0m \u001b[0;34m=\u001b[0m \u001b[0mcb_handler\u001b[0m\u001b[0;34m.\u001b[0m\u001b[0mon_backward_begin\u001b[0m\u001b[0;34m(\u001b[0m\u001b[0mloss\u001b[0m\u001b[0;34m)\u001b[0m\u001b[0;34m\u001b[0m\u001b[0;34m\u001b[0m\u001b[0m\n\u001b[0m\u001b[1;32m     34\u001b[0m         \u001b[0;32mif\u001b[0m \u001b[0;32mnot\u001b[0m \u001b[0mskip_bwd\u001b[0m\u001b[0;34m:\u001b[0m                     \u001b[0mloss\u001b[0m\u001b[0;34m.\u001b[0m\u001b[0mbackward\u001b[0m\u001b[0;34m(\u001b[0m\u001b[0;34m)\u001b[0m\u001b[0;34m\u001b[0m\u001b[0;34m\u001b[0m\u001b[0m\n\u001b[1;32m     35\u001b[0m         \u001b[0;32mif\u001b[0m \u001b[0;32mnot\u001b[0m \u001b[0mcb_handler\u001b[0m\u001b[0;34m.\u001b[0m\u001b[0mon_backward_end\u001b[0m\u001b[0;34m(\u001b[0m\u001b[0;34m)\u001b[0m\u001b[0;34m:\u001b[0m \u001b[0mopt\u001b[0m\u001b[0;34m.\u001b[0m\u001b[0mstep\u001b[0m\u001b[0;34m(\u001b[0m\u001b[0;34m)\u001b[0m\u001b[0;34m\u001b[0m\u001b[0;34m\u001b[0m\u001b[0m\n",
            "\u001b[0;32m/usr/local/lib/python3.7/dist-packages/fastai/callback.py\u001b[0m in \u001b[0;36mon_backward_begin\u001b[0;34m(self, loss)\u001b[0m\n\u001b[1;32m    288\u001b[0m     \u001b[0;32mdef\u001b[0m \u001b[0mon_backward_begin\u001b[0m\u001b[0;34m(\u001b[0m\u001b[0mself\u001b[0m\u001b[0;34m,\u001b[0m \u001b[0mloss\u001b[0m\u001b[0;34m:\u001b[0m\u001b[0mTensor\u001b[0m\u001b[0;34m)\u001b[0m\u001b[0;34m->\u001b[0m\u001b[0mTuple\u001b[0m\u001b[0;34m[\u001b[0m\u001b[0mAny\u001b[0m\u001b[0;34m,\u001b[0m\u001b[0mAny\u001b[0m\u001b[0;34m]\u001b[0m\u001b[0;34m:\u001b[0m\u001b[0;34m\u001b[0m\u001b[0;34m\u001b[0m\u001b[0m\n\u001b[1;32m    289\u001b[0m         \u001b[0;34m\"Handle gradient calculation on `loss`.\"\u001b[0m\u001b[0;34m\u001b[0m\u001b[0;34m\u001b[0m\u001b[0m\n\u001b[0;32m--> 290\u001b[0;31m         \u001b[0mself\u001b[0m\u001b[0;34m.\u001b[0m\u001b[0msmoothener\u001b[0m\u001b[0;34m.\u001b[0m\u001b[0madd_value\u001b[0m\u001b[0;34m(\u001b[0m\u001b[0mloss\u001b[0m\u001b[0;34m.\u001b[0m\u001b[0mfloat\u001b[0m\u001b[0;34m(\u001b[0m\u001b[0;34m)\u001b[0m\u001b[0;34m.\u001b[0m\u001b[0mdetach\u001b[0m\u001b[0;34m(\u001b[0m\u001b[0;34m)\u001b[0m\u001b[0;34m.\u001b[0m\u001b[0mcpu\u001b[0m\u001b[0;34m(\u001b[0m\u001b[0;34m)\u001b[0m\u001b[0;34m)\u001b[0m\u001b[0;34m\u001b[0m\u001b[0;34m\u001b[0m\u001b[0m\n\u001b[0m\u001b[1;32m    291\u001b[0m         \u001b[0mself\u001b[0m\u001b[0;34m.\u001b[0m\u001b[0mstate_dict\u001b[0m\u001b[0;34m[\u001b[0m\u001b[0;34m'last_loss'\u001b[0m\u001b[0;34m]\u001b[0m\u001b[0;34m,\u001b[0m \u001b[0mself\u001b[0m\u001b[0;34m.\u001b[0m\u001b[0mstate_dict\u001b[0m\u001b[0;34m[\u001b[0m\u001b[0;34m'smooth_loss'\u001b[0m\u001b[0;34m]\u001b[0m \u001b[0;34m=\u001b[0m \u001b[0mloss\u001b[0m\u001b[0;34m,\u001b[0m \u001b[0mself\u001b[0m\u001b[0;34m.\u001b[0m\u001b[0msmoothener\u001b[0m\u001b[0;34m.\u001b[0m\u001b[0msmooth\u001b[0m\u001b[0;34m\u001b[0m\u001b[0;34m\u001b[0m\u001b[0m\n\u001b[1;32m    292\u001b[0m         \u001b[0mself\u001b[0m\u001b[0;34m(\u001b[0m\u001b[0;34m'backward_begin'\u001b[0m\u001b[0;34m,\u001b[0m \u001b[0mcall_mets\u001b[0m\u001b[0;34m=\u001b[0m\u001b[0;32mFalse\u001b[0m\u001b[0;34m)\u001b[0m\u001b[0;34m\u001b[0m\u001b[0;34m\u001b[0m\u001b[0m\n",
            "\u001b[0;31mKeyboardInterrupt\u001b[0m: "
          ]
        }
      ]
    },
    {
      "cell_type": "code",
      "metadata": {
        "id": "Ol78_mCyOs-n"
      },
      "source": [
        "df_final_p2 = df_final_p1\n",
        "df_final_p2['stars'] = df_final_p2['stars'].apply(lambda x: '1-2' if x in ['1','2'] else ('3-4' if x in ['3','4'] else '5'))"
      ],
      "execution_count": 90,
      "outputs": []
    },
    {
      "cell_type": "code",
      "metadata": {
        "id": "AiOAQ6Vw-zIj"
      },
      "source": [
        "dls_blk_part2 = DataBlock(blocks = (TextBlock.from_df(text_cols = \"review_body\", seq_len = 80),\n",
        "                              CategoryBlock),\n",
        "                    get_x = ColReader(cols = \"text\"), get_y = ColReader(cols=\"stars\"),\n",
        "                    splitter=ColSplitter('indicator'))"
      ],
      "execution_count": 92,
      "outputs": []
    },
    {
      "cell_type": "code",
      "metadata": {
        "id": "FAT0WlyxBkCJ"
      },
      "source": [
        ""
      ],
      "execution_count": null,
      "outputs": []
    }
  ]
}