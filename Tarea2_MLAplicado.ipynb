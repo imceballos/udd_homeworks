{
  "nbformat": 4,
  "nbformat_minor": 0,
  "metadata": {
    "accelerator": "GPU",
    "colab": {
      "name": "Tarea2_MLAplicado.ipynb",
      "provenance": [],
      "collapsed_sections": [],
      "toc_visible": true,
      "include_colab_link": true
    },
    "kernelspec": {
      "display_name": "Python 3",
      "name": "python3"
    },
    "language_info": {
      "name": "python"
    }
  },
  "cells": [
    {
      "cell_type": "markdown",
      "metadata": {
        "id": "view-in-github",
        "colab_type": "text"
      },
      "source": [
        "<a href=\"https://colab.research.google.com/github/imceballos/udd_homeworks/blob/main/Tarea2_MLAplicado.ipynb\" target=\"_parent\"><img src=\"https://colab.research.google.com/assets/colab-badge.svg\" alt=\"Open In Colab\"/></a>"
      ]
    },
    {
      "cell_type": "markdown",
      "metadata": {
        "id": "Xy1RIwc3jCNl"
      },
      "source": [
        "# <h2>Modelos de lenguaje y clasificación de texto</h2>"
      ]
    },
    {
      "cell_type": "markdown",
      "metadata": {
        "id": "-ow3HZOVtqxm"
      },
      "source": [
        "Autor: Israel Ceballos\n",
        "\n",
        "Profesor: Alonso Astroza"
      ]
    },
    {
      "cell_type": "markdown",
      "metadata": {
        "id": "UbVbY2E7kLsm"
      },
      "source": [
        "El objetivo de este trabajo es crear un clasificador de **reviews** en base a reseñas de **Amazon**"
      ]
    },
    {
      "cell_type": "markdown",
      "metadata": {
        "id": "O-q9NlRvlGQx"
      },
      "source": [
        "## *Instalación de libreria fastai*"
      ]
    },
    {
      "cell_type": "code",
      "metadata": {
        "colab": {
          "base_uri": "https://localhost:8080/"
        },
        "id": "veX1AYAdj2O3",
        "outputId": "d4e7e3c7-164f-405f-8c88-1cc45b13dc06"
      },
      "source": [
        "!pip install fastai --upgrade"
      ],
      "execution_count": null,
      "outputs": [
        {
          "output_type": "stream",
          "text": [
            "Collecting fastai\n",
            "\u001b[?25l  Downloading https://files.pythonhosted.org/packages/bd/ca/bc9f4e04adcdfda1357f5c63bc67a7bf4f315883ca544726f3376b1ed068/fastai-2.4-py3-none-any.whl (187kB)\n",
            "\r\u001b[K     |█▊                              | 10kB 27.1MB/s eta 0:00:01\r\u001b[K     |███▌                            | 20kB 34.9MB/s eta 0:00:01\r\u001b[K     |█████▎                          | 30kB 36.1MB/s eta 0:00:01\r\u001b[K     |███████                         | 40kB 35.9MB/s eta 0:00:01\r\u001b[K     |████████▊                       | 51kB 32.4MB/s eta 0:00:01\r\u001b[K     |██████████▌                     | 61kB 30.9MB/s eta 0:00:01\r\u001b[K     |████████████▏                   | 71kB 29.7MB/s eta 0:00:01\r\u001b[K     |██████████████                  | 81kB 29.6MB/s eta 0:00:01\r\u001b[K     |███████████████▊                | 92kB 30.6MB/s eta 0:00:01\r\u001b[K     |█████████████████▍              | 102kB 32.1MB/s eta 0:00:01\r\u001b[K     |███████████████████▏            | 112kB 32.1MB/s eta 0:00:01\r\u001b[K     |█████████████████████           | 122kB 32.1MB/s eta 0:00:01\r\u001b[K     |██████████████████████▊         | 133kB 32.1MB/s eta 0:00:01\r\u001b[K     |████████████████████████▍       | 143kB 32.1MB/s eta 0:00:01\r\u001b[K     |██████████████████████████▏     | 153kB 32.1MB/s eta 0:00:01\r\u001b[K     |████████████████████████████    | 163kB 32.1MB/s eta 0:00:01\r\u001b[K     |█████████████████████████████▋  | 174kB 32.1MB/s eta 0:00:01\r\u001b[K     |███████████████████████████████▍| 184kB 32.1MB/s eta 0:00:01\r\u001b[K     |████████████████████████████████| 194kB 32.1MB/s \n",
            "\u001b[?25hRequirement already satisfied, skipping upgrade: torch<1.10,>=1.7.0 in /usr/local/lib/python3.7/dist-packages (from fastai) (1.9.0+cu102)\n",
            "Requirement already satisfied, skipping upgrade: packaging in /usr/local/lib/python3.7/dist-packages (from fastai) (20.9)\n",
            "Collecting fastcore<1.4,>=1.3.8\n",
            "\u001b[?25l  Downloading https://files.pythonhosted.org/packages/d8/b0/f1fbf554e0bf3c76e1bdc3b82eedfe41fcf656479586be38c64421082b1b/fastcore-1.3.20-py3-none-any.whl (53kB)\n",
            "\r\u001b[K     |██████                          | 10kB 26.3MB/s eta 0:00:01\r\u001b[K     |████████████▏                   | 20kB 32.0MB/s eta 0:00:01\r\u001b[K     |██████████████████▎             | 30kB 37.8MB/s eta 0:00:01\r\u001b[K     |████████████████████████▍       | 40kB 41.7MB/s eta 0:00:01\r\u001b[K     |██████████████████████████████▌ | 51kB 44.0MB/s eta 0:00:01\r\u001b[K     |████████████████████████████████| 61kB 10.1MB/s \n",
            "\u001b[?25hRequirement already satisfied, skipping upgrade: pandas in /usr/local/lib/python3.7/dist-packages (from fastai) (1.1.5)\n",
            "Requirement already satisfied, skipping upgrade: spacy<4 in /usr/local/lib/python3.7/dist-packages (from fastai) (2.2.4)\n",
            "Requirement already satisfied, skipping upgrade: pyyaml in /usr/local/lib/python3.7/dist-packages (from fastai) (3.13)\n",
            "Requirement already satisfied, skipping upgrade: fastprogress>=0.2.4 in /usr/local/lib/python3.7/dist-packages (from fastai) (1.0.0)\n",
            "Requirement already satisfied, skipping upgrade: scikit-learn in /usr/local/lib/python3.7/dist-packages (from fastai) (0.22.2.post1)\n",
            "Requirement already satisfied, skipping upgrade: pip in /usr/local/lib/python3.7/dist-packages (from fastai) (19.3.1)\n",
            "Requirement already satisfied, skipping upgrade: requests in /usr/local/lib/python3.7/dist-packages (from fastai) (2.23.0)\n",
            "Requirement already satisfied, skipping upgrade: torchvision>=0.8.2 in /usr/local/lib/python3.7/dist-packages (from fastai) (0.10.0+cu102)\n",
            "Requirement already satisfied, skipping upgrade: scipy in /usr/local/lib/python3.7/dist-packages (from fastai) (1.4.1)\n",
            "Requirement already satisfied, skipping upgrade: pillow>6.0.0 in /usr/local/lib/python3.7/dist-packages (from fastai) (7.1.2)\n",
            "Requirement already satisfied, skipping upgrade: matplotlib in /usr/local/lib/python3.7/dist-packages (from fastai) (3.2.2)\n",
            "Requirement already satisfied, skipping upgrade: typing-extensions in /usr/local/lib/python3.7/dist-packages (from torch<1.10,>=1.7.0->fastai) (3.7.4.3)\n",
            "Requirement already satisfied, skipping upgrade: pyparsing>=2.0.2 in /usr/local/lib/python3.7/dist-packages (from packaging->fastai) (2.4.7)\n",
            "Requirement already satisfied, skipping upgrade: numpy>=1.15.4 in /usr/local/lib/python3.7/dist-packages (from pandas->fastai) (1.19.5)\n",
            "Requirement already satisfied, skipping upgrade: python-dateutil>=2.7.3 in /usr/local/lib/python3.7/dist-packages (from pandas->fastai) (2.8.1)\n",
            "Requirement already satisfied, skipping upgrade: pytz>=2017.2 in /usr/local/lib/python3.7/dist-packages (from pandas->fastai) (2018.9)\n",
            "Requirement already satisfied, skipping upgrade: catalogue<1.1.0,>=0.0.7 in /usr/local/lib/python3.7/dist-packages (from spacy<4->fastai) (1.0.0)\n",
            "Requirement already satisfied, skipping upgrade: thinc==7.4.0 in /usr/local/lib/python3.7/dist-packages (from spacy<4->fastai) (7.4.0)\n",
            "Requirement already satisfied, skipping upgrade: blis<0.5.0,>=0.4.0 in /usr/local/lib/python3.7/dist-packages (from spacy<4->fastai) (0.4.1)\n",
            "Requirement already satisfied, skipping upgrade: preshed<3.1.0,>=3.0.2 in /usr/local/lib/python3.7/dist-packages (from spacy<4->fastai) (3.0.5)\n",
            "Requirement already satisfied, skipping upgrade: murmurhash<1.1.0,>=0.28.0 in /usr/local/lib/python3.7/dist-packages (from spacy<4->fastai) (1.0.5)\n",
            "Requirement already satisfied, skipping upgrade: cymem<2.1.0,>=2.0.2 in /usr/local/lib/python3.7/dist-packages (from spacy<4->fastai) (2.0.5)\n",
            "Requirement already satisfied, skipping upgrade: tqdm<5.0.0,>=4.38.0 in /usr/local/lib/python3.7/dist-packages (from spacy<4->fastai) (4.41.1)\n",
            "Requirement already satisfied, skipping upgrade: wasabi<1.1.0,>=0.4.0 in /usr/local/lib/python3.7/dist-packages (from spacy<4->fastai) (0.8.2)\n",
            "Requirement already satisfied, skipping upgrade: srsly<1.1.0,>=1.0.2 in /usr/local/lib/python3.7/dist-packages (from spacy<4->fastai) (1.0.5)\n",
            "Requirement already satisfied, skipping upgrade: plac<1.2.0,>=0.9.6 in /usr/local/lib/python3.7/dist-packages (from spacy<4->fastai) (1.1.3)\n",
            "Requirement already satisfied, skipping upgrade: setuptools in /usr/local/lib/python3.7/dist-packages (from spacy<4->fastai) (57.0.0)\n",
            "Requirement already satisfied, skipping upgrade: joblib>=0.11 in /usr/local/lib/python3.7/dist-packages (from scikit-learn->fastai) (1.0.1)\n",
            "Requirement already satisfied, skipping upgrade: chardet<4,>=3.0.2 in /usr/local/lib/python3.7/dist-packages (from requests->fastai) (3.0.4)\n",
            "Requirement already satisfied, skipping upgrade: idna<3,>=2.5 in /usr/local/lib/python3.7/dist-packages (from requests->fastai) (2.10)\n",
            "Requirement already satisfied, skipping upgrade: certifi>=2017.4.17 in /usr/local/lib/python3.7/dist-packages (from requests->fastai) (2021.5.30)\n",
            "Requirement already satisfied, skipping upgrade: urllib3!=1.25.0,!=1.25.1,<1.26,>=1.21.1 in /usr/local/lib/python3.7/dist-packages (from requests->fastai) (1.24.3)\n",
            "Requirement already satisfied, skipping upgrade: kiwisolver>=1.0.1 in /usr/local/lib/python3.7/dist-packages (from matplotlib->fastai) (1.3.1)\n",
            "Requirement already satisfied, skipping upgrade: cycler>=0.10 in /usr/local/lib/python3.7/dist-packages (from matplotlib->fastai) (0.10.0)\n",
            "Requirement already satisfied, skipping upgrade: six>=1.5 in /usr/local/lib/python3.7/dist-packages (from python-dateutil>=2.7.3->pandas->fastai) (1.15.0)\n",
            "Requirement already satisfied, skipping upgrade: importlib-metadata>=0.20; python_version < \"3.8\" in /usr/local/lib/python3.7/dist-packages (from catalogue<1.1.0,>=0.0.7->spacy<4->fastai) (4.5.0)\n",
            "Requirement already satisfied, skipping upgrade: zipp>=0.5 in /usr/local/lib/python3.7/dist-packages (from importlib-metadata>=0.20; python_version < \"3.8\"->catalogue<1.1.0,>=0.0.7->spacy<4->fastai) (3.4.1)\n",
            "Installing collected packages: fastcore, fastai\n",
            "  Found existing installation: fastai 1.0.61\n",
            "    Uninstalling fastai-1.0.61:\n",
            "      Successfully uninstalled fastai-1.0.61\n",
            "Successfully installed fastai-2.4 fastcore-1.3.20\n"
          ],
          "name": "stdout"
        }
      ]
    },
    {
      "cell_type": "code",
      "metadata": {
        "colab": {
          "base_uri": "https://localhost:8080/"
        },
        "id": "QHcgc_DTlNHx",
        "outputId": "3408e0cd-6bf6-4b2f-8ca3-7f3a02e726af"
      },
      "source": [
        "!pip install fastai-ulmfit"
      ],
      "execution_count": null,
      "outputs": [
        {
          "output_type": "stream",
          "text": [
            "Collecting fastai-ulmfit\n",
            "  Downloading https://files.pythonhosted.org/packages/73/e4/5389c4d53a59356f5f2ac503138fe7572a310d154eacad091b5a761b79b3/fastai_ulmfit-0.0.4-py3-none-any.whl\n",
            "Collecting sentencepiece>=0.1.95\n",
            "\u001b[?25l  Downloading https://files.pythonhosted.org/packages/ac/aa/1437691b0c7c83086ebb79ce2da16e00bef024f24fec2a5161c35476f499/sentencepiece-0.1.96-cp37-cp37m-manylinux_2_17_x86_64.manylinux2014_x86_64.whl (1.2MB)\n",
            "\u001b[K     |████████████████████████████████| 1.2MB 35.7MB/s \n",
            "\u001b[?25hRequirement already satisfied: fastai>=2.2.7 in /usr/local/lib/python3.7/dist-packages (from fastai-ulmfit) (2.4)\n",
            "Requirement already satisfied: requests in /usr/local/lib/python3.7/dist-packages (from fastai>=2.2.7->fastai-ulmfit) (2.23.0)\n",
            "Requirement already satisfied: pillow>6.0.0 in /usr/local/lib/python3.7/dist-packages (from fastai>=2.2.7->fastai-ulmfit) (7.1.2)\n",
            "Requirement already satisfied: fastcore<1.4,>=1.3.8 in /usr/local/lib/python3.7/dist-packages (from fastai>=2.2.7->fastai-ulmfit) (1.3.20)\n",
            "Requirement already satisfied: scipy in /usr/local/lib/python3.7/dist-packages (from fastai>=2.2.7->fastai-ulmfit) (1.4.1)\n",
            "Requirement already satisfied: fastprogress>=0.2.4 in /usr/local/lib/python3.7/dist-packages (from fastai>=2.2.7->fastai-ulmfit) (1.0.0)\n",
            "Requirement already satisfied: scikit-learn in /usr/local/lib/python3.7/dist-packages (from fastai>=2.2.7->fastai-ulmfit) (0.22.2.post1)\n",
            "Requirement already satisfied: packaging in /usr/local/lib/python3.7/dist-packages (from fastai>=2.2.7->fastai-ulmfit) (20.9)\n",
            "Requirement already satisfied: pyyaml in /usr/local/lib/python3.7/dist-packages (from fastai>=2.2.7->fastai-ulmfit) (3.13)\n",
            "Requirement already satisfied: pandas in /usr/local/lib/python3.7/dist-packages (from fastai>=2.2.7->fastai-ulmfit) (1.1.5)\n",
            "Requirement already satisfied: torchvision>=0.8.2 in /usr/local/lib/python3.7/dist-packages (from fastai>=2.2.7->fastai-ulmfit) (0.10.0+cu102)\n",
            "Requirement already satisfied: pip in /usr/local/lib/python3.7/dist-packages (from fastai>=2.2.7->fastai-ulmfit) (19.3.1)\n",
            "Requirement already satisfied: spacy<4 in /usr/local/lib/python3.7/dist-packages (from fastai>=2.2.7->fastai-ulmfit) (2.2.4)\n",
            "Requirement already satisfied: torch<1.10,>=1.7.0 in /usr/local/lib/python3.7/dist-packages (from fastai>=2.2.7->fastai-ulmfit) (1.9.0+cu102)\n",
            "Requirement already satisfied: matplotlib in /usr/local/lib/python3.7/dist-packages (from fastai>=2.2.7->fastai-ulmfit) (3.2.2)\n",
            "Requirement already satisfied: chardet<4,>=3.0.2 in /usr/local/lib/python3.7/dist-packages (from requests->fastai>=2.2.7->fastai-ulmfit) (3.0.4)\n",
            "Requirement already satisfied: idna<3,>=2.5 in /usr/local/lib/python3.7/dist-packages (from requests->fastai>=2.2.7->fastai-ulmfit) (2.10)\n",
            "Requirement already satisfied: urllib3!=1.25.0,!=1.25.1,<1.26,>=1.21.1 in /usr/local/lib/python3.7/dist-packages (from requests->fastai>=2.2.7->fastai-ulmfit) (1.24.3)\n",
            "Requirement already satisfied: certifi>=2017.4.17 in /usr/local/lib/python3.7/dist-packages (from requests->fastai>=2.2.7->fastai-ulmfit) (2021.5.30)\n",
            "Requirement already satisfied: numpy>=1.13.3 in /usr/local/lib/python3.7/dist-packages (from scipy->fastai>=2.2.7->fastai-ulmfit) (1.19.5)\n",
            "Requirement already satisfied: joblib>=0.11 in /usr/local/lib/python3.7/dist-packages (from scikit-learn->fastai>=2.2.7->fastai-ulmfit) (1.0.1)\n",
            "Requirement already satisfied: pyparsing>=2.0.2 in /usr/local/lib/python3.7/dist-packages (from packaging->fastai>=2.2.7->fastai-ulmfit) (2.4.7)\n",
            "Requirement already satisfied: python-dateutil>=2.7.3 in /usr/local/lib/python3.7/dist-packages (from pandas->fastai>=2.2.7->fastai-ulmfit) (2.8.1)\n",
            "Requirement already satisfied: pytz>=2017.2 in /usr/local/lib/python3.7/dist-packages (from pandas->fastai>=2.2.7->fastai-ulmfit) (2018.9)\n",
            "Requirement already satisfied: tqdm<5.0.0,>=4.38.0 in /usr/local/lib/python3.7/dist-packages (from spacy<4->fastai>=2.2.7->fastai-ulmfit) (4.41.1)\n",
            "Requirement already satisfied: blis<0.5.0,>=0.4.0 in /usr/local/lib/python3.7/dist-packages (from spacy<4->fastai>=2.2.7->fastai-ulmfit) (0.4.1)\n",
            "Requirement already satisfied: wasabi<1.1.0,>=0.4.0 in /usr/local/lib/python3.7/dist-packages (from spacy<4->fastai>=2.2.7->fastai-ulmfit) (0.8.2)\n",
            "Requirement already satisfied: setuptools in /usr/local/lib/python3.7/dist-packages (from spacy<4->fastai>=2.2.7->fastai-ulmfit) (57.0.0)\n",
            "Requirement already satisfied: cymem<2.1.0,>=2.0.2 in /usr/local/lib/python3.7/dist-packages (from spacy<4->fastai>=2.2.7->fastai-ulmfit) (2.0.5)\n",
            "Requirement already satisfied: srsly<1.1.0,>=1.0.2 in /usr/local/lib/python3.7/dist-packages (from spacy<4->fastai>=2.2.7->fastai-ulmfit) (1.0.5)\n",
            "Requirement already satisfied: preshed<3.1.0,>=3.0.2 in /usr/local/lib/python3.7/dist-packages (from spacy<4->fastai>=2.2.7->fastai-ulmfit) (3.0.5)\n",
            "Requirement already satisfied: plac<1.2.0,>=0.9.6 in /usr/local/lib/python3.7/dist-packages (from spacy<4->fastai>=2.2.7->fastai-ulmfit) (1.1.3)\n",
            "Requirement already satisfied: thinc==7.4.0 in /usr/local/lib/python3.7/dist-packages (from spacy<4->fastai>=2.2.7->fastai-ulmfit) (7.4.0)\n",
            "Requirement already satisfied: murmurhash<1.1.0,>=0.28.0 in /usr/local/lib/python3.7/dist-packages (from spacy<4->fastai>=2.2.7->fastai-ulmfit) (1.0.5)\n",
            "Requirement already satisfied: catalogue<1.1.0,>=0.0.7 in /usr/local/lib/python3.7/dist-packages (from spacy<4->fastai>=2.2.7->fastai-ulmfit) (1.0.0)\n",
            "Requirement already satisfied: typing-extensions in /usr/local/lib/python3.7/dist-packages (from torch<1.10,>=1.7.0->fastai>=2.2.7->fastai-ulmfit) (3.7.4.3)\n",
            "Requirement already satisfied: cycler>=0.10 in /usr/local/lib/python3.7/dist-packages (from matplotlib->fastai>=2.2.7->fastai-ulmfit) (0.10.0)\n",
            "Requirement already satisfied: kiwisolver>=1.0.1 in /usr/local/lib/python3.7/dist-packages (from matplotlib->fastai>=2.2.7->fastai-ulmfit) (1.3.1)\n",
            "Requirement already satisfied: six>=1.5 in /usr/local/lib/python3.7/dist-packages (from python-dateutil>=2.7.3->pandas->fastai>=2.2.7->fastai-ulmfit) (1.15.0)\n",
            "Requirement already satisfied: importlib-metadata>=0.20; python_version < \"3.8\" in /usr/local/lib/python3.7/dist-packages (from catalogue<1.1.0,>=0.0.7->spacy<4->fastai>=2.2.7->fastai-ulmfit) (4.5.0)\n",
            "Requirement already satisfied: zipp>=0.5 in /usr/local/lib/python3.7/dist-packages (from importlib-metadata>=0.20; python_version < \"3.8\"->catalogue<1.1.0,>=0.0.7->spacy<4->fastai>=2.2.7->fastai-ulmfit) (3.4.1)\n",
            "Installing collected packages: sentencepiece, fastai-ulmfit\n",
            "Successfully installed fastai-ulmfit-0.0.4 sentencepiece-0.1.96\n"
          ],
          "name": "stdout"
        }
      ]
    },
    {
      "cell_type": "code",
      "metadata": {
        "id": "1oSRwr2iINzS"
      },
      "source": [
        "from fastai_ulmfit.pretrained import *\n",
        "from fastai.text.all import *"
      ],
      "execution_count": null,
      "outputs": []
    },
    {
      "cell_type": "markdown",
      "metadata": {
        "id": "36ZeIFPN742L"
      },
      "source": [
        "Crearemos la carpeta data, esta nos servira pronto para almacenar la data "
      ]
    },
    {
      "cell_type": "code",
      "metadata": {
        "id": "AzV5CKOrl1EH"
      },
      "source": [
        "path = Path('data')\n",
        "dest = path\n",
        "dest.mkdir(parents=True, exist_ok=True)"
      ],
      "execution_count": null,
      "outputs": []
    },
    {
      "cell_type": "markdown",
      "metadata": {
        "id": "d_CGEady21oP"
      },
      "source": [
        "## <h2>Autenticación y descarga en GCP </h2>"
      ]
    },
    {
      "cell_type": "markdown",
      "metadata": {
        "id": "TYWvcdre8EJU"
      },
      "source": [
        "La información esta alojada en GCP (Google Cloud Platform), para poder acceder a ella debe logerarse con su cuenta alonsoastroza@gmail.com, esta cuenta tiene habilitado los permisos para acceder a descargar la infromación."
      ]
    },
    {
      "cell_type": "code",
      "metadata": {
        "colab": {
          "base_uri": "https://localhost:8080/"
        },
        "id": "kprEtK6crsqy",
        "outputId": "3892b580-aecb-4709-b356-46c90d3b22f1"
      },
      "source": [
        "!gcloud auth login"
      ],
      "execution_count": null,
      "outputs": [
        {
          "output_type": "stream",
          "text": [
            "Go to the following link in your browser:\n",
            "\n",
            "    https://accounts.google.com/o/oauth2/auth?response_type=code&client_id=32555940559.apps.googleusercontent.com&redirect_uri=urn%3Aietf%3Awg%3Aoauth%3A2.0%3Aoob&scope=openid+https%3A%2F%2Fwww.googleapis.com%2Fauth%2Fuserinfo.email+https%3A%2F%2Fwww.googleapis.com%2Fauth%2Fcloud-platform+https%3A%2F%2Fwww.googleapis.com%2Fauth%2Fappengine.admin+https%3A%2F%2Fwww.googleapis.com%2Fauth%2Fcompute+https%3A%2F%2Fwww.googleapis.com%2Fauth%2Faccounts.reauth&state=LGTvZfey5JlMwJidiDt22ooVlc8rM7&prompt=consent&access_type=offline&code_challenge=KZbvofOZcvcua3X-SStBAiIIo0bXhu5Y8T-j-_Z8V7Y&code_challenge_method=S256\n",
            "\n",
            "Enter verification code: 4/1AX4XfWgR5euCVsmA4cxtDgwMSKOEw5l3-bJOErXtMEGbhRGFAXZwckuRtLc\n",
            "\n",
            "You are now logged in as [eliizabeth.fren@gmail.com].\n",
            "Your current project is [None].  You can change this setting by running:\n",
            "  $ gcloud config set project PROJECT_ID\n"
          ],
          "name": "stdout"
        }
      ]
    },
    {
      "cell_type": "markdown",
      "metadata": {
        "id": "-FtQqf-286sQ"
      },
      "source": [
        "### <h3>Descargamos la información de dataset_es_train</h3>"
      ]
    },
    {
      "cell_type": "code",
      "metadata": {
        "colab": {
          "base_uri": "https://localhost:8080/"
        },
        "id": "KKjfRosep1PI",
        "outputId": "f38c6ed0-4f8e-4ec6-b4a2-98d4a922c572"
      },
      "source": [
        "!gsutil cp -r  gs://tareaml2/dataset_es_train.json data/"
      ],
      "execution_count": null,
      "outputs": [
        {
          "output_type": "stream",
          "text": [
            "Copying gs://tareaml2/dataset_es_train.json...\n",
            "- [1 files][ 73.9 MiB/ 73.9 MiB]                                                \n",
            "Operation completed over 1 objects/73.9 MiB.                                     \n"
          ],
          "name": "stdout"
        }
      ]
    },
    {
      "cell_type": "markdown",
      "metadata": {
        "id": "JgbdO9uc9KIK"
      },
      "source": [
        "###<h3>Descargamos la información de dataset_es_test</h3>"
      ]
    },
    {
      "cell_type": "code",
      "metadata": {
        "colab": {
          "base_uri": "https://localhost:8080/"
        },
        "id": "pXoHRABnmQJI",
        "outputId": "3c842de6-4715-4fe5-f24f-5c41ec5bc94e"
      },
      "source": [
        "!gsutil cp -r gs://tareaml2/dataset_es_test.json data/"
      ],
      "execution_count": null,
      "outputs": [
        {
          "output_type": "stream",
          "text": [
            "Copying gs://tareaml2/dataset_es_test.json...\n",
            "/ [0 files][    0.0 B/  1.8 MiB]                                                \r/ [1 files][  1.8 MiB/  1.8 MiB]                                                \r\n",
            "Operation completed over 1 objects/1.8 MiB.                                      \n"
          ],
          "name": "stdout"
        }
      ]
    },
    {
      "cell_type": "markdown",
      "metadata": {
        "id": "32BGjYPNOkp5"
      },
      "source": [
        "##<h2>Carga de los datos (Pregunta 2.1)</h2>"
      ]
    },
    {
      "cell_type": "code",
      "metadata": {
        "id": "73qdLr7Oanf7"
      },
      "source": [
        "import pandas as pd"
      ],
      "execution_count": null,
      "outputs": []
    },
    {
      "cell_type": "markdown",
      "metadata": {
        "id": "vJex2sOYvuHa"
      },
      "source": [
        "Conjunto de entrenamiento"
      ]
    },
    {
      "cell_type": "code",
      "metadata": {
        "colab": {
          "base_uri": "https://localhost:8080/",
          "height": 408
        },
        "id": "W9f74RH9apiE",
        "outputId": "7a059f0e-fa95-4c0e-c984-3f4d14c7630d"
      },
      "source": [
        "df_train = pd.read_json('data/dataset_es_train.json', lines=True)\n",
        "df_train.head()"
      ],
      "execution_count": null,
      "outputs": [
        {
          "output_type": "execute_result",
          "data": {
            "text/html": [
              "<div>\n",
              "<style scoped>\n",
              "    .dataframe tbody tr th:only-of-type {\n",
              "        vertical-align: middle;\n",
              "    }\n",
              "\n",
              "    .dataframe tbody tr th {\n",
              "        vertical-align: top;\n",
              "    }\n",
              "\n",
              "    .dataframe thead th {\n",
              "        text-align: right;\n",
              "    }\n",
              "</style>\n",
              "<table border=\"1\" class=\"dataframe\">\n",
              "  <thead>\n",
              "    <tr style=\"text-align: right;\">\n",
              "      <th></th>\n",
              "      <th>review_id</th>\n",
              "      <th>product_id</th>\n",
              "      <th>reviewer_id</th>\n",
              "      <th>stars</th>\n",
              "      <th>review_body</th>\n",
              "      <th>review_title</th>\n",
              "      <th>language</th>\n",
              "      <th>product_category</th>\n",
              "    </tr>\n",
              "  </thead>\n",
              "  <tbody>\n",
              "    <tr>\n",
              "      <th>0</th>\n",
              "      <td>es_0491108</td>\n",
              "      <td>product_es_0296024</td>\n",
              "      <td>reviewer_es_0999081</td>\n",
              "      <td>1</td>\n",
              "      <td>Nada bueno se me fue ka pantalla en menos de 8 meses y no he recibido respuesta del fabricante</td>\n",
              "      <td>television Nevir</td>\n",
              "      <td>es</td>\n",
              "      <td>electronics</td>\n",
              "    </tr>\n",
              "    <tr>\n",
              "      <th>1</th>\n",
              "      <td>es_0869872</td>\n",
              "      <td>product_es_0922286</td>\n",
              "      <td>reviewer_es_0216771</td>\n",
              "      <td>1</td>\n",
              "      <td>Horrible, nos tuvimos que comprar otro porque ni nosotros que sabemos inglés, ni un informático, después de una hora fue capaz de instalarlo</td>\n",
              "      <td>Dinero tirado a la basura con esta compra</td>\n",
              "      <td>es</td>\n",
              "      <td>electronics</td>\n",
              "    </tr>\n",
              "    <tr>\n",
              "      <th>2</th>\n",
              "      <td>es_0811721</td>\n",
              "      <td>product_es_0474543</td>\n",
              "      <td>reviewer_es_0929213</td>\n",
              "      <td>1</td>\n",
              "      <td>Te obligan a comprar dos unidades y te llega solo una y no hay forma de reclamar, una autentica estafa, no compreis!!</td>\n",
              "      <td>solo llega una unidad cuando te obligan a comprar dos</td>\n",
              "      <td>es</td>\n",
              "      <td>drugstore</td>\n",
              "    </tr>\n",
              "    <tr>\n",
              "      <th>3</th>\n",
              "      <td>es_0359921</td>\n",
              "      <td>product_es_0656090</td>\n",
              "      <td>reviewer_es_0224702</td>\n",
              "      <td>1</td>\n",
              "      <td>No entro en descalificar al vendedor, solo puedo decir que tras dos meses de espera.... sigo sin el producto y tuve que contactar con Amazon para reclamar su reembolso. Amazon un 10 . Se hace cargo del problema, pero yo e desembolsado mi dinero y en dos meses me lo devuelven Perdida de tiempo TOTAL. Sin palabras. Y Ustedes deciden</td>\n",
              "      <td>PRODUCTO NO RECIBIDO.</td>\n",
              "      <td>es</td>\n",
              "      <td>wireless</td>\n",
              "    </tr>\n",
              "    <tr>\n",
              "      <th>4</th>\n",
              "      <td>es_0068940</td>\n",
              "      <td>product_es_0662544</td>\n",
              "      <td>reviewer_es_0224827</td>\n",
              "      <td>1</td>\n",
              "      <td>Llega tarde y co la talla equivocada</td>\n",
              "      <td>Devuelto</td>\n",
              "      <td>es</td>\n",
              "      <td>shoes</td>\n",
              "    </tr>\n",
              "  </tbody>\n",
              "</table>\n",
              "</div>"
            ],
            "text/plain": [
              "    review_id          product_id  ... language  product_category\n",
              "0  es_0491108  product_es_0296024  ...       es       electronics\n",
              "1  es_0869872  product_es_0922286  ...       es       electronics\n",
              "2  es_0811721  product_es_0474543  ...       es         drugstore\n",
              "3  es_0359921  product_es_0656090  ...       es          wireless\n",
              "4  es_0068940  product_es_0662544  ...       es             shoes\n",
              "\n",
              "[5 rows x 8 columns]"
            ]
          },
          "metadata": {
            "tags": []
          },
          "execution_count": 14
        }
      ]
    },
    {
      "cell_type": "markdown",
      "metadata": {
        "id": "Y0AZdv_7vxY7"
      },
      "source": [
        "Conjunto de validación"
      ]
    },
    {
      "cell_type": "code",
      "metadata": {
        "colab": {
          "base_uri": "https://localhost:8080/",
          "height": 561
        },
        "id": "Jyq6l9PKv7ku",
        "outputId": "0176d3d3-7ac8-465c-8254-7e16d0b99874"
      },
      "source": [
        "df_test = pd.read_json('data/dataset_es_test.json', lines=True)\n",
        "df_test.head()"
      ],
      "execution_count": null,
      "outputs": [
        {
          "output_type": "execute_result",
          "data": {
            "text/html": [
              "<div>\n",
              "<style scoped>\n",
              "    .dataframe tbody tr th:only-of-type {\n",
              "        vertical-align: middle;\n",
              "    }\n",
              "\n",
              "    .dataframe tbody tr th {\n",
              "        vertical-align: top;\n",
              "    }\n",
              "\n",
              "    .dataframe thead th {\n",
              "        text-align: right;\n",
              "    }\n",
              "</style>\n",
              "<table border=\"1\" class=\"dataframe\">\n",
              "  <thead>\n",
              "    <tr style=\"text-align: right;\">\n",
              "      <th></th>\n",
              "      <th>review_id</th>\n",
              "      <th>product_id</th>\n",
              "      <th>reviewer_id</th>\n",
              "      <th>stars</th>\n",
              "      <th>review_body</th>\n",
              "      <th>review_title</th>\n",
              "      <th>language</th>\n",
              "      <th>product_category</th>\n",
              "    </tr>\n",
              "  </thead>\n",
              "  <tbody>\n",
              "    <tr>\n",
              "      <th>0</th>\n",
              "      <td>es_0038754</td>\n",
              "      <td>product_es_0113523</td>\n",
              "      <td>reviewer_es_0580071</td>\n",
              "      <td>1</td>\n",
              "      <td>no me llego el articulo me lo mando por correos normal sin seguimiento y nunca me llego tota un desastre</td>\n",
              "      <td>no me llego</td>\n",
              "      <td>es</td>\n",
              "      <td>wireless</td>\n",
              "    </tr>\n",
              "    <tr>\n",
              "      <th>1</th>\n",
              "      <td>es_0748979</td>\n",
              "      <td>product_es_0017036</td>\n",
              "      <td>reviewer_es_0819733</td>\n",
              "      <td>1</td>\n",
              "      <td>la mensajería horrible, no compro mas</td>\n",
              "      <td>amazon sigue sin cumplir en las entregas</td>\n",
              "      <td>es</td>\n",
              "      <td>home</td>\n",
              "    </tr>\n",
              "    <tr>\n",
              "      <th>2</th>\n",
              "      <td>es_0411746</td>\n",
              "      <td>product_es_0138642</td>\n",
              "      <td>reviewer_es_0508607</td>\n",
              "      <td>1</td>\n",
              "      <td>Estoy muy decepcionado con el vendedor ya que el pedido no me llegó a tiempo y no cumplió los plazos de envío y era una cosa que necesitaba urgente. Para colmo me pongo en contacto con el vendedor y no da señales. No recomiendo nada</td>\n",
              "      <td>ESTAFA EN EL ENVÍO</td>\n",
              "      <td>es</td>\n",
              "      <td>toy</td>\n",
              "    </tr>\n",
              "    <tr>\n",
              "      <th>3</th>\n",
              "      <td>es_0786686</td>\n",
              "      <td>product_es_0170887</td>\n",
              "      <td>reviewer_es_0491157</td>\n",
              "      <td>1</td>\n",
              "      <td>Mi valoración no es sobre el producto sino sobre AMAZON. Ofrecéis el producto a 299€ y tras varios días me devolvéis el dinero porque os habéis equivocado en el anuncio, según vosotros, ahora es 399€. Es la primera vez que me ocurre esto. Cuando he comprado en cualquier sitio y el precio marcado no se correspondía con el valor de caja siempre me lo han vendido con el precio marcado. Es inverosímil lo ocurrido, pero la ultima palabra me la dará la oficina del consumidor</td>\n",
              "      <td>Estafa de Amazon</td>\n",
              "      <td>es</td>\n",
              "      <td>home</td>\n",
              "    </tr>\n",
              "    <tr>\n",
              "      <th>4</th>\n",
              "      <td>es_0429700</td>\n",
              "      <td>product_es_0710642</td>\n",
              "      <td>reviewer_es_0008745</td>\n",
              "      <td>1</td>\n",
              "      <td>Pues tenía interés en este libro y probé la versión kindle. se abre la portada pero nada más. parece una mala broma pero me iba a gastar el dedo de tanto tratar que pasara de página de alguna forma. No puedo valorar nada de nada.</td>\n",
              "      <td>No conseguí pasar de la portada en Kindle</td>\n",
              "      <td>es</td>\n",
              "      <td>digital_ebook_purchase</td>\n",
              "    </tr>\n",
              "  </tbody>\n",
              "</table>\n",
              "</div>"
            ],
            "text/plain": [
              "    review_id          product_id  ... language        product_category\n",
              "0  es_0038754  product_es_0113523  ...       es                wireless\n",
              "1  es_0748979  product_es_0017036  ...       es                    home\n",
              "2  es_0411746  product_es_0138642  ...       es                     toy\n",
              "3  es_0786686  product_es_0170887  ...       es                    home\n",
              "4  es_0429700  product_es_0710642  ...       es  digital_ebook_purchase\n",
              "\n",
              "[5 rows x 8 columns]"
            ]
          },
          "metadata": {
            "tags": []
          },
          "execution_count": 15
        }
      ]
    },
    {
      "cell_type": "markdown",
      "metadata": {
        "id": "eeCvlQ_jbRFa"
      },
      "source": [
        "###<h3>Número de stars y largo de reseñas</h3>"
      ]
    },
    {
      "cell_type": "markdown",
      "metadata": {
        "id": "lhRZ42yvv9uq"
      },
      "source": [
        "Conjunto de entrenamiento"
      ]
    },
    {
      "cell_type": "code",
      "metadata": {
        "colab": {
          "base_uri": "https://localhost:8080/"
        },
        "id": "iYpQfBLSbcfr",
        "outputId": "0ce0fbbd-118f-4710-a1ea-48d17cd729eb"
      },
      "source": [
        "df_train['stars'].value_counts()"
      ],
      "execution_count": null,
      "outputs": [
        {
          "output_type": "execute_result",
          "data": {
            "text/plain": [
              "5    40000\n",
              "4    40000\n",
              "3    40000\n",
              "2    40000\n",
              "1    40000\n",
              "Name: stars, dtype: int64"
            ]
          },
          "metadata": {
            "tags": []
          },
          "execution_count": 16
        }
      ]
    },
    {
      "cell_type": "code",
      "metadata": {
        "id": "WlcUN26VcFgG"
      },
      "source": [
        "reviews_train = df_train[['stars', 'review_body']].apply(lambda x: [x['stars'], len(x['review_body'])], axis=1).tolist()\n",
        "df_reviews_train = pd.DataFrame(reviews_train, columns=['stars','len_reviews'])"
      ],
      "execution_count": null,
      "outputs": []
    },
    {
      "cell_type": "code",
      "metadata": {
        "colab": {
          "base_uri": "https://localhost:8080/",
          "height": 235
        },
        "id": "osU86USekqcD",
        "outputId": "e479bcef-1813-495b-9f1b-93d18347a433"
      },
      "source": [
        "df_reviews_train.groupby('stars').sum()"
      ],
      "execution_count": null,
      "outputs": [
        {
          "output_type": "execute_result",
          "data": {
            "text/html": [
              "<div>\n",
              "<style scoped>\n",
              "    .dataframe tbody tr th:only-of-type {\n",
              "        vertical-align: middle;\n",
              "    }\n",
              "\n",
              "    .dataframe tbody tr th {\n",
              "        vertical-align: top;\n",
              "    }\n",
              "\n",
              "    .dataframe thead th {\n",
              "        text-align: right;\n",
              "    }\n",
              "</style>\n",
              "<table border=\"1\" class=\"dataframe\">\n",
              "  <thead>\n",
              "    <tr style=\"text-align: right;\">\n",
              "      <th></th>\n",
              "      <th>len_reviews</th>\n",
              "    </tr>\n",
              "    <tr>\n",
              "      <th>stars</th>\n",
              "      <th></th>\n",
              "    </tr>\n",
              "  </thead>\n",
              "  <tbody>\n",
              "    <tr>\n",
              "      <th>1</th>\n",
              "      <td>6115339</td>\n",
              "    </tr>\n",
              "    <tr>\n",
              "      <th>2</th>\n",
              "      <td>6737550</td>\n",
              "    </tr>\n",
              "    <tr>\n",
              "      <th>3</th>\n",
              "      <td>6215212</td>\n",
              "    </tr>\n",
              "    <tr>\n",
              "      <th>4</th>\n",
              "      <td>5694288</td>\n",
              "    </tr>\n",
              "    <tr>\n",
              "      <th>5</th>\n",
              "      <td>5498193</td>\n",
              "    </tr>\n",
              "  </tbody>\n",
              "</table>\n",
              "</div>"
            ],
            "text/plain": [
              "       len_reviews\n",
              "stars             \n",
              "1          6115339\n",
              "2          6737550\n",
              "3          6215212\n",
              "4          5694288\n",
              "5          5498193"
            ]
          },
          "metadata": {
            "tags": []
          },
          "execution_count": 18
        }
      ]
    },
    {
      "cell_type": "markdown",
      "metadata": {
        "id": "ZeuwVv0twA2J"
      },
      "source": [
        "Conjunto de validación"
      ]
    },
    {
      "cell_type": "code",
      "metadata": {
        "colab": {
          "base_uri": "https://localhost:8080/"
        },
        "id": "_0E2d-28wDDM",
        "outputId": "6aa06b11-8cf3-4bbc-fa4a-4388a907e178"
      },
      "source": [
        "df_test['stars'].value_counts()"
      ],
      "execution_count": null,
      "outputs": [
        {
          "output_type": "execute_result",
          "data": {
            "text/plain": [
              "3    1000\n",
              "2    1000\n",
              "5    1000\n",
              "1    1000\n",
              "4    1000\n",
              "Name: stars, dtype: int64"
            ]
          },
          "metadata": {
            "tags": []
          },
          "execution_count": 19
        }
      ]
    },
    {
      "cell_type": "code",
      "metadata": {
        "id": "SLNSmBAEwG8D"
      },
      "source": [
        "reviews_test = df_test[['stars', 'review_body']].apply(lambda x: [x['stars'], len(x['review_body'])], axis=1).tolist()\n",
        "df_reviews_test = pd.DataFrame(reviews_test, columns=['stars','len_reviews'])"
      ],
      "execution_count": null,
      "outputs": []
    },
    {
      "cell_type": "code",
      "metadata": {
        "colab": {
          "base_uri": "https://localhost:8080/",
          "height": 235
        },
        "id": "JCtHSGdOwOh-",
        "outputId": "6bd4dc7e-2225-4b72-a4bc-726cbe42caa0"
      },
      "source": [
        "df_reviews_test.groupby('stars').sum()"
      ],
      "execution_count": null,
      "outputs": [
        {
          "output_type": "execute_result",
          "data": {
            "text/html": [
              "<div>\n",
              "<style scoped>\n",
              "    .dataframe tbody tr th:only-of-type {\n",
              "        vertical-align: middle;\n",
              "    }\n",
              "\n",
              "    .dataframe tbody tr th {\n",
              "        vertical-align: top;\n",
              "    }\n",
              "\n",
              "    .dataframe thead th {\n",
              "        text-align: right;\n",
              "    }\n",
              "</style>\n",
              "<table border=\"1\" class=\"dataframe\">\n",
              "  <thead>\n",
              "    <tr style=\"text-align: right;\">\n",
              "      <th></th>\n",
              "      <th>len_reviews</th>\n",
              "    </tr>\n",
              "    <tr>\n",
              "      <th>stars</th>\n",
              "      <th></th>\n",
              "    </tr>\n",
              "  </thead>\n",
              "  <tbody>\n",
              "    <tr>\n",
              "      <th>1</th>\n",
              "      <td>156122</td>\n",
              "    </tr>\n",
              "    <tr>\n",
              "      <th>2</th>\n",
              "      <td>164685</td>\n",
              "    </tr>\n",
              "    <tr>\n",
              "      <th>3</th>\n",
              "      <td>155265</td>\n",
              "    </tr>\n",
              "    <tr>\n",
              "      <th>4</th>\n",
              "      <td>143903</td>\n",
              "    </tr>\n",
              "    <tr>\n",
              "      <th>5</th>\n",
              "      <td>139596</td>\n",
              "    </tr>\n",
              "  </tbody>\n",
              "</table>\n",
              "</div>"
            ],
            "text/plain": [
              "       len_reviews\n",
              "stars             \n",
              "1           156122\n",
              "2           164685\n",
              "3           155265\n",
              "4           143903\n",
              "5           139596"
            ]
          },
          "metadata": {
            "tags": []
          },
          "execution_count": 21
        }
      ]
    },
    {
      "cell_type": "markdown",
      "metadata": {
        "id": "8NLUEy75VdPj"
      },
      "source": [
        "##<h2>Entrenamiento del modelo (Pregunta 2.2)</h2>"
      ]
    },
    {
      "cell_type": "markdown",
      "metadata": {
        "id": "FqK4OOhvFnif"
      },
      "source": [
        "###<h3>Tratamiento de los datos</h3>"
      ]
    },
    {
      "cell_type": "markdown",
      "metadata": {
        "id": "xzBudWCKWG_N"
      },
      "source": [
        "Para entrenar este modelo usaremos ULMFIT, el cual se encuentra disponible en la siguiente url:"
      ]
    },
    {
      "cell_type": "code",
      "metadata": {
        "id": "p9eYNZO6RAlN",
        "colab": {
          "base_uri": "https://localhost:8080/",
          "height": 17
        },
        "outputId": "5ffee0e4-85c0-4f41-bd97-384e73b755a7"
      },
      "source": [
        "url = 'http://bit.ly/ulmfit-eswiki'\n",
        "tok = tokenizer_from_pretrained(url)"
      ],
      "execution_count": null,
      "outputs": [
        {
          "output_type": "display_data",
          "data": {
            "text/html": [
              ""
            ],
            "text/plain": [
              "<IPython.core.display.HTML object>"
            ]
          },
          "metadata": {
            "tags": []
          }
        }
      ]
    },
    {
      "cell_type": "markdown",
      "metadata": {
        "id": "xV0J-9wXFHzh"
      },
      "source": [
        "Extraemos la información desde el *review_body* para aislarla en *df_lm_train*"
      ]
    },
    {
      "cell_type": "code",
      "metadata": {
        "colab": {
          "base_uri": "https://localhost:8080/",
          "height": 221
        },
        "id": "Y9PXhMywzcKx",
        "outputId": "1b322e53-244f-43bc-88c2-c63e962aa11c"
      },
      "source": [
        "df_lm_train = df_train[['review_body']]\n",
        "df_lm_train.head()"
      ],
      "execution_count": null,
      "outputs": [
        {
          "output_type": "execute_result",
          "data": {
            "text/html": [
              "<div>\n",
              "<style scoped>\n",
              "    .dataframe tbody tr th:only-of-type {\n",
              "        vertical-align: middle;\n",
              "    }\n",
              "\n",
              "    .dataframe tbody tr th {\n",
              "        vertical-align: top;\n",
              "    }\n",
              "\n",
              "    .dataframe thead th {\n",
              "        text-align: right;\n",
              "    }\n",
              "</style>\n",
              "<table border=\"1\" class=\"dataframe\">\n",
              "  <thead>\n",
              "    <tr style=\"text-align: right;\">\n",
              "      <th></th>\n",
              "      <th>review_body</th>\n",
              "    </tr>\n",
              "  </thead>\n",
              "  <tbody>\n",
              "    <tr>\n",
              "      <th>0</th>\n",
              "      <td>Nada bueno se me fue ka pantalla en menos de 8 meses y no he recibido respuesta del fabricante</td>\n",
              "    </tr>\n",
              "    <tr>\n",
              "      <th>1</th>\n",
              "      <td>Horrible, nos tuvimos que comprar otro porque ni nosotros que sabemos inglés, ni un informático, después de una hora fue capaz de instalarlo</td>\n",
              "    </tr>\n",
              "    <tr>\n",
              "      <th>2</th>\n",
              "      <td>Te obligan a comprar dos unidades y te llega solo una y no hay forma de reclamar, una autentica estafa, no compreis!!</td>\n",
              "    </tr>\n",
              "    <tr>\n",
              "      <th>3</th>\n",
              "      <td>No entro en descalificar al vendedor, solo puedo decir que tras dos meses de espera.... sigo sin el producto y tuve que contactar con Amazon para reclamar su reembolso. Amazon un 10 . Se hace cargo del problema, pero yo e desembolsado mi dinero y en dos meses me lo devuelven Perdida de tiempo TOTAL. Sin palabras. Y Ustedes deciden</td>\n",
              "    </tr>\n",
              "    <tr>\n",
              "      <th>4</th>\n",
              "      <td>Llega tarde y co la talla equivocada</td>\n",
              "    </tr>\n",
              "  </tbody>\n",
              "</table>\n",
              "</div>"
            ],
            "text/plain": [
              "                                                                                                                                                                                                                                                                                                                                    review_body\n",
              "0                                                                                                                                                                                                                                                Nada bueno se me fue ka pantalla en menos de 8 meses y no he recibido respuesta del fabricante\n",
              "1                                                                                                                                                                                                  Horrible, nos tuvimos que comprar otro porque ni nosotros que sabemos inglés, ni un informático, después de una hora fue capaz de instalarlo\n",
              "2                                                                                                                                                                                                                         Te obligan a comprar dos unidades y te llega solo una y no hay forma de reclamar, una autentica estafa, no compreis!!\n",
              "3  No entro en descalificar al vendedor, solo puedo decir que tras dos meses de espera.... sigo sin el producto y tuve que contactar con Amazon para reclamar su reembolso. Amazon un 10 . Se hace cargo del problema, pero yo e desembolsado mi dinero y en dos meses me lo devuelven Perdida de tiempo TOTAL. Sin palabras. Y Ustedes deciden\n",
              "4                                                                                                                                                                                                                                                                                                          Llega tarde y co la talla equivocada"
            ]
          },
          "metadata": {
            "tags": []
          },
          "execution_count": 23
        }
      ]
    },
    {
      "cell_type": "markdown",
      "metadata": {
        "id": "zdJQ_RXUGK4G"
      },
      "source": [
        ""
      ]
    },
    {
      "cell_type": "code",
      "metadata": {
        "colab": {
          "base_uri": "https://localhost:8080/",
          "height": 71
        },
        "id": "zAQhOwHby6A2",
        "outputId": "76ffc2ae-26e4-48d7-b527-5c156481de60"
      },
      "source": [
        "dblocks = DataBlock(blocks=(TextBlock.from_df('review_body', tok=tok, is_lm=True)),\n",
        "                    get_x=ColReader('text'), \n",
        "                    splitter=RandomSplitter(0.1))\n",
        "\n",
        "dls = dblocks.dataloaders(df_lm_train, bs=64, seq_len=80)"
      ],
      "execution_count": null,
      "outputs": [
        {
          "output_type": "display_data",
          "data": {
            "text/html": [
              ""
            ],
            "text/plain": [
              "<IPython.core.display.HTML object>"
            ]
          },
          "metadata": {
            "tags": []
          }
        },
        {
          "output_type": "display_data",
          "data": {
            "text/html": [
              ""
            ],
            "text/plain": [
              "<IPython.core.display.HTML object>"
            ]
          },
          "metadata": {
            "tags": []
          }
        },
        {
          "output_type": "stream",
          "text": [
            "/usr/local/lib/python3.7/dist-packages/numpy/core/_asarray.py:83: VisibleDeprecationWarning: Creating an ndarray from ragged nested sequences (which is a list-or-tuple of lists-or-tuples-or ndarrays with different lengths or shapes) is deprecated. If you meant to do this, you must specify 'dtype=object' when creating the ndarray\n",
            "  return array(a, dtype, copy=False, order=order)\n"
          ],
          "name": "stderr"
        }
      ]
    },
    {
      "cell_type": "code",
      "metadata": {
        "id": "PHEyv-RxWETR"
      },
      "source": [
        "learn = language_model_from_pretrained(dls, url=url, drop_mult=0.3, metrics = [accuracy, Perplexity()]).to_fp16()"
      ],
      "execution_count": null,
      "outputs": []
    },
    {
      "cell_type": "code",
      "metadata": {
        "colab": {
          "base_uri": "https://localhost:8080/",
          "height": 302
        },
        "id": "9TZDD1MM1qcf",
        "outputId": "f11a4d9c-b3e7-482b-eaa1-dc8fe208db41"
      },
      "source": [
        "learn.lr_find()"
      ],
      "execution_count": null,
      "outputs": [
        {
          "output_type": "display_data",
          "data": {
            "text/html": [
              ""
            ],
            "text/plain": [
              "<IPython.core.display.HTML object>"
            ]
          },
          "metadata": {
            "tags": []
          }
        },
        {
          "output_type": "execute_result",
          "data": {
            "text/plain": [
              "SuggestedLRs(valley=tensor(0.0036))"
            ]
          },
          "metadata": {
            "tags": []
          },
          "execution_count": 26
        },
        {
          "output_type": "display_data",
          "data": {
            "image/png": "[encoded data removed]",
            "text/plain": [
              "<Figure size 432x288 with 1 Axes>"
            ]
          },
          "metadata": {
            "tags": [],
            "needs_background": "light"
          }
        }
      ]
    },
    {
      "cell_type": "code",
      "metadata": {
        "id": "T7At6hga38lH"
      },
      "source": [
        "lr = 8e-3"
      ],
      "execution_count": null,
      "outputs": []
    },
    {
      "cell_type": "code",
      "metadata": {
        "colab": {
          "base_uri": "https://localhost:8080/",
          "height": 80
        },
        "id": "xoLqTL1Ako70",
        "outputId": "9d486d6f-b609-43bd-c248-ad2e2d0962f3"
      },
      "source": [
        "learn.fit_one_cycle(1, lr, moms=(0.8,0.7,0.8))"
      ],
      "execution_count": null,
      "outputs": [
        {
          "output_type": "display_data",
          "data": {
            "text/html": [
              "<table border=\"1\" class=\"dataframe\">\n",
              "  <thead>\n",
              "    <tr style=\"text-align: left;\">\n",
              "      <th>epoch</th>\n",
              "      <th>train_loss</th>\n",
              "      <th>valid_loss</th>\n",
              "      <th>accuracy</th>\n",
              "      <th>perplexity</th>\n",
              "      <th>time</th>\n",
              "    </tr>\n",
              "  </thead>\n",
              "  <tbody>\n",
              "    <tr>\n",
              "      <td>0</td>\n",
              "      <td>3.917564</td>\n",
              "      <td>3.838445</td>\n",
              "      <td>0.269934</td>\n",
              "      <td>46.453171</td>\n",
              "      <td>05:28</td>\n",
              "    </tr>\n",
              "  </tbody>\n",
              "</table>"
            ],
            "text/plain": [
              "<IPython.core.display.HTML object>"
            ]
          },
          "metadata": {
            "tags": []
          }
        }
      ]
    },
    {
      "cell_type": "code",
      "metadata": {
        "colab": {
          "base_uri": "https://localhost:8080/",
          "height": 204
        },
        "id": "N778Up9s37fk",
        "outputId": "e4abb912-dfb0-4500-f7b1-761a93a3c6d8"
      },
      "source": [
        "learn.unfreeze()\n",
        "learn.fit_one_cycle(5, slice(lr/100,lr), moms=(0.8,0.7,0.8))"
      ],
      "execution_count": null,
      "outputs": [
        {
          "output_type": "display_data",
          "data": {
            "text/html": [
              "<table border=\"1\" class=\"dataframe\">\n",
              "  <thead>\n",
              "    <tr style=\"text-align: left;\">\n",
              "      <th>epoch</th>\n",
              "      <th>train_loss</th>\n",
              "      <th>valid_loss</th>\n",
              "      <th>accuracy</th>\n",
              "      <th>perplexity</th>\n",
              "      <th>time</th>\n",
              "    </tr>\n",
              "  </thead>\n",
              "  <tbody>\n",
              "    <tr>\n",
              "      <td>0</td>\n",
              "      <td>3.729948</td>\n",
              "      <td>3.696817</td>\n",
              "      <td>0.283631</td>\n",
              "      <td>40.318764</td>\n",
              "      <td>05:35</td>\n",
              "    </tr>\n",
              "    <tr>\n",
              "      <td>1</td>\n",
              "      <td>3.610998</td>\n",
              "      <td>3.579109</td>\n",
              "      <td>0.296282</td>\n",
              "      <td>35.841606</td>\n",
              "      <td>05:35</td>\n",
              "    </tr>\n",
              "    <tr>\n",
              "      <td>2</td>\n",
              "      <td>3.487573</td>\n",
              "      <td>3.510746</td>\n",
              "      <td>0.304631</td>\n",
              "      <td>33.473213</td>\n",
              "      <td>05:36</td>\n",
              "    </tr>\n",
              "    <tr>\n",
              "      <td>3</td>\n",
              "      <td>3.364237</td>\n",
              "      <td>3.472528</td>\n",
              "      <td>0.309288</td>\n",
              "      <td>32.218094</td>\n",
              "      <td>05:34</td>\n",
              "    </tr>\n",
              "    <tr>\n",
              "      <td>4</td>\n",
              "      <td>3.286745</td>\n",
              "      <td>3.469038</td>\n",
              "      <td>0.310026</td>\n",
              "      <td>32.105843</td>\n",
              "      <td>05:36</td>\n",
              "    </tr>\n",
              "  </tbody>\n",
              "</table>"
            ],
            "text/plain": [
              "<IPython.core.display.HTML object>"
            ]
          },
          "metadata": {
            "tags": []
          }
        }
      ]
    },
    {
      "cell_type": "code",
      "metadata": {
        "colab": {
          "base_uri": "https://localhost:8080/"
        },
        "id": "f9oOhik7Wd_m",
        "outputId": "bd0d1813-feb9-4f5b-dc31-66b5e05900d2"
      },
      "source": [
        "learn.save('training_p1')"
      ],
      "execution_count": null,
      "outputs": [
        {
          "output_type": "execute_result",
          "data": {
            "text/plain": [
              "Path('models/training_p1.pth')"
            ]
          },
          "metadata": {
            "tags": []
          },
          "execution_count": 26
        }
      ]
    },
    {
      "cell_type": "markdown",
      "metadata": {
        "id": "0y53prBYlqVw"
      },
      "source": [
        "###<h3>Descarga del modelo</h3>"
      ]
    },
    {
      "cell_type": "markdown",
      "metadata": {
        "id": "gMUFxMfQlvLk"
      },
      "source": [
        "En caso de querer contar con el modelo preparado para su uso, se puede descargar desde GCP siguiendo los pasos anteriores con su correo."
      ]
    },
    {
      "cell_type": "code",
      "metadata": {
        "id": "HR-Mk1uuISW1"
      },
      "source": [
        "path = Path('models')\n",
        "dest = path\n",
        "dest.mkdir(parents=True, exist_ok=True)"
      ],
      "execution_count": null,
      "outputs": []
    },
    {
      "cell_type": "code",
      "metadata": {
        "colab": {
          "base_uri": "https://localhost:8080/"
        },
        "id": "K6BAxXtTmMzK",
        "outputId": "4bf2ff31-4145-4f88-8bfc-bf0ce3f32efa"
      },
      "source": [
        "!gsutil cp -r  gs://tareaml2/training_p1.pth models/"
      ],
      "execution_count": null,
      "outputs": [
        {
          "output_type": "stream",
          "text": [
            "Copying gs://tareaml2/training_p1.pth...\n",
            "/ [1 files][301.1 MiB/301.1 MiB]                                                \n",
            "Operation completed over 1 objects/301.1 MiB.                                    \n"
          ],
          "name": "stdout"
        }
      ]
    },
    {
      "cell_type": "code",
      "metadata": {
        "id": "J3UVMPedC07D"
      },
      "source": [
        "learner = learn.load('training_p1')"
      ],
      "execution_count": null,
      "outputs": []
    },
    {
      "cell_type": "markdown",
      "metadata": {
        "id": "n_j07EWjkfNJ"
      },
      "source": [
        "##<h2>Resultados de la clasificación (Pregunta 2.3)</h2>"
      ]
    },
    {
      "cell_type": "markdown",
      "metadata": {
        "id": "_LGpt-DmQyBh"
      },
      "source": [
        "Generaremos tres reseñas en base al texto **\"El producto llego en mal estado y como era de esperar\"** con los valores de temperature: 0.5, 0.75, 1.75, 10. A partir de esto, analizaremos la diferencia en los textos generados con cada uno de los casos."
      ]
    },
    {
      "cell_type": "code",
      "metadata": {
        "colab": {
          "base_uri": "https://localhost:8080/",
          "height": 17
        },
        "id": "P7gbUfUZLFBW",
        "outputId": "e28e6d5b-5169-4990-ea0a-7cf68c817b9f"
      },
      "source": [
        "TEXT = \"El producto llego en mal estado y como era de esperar\"\n",
        "N_WORDS = 80\n",
        "N_SENTENCES = 3\n",
        "preds = [learn.predict(TEXT, N_WORDS, temperature=0.5) \n",
        "         for _ in range(N_SENTENCES)]"
      ],
      "execution_count": null,
      "outputs": [
        {
          "output_type": "display_data",
          "data": {
            "text/html": [
              ""
            ],
            "text/plain": [
              "<IPython.core.display.HTML object>"
            ]
          },
          "metadata": {
            "tags": []
          }
        },
        {
          "output_type": "display_data",
          "data": {
            "text/html": [
              ""
            ],
            "text/plain": [
              "<IPython.core.display.HTML object>"
            ]
          },
          "metadata": {
            "tags": []
          }
        },
        {
          "output_type": "display_data",
          "data": {
            "text/html": [
              ""
            ],
            "text/plain": [
              "<IPython.core.display.HTML object>"
            ]
          },
          "metadata": {
            "tags": []
          }
        }
      ]
    },
    {
      "cell_type": "code",
      "metadata": {
        "colab": {
          "base_uri": "https://localhost:8080/"
        },
        "id": "S_1iCPLyLH7i",
        "outputId": "fa216c7e-779c-4b3e-adef-8eed8ab73895"
      },
      "source": [
        "print(\"\\n\".join(preds))"
      ],
      "execution_count": null,
      "outputs": [
        {
          "output_type": "stream",
          "text": [
            "▁xxbos ▁xxmaj ▁el ▁producto ▁llego ▁en ▁mal ▁estado ▁y ▁como ▁era ▁de ▁esperar , ▁el ▁producto ▁venía ▁abierto ▁y ▁la ▁caja ▁abierta . ▁xxmaj ▁el ▁vendedor ▁no ▁me ▁dio ▁ninguna ▁solución . ▁xxbos ▁xxmaj ▁no ▁es ▁lo ▁que ▁esperaba . ▁xxmaj ▁me ▁esperaba ▁otra ▁cosa . ▁xxmaj ▁no ▁es ▁el ▁mismo ▁que ▁el ▁de ▁la ▁foto . ▁xxmaj ▁no ▁lo ▁recomiendo ▁para ▁nada . ▁xxmaj ▁lo ▁devolví . ▁xxbos ▁xxmaj ▁no ▁me ▁ha ▁gustado ▁nada . ▁xxmaj ▁no ▁se ▁ajusta ▁a ▁la ▁pantalla . ▁xxmaj ▁no ▁se ▁ajusta ▁bien ▁al ▁móvil , ▁se\n",
            "▁xxbos ▁xxmaj ▁el ▁producto ▁llego ▁en ▁mal ▁estado ▁y ▁como ▁era ▁de ▁esperar . ▁xxmaj ▁el ▁aparato ▁no ▁funcionaba ▁y ▁el ▁vendedor ▁no ▁se ▁puso ▁en ▁contacto ▁conmigo ▁para ▁solucionarlo . ▁xxmaj ▁el ▁vendedor ▁me ▁devolvió ▁el ▁dinero ▁y ▁me ▁devolvieron ▁el ▁dinero . ▁xxbos ▁xxmaj ▁lo ▁compré ▁para ▁un ▁regalo ▁y ▁le ▁encantó . ▁xxmaj ▁es ▁bastante ▁cómodo ▁y ▁se ▁puede ▁llevar ▁de ▁viaje . ▁xxmaj ▁lo ▁recomiendo . ▁xxbos ▁xxmaj ▁me ▁gusta ▁mucho , ▁tiene ▁una ▁buena ▁relación ▁calidad ▁precio . ▁xxmaj ▁la ▁única ▁pega ▁es ▁que ▁al ▁ser ▁tan ▁grande\n",
            "▁xxbos ▁xxmaj ▁el ▁producto ▁llego ▁en ▁mal ▁estado ▁y ▁como ▁era ▁de ▁esperar . ▁xxmaj ▁no ▁se ▁puede ▁poner ▁en ▁la ▁foto ▁y ▁es ▁demasiado ▁pequeño . ▁xxmaj ▁la ▁calidad ▁es ▁regular . ▁xxbos ▁xxmaj ▁muy ▁bonito ▁pero ▁no ▁se ▁ajusta ▁bien ▁a ▁la ▁pantalla ▁xxbos ▁xxmaj ▁lo ▁compré ▁para ▁mi ▁hijo ▁de ▁7 ▁años ▁y ▁le ▁ha ▁encantado , ▁muy ▁completo ▁y ▁con ▁mucha ▁variedad ▁de ▁sonidos . ▁xxmaj ▁es ▁ideal ▁para ▁que ▁los ▁niños ▁se ▁entretenga n ▁solos . ▁xxmaj ▁también ▁es ▁muy ▁importante ▁que ▁los ▁niños ▁jueguen ▁con ▁ellos ▁y\n"
          ],
          "name": "stdout"
        }
      ]
    },
    {
      "cell_type": "code",
      "metadata": {
        "colab": {
          "base_uri": "https://localhost:8080/",
          "height": 17
        },
        "id": "QUZCq-H_1kRe",
        "outputId": "7dd2d0df-4e9c-4834-b578-7b45687c5a22"
      },
      "source": [
        "TEXT = \"El producto llego en mal estado y como era de esperar\"\n",
        "N_WORDS = 80\n",
        "N_SENTENCES = 3\n",
        "preds = [learn.predict(TEXT, N_WORDS, temperature=0.75) \n",
        "         for _ in range(N_SENTENCES)]"
      ],
      "execution_count": null,
      "outputs": [
        {
          "output_type": "display_data",
          "data": {
            "text/html": [
              ""
            ],
            "text/plain": [
              "<IPython.core.display.HTML object>"
            ]
          },
          "metadata": {
            "tags": []
          }
        },
        {
          "output_type": "display_data",
          "data": {
            "text/html": [
              ""
            ],
            "text/plain": [
              "<IPython.core.display.HTML object>"
            ]
          },
          "metadata": {
            "tags": []
          }
        },
        {
          "output_type": "display_data",
          "data": {
            "text/html": [
              ""
            ],
            "text/plain": [
              "<IPython.core.display.HTML object>"
            ]
          },
          "metadata": {
            "tags": []
          }
        }
      ]
    },
    {
      "cell_type": "code",
      "metadata": {
        "colab": {
          "base_uri": "https://localhost:8080/"
        },
        "id": "_F4PRnCE1x7e",
        "outputId": "e32acbf9-04d4-490e-dcfc-ff11b0a15221"
      },
      "source": [
        "print(\"\\n\".join(preds))"
      ],
      "execution_count": null,
      "outputs": [
        {
          "output_type": "stream",
          "text": [
            "▁xxbos ▁xxmaj ▁el ▁producto ▁llego ▁en ▁mal ▁estado ▁y ▁como ▁era ▁de ▁esperar ▁xxbos ▁xxmaj ▁no ▁se ▁ajusta ▁a ▁los ▁solicitado s , ▁hay ▁que ▁tener ▁cuidado ▁para ▁poder ▁adaptarlo s ▁a ▁la ▁muñeca . ▁xxmaj ▁es ▁un ▁timo . ▁xxmaj ▁muy ▁decepcionada . ▁xxmaj ▁muy ▁descontenta ▁xxbos ▁xxmaj ▁las ▁luces ▁no ▁están ▁nada ▁mal , ▁pero ▁los ▁colores ▁son ▁un ▁poco ▁apagados , ▁el ▁brillo ▁no ▁es ▁muy ▁intenso , ▁o ▁casi ▁imperceptible s . ▁xxmaj ▁se ▁ve ▁que ▁es ▁más ▁difícil , ▁pero ▁la ▁calidad ▁es ▁muy ▁buena . ▁xxmaj ▁yo\n",
            "▁xxbos ▁xxmaj ▁el ▁producto ▁llego ▁en ▁mal ▁estado ▁y ▁como ▁era ▁de ▁esperar , ▁el ▁producto ▁estaba ▁roto , ▁no ▁lo ▁devolví ▁porque ▁me ▁lo ▁esperaba ▁un ▁poco ▁más ▁grande , ▁pero ▁de ▁peor ▁calidad ▁que ▁con ▁lo ▁que ▁es , ▁ya ▁veremos . ▁xxmaj ▁el ▁color ▁es ▁tal ▁cual ▁aparece ▁en ▁la ▁foto , ▁pero ▁el ▁color ▁no ▁es ▁muy ▁bonito , ▁pero ▁para ▁lo ▁que ▁vale ▁debería ▁ser ▁mejor ▁que ▁un ▁plástico ▁xxbos ▁xxmaj ▁era ▁para ▁un ▁regalo ▁y ▁le ▁encantó . ▁xxmaj ▁son ▁bonitos ▁y ▁muy ▁chulos ▁pero ▁de ▁las\n",
            "▁xxbos ▁xxmaj ▁el ▁producto ▁llego ▁en ▁mal ▁estado ▁y ▁como ▁era ▁de ▁esperar , ▁me ▁ha ▁llegado ▁con ▁la ▁caja ▁destrozada , ▁lo ▁que ▁hizo ▁su ▁devolucion . ▁xxbos ▁xxmaj ▁el ▁libro ▁está ▁genial , ▁y ▁viene ▁con ▁un ▁libro ▁muy ▁completo , ▁que ▁ya ▁sea ▁de ▁exposición . ▁xxbos ▁xxmaj ▁lo ▁compré ▁para ▁una ▁niña ▁de ▁3 ▁años , ▁pensando ▁en ▁comprar ▁el ▁aceite ▁de ▁cristal ▁para ▁que ▁le ▁iba mos ▁a ▁usar , ▁el ▁problema ▁es ▁que ▁me ▁llegó ▁con ▁ellos ▁rotos . ▁xxmaj ▁la ▁niña ▁encantada ▁con ▁el ▁regalo .\n"
          ],
          "name": "stdout"
        }
      ]
    },
    {
      "cell_type": "code",
      "metadata": {
        "colab": {
          "base_uri": "https://localhost:8080/",
          "height": 17
        },
        "id": "zU5WUJuIoywL",
        "outputId": "f6e1a642-5064-4dca-a0d0-90d9cb37d6bf"
      },
      "source": [
        "TEXT = \"El producto llego en mal estado y como era de esperar\"\n",
        "N_WORDS = 80\n",
        "N_SENTENCES = 3\n",
        "preds = [learn.predict(TEXT, N_WORDS, temperature=1.75) \n",
        "         for _ in range(N_SENTENCES)]"
      ],
      "execution_count": null,
      "outputs": [
        {
          "output_type": "display_data",
          "data": {
            "text/html": [
              ""
            ],
            "text/plain": [
              "<IPython.core.display.HTML object>"
            ]
          },
          "metadata": {
            "tags": []
          }
        },
        {
          "output_type": "display_data",
          "data": {
            "text/html": [
              ""
            ],
            "text/plain": [
              "<IPython.core.display.HTML object>"
            ]
          },
          "metadata": {
            "tags": []
          }
        },
        {
          "output_type": "display_data",
          "data": {
            "text/html": [
              ""
            ],
            "text/plain": [
              "<IPython.core.display.HTML object>"
            ]
          },
          "metadata": {
            "tags": []
          }
        }
      ]
    },
    {
      "cell_type": "code",
      "metadata": {
        "colab": {
          "base_uri": "https://localhost:8080/"
        },
        "id": "fQoJhWE1o2UF",
        "outputId": "0e26aa10-6907-4554-aeb3-3b170e40e4e1"
      },
      "source": [
        "print(\"\\n\".join(preds))"
      ],
      "execution_count": null,
      "outputs": [
        {
          "output_type": "stream",
          "text": [
            "▁xxbos ▁xxmaj ▁el ▁producto ▁llego ▁en ▁mal ▁estado ▁y ▁como ▁era ▁de ▁esperar ▁comprobar ▁venía ▁disparada ▁paso ▁tiempos ▁herramientas ▁gruesos ▁pero ▁debe ▁mejorar ▁mucho ▁fácilmente ▁i ▁retorcido ▁bajisima ▁red ▁transporta ble ▁xxbos ▁gr ▁escasos ▁casi ▁4-5 ▁euros ▁devolución ▁... ▁corté ▁arma ▁movil ▁bien ▁baja ▁sobre ▁demasiada ▁determinados ▁alimentos ▁son tejido ▁atrapa ▁neumático ▁que ▁aprecie ▁su ▁escasa ▁señal ▁operativa ▁llevo ▁tantos ▁suyo zos ▁y ▁cual ▁toma ▁...) ▁reventó ▁de ▁sujetos , ▁tengo ▁crecer ▁llevando ▁tuercas ▁balones ▁incha ▁segura ▁frio ▁igual ▁xxmaj largo ▁esos ▁se ▁exija ▁finito ▁nave ▁vida ▁identica ▁abomba ▁sea ▁super menos ▁xxbos\n",
            "▁xxbos ▁xxmaj ▁el ▁producto ▁llego ▁en ▁mal ▁estado ▁y ▁como ▁era ▁de ▁esperar ▁... tengo r ▁en ▁tienda ▁pu re ▁hice ▁1,80 ▁comer ▁escrita ▁traves a m poniendo ▁y ▁parece ▁esto ▁desaparece ▁decepcionado ! ▁gotear . ▁provisional ▁ ▁delgadito ▁posicionar to ▁pésimas ▁condiciones ▁lo ▁ningun te ▁xxmaj ▁p l ue do ▁utilice ▁calendario ▁online ▁y ▁nada ▁dinero ▁caliente ▁puse ñ ▁qui ▁ven ▁está ▁mal ▁frasco ▁9 00 ▁xxrep ▁5 ▁¡ ▁xxmaj ▁tienes ▁boli ▁atractivo ▁restaurado te ▁estupendo ▁llaveros ▁encanta ▁xxrep ▁desafina chi ▁click ▁alegra ▁sandía ▁maquinaria ▁cali mer ▁100%. luz ▁frente ▁q ▁...\n",
            "▁xxbos ▁xxmaj ▁el ▁producto ▁llego ▁en ▁mal ▁estado ▁y ▁como ▁era ▁de ▁esperar ▁fueran ▁magnifica mente ▁voluminoso s ▁entendido ▁quita ▁leer ▁a ▁mis ▁cumpliendo ▁xxup ▁japón ▁restaurante do ▁tus ▁moreno tina ▁investigación ▁mejores ▁agradezco ▁repetiré ▁inmediata ▁siendo ▁para ▁próximo ▁microsoft ▁con ▁a ta ▁util ▁deja ▁hacer ▁ahí ▁constantemente ▁cuatro ▁libros ▁incluidos ▁que ▁quiera ▁seguir ▁hermético ▁xxbos ▁práctica ▁compras ▁aún que ▁si ▁haces ▁esta ▁empa ▁en ▁rep ir ▁exactos ▁tendremos ▁que tas ▁normalmente ▁pero ▁por ▁otros ▁protectores 😏 mal ▁rapidez ▁premium ▁abiertos ▁malos ▁viene ▁recomiendo ▁colores ▁hacen ▁muchísima ▁es ▁intercambiables m n ▁muy ▁dobles\n"
          ],
          "name": "stdout"
        }
      ]
    },
    {
      "cell_type": "code",
      "metadata": {
        "colab": {
          "base_uri": "https://localhost:8080/",
          "height": 17
        },
        "id": "ifMXMkdlqo82",
        "outputId": "7b37d3cf-9a8a-457e-fb0c-3a32288addff"
      },
      "source": [
        "TEXT = \"El producto llego en mal estado, \"\n",
        "N_WORDS = 80\n",
        "N_SENTENCES = 3\n",
        "preds = [learn.predict(TEXT, N_WORDS, temperature=10) \n",
        "         for _ in range(N_SENTENCES)]"
      ],
      "execution_count": null,
      "outputs": [
        {
          "output_type": "display_data",
          "data": {
            "text/html": [
              ""
            ],
            "text/plain": [
              "<IPython.core.display.HTML object>"
            ]
          },
          "metadata": {
            "tags": []
          }
        },
        {
          "output_type": "display_data",
          "data": {
            "text/html": [
              ""
            ],
            "text/plain": [
              "<IPython.core.display.HTML object>"
            ]
          },
          "metadata": {
            "tags": []
          }
        },
        {
          "output_type": "display_data",
          "data": {
            "text/html": [
              ""
            ],
            "text/plain": [
              "<IPython.core.display.HTML object>"
            ]
          },
          "metadata": {
            "tags": []
          }
        }
      ]
    },
    {
      "cell_type": "code",
      "metadata": {
        "colab": {
          "base_uri": "https://localhost:8080/"
        },
        "id": "BFxuOZXaqryw",
        "outputId": "b925c704-3be9-4d0b-d486-dd38601cadbe"
      },
      "source": [
        "print(\"\\n\".join(preds))"
      ],
      "execution_count": null,
      "outputs": [
        {
          "output_type": "stream",
          "text": [
            "▁xxbos ▁xxmaj ▁el ▁producto ▁llego ▁en ▁mal ▁estado , ▁jamás ▁metalica ▁vá ▁cojo ▁resumen ▁recomiende ▁ranura ▁jamás ▁m ▁clases ▁cuencos ▁vol ▁ducho ▁acné ▁literalmente ▁car ▁ventana ▁regalan ▁obstaculo ▁mande ▁progresivamente ▁envolver ▁pon ▁cómpralo ▁recargarlo ▁voluminoso ▁subía ▁desconecto ▁truco ▁baila ▁combin ▁cortauñas ▁interiores ▁grietas ▁disfraz ▁proximidad ▁coleccion ▁ergonomia ▁sólidos ▁caiga ▁arenilla ▁canina ▁descanso ▁apretarlo ▁rinde ▁estorba ▁explicado ▁lupa ▁endeble ▁salón ▁arrancar ▁plástica ▁perspectiva ▁sesiones ▁exelente th iones ▁cebo ▁mencionar ☹ ▁dolía ▁conlleva ☺ ▁termostato ▁cómoda ▁ruedas ▁cubre ▁dificiles ▁proteje ▁castillo ▁cojo 😅 ur ▁encontrado ▁esos larguísimo y ▁soplido ▁corriendo ▁lu\n",
            "▁xxbos ▁xxmaj ▁el ▁producto ▁llego ▁en ▁mal ▁estado , perfecta ▁pequeñísima ▁duro ▁nokia ▁voltaje ▁ausencia ▁tri ▁perdi imposible ▁relojes ▁fallado ▁embellecedores ▁fabricado ▁indica ▁lógico ▁confeccionada ▁yamaha ▁cascado ▁descartar ▁anterioridad ▁instituciones ▁resalta bien ▁monos ▁modificado ▁ninguna ▁camión ▁sucede ▁fijé ▁espejos ▁ebook ▁off ▁dudes ▁máximo ▁completo ▁espadín ▁dicha ▁sólidos ▁meterlas ▁acentos muy ▁reiter ▁aproximada ▁reparar duo ▁sobradamente ▁emplear ▁pomo ▁sujeciones ▁duraba ▁cambiamos ▁fit ▁bateria ▁musica ▁solucionó ▁bar ▁despelleja ▁este ▁información ▁aíslan ▁manipula um ▁reseca ▁acaba ▁somier ▁habían ▁cardiaca unos ▁smok ▁audios ▁entraban ▁olvidar ▁cajas ▁acartonado res ▁champú ▁pesados ▁cumplieron ▁agit rv\n",
            "▁xxbos ▁xxmaj ▁el ▁producto ▁llego ▁en ▁mal ▁estado , ▁fio hay ▁deduce 😀 ólico enfoque ▁destaco ▁sub ▁dudéis ▁marco ▁comunicado ▁destrozada ▁quiera ▁escuchaba poco ▁incorporar ▁inhala todavía ▁paños ▁controlado ▁aplasta retroiluminación ▁vuele ▁encima ▁repetidamente ▁chulas ▁siempre ▁llegò ▁equivocar ▁delantal ▁crecido ▁esta ▁complicadas ▁imprecisa ▁/ ▁pandora ▁ediciones ▁bosch ▁pienso ▁dificil ▁inversa ▁noviembre ▁caracteres ▁pito ▁dependiendo ▁xbox ▁clásicos ▁surge ▁aburre ▁engancho ▁pintadas ▁neutral ▁trabajando ▁cursor ▁miserable ▁portatil ▁afilar ▁corbata ▁resistir ▁stick ▁linternas ▁luego ▁cuchara ▁pillado ▁aspera ▁tb ▁cerrada ▁arranque ▁este ▁tratamiento ▁tieso ▁pir ▁poliester ▁arañazo ▁inyección ▁cometa ▁las ▁faltaban ▁zoom ▁altavoz\n"
          ],
          "name": "stdout"
        }
      ]
    },
    {
      "cell_type": "markdown",
      "metadata": {
        "id": "szVch5w0TFbI"
      },
      "source": [
        "En base al siguiente [link](https://pytorch-nlp-tutorial-ny2018.readthedocs.io/en/latest/day2/sampling.html), consideremos que el aumento se relaciona con que tan fuerte muestreamos la distribución, a medida que el más alto el valor de **temperature** más uniforme es la distribución y cuando el valor es bajo, se observan pocas diferencias entre los textos generados.\n",
        "\n",
        "En palabras más simples, si observamos el primer caso (**temperature=0.5**) se puede observar una alta similitud en las palabras usadas por el generador como pantalla o vendedor, el uso de palabras y conectores similares hace que la diferencias entre sentencias sea más baja. Por otro lado, a medida que aumenta el valor de temperature la distribución de palabras tiende a ser más uniforme, en el sentido que se usa una mayor cantidad de palabras con una frequencia baja o igual a uno, esta uniformidad trae como consecuencia que el texto generado pierda coherencia.\n",
        "\n"
      ]
    },
    {
      "cell_type": "markdown",
      "metadata": {
        "id": "L1nfgKdg3ddv"
      },
      "source": [
        "This is a commit"
      ]
    },
    {
      "cell_type": "code",
      "metadata": {
        "id": "xKaCmTwa3ekY"
      },
      "source": [
        ""
      ],
      "execution_count": null,
      "outputs": []
    }
  ]
}